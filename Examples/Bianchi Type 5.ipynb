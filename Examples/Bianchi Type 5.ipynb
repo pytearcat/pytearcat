{
 "cells": [
  {
   "cell_type": "code",
   "execution_count": 12,
   "metadata": {},
   "outputs": [],
   "source": [
    "import pytearcat as pt"
   ]
  },
  {
   "cell_type": "code",
   "execution_count": 13,
   "metadata": {},
   "outputs": [
    {
     "name": "stdout",
     "output_type": "stream",
     "text": [
      "Remember that the time coordinate must be the first coordinate.\n",
      "Function A(t) is already defined\n",
      "Function B(t) is already defined\n",
      "Function C(t) is already defined\n",
      "\n",
      "Dimension = 4\n",
      "Coordinates = t,x,y,z\n",
      "Metric defined successfully: \n",
      "\n"
     ]
    },
    {
     "data": {
      "text/latex": [
       "$\\displaystyle ds^2 = -1 \\cdot dt^2+A^{2}{\\left(t \\right)} \\cdot dx^2+B^{2}{\\left(t \\right)} e^{2 x} \\cdot dy^2+C^{2}{\\left(t \\right)} e^{2 x} \\cdot dz^2$"
      ],
      "text/plain": [
       "<IPython.core.display.Math object>"
      ]
     },
     "metadata": {},
     "output_type": "display_data"
    },
    {
     "data": {
      "text/latex": [
       "$\\displaystyle \\left[\\begin{matrix}-1 & 0 & 0 & 0\\\\0 & A^{2}{\\left(t \\right)} & 0 & 0\\\\0 & 0 & B^{2}{\\left(t \\right)} e^{2 x} & 0\\\\0 & 0 & 0 & C^{2}{\\left(t \\right)} e^{2 x}\\end{matrix}\\right]$"
      ],
      "text/plain": [
       "⎡-1    0        0           0     ⎤\n",
       "⎢                                 ⎥\n",
       "⎢     2                           ⎥\n",
       "⎢0   A (t)      0           0     ⎥\n",
       "⎢                                 ⎥\n",
       "⎢            2     2⋅x            ⎥\n",
       "⎢0     0    B (t)⋅ℯ         0     ⎥\n",
       "⎢                                 ⎥\n",
       "⎢                        2     2⋅x⎥\n",
       "⎣0     0        0       C (t)⋅ℯ   ⎦"
      ]
     },
     "metadata": {},
     "output_type": "display_data"
    }
   ],
   "source": [
    "t,x,y,z = pt.coords('t,x,y,z')\n",
    "A = pt.fun('A','t')\n",
    "B = pt.fun('B','t')\n",
    "C = pt.fun('C','t')\n",
    "g = pt.metric('ds2 = -dt**2 + A**2*dx**2 + exp(2*x)*B**2*dy**2 + exp(2*x)*C**2*dz**2')"
   ]
  },
  {
   "cell_type": "code",
   "execution_count": 14,
   "metadata": {},
   "outputs": [
    {
     "data": {
      "text/latex": [
       "First and Second Kind Christoffel Symbol $\\Gamma_{\\alpha \\beta \\gamma}$ and $\\Gamma^{\\alpha}_{\\beta \\gamma}$ already calculated"
      ],
      "text/plain": [
       "<IPython.core.display.Latex object>"
      ]
     },
     "metadata": {},
     "output_type": "display_data"
    },
    {
     "data": {
      "text/latex": [
       "$\\displaystyle {\\Gamma}{}_{0}\\,{}_{1}\\,{}_{1}\\, = A{\\left(t \\right)} \\frac{d}{d t} A{\\left(t \\right)}$"
      ],
      "text/plain": [
       "<IPython.core.display.Math object>"
      ]
     },
     "metadata": {},
     "output_type": "display_data"
    },
    {
     "data": {
      "text/latex": [
       "$\\displaystyle {\\Gamma}{}_{0}\\,{}_{2}\\,{}_{2}\\, = B{\\left(t \\right)} e^{2 x} \\frac{d}{d t} B{\\left(t \\right)}$"
      ],
      "text/plain": [
       "<IPython.core.display.Math object>"
      ]
     },
     "metadata": {},
     "output_type": "display_data"
    },
    {
     "data": {
      "text/latex": [
       "$\\displaystyle {\\Gamma}{}_{0}\\,{}_{3}\\,{}_{3}\\, = C{\\left(t \\right)} e^{- 2 x} \\frac{d}{d t} C{\\left(t \\right)}$"
      ],
      "text/plain": [
       "<IPython.core.display.Math object>"
      ]
     },
     "metadata": {},
     "output_type": "display_data"
    },
    {
     "data": {
      "text/latex": [
       "$\\displaystyle {\\Gamma}{}_{1}\\,{}_{0}\\,{}_{1}\\, = - A{\\left(t \\right)} \\frac{d}{d t} A{\\left(t \\right)}$"
      ],
      "text/plain": [
       "<IPython.core.display.Math object>"
      ]
     },
     "metadata": {},
     "output_type": "display_data"
    },
    {
     "data": {
      "text/latex": [
       "$\\displaystyle {\\Gamma}{}_{1}\\,{}_{1}\\,{}_{0}\\, = - A{\\left(t \\right)} \\frac{d}{d t} A{\\left(t \\right)}$"
      ],
      "text/plain": [
       "<IPython.core.display.Math object>"
      ]
     },
     "metadata": {},
     "output_type": "display_data"
    },
    {
     "data": {
      "text/latex": [
       "$\\displaystyle {\\Gamma}{}_{1}\\,{}_{2}\\,{}_{2}\\, = B^{2}{\\left(t \\right)} e^{2 x}$"
      ],
      "text/plain": [
       "<IPython.core.display.Math object>"
      ]
     },
     "metadata": {},
     "output_type": "display_data"
    },
    {
     "data": {
      "text/latex": [
       "$\\displaystyle {\\Gamma}{}_{1}\\,{}_{3}\\,{}_{3}\\, = - C^{2}{\\left(t \\right)} e^{- 2 x}$"
      ],
      "text/plain": [
       "<IPython.core.display.Math object>"
      ]
     },
     "metadata": {},
     "output_type": "display_data"
    },
    {
     "data": {
      "text/latex": [
       "$\\displaystyle {\\Gamma}{}_{2}\\,{}_{0}\\,{}_{2}\\, = - B{\\left(t \\right)} e^{2 x} \\frac{d}{d t} B{\\left(t \\right)}$"
      ],
      "text/plain": [
       "<IPython.core.display.Math object>"
      ]
     },
     "metadata": {},
     "output_type": "display_data"
    },
    {
     "data": {
      "text/latex": [
       "$\\displaystyle {\\Gamma}{}_{2}\\,{}_{1}\\,{}_{2}\\, = - B^{2}{\\left(t \\right)} e^{2 x}$"
      ],
      "text/plain": [
       "<IPython.core.display.Math object>"
      ]
     },
     "metadata": {},
     "output_type": "display_data"
    },
    {
     "data": {
      "text/latex": [
       "$\\displaystyle {\\Gamma}{}_{2}\\,{}_{2}\\,{}_{0}\\, = - B{\\left(t \\right)} e^{2 x} \\frac{d}{d t} B{\\left(t \\right)}$"
      ],
      "text/plain": [
       "<IPython.core.display.Math object>"
      ]
     },
     "metadata": {},
     "output_type": "display_data"
    },
    {
     "data": {
      "text/latex": [
       "$\\displaystyle {\\Gamma}{}_{2}\\,{}_{2}\\,{}_{1}\\, = - B^{2}{\\left(t \\right)} e^{2 x}$"
      ],
      "text/plain": [
       "<IPython.core.display.Math object>"
      ]
     },
     "metadata": {},
     "output_type": "display_data"
    },
    {
     "data": {
      "text/latex": [
       "$\\displaystyle {\\Gamma}{}_{3}\\,{}_{0}\\,{}_{3}\\, = - C{\\left(t \\right)} e^{- 2 x} \\frac{d}{d t} C{\\left(t \\right)}$"
      ],
      "text/plain": [
       "<IPython.core.display.Math object>"
      ]
     },
     "metadata": {},
     "output_type": "display_data"
    },
    {
     "data": {
      "text/latex": [
       "$\\displaystyle {\\Gamma}{}_{3}\\,{}_{1}\\,{}_{3}\\, = C^{2}{\\left(t \\right)} e^{- 2 x}$"
      ],
      "text/plain": [
       "<IPython.core.display.Math object>"
      ]
     },
     "metadata": {},
     "output_type": "display_data"
    },
    {
     "data": {
      "text/latex": [
       "$\\displaystyle {\\Gamma}{}_{3}\\,{}_{3}\\,{}_{0}\\, = - C{\\left(t \\right)} e^{- 2 x} \\frac{d}{d t} C{\\left(t \\right)}$"
      ],
      "text/plain": [
       "<IPython.core.display.Math object>"
      ]
     },
     "metadata": {},
     "output_type": "display_data"
    },
    {
     "data": {
      "text/latex": [
       "$\\displaystyle {\\Gamma}{}_{3}\\,{}_{3}\\,{}_{1}\\, = C^{2}{\\left(t \\right)} e^{- 2 x}$"
      ],
      "text/plain": [
       "<IPython.core.display.Math object>"
      ]
     },
     "metadata": {},
     "output_type": "display_data"
    },
    {
     "data": {
      "text/latex": [
       "$\\displaystyle {\\Gamma}{}^{0}\\,{}_{1}\\,{}_{1}\\, = A{\\left(t \\right)} \\frac{d}{d t} A{\\left(t \\right)}$"
      ],
      "text/plain": [
       "<IPython.core.display.Math object>"
      ]
     },
     "metadata": {},
     "output_type": "display_data"
    },
    {
     "data": {
      "text/latex": [
       "$\\displaystyle {\\Gamma}{}^{0}\\,{}_{2}\\,{}_{2}\\, = B{\\left(t \\right)} e^{2 x} \\frac{d}{d t} B{\\left(t \\right)}$"
      ],
      "text/plain": [
       "<IPython.core.display.Math object>"
      ]
     },
     "metadata": {},
     "output_type": "display_data"
    },
    {
     "data": {
      "text/latex": [
       "$\\displaystyle {\\Gamma}{}^{0}\\,{}_{3}\\,{}_{3}\\, = C{\\left(t \\right)} e^{- 2 x} \\frac{d}{d t} C{\\left(t \\right)}$"
      ],
      "text/plain": [
       "<IPython.core.display.Math object>"
      ]
     },
     "metadata": {},
     "output_type": "display_data"
    },
    {
     "data": {
      "text/latex": [
       "$\\displaystyle {\\Gamma}{}^{1}\\,{}_{0}\\,{}_{1}\\, = \\frac{\\frac{d}{d t} A{\\left(t \\right)}}{A{\\left(t \\right)}}$"
      ],
      "text/plain": [
       "<IPython.core.display.Math object>"
      ]
     },
     "metadata": {},
     "output_type": "display_data"
    },
    {
     "data": {
      "text/latex": [
       "$\\displaystyle {\\Gamma}{}^{1}\\,{}_{1}\\,{}_{0}\\, = \\frac{\\frac{d}{d t} A{\\left(t \\right)}}{A{\\left(t \\right)}}$"
      ],
      "text/plain": [
       "<IPython.core.display.Math object>"
      ]
     },
     "metadata": {},
     "output_type": "display_data"
    },
    {
     "data": {
      "text/latex": [
       "$\\displaystyle {\\Gamma}{}^{1}\\,{}_{2}\\,{}_{2}\\, = - \\frac{B^{2}{\\left(t \\right)} e^{2 x}}{A^{2}{\\left(t \\right)}}$"
      ],
      "text/plain": [
       "<IPython.core.display.Math object>"
      ]
     },
     "metadata": {},
     "output_type": "display_data"
    },
    {
     "data": {
      "text/latex": [
       "$\\displaystyle {\\Gamma}{}^{1}\\,{}_{3}\\,{}_{3}\\, = \\frac{C^{2}{\\left(t \\right)} e^{- 2 x}}{A^{2}{\\left(t \\right)}}$"
      ],
      "text/plain": [
       "<IPython.core.display.Math object>"
      ]
     },
     "metadata": {},
     "output_type": "display_data"
    },
    {
     "data": {
      "text/latex": [
       "$\\displaystyle {\\Gamma}{}^{2}\\,{}_{0}\\,{}_{2}\\, = \\frac{\\frac{d}{d t} B{\\left(t \\right)}}{B{\\left(t \\right)}}$"
      ],
      "text/plain": [
       "<IPython.core.display.Math object>"
      ]
     },
     "metadata": {},
     "output_type": "display_data"
    },
    {
     "data": {
      "text/latex": [
       "$\\displaystyle {\\Gamma}{}^{2}\\,{}_{1}\\,{}_{2}\\, = 1$"
      ],
      "text/plain": [
       "<IPython.core.display.Math object>"
      ]
     },
     "metadata": {},
     "output_type": "display_data"
    },
    {
     "data": {
      "text/latex": [
       "$\\displaystyle {\\Gamma}{}^{2}\\,{}_{2}\\,{}_{0}\\, = \\frac{\\frac{d}{d t} B{\\left(t \\right)}}{B{\\left(t \\right)}}$"
      ],
      "text/plain": [
       "<IPython.core.display.Math object>"
      ]
     },
     "metadata": {},
     "output_type": "display_data"
    },
    {
     "data": {
      "text/latex": [
       "$\\displaystyle {\\Gamma}{}^{2}\\,{}_{2}\\,{}_{1}\\, = 1$"
      ],
      "text/plain": [
       "<IPython.core.display.Math object>"
      ]
     },
     "metadata": {},
     "output_type": "display_data"
    },
    {
     "data": {
      "text/latex": [
       "$\\displaystyle {\\Gamma}{}^{3}\\,{}_{0}\\,{}_{3}\\, = \\frac{\\frac{d}{d t} C{\\left(t \\right)}}{C{\\left(t \\right)}}$"
      ],
      "text/plain": [
       "<IPython.core.display.Math object>"
      ]
     },
     "metadata": {},
     "output_type": "display_data"
    },
    {
     "data": {
      "text/latex": [
       "$\\displaystyle {\\Gamma}{}^{3}\\,{}_{1}\\,{}_{3}\\, = -1$"
      ],
      "text/plain": [
       "<IPython.core.display.Math object>"
      ]
     },
     "metadata": {},
     "output_type": "display_data"
    },
    {
     "data": {
      "text/latex": [
       "$\\displaystyle {\\Gamma}{}^{3}\\,{}_{3}\\,{}_{0}\\, = \\frac{\\frac{d}{d t} C{\\left(t \\right)}}{C{\\left(t \\right)}}$"
      ],
      "text/plain": [
       "<IPython.core.display.Math object>"
      ]
     },
     "metadata": {},
     "output_type": "display_data"
    },
    {
     "data": {
      "text/latex": [
       "$\\displaystyle {\\Gamma}{}^{3}\\,{}_{3}\\,{}_{1}\\, = -1$"
      ],
      "text/plain": [
       "<IPython.core.display.Math object>"
      ]
     },
     "metadata": {},
     "output_type": "display_data"
    }
   ],
   "source": [
    "Chr = pt.christoffel()\n",
    "Chr.display()"
   ]
  },
  {
   "cell_type": "code",
   "execution_count": 15,
   "metadata": {},
   "outputs": [
    {
     "data": {
      "text/latex": [
       "Riemann Tensor $R_{\\alpha \\beta \\gamma \\delta}$ already calculated"
      ],
      "text/plain": [
       "<IPython.core.display.Latex object>"
      ]
     },
     "metadata": {},
     "output_type": "display_data"
    },
    {
     "data": {
      "text/latex": [
       "$\\displaystyle {R}{}^{0}\\,{}_{1}\\,{}_{0}\\,{}_{1}\\, = A{\\left(t \\right)} \\frac{d^{2}}{d t^{2}} A{\\left(t \\right)}$"
      ],
      "text/plain": [
       "<IPython.core.display.Math object>"
      ]
     },
     "metadata": {},
     "output_type": "display_data"
    },
    {
     "data": {
      "text/latex": [
       "$\\displaystyle {R}{}^{0}\\,{}_{1}\\,{}_{1}\\,{}_{0}\\, = - A{\\left(t \\right)} \\frac{d^{2}}{d t^{2}} A{\\left(t \\right)}$"
      ],
      "text/plain": [
       "<IPython.core.display.Math object>"
      ]
     },
     "metadata": {},
     "output_type": "display_data"
    },
    {
     "data": {
      "text/latex": [
       "$\\displaystyle {R}{}^{0}\\,{}_{2}\\,{}_{0}\\,{}_{2}\\, = B{\\left(t \\right)} e^{2 x} \\frac{d^{2}}{d t^{2}} B{\\left(t \\right)}$"
      ],
      "text/plain": [
       "<IPython.core.display.Math object>"
      ]
     },
     "metadata": {},
     "output_type": "display_data"
    },
    {
     "data": {
      "text/latex": [
       "$\\displaystyle {R}{}^{0}\\,{}_{2}\\,{}_{1}\\,{}_{2}\\, = \\frac{\\left(A{\\left(t \\right)} \\frac{d}{d t} B{\\left(t \\right)} - B{\\left(t \\right)} \\frac{d}{d t} A{\\left(t \\right)}\\right) B{\\left(t \\right)} e^{2 x}}{A{\\left(t \\right)}}$"
      ],
      "text/plain": [
       "<IPython.core.display.Math object>"
      ]
     },
     "metadata": {},
     "output_type": "display_data"
    },
    {
     "data": {
      "text/latex": [
       "$\\displaystyle {R}{}^{0}\\,{}_{2}\\,{}_{2}\\,{}_{0}\\, = - B{\\left(t \\right)} e^{2 x} \\frac{d^{2}}{d t^{2}} B{\\left(t \\right)}$"
      ],
      "text/plain": [
       "<IPython.core.display.Math object>"
      ]
     },
     "metadata": {},
     "output_type": "display_data"
    },
    {
     "data": {
      "text/latex": [
       "$\\displaystyle {R}{}^{0}\\,{}_{2}\\,{}_{2}\\,{}_{1}\\, = - \\frac{\\left(A{\\left(t \\right)} \\frac{d}{d t} B{\\left(t \\right)} - B{\\left(t \\right)} \\frac{d}{d t} A{\\left(t \\right)}\\right) B{\\left(t \\right)} e^{2 x}}{A{\\left(t \\right)}}$"
      ],
      "text/plain": [
       "<IPython.core.display.Math object>"
      ]
     },
     "metadata": {},
     "output_type": "display_data"
    },
    {
     "data": {
      "text/latex": [
       "$\\displaystyle {R}{}^{0}\\,{}_{3}\\,{}_{0}\\,{}_{3}\\, = C{\\left(t \\right)} e^{- 2 x} \\frac{d^{2}}{d t^{2}} C{\\left(t \\right)}$"
      ],
      "text/plain": [
       "<IPython.core.display.Math object>"
      ]
     },
     "metadata": {},
     "output_type": "display_data"
    },
    {
     "data": {
      "text/latex": [
       "$\\displaystyle {R}{}^{0}\\,{}_{3}\\,{}_{1}\\,{}_{3}\\, = - \\frac{\\left(A{\\left(t \\right)} \\frac{d}{d t} C{\\left(t \\right)} - C{\\left(t \\right)} \\frac{d}{d t} A{\\left(t \\right)}\\right) C{\\left(t \\right)} e^{- 2 x}}{A{\\left(t \\right)}}$"
      ],
      "text/plain": [
       "<IPython.core.display.Math object>"
      ]
     },
     "metadata": {},
     "output_type": "display_data"
    },
    {
     "data": {
      "text/latex": [
       "$\\displaystyle {R}{}^{0}\\,{}_{3}\\,{}_{3}\\,{}_{0}\\, = - C{\\left(t \\right)} e^{- 2 x} \\frac{d^{2}}{d t^{2}} C{\\left(t \\right)}$"
      ],
      "text/plain": [
       "<IPython.core.display.Math object>"
      ]
     },
     "metadata": {},
     "output_type": "display_data"
    },
    {
     "data": {
      "text/latex": [
       "$\\displaystyle {R}{}^{0}\\,{}_{3}\\,{}_{3}\\,{}_{1}\\, = \\frac{\\left(A{\\left(t \\right)} \\frac{d}{d t} C{\\left(t \\right)} - C{\\left(t \\right)} \\frac{d}{d t} A{\\left(t \\right)}\\right) C{\\left(t \\right)} e^{- 2 x}}{A{\\left(t \\right)}}$"
      ],
      "text/plain": [
       "<IPython.core.display.Math object>"
      ]
     },
     "metadata": {},
     "output_type": "display_data"
    },
    {
     "data": {
      "text/latex": [
       "$\\displaystyle {R}{}^{1}\\,{}_{0}\\,{}_{0}\\,{}_{1}\\, = \\frac{\\frac{d^{2}}{d t^{2}} A{\\left(t \\right)}}{A{\\left(t \\right)}}$"
      ],
      "text/plain": [
       "<IPython.core.display.Math object>"
      ]
     },
     "metadata": {},
     "output_type": "display_data"
    },
    {
     "data": {
      "text/latex": [
       "$\\displaystyle {R}{}^{1}\\,{}_{0}\\,{}_{1}\\,{}_{0}\\, = - \\frac{\\frac{d^{2}}{d t^{2}} A{\\left(t \\right)}}{A{\\left(t \\right)}}$"
      ],
      "text/plain": [
       "<IPython.core.display.Math object>"
      ]
     },
     "metadata": {},
     "output_type": "display_data"
    },
    {
     "data": {
      "text/latex": [
       "$\\displaystyle {R}{}^{1}\\,{}_{2}\\,{}_{0}\\,{}_{2}\\, = - \\frac{\\left(A{\\left(t \\right)} \\frac{d}{d t} B{\\left(t \\right)} - B{\\left(t \\right)} \\frac{d}{d t} A{\\left(t \\right)}\\right) B{\\left(t \\right)} e^{2 x}}{A^{3}{\\left(t \\right)}}$"
      ],
      "text/plain": [
       "<IPython.core.display.Math object>"
      ]
     },
     "metadata": {},
     "output_type": "display_data"
    },
    {
     "data": {
      "text/latex": [
       "$\\displaystyle {R}{}^{1}\\,{}_{2}\\,{}_{1}\\,{}_{2}\\, = \\frac{\\left(A{\\left(t \\right)} \\frac{d}{d t} A{\\left(t \\right)} \\frac{d}{d t} B{\\left(t \\right)} - B{\\left(t \\right)}\\right) B{\\left(t \\right)} e^{2 x}}{A^{2}{\\left(t \\right)}}$"
      ],
      "text/plain": [
       "<IPython.core.display.Math object>"
      ]
     },
     "metadata": {},
     "output_type": "display_data"
    },
    {
     "data": {
      "text/latex": [
       "$\\displaystyle {R}{}^{1}\\,{}_{2}\\,{}_{2}\\,{}_{0}\\, = \\frac{\\left(A{\\left(t \\right)} \\frac{d}{d t} B{\\left(t \\right)} - B{\\left(t \\right)} \\frac{d}{d t} A{\\left(t \\right)}\\right) B{\\left(t \\right)} e^{2 x}}{A^{3}{\\left(t \\right)}}$"
      ],
      "text/plain": [
       "<IPython.core.display.Math object>"
      ]
     },
     "metadata": {},
     "output_type": "display_data"
    },
    {
     "data": {
      "text/latex": [
       "$\\displaystyle {R}{}^{1}\\,{}_{2}\\,{}_{2}\\,{}_{1}\\, = - \\frac{\\left(A{\\left(t \\right)} \\frac{d}{d t} A{\\left(t \\right)} \\frac{d}{d t} B{\\left(t \\right)} - B{\\left(t \\right)}\\right) B{\\left(t \\right)} e^{2 x}}{A^{2}{\\left(t \\right)}}$"
      ],
      "text/plain": [
       "<IPython.core.display.Math object>"
      ]
     },
     "metadata": {},
     "output_type": "display_data"
    },
    {
     "data": {
      "text/latex": [
       "$\\displaystyle {R}{}^{1}\\,{}_{3}\\,{}_{0}\\,{}_{3}\\, = \\frac{\\left(A{\\left(t \\right)} \\frac{d}{d t} C{\\left(t \\right)} - C{\\left(t \\right)} \\frac{d}{d t} A{\\left(t \\right)}\\right) C{\\left(t \\right)} e^{- 2 x}}{A^{3}{\\left(t \\right)}}$"
      ],
      "text/plain": [
       "<IPython.core.display.Math object>"
      ]
     },
     "metadata": {},
     "output_type": "display_data"
    },
    {
     "data": {
      "text/latex": [
       "$\\displaystyle {R}{}^{1}\\,{}_{3}\\,{}_{1}\\,{}_{3}\\, = \\frac{\\left(A{\\left(t \\right)} \\frac{d}{d t} A{\\left(t \\right)} \\frac{d}{d t} C{\\left(t \\right)} - C{\\left(t \\right)}\\right) C{\\left(t \\right)} e^{- 2 x}}{A^{2}{\\left(t \\right)}}$"
      ],
      "text/plain": [
       "<IPython.core.display.Math object>"
      ]
     },
     "metadata": {},
     "output_type": "display_data"
    },
    {
     "data": {
      "text/latex": [
       "$\\displaystyle {R}{}^{1}\\,{}_{3}\\,{}_{3}\\,{}_{0}\\, = - \\frac{\\left(A{\\left(t \\right)} \\frac{d}{d t} C{\\left(t \\right)} - C{\\left(t \\right)} \\frac{d}{d t} A{\\left(t \\right)}\\right) C{\\left(t \\right)} e^{- 2 x}}{A^{3}{\\left(t \\right)}}$"
      ],
      "text/plain": [
       "<IPython.core.display.Math object>"
      ]
     },
     "metadata": {},
     "output_type": "display_data"
    },
    {
     "data": {
      "text/latex": [
       "$\\displaystyle {R}{}^{1}\\,{}_{3}\\,{}_{3}\\,{}_{1}\\, = - \\frac{\\left(A{\\left(t \\right)} \\frac{d}{d t} A{\\left(t \\right)} \\frac{d}{d t} C{\\left(t \\right)} - C{\\left(t \\right)}\\right) C{\\left(t \\right)} e^{- 2 x}}{A^{2}{\\left(t \\right)}}$"
      ],
      "text/plain": [
       "<IPython.core.display.Math object>"
      ]
     },
     "metadata": {},
     "output_type": "display_data"
    },
    {
     "data": {
      "text/latex": [
       "$\\displaystyle {R}{}^{2}\\,{}_{0}\\,{}_{0}\\,{}_{2}\\, = \\frac{\\frac{d^{2}}{d t^{2}} B{\\left(t \\right)}}{B{\\left(t \\right)}}$"
      ],
      "text/plain": [
       "<IPython.core.display.Math object>"
      ]
     },
     "metadata": {},
     "output_type": "display_data"
    },
    {
     "data": {
      "text/latex": [
       "$\\displaystyle {R}{}^{2}\\,{}_{0}\\,{}_{1}\\,{}_{2}\\, = \\frac{A{\\left(t \\right)} \\frac{d}{d t} B{\\left(t \\right)} - B{\\left(t \\right)} \\frac{d}{d t} A{\\left(t \\right)}}{A{\\left(t \\right)} B{\\left(t \\right)}}$"
      ],
      "text/plain": [
       "<IPython.core.display.Math object>"
      ]
     },
     "metadata": {},
     "output_type": "display_data"
    },
    {
     "data": {
      "text/latex": [
       "$\\displaystyle {R}{}^{2}\\,{}_{0}\\,{}_{2}\\,{}_{0}\\, = - \\frac{\\frac{d^{2}}{d t^{2}} B{\\left(t \\right)}}{B{\\left(t \\right)}}$"
      ],
      "text/plain": [
       "<IPython.core.display.Math object>"
      ]
     },
     "metadata": {},
     "output_type": "display_data"
    },
    {
     "data": {
      "text/latex": [
       "$\\displaystyle {R}{}^{2}\\,{}_{0}\\,{}_{2}\\,{}_{1}\\, = - \\frac{A{\\left(t \\right)} \\frac{d}{d t} B{\\left(t \\right)} - B{\\left(t \\right)} \\frac{d}{d t} A{\\left(t \\right)}}{A{\\left(t \\right)} B{\\left(t \\right)}}$"
      ],
      "text/plain": [
       "<IPython.core.display.Math object>"
      ]
     },
     "metadata": {},
     "output_type": "display_data"
    },
    {
     "data": {
      "text/latex": [
       "$\\displaystyle {R}{}^{2}\\,{}_{1}\\,{}_{0}\\,{}_{2}\\, = \\frac{A{\\left(t \\right)} \\frac{d}{d t} B{\\left(t \\right)} - B{\\left(t \\right)} \\frac{d}{d t} A{\\left(t \\right)}}{A{\\left(t \\right)} B{\\left(t \\right)}}$"
      ],
      "text/plain": [
       "<IPython.core.display.Math object>"
      ]
     },
     "metadata": {},
     "output_type": "display_data"
    },
    {
     "data": {
      "text/latex": [
       "$\\displaystyle {R}{}^{2}\\,{}_{1}\\,{}_{1}\\,{}_{2}\\, = - \\frac{A{\\left(t \\right)} \\frac{d}{d t} A{\\left(t \\right)} \\frac{d}{d t} B{\\left(t \\right)} - B{\\left(t \\right)}}{B{\\left(t \\right)}}$"
      ],
      "text/plain": [
       "<IPython.core.display.Math object>"
      ]
     },
     "metadata": {},
     "output_type": "display_data"
    },
    {
     "data": {
      "text/latex": [
       "$\\displaystyle {R}{}^{2}\\,{}_{1}\\,{}_{2}\\,{}_{0}\\, = - \\frac{A{\\left(t \\right)} \\frac{d}{d t} B{\\left(t \\right)} - B{\\left(t \\right)} \\frac{d}{d t} A{\\left(t \\right)}}{A{\\left(t \\right)} B{\\left(t \\right)}}$"
      ],
      "text/plain": [
       "<IPython.core.display.Math object>"
      ]
     },
     "metadata": {},
     "output_type": "display_data"
    },
    {
     "data": {
      "text/latex": [
       "$\\displaystyle {R}{}^{2}\\,{}_{1}\\,{}_{2}\\,{}_{1}\\, = \\frac{A{\\left(t \\right)} \\frac{d}{d t} A{\\left(t \\right)} \\frac{d}{d t} B{\\left(t \\right)} - B{\\left(t \\right)}}{B{\\left(t \\right)}}$"
      ],
      "text/plain": [
       "<IPython.core.display.Math object>"
      ]
     },
     "metadata": {},
     "output_type": "display_data"
    },
    {
     "data": {
      "text/latex": [
       "$\\displaystyle {R}{}^{2}\\,{}_{3}\\,{}_{2}\\,{}_{3}\\, = \\frac{\\left(A^{2}{\\left(t \\right)} \\frac{d}{d t} B{\\left(t \\right)} \\frac{d}{d t} C{\\left(t \\right)} + B{\\left(t \\right)} C{\\left(t \\right)}\\right) C{\\left(t \\right)} e^{- 2 x}}{A^{2}{\\left(t \\right)} B{\\left(t \\right)}}$"
      ],
      "text/plain": [
       "<IPython.core.display.Math object>"
      ]
     },
     "metadata": {},
     "output_type": "display_data"
    },
    {
     "data": {
      "text/latex": [
       "$\\displaystyle {R}{}^{2}\\,{}_{3}\\,{}_{3}\\,{}_{2}\\, = - \\frac{\\left(A^{2}{\\left(t \\right)} \\frac{d}{d t} B{\\left(t \\right)} \\frac{d}{d t} C{\\left(t \\right)} + B{\\left(t \\right)} C{\\left(t \\right)}\\right) C{\\left(t \\right)} e^{- 2 x}}{A^{2}{\\left(t \\right)} B{\\left(t \\right)}}$"
      ],
      "text/plain": [
       "<IPython.core.display.Math object>"
      ]
     },
     "metadata": {},
     "output_type": "display_data"
    },
    {
     "data": {
      "text/latex": [
       "$\\displaystyle {R}{}^{3}\\,{}_{0}\\,{}_{0}\\,{}_{3}\\, = \\frac{\\frac{d^{2}}{d t^{2}} C{\\left(t \\right)}}{C{\\left(t \\right)}}$"
      ],
      "text/plain": [
       "<IPython.core.display.Math object>"
      ]
     },
     "metadata": {},
     "output_type": "display_data"
    },
    {
     "data": {
      "text/latex": [
       "$\\displaystyle {R}{}^{3}\\,{}_{0}\\,{}_{1}\\,{}_{3}\\, = - \\frac{A{\\left(t \\right)} \\frac{d}{d t} C{\\left(t \\right)} - C{\\left(t \\right)} \\frac{d}{d t} A{\\left(t \\right)}}{A{\\left(t \\right)} C{\\left(t \\right)}}$"
      ],
      "text/plain": [
       "<IPython.core.display.Math object>"
      ]
     },
     "metadata": {},
     "output_type": "display_data"
    },
    {
     "data": {
      "text/latex": [
       "$\\displaystyle {R}{}^{3}\\,{}_{0}\\,{}_{3}\\,{}_{0}\\, = - \\frac{\\frac{d^{2}}{d t^{2}} C{\\left(t \\right)}}{C{\\left(t \\right)}}$"
      ],
      "text/plain": [
       "<IPython.core.display.Math object>"
      ]
     },
     "metadata": {},
     "output_type": "display_data"
    },
    {
     "data": {
      "text/latex": [
       "$\\displaystyle {R}{}^{3}\\,{}_{0}\\,{}_{3}\\,{}_{1}\\, = \\frac{A{\\left(t \\right)} \\frac{d}{d t} C{\\left(t \\right)} - C{\\left(t \\right)} \\frac{d}{d t} A{\\left(t \\right)}}{A{\\left(t \\right)} C{\\left(t \\right)}}$"
      ],
      "text/plain": [
       "<IPython.core.display.Math object>"
      ]
     },
     "metadata": {},
     "output_type": "display_data"
    },
    {
     "data": {
      "text/latex": [
       "$\\displaystyle {R}{}^{3}\\,{}_{1}\\,{}_{0}\\,{}_{3}\\, = - \\frac{A{\\left(t \\right)} \\frac{d}{d t} C{\\left(t \\right)} - C{\\left(t \\right)} \\frac{d}{d t} A{\\left(t \\right)}}{A{\\left(t \\right)} C{\\left(t \\right)}}$"
      ],
      "text/plain": [
       "<IPython.core.display.Math object>"
      ]
     },
     "metadata": {},
     "output_type": "display_data"
    },
    {
     "data": {
      "text/latex": [
       "$\\displaystyle {R}{}^{3}\\,{}_{1}\\,{}_{1}\\,{}_{3}\\, = - \\frac{A{\\left(t \\right)} \\frac{d}{d t} A{\\left(t \\right)} \\frac{d}{d t} C{\\left(t \\right)} - C{\\left(t \\right)}}{C{\\left(t \\right)}}$"
      ],
      "text/plain": [
       "<IPython.core.display.Math object>"
      ]
     },
     "metadata": {},
     "output_type": "display_data"
    },
    {
     "data": {
      "text/latex": [
       "$\\displaystyle {R}{}^{3}\\,{}_{1}\\,{}_{3}\\,{}_{0}\\, = \\frac{A{\\left(t \\right)} \\frac{d}{d t} C{\\left(t \\right)} - C{\\left(t \\right)} \\frac{d}{d t} A{\\left(t \\right)}}{A{\\left(t \\right)} C{\\left(t \\right)}}$"
      ],
      "text/plain": [
       "<IPython.core.display.Math object>"
      ]
     },
     "metadata": {},
     "output_type": "display_data"
    },
    {
     "data": {
      "text/latex": [
       "$\\displaystyle {R}{}^{3}\\,{}_{1}\\,{}_{3}\\,{}_{1}\\, = \\frac{A{\\left(t \\right)} \\frac{d}{d t} A{\\left(t \\right)} \\frac{d}{d t} C{\\left(t \\right)} - C{\\left(t \\right)}}{C{\\left(t \\right)}}$"
      ],
      "text/plain": [
       "<IPython.core.display.Math object>"
      ]
     },
     "metadata": {},
     "output_type": "display_data"
    },
    {
     "data": {
      "text/latex": [
       "$\\displaystyle {R}{}^{3}\\,{}_{2}\\,{}_{2}\\,{}_{3}\\, = - \\frac{\\left(A^{2}{\\left(t \\right)} \\frac{d}{d t} B{\\left(t \\right)} \\frac{d}{d t} C{\\left(t \\right)} + B{\\left(t \\right)} C{\\left(t \\right)}\\right) B{\\left(t \\right)} e^{2 x}}{A^{2}{\\left(t \\right)} C{\\left(t \\right)}}$"
      ],
      "text/plain": [
       "<IPython.core.display.Math object>"
      ]
     },
     "metadata": {},
     "output_type": "display_data"
    },
    {
     "data": {
      "text/latex": [
       "$\\displaystyle {R}{}^{3}\\,{}_{2}\\,{}_{3}\\,{}_{2}\\, = \\frac{\\left(A^{2}{\\left(t \\right)} \\frac{d}{d t} B{\\left(t \\right)} \\frac{d}{d t} C{\\left(t \\right)} + B{\\left(t \\right)} C{\\left(t \\right)}\\right) B{\\left(t \\right)} e^{2 x}}{A^{2}{\\left(t \\right)} C{\\left(t \\right)}}$"
      ],
      "text/plain": [
       "<IPython.core.display.Math object>"
      ]
     },
     "metadata": {},
     "output_type": "display_data"
    }
   ],
   "source": [
    "R = pt.riemann()\n",
    "R.display(\"^,_,_,_\")"
   ]
  },
  {
   "cell_type": "code",
   "execution_count": 16,
   "metadata": {},
   "outputs": [
    {
     "data": {
      "text/latex": [
       "Ricci Tensor $R_{\\alpha \\beta}$ already calculated"
      ],
      "text/plain": [
       "<IPython.core.display.Latex object>"
      ]
     },
     "metadata": {},
     "output_type": "display_data"
    },
    {
     "data": {
      "text/latex": [
       "Ricci Scalar $R$ already calculated"
      ],
      "text/plain": [
       "<IPython.core.display.Latex object>"
      ]
     },
     "metadata": {},
     "output_type": "display_data"
    },
    {
     "data": {
      "text/latex": [
       "$\\displaystyle \\left[\\begin{matrix}- \\frac{A{\\left(t \\right)} B{\\left(t \\right)} \\frac{d^{2}}{d t^{2}} C{\\left(t \\right)} + A{\\left(t \\right)} C{\\left(t \\right)} \\frac{d^{2}}{d t^{2}} B{\\left(t \\right)} + B{\\left(t \\right)} C{\\left(t \\right)} \\frac{d^{2}}{d t^{2}} A{\\left(t \\right)}}{A{\\left(t \\right)} B{\\left(t \\right)} C{\\left(t \\right)}} & \\frac{B{\\left(t \\right)} \\frac{d}{d t} C{\\left(t \\right)} - C{\\left(t \\right)} \\frac{d}{d t} B{\\left(t \\right)}}{B{\\left(t \\right)} C{\\left(t \\right)}} & 0 & 0\\\\\\frac{B{\\left(t \\right)} \\frac{d}{d t} C{\\left(t \\right)} - C{\\left(t \\right)} \\frac{d}{d t} B{\\left(t \\right)}}{B{\\left(t \\right)} C{\\left(t \\right)}} & \\frac{A{\\left(t \\right)} B{\\left(t \\right)} C{\\left(t \\right)} \\frac{d^{2}}{d t^{2}} A{\\left(t \\right)} + A{\\left(t \\right)} B{\\left(t \\right)} \\frac{d}{d t} A{\\left(t \\right)} \\frac{d}{d t} C{\\left(t \\right)} + A{\\left(t \\right)} C{\\left(t \\right)} \\frac{d}{d t} A{\\left(t \\right)} \\frac{d}{d t} B{\\left(t \\right)} - 2 B{\\left(t \\right)} C{\\left(t \\right)}}{B{\\left(t \\right)} C{\\left(t \\right)}} & 0 & 0\\\\0 & 0 & \\frac{\\left(A{\\left(t \\right)} C{\\left(t \\right)} \\frac{d^{2}}{d t^{2}} B{\\left(t \\right)} + A{\\left(t \\right)} \\frac{d}{d t} B{\\left(t \\right)} \\frac{d}{d t} C{\\left(t \\right)} + C{\\left(t \\right)} \\frac{d}{d t} A{\\left(t \\right)} \\frac{d}{d t} B{\\left(t \\right)}\\right) B{\\left(t \\right)} e^{2 x}}{A{\\left(t \\right)} C{\\left(t \\right)}} & 0\\\\0 & 0 & 0 & \\frac{\\left(A{\\left(t \\right)} B{\\left(t \\right)} \\frac{d^{2}}{d t^{2}} C{\\left(t \\right)} + A{\\left(t \\right)} \\frac{d}{d t} B{\\left(t \\right)} \\frac{d}{d t} C{\\left(t \\right)} + B{\\left(t \\right)} \\frac{d}{d t} A{\\left(t \\right)} \\frac{d}{d t} C{\\left(t \\right)}\\right) C{\\left(t \\right)} e^{- 2 x}}{A{\\left(t \\right)} B{\\left(t \\right)}}\\end{matrix}\\right]$"
      ],
      "text/plain": [
       "⎡ ⎛            2                     2                     2      ⎞           \n",
       "⎢ ⎜           d                     d                     d       ⎟           \n",
       "⎢-⎜A(t)⋅B(t)⋅───(C(t)) + A(t)⋅C(t)⋅───(B(t)) + B(t)⋅C(t)⋅───(A(t))⎟           \n",
       "⎢ ⎜            2                     2                     2      ⎟           \n",
       "⎢ ⎝          dt                    dt                    dt       ⎠           \n",
       "⎢───────────────────────────────────────────────────────────────────          \n",
       "⎢                           A(t)⋅B(t)⋅C(t)                                    \n",
       "⎢                                                                             \n",
       "⎢                                                                             \n",
       "⎢                                                                             \n",
       "⎢                        d               d                            A(t)⋅B(t\n",
       "⎢                   B(t)⋅──(C(t)) - C(t)⋅──(B(t))                             \n",
       "⎢                        dt              dt                                   \n",
       "⎢                   ─────────────────────────────                     ────────\n",
       "⎢                             B(t)⋅C(t)                                       \n",
       "⎢                                                                             \n",
       "⎢                                                                             \n",
       "⎢                                                                             \n",
       "⎢                                                                             \n",
       "⎢                                                                             \n",
       "⎢                                                                             \n",
       "⎢                                 0                                           \n",
       "⎢                                                                             \n",
       "⎢                                                                             \n",
       "⎢                                                                             \n",
       "⎢                                                                             \n",
       "⎢                                                                             \n",
       "⎢                                                                             \n",
       "⎢                                                                             \n",
       "⎢                                 0                                           \n",
       "⎣                                                                             \n",
       "\n",
       "                                                                              \n",
       "                                                                              \n",
       "                               d               d                              \n",
       "                          B(t)⋅──(C(t)) - C(t)⋅──(B(t))                       \n",
       "                               dt              dt                             \n",
       "                          ─────────────────────────────                       \n",
       "                                    B(t)⋅C(t)                                 \n",
       "                                                                              \n",
       "         2                                                                    \n",
       "        d                    d        d                    d        d         \n",
       ")⋅C(t)⋅───(A(t)) + A(t)⋅B(t)⋅──(A(t))⋅──(C(t)) + A(t)⋅C(t)⋅──(A(t))⋅──(B(t)) -\n",
       "         2                   dt       dt                   dt       dt        \n",
       "       dt                                                                     \n",
       "──────────────────────────────────────────────────────────────────────────────\n",
       "                                    B(t)⋅C(t)                                 \n",
       "                                                                              \n",
       "                                                                              \n",
       "                                                                              \n",
       "                                                                              \n",
       "                                                                              \n",
       "                                                                              \n",
       "                                        0                                     \n",
       "                                                                              \n",
       "                                                                              \n",
       "                                                                              \n",
       "                                                                              \n",
       "                                                                              \n",
       "                                                                              \n",
       "                                                                              \n",
       "                                        0                                     \n",
       "                                                                              \n",
       "\n",
       "                                                                              \n",
       "                                                                              \n",
       "                                                                              \n",
       "                                                                              \n",
       "                                                                              \n",
       "                                                      0                       \n",
       "                                                                              \n",
       "                                                                              \n",
       "                                                                              \n",
       "                                                                              \n",
       " 2⋅B(t)⋅C(t)                                                                  \n",
       "                                                                              \n",
       "                                                                              \n",
       "────────────                                          0                       \n",
       "                                                                              \n",
       "                                                                              \n",
       "              ⎛            2                                                  \n",
       "              ⎜           d               d        d               d        d \n",
       "              ⎜A(t)⋅C(t)⋅───(B(t)) + A(t)⋅──(B(t))⋅──(C(t)) + C(t)⋅──(A(t))⋅──\n",
       "              ⎜            2              dt       dt              dt       dt\n",
       "              ⎝          dt                                                   \n",
       "              ────────────────────────────────────────────────────────────────\n",
       "                                                  A(t)⋅C(t)                   \n",
       "                                                                              \n",
       "                                                                              \n",
       "                                                                              \n",
       "                                                                              \n",
       "                                                                              \n",
       "                                                                              \n",
       "                                                      0                       \n",
       "                                                                              \n",
       "\n",
       "                                                                              \n",
       "                                                                              \n",
       "                                                                              \n",
       "                                                                              \n",
       "                                                                              \n",
       "                                                           0                  \n",
       "                                                                              \n",
       "                                                                              \n",
       "                                                                              \n",
       "                                                                              \n",
       "                                                                              \n",
       "                                                                              \n",
       "                                                                              \n",
       "                                                           0                  \n",
       "                                                                              \n",
       "                                                                              \n",
       "      ⎞                                                                       \n",
       "      ⎟       2⋅x                                                             \n",
       "(B(t))⎟⋅B(t)⋅ℯ                                                                \n",
       "      ⎟                                                                       \n",
       "      ⎠                                                                       \n",
       "─────────────────                                          0                  \n",
       "                                                                              \n",
       "                                                                              \n",
       "                   ⎛            2                                             \n",
       "                   ⎜           d               d        d               d     \n",
       "                   ⎜A(t)⋅B(t)⋅───(C(t)) + A(t)⋅──(B(t))⋅──(C(t)) + B(t)⋅──(A(t\n",
       "                   ⎜            2              dt       dt              dt    \n",
       "                   ⎝          dt                                              \n",
       "                   ───────────────────────────────────────────────────────────\n",
       "                                                       A(t)⋅B(t)              \n",
       "\n",
       "                       ⎤\n",
       "                       ⎥\n",
       "                       ⎥\n",
       "                       ⎥\n",
       "                       ⎥\n",
       "                       ⎥\n",
       "                       ⎥\n",
       "                       ⎥\n",
       "                       ⎥\n",
       "                       ⎥\n",
       "                       ⎥\n",
       "                       ⎥\n",
       "                       ⎥\n",
       "                       ⎥\n",
       "                       ⎥\n",
       "                       ⎥\n",
       "                       ⎥\n",
       "                       ⎥\n",
       "                       ⎥\n",
       "                       ⎥\n",
       "                       ⎥\n",
       "                       ⎥\n",
       "                       ⎥\n",
       "                       ⎥\n",
       "           ⎞           ⎥\n",
       "   d       ⎟       -2⋅x⎥\n",
       "))⋅──(C(t))⎟⋅C(t)⋅ℯ    ⎥\n",
       "   dt      ⎟           ⎥\n",
       "           ⎠           ⎥\n",
       "───────────────────────⎥\n",
       "                       ⎦"
      ]
     },
     "metadata": {},
     "output_type": "display_data"
    },
    {
     "data": {
      "text/latex": [
       "$\\displaystyle - \\frac{A{\\left(t \\right)} B{\\left(t \\right)} \\frac{d^{2}}{d t^{2}} C{\\left(t \\right)} + A{\\left(t \\right)} C{\\left(t \\right)} \\frac{d^{2}}{d t^{2}} B{\\left(t \\right)} + B{\\left(t \\right)} C{\\left(t \\right)} \\frac{d^{2}}{d t^{2}} A{\\left(t \\right)}}{A{\\left(t \\right)} B{\\left(t \\right)} C{\\left(t \\right)}} - \\frac{A{\\left(t \\right)} B{\\left(t \\right)} \\frac{d^{2}}{d t^{2}} C{\\left(t \\right)} + A{\\left(t \\right)} \\frac{d}{d t} B{\\left(t \\right)} \\frac{d}{d t} C{\\left(t \\right)} + B{\\left(t \\right)} \\frac{d}{d t} A{\\left(t \\right)} \\frac{d}{d t} C{\\left(t \\right)}}{A{\\left(t \\right)} B{\\left(t \\right)} C{\\left(t \\right)}} - \\frac{A{\\left(t \\right)} C{\\left(t \\right)} \\frac{d^{2}}{d t^{2}} B{\\left(t \\right)} + A{\\left(t \\right)} \\frac{d}{d t} B{\\left(t \\right)} \\frac{d}{d t} C{\\left(t \\right)} + C{\\left(t \\right)} \\frac{d}{d t} A{\\left(t \\right)} \\frac{d}{d t} B{\\left(t \\right)}}{A{\\left(t \\right)} B{\\left(t \\right)} C{\\left(t \\right)}} - \\frac{A{\\left(t \\right)} B{\\left(t \\right)} C{\\left(t \\right)} \\frac{d^{2}}{d t^{2}} A{\\left(t \\right)} + A{\\left(t \\right)} B{\\left(t \\right)} \\frac{d}{d t} A{\\left(t \\right)} \\frac{d}{d t} C{\\left(t \\right)} + A{\\left(t \\right)} C{\\left(t \\right)} \\frac{d}{d t} A{\\left(t \\right)} \\frac{d}{d t} B{\\left(t \\right)} - 2 B{\\left(t \\right)} C{\\left(t \\right)}}{A^{2}{\\left(t \\right)} B{\\left(t \\right)} C{\\left(t \\right)}}$"
      ],
      "text/plain": [
       "<IPython.core.display.Math object>"
      ]
     },
     "metadata": {},
     "output_type": "display_data"
    }
   ],
   "source": [
    "Ric = pt.ricci()\n",
    "RicS = pt.riccis()\n",
    "Ric.display()\n",
    "pt.display(RicS)"
   ]
  },
  {
   "cell_type": "code",
   "execution_count": 17,
   "metadata": {},
   "outputs": [
    {
     "data": {
      "text/latex": [
       "Einstein Tensor $G_{\\alpha \\beta}$ already calculated"
      ],
      "text/plain": [
       "<IPython.core.display.Latex object>"
      ]
     },
     "metadata": {},
     "output_type": "display_data"
    },
    {
     "data": {
      "text/latex": [
       "$\\displaystyle \\left[\\begin{matrix}\\frac{A^{2}{\\left(t \\right)} \\frac{d}{d t} B{\\left(t \\right)} \\frac{d}{d t} C{\\left(t \\right)} + A{\\left(t \\right)} B{\\left(t \\right)} \\frac{d}{d t} A{\\left(t \\right)} \\frac{d}{d t} C{\\left(t \\right)} + A{\\left(t \\right)} C{\\left(t \\right)} \\frac{d}{d t} A{\\left(t \\right)} \\frac{d}{d t} B{\\left(t \\right)} - B{\\left(t \\right)} C{\\left(t \\right)}}{A^{2}{\\left(t \\right)} B{\\left(t \\right)} C{\\left(t \\right)}} & \\frac{B{\\left(t \\right)} \\frac{d}{d t} C{\\left(t \\right)} - C{\\left(t \\right)} \\frac{d}{d t} B{\\left(t \\right)}}{B{\\left(t \\right)} C{\\left(t \\right)}} & 0 & 0\\\\\\frac{B{\\left(t \\right)} \\frac{d}{d t} C{\\left(t \\right)} - C{\\left(t \\right)} \\frac{d}{d t} B{\\left(t \\right)}}{B{\\left(t \\right)} C{\\left(t \\right)}} & - \\frac{A^{2}{\\left(t \\right)} B{\\left(t \\right)} \\frac{d^{2}}{d t^{2}} C{\\left(t \\right)} + A^{2}{\\left(t \\right)} C{\\left(t \\right)} \\frac{d^{2}}{d t^{2}} B{\\left(t \\right)} + A^{2}{\\left(t \\right)} \\frac{d}{d t} B{\\left(t \\right)} \\frac{d}{d t} C{\\left(t \\right)} + B{\\left(t \\right)} C{\\left(t \\right)}}{B{\\left(t \\right)} C{\\left(t \\right)}} & 0 & 0\\\\0 & 0 & - \\frac{\\left(A^{2}{\\left(t \\right)} \\frac{d^{2}}{d t^{2}} C{\\left(t \\right)} + A{\\left(t \\right)} C{\\left(t \\right)} \\frac{d^{2}}{d t^{2}} A{\\left(t \\right)} + A{\\left(t \\right)} \\frac{d}{d t} A{\\left(t \\right)} \\frac{d}{d t} C{\\left(t \\right)} - C{\\left(t \\right)}\\right) B^{2}{\\left(t \\right)} e^{2 x}}{A^{2}{\\left(t \\right)} C{\\left(t \\right)}} & 0\\\\0 & 0 & 0 & - \\frac{\\left(A^{2}{\\left(t \\right)} \\frac{d^{2}}{d t^{2}} B{\\left(t \\right)} + A{\\left(t \\right)} B{\\left(t \\right)} \\frac{d^{2}}{d t^{2}} A{\\left(t \\right)} + A{\\left(t \\right)} \\frac{d}{d t} A{\\left(t \\right)} \\frac{d}{d t} B{\\left(t \\right)} - B{\\left(t \\right)}\\right) C^{2}{\\left(t \\right)} e^{- 2 x}}{A^{2}{\\left(t \\right)} B{\\left(t \\right)}}\\end{matrix}\\right]$"
      ],
      "text/plain": [
       "⎡ 2    d        d                    d        d                    d        d \n",
       "⎢A (t)⋅──(B(t))⋅──(C(t)) + A(t)⋅B(t)⋅──(A(t))⋅──(C(t)) + A(t)⋅C(t)⋅──(A(t))⋅──\n",
       "⎢      dt       dt                   dt       dt                   dt       dt\n",
       "⎢─────────────────────────────────────────────────────────────────────────────\n",
       "⎢                                         2                                   \n",
       "⎢                                        A (t)⋅B(t)⋅C(t)                      \n",
       "⎢                                                                             \n",
       "⎢                                                                             \n",
       "⎢                                                                             \n",
       "⎢                                      d               d                      \n",
       "⎢                                 B(t)⋅──(C(t)) - C(t)⋅──(B(t))               \n",
       "⎢                                      dt              dt                     \n",
       "⎢                                 ─────────────────────────────               \n",
       "⎢                                           B(t)⋅C(t)                         \n",
       "⎢                                                                             \n",
       "⎢                                                                             \n",
       "⎢                                                                             \n",
       "⎢                                                                             \n",
       "⎢                                                                             \n",
       "⎢                                                                             \n",
       "⎢                                               0                             \n",
       "⎢                                                                             \n",
       "⎢                                                                             \n",
       "⎢                                                                             \n",
       "⎢                                                                             \n",
       "⎢                                                                             \n",
       "⎢                                                                             \n",
       "⎢                                                                             \n",
       "⎢                                                                             \n",
       "⎢                                               0                             \n",
       "⎢                                                                             \n",
       "⎣                                                                             \n",
       "\n",
       "                                                     d               d        \n",
       "(B(t)) - B(t)⋅C(t)                              B(t)⋅──(C(t)) - C(t)⋅──(B(t)) \n",
       "                                                     dt              dt       \n",
       "──────────────────                              ───────────────────────────── \n",
       "                                                          B(t)⋅C(t)           \n",
       "                                                                              \n",
       "                                                                              \n",
       "                     ⎛             2                      2                   \n",
       "                     ⎜ 2          d           2          d           2    d   \n",
       "                    -⎜A (t)⋅B(t)⋅───(C(t)) + A (t)⋅C(t)⋅───(B(t)) + A (t)⋅──(B\n",
       "                     ⎜             2                      2               dt  \n",
       "                     ⎝           dt                     dt                    \n",
       "                    ──────────────────────────────────────────────────────────\n",
       "                                                          B(t)⋅C(t)           \n",
       "                                                                              \n",
       "                                                                              \n",
       "                                                                              \n",
       "                                                                              \n",
       "                                                                              \n",
       "                                                                              \n",
       "                                                              0               \n",
       "                                                                              \n",
       "                                                                              \n",
       "                                                                              \n",
       "                                                                              \n",
       "                                                                              \n",
       "                                                                              \n",
       "                                                                              \n",
       "                                                                              \n",
       "                                                              0               \n",
       "                                                                              \n",
       "                                                                              \n",
       "\n",
       "                                                                              \n",
       "                                                                              \n",
       "                                                                              \n",
       "                                                                      0       \n",
       "                                                                              \n",
       "                                                                              \n",
       "                                                                              \n",
       "                         ⎞                                                    \n",
       "     d                   ⎟                                                    \n",
       "(t))⋅──(C(t)) + B(t)⋅C(t)⎟                                                    \n",
       "     dt                  ⎟                                                    \n",
       "                         ⎠                                                    \n",
       "───────────────────────────                                           0       \n",
       "                                                                              \n",
       "                                                                              \n",
       "                              ⎛        2                     2                \n",
       "                              ⎜ 2     d                     d               d \n",
       "                             -⎜A (t)⋅───(C(t)) + A(t)⋅C(t)⋅───(A(t)) + A(t)⋅──\n",
       "                              ⎜        2                     2              dt\n",
       "                              ⎝      dt                    dt                 \n",
       "                             ─────────────────────────────────────────────────\n",
       "                                                                   2          \n",
       "                                                                  A (t)⋅C(t)  \n",
       "                                                                              \n",
       "                                                                              \n",
       "                                                                              \n",
       "                                                                              \n",
       "                                                                              \n",
       "                                                                              \n",
       "                                                                      0       \n",
       "                                                                              \n",
       "                                                                              \n",
       "\n",
       "                                                                              \n",
       "                                                                              \n",
       "                                                                              \n",
       "                                                                              \n",
       "                                                                              \n",
       "                                                                              \n",
       "                                                                              \n",
       "                                                                              \n",
       "                                                                              \n",
       "                                                                              \n",
       "                                                                              \n",
       "                                                                              \n",
       "                                                                              \n",
       "                                                                              \n",
       "                                                                              \n",
       "                      ⎞                                                       \n",
       "       d              ⎟  2     2⋅x                                            \n",
       "(A(t))⋅──(C(t)) - C(t)⎟⋅B (t)⋅ℯ                                               \n",
       "       dt             ⎟                                                       \n",
       "                      ⎠                                                       \n",
       "───────────────────────────────────                                           \n",
       "                                                                              \n",
       "                                                                              \n",
       "                                                                              \n",
       "                                      ⎛        2                     2        \n",
       "                                      ⎜ 2     d                     d         \n",
       "                                     -⎜A (t)⋅───(B(t)) + A(t)⋅B(t)⋅───(A(t)) +\n",
       "                                      ⎜        2                     2        \n",
       "                                      ⎝      dt                    dt         \n",
       "                                     ─────────────────────────────────────────\n",
       "                                                                            2 \n",
       "                                                                           A (\n",
       "\n",
       "                                            ⎤\n",
       "                                            ⎥\n",
       "                                            ⎥\n",
       " 0                                          ⎥\n",
       "                                            ⎥\n",
       "                                            ⎥\n",
       "                                            ⎥\n",
       "                                            ⎥\n",
       "                                            ⎥\n",
       "                                            ⎥\n",
       "                                            ⎥\n",
       "                                            ⎥\n",
       " 0                                          ⎥\n",
       "                                            ⎥\n",
       "                                            ⎥\n",
       "                                            ⎥\n",
       "                                            ⎥\n",
       "                                            ⎥\n",
       "                                            ⎥\n",
       "                                            ⎥\n",
       " 0                                          ⎥\n",
       "                                            ⎥\n",
       "                                            ⎥\n",
       "                                            ⎥\n",
       "                              ⎞             ⎥\n",
       "      d        d              ⎟  2     -2⋅x ⎥\n",
       " A(t)⋅──(A(t))⋅──(B(t)) - B(t)⎟⋅C (t)⋅ℯ     ⎥\n",
       "      dt       dt             ⎟             ⎥\n",
       "                              ⎠             ⎥\n",
       "────────────────────────────────────────────⎥\n",
       "                                            ⎥\n",
       "t)⋅B(t)                                     ⎦"
      ]
     },
     "metadata": {},
     "output_type": "display_data"
    }
   ],
   "source": [
    "G = pt.einstein()\n",
    "G.display()"
   ]
  },
  {
   "cell_type": "code",
   "execution_count": 18,
   "metadata": {},
   "outputs": [
    {
     "name": "stdout",
     "output_type": "stream",
     "text": [
      "Elements assigned correctly to the ^ components\n"
     ]
    },
    {
     "data": {
      "text/latex": [
       "$\\displaystyle \\left[\\begin{matrix}1\\\\0\\\\0\\\\0\\end{matrix}\\right]$"
      ],
      "text/plain": [
       "⎡1⎤\n",
       "⎢ ⎥\n",
       "⎢0⎥\n",
       "⎢ ⎥\n",
       "⎢0⎥\n",
       "⎢ ⎥\n",
       "⎣0⎦"
      ]
     },
     "metadata": {},
     "output_type": "display_data"
    },
    {
     "name": "stdout",
     "output_type": "stream",
     "text": [
      "Function rho(t) is already defined\n",
      "Function P(t) is already defined\n",
      "Elements assigned correctly to the ^mu,^nu components\n"
     ]
    },
    {
     "data": {
      "text/latex": [
       "$\\displaystyle \\left[\\begin{matrix}\\rho{\\left(t \\right)} & 0 & 0 & 0\\\\0 & \\frac{P{\\left(t \\right)}}{A^{2}{\\left(t \\right)}} & 0 & 0\\\\0 & 0 & \\frac{P{\\left(t \\right)} e^{- 2 x}}{B^{2}{\\left(t \\right)}} & 0\\\\0 & 0 & 0 & \\frac{P{\\left(t \\right)} e^{- 2 x}}{C^{2}{\\left(t \\right)}}\\end{matrix}\\right]$"
      ],
      "text/plain": [
       "⎡ρ(t)    0        0           0     ⎤\n",
       "⎢                                   ⎥\n",
       "⎢       P(t)                        ⎥\n",
       "⎢ 0    ─────      0           0     ⎥\n",
       "⎢       2                           ⎥\n",
       "⎢      A (t)                        ⎥\n",
       "⎢                                   ⎥\n",
       "⎢                   -2⋅x            ⎥\n",
       "⎢             P(t)⋅ℯ                ⎥\n",
       "⎢ 0      0    ──────────      0     ⎥\n",
       "⎢                2                  ⎥\n",
       "⎢               B (t)               ⎥\n",
       "⎢                                   ⎥\n",
       "⎢                               -2⋅x⎥\n",
       "⎢                         P(t)⋅ℯ    ⎥\n",
       "⎢ 0      0        0       ──────────⎥\n",
       "⎢                            2      ⎥\n",
       "⎣                           C (t)   ⎦"
      ]
     },
     "metadata": {},
     "output_type": "display_data"
    },
    {
     "data": {
      "application/vnd.jupyter.widget-view+json": {
       "model_id": "a496315f77984c9babea4d915ebafc75",
       "version_major": 2,
       "version_minor": 0
      },
      "text/plain": [
       "T Tensor $T{_\\alpha}{^\\beta}$:   0%|          | 0/16 [00:00<?, ?it/s]"
      ]
     },
     "metadata": {},
     "output_type": "display_data"
    },
    {
     "data": {
      "application/vnd.jupyter.widget-view+json": {
       "model_id": "1dfdd72d0c7e457d821aae1501fca728",
       "version_major": 2,
       "version_minor": 0
      },
      "text/plain": [
       "T Tensor $T{_\\alpha}{_\\beta}$:   0%|          | 0/16 [00:00<?, ?it/s]"
      ]
     },
     "metadata": {},
     "output_type": "display_data"
    },
    {
     "data": {
      "application/vnd.jupyter.widget-view+json": {
       "model_id": "9ac4d0dfa654401c95173fa5fd9d5487",
       "version_major": 2,
       "version_minor": 0
      },
      "text/plain": [
       "T Tensor $T{^\\alpha}{_\\beta}$:   0%|          | 0/16 [00:00<?, ?it/s]"
      ]
     },
     "metadata": {},
     "output_type": "display_data"
    },
    {
     "data": {
      "text/latex": [
       "All other indices of T Tensor $T$  already calculated."
      ],
      "text/plain": [
       "<IPython.core.display.Latex object>"
      ]
     },
     "metadata": {},
     "output_type": "display_data"
    },
    {
     "data": {
      "text/latex": [
       "$\\displaystyle \\left[\\begin{matrix}\\rho{\\left(t \\right)} & 0 & 0 & 0\\\\0 & A^{2}{\\left(t \\right)} P{\\left(t \\right)} & 0 & 0\\\\0 & 0 & B^{2}{\\left(t \\right)} P{\\left(t \\right)} e^{2 x} & 0\\\\0 & 0 & 0 & C^{2}{\\left(t \\right)} P{\\left(t \\right)} e^{2 x}\\end{matrix}\\right]$"
      ],
      "text/plain": [
       "⎡ρ(t)      0              0                0       ⎤\n",
       "⎢                                                  ⎥\n",
       "⎢       2                                          ⎥\n",
       "⎢ 0    A (t)⋅P(t)         0                0       ⎥\n",
       "⎢                                                  ⎥\n",
       "⎢                   2          2⋅x                 ⎥\n",
       "⎢ 0        0       B (t)⋅P(t)⋅ℯ            0       ⎥\n",
       "⎢                                                  ⎥\n",
       "⎢                                    2          2⋅x⎥\n",
       "⎣ 0        0              0         C (t)⋅P(t)⋅ℯ   ⎦"
      ]
     },
     "metadata": {},
     "output_type": "display_data"
    },
    {
     "name": "stdout",
     "output_type": "stream",
     "text": [
      "Elements assigned correctly to the ^mu components\n"
     ]
    },
    {
     "data": {
      "text/latex": [
       "$\\displaystyle \\left[\\begin{matrix}\\frac{d}{d t} \\rho{\\left(t \\right)} + \\frac{P{\\left(t \\right)} e^{- 4 x} \\frac{d}{d t} C{\\left(t \\right)}}{C{\\left(t \\right)}} + \\frac{\\rho{\\left(t \\right)} \\frac{d}{d t} C{\\left(t \\right)}}{C{\\left(t \\right)}} + \\frac{P{\\left(t \\right)} \\frac{d}{d t} B{\\left(t \\right)}}{B{\\left(t \\right)}} + \\frac{\\rho{\\left(t \\right)} \\frac{d}{d t} B{\\left(t \\right)}}{B{\\left(t \\right)}} + \\frac{P{\\left(t \\right)} \\frac{d}{d t} A{\\left(t \\right)}}{A{\\left(t \\right)}} + \\frac{\\rho{\\left(t \\right)} \\frac{d}{d t} A{\\left(t \\right)}}{A{\\left(t \\right)}}\\\\- \\frac{P{\\left(t \\right)}}{A^{2}{\\left(t \\right)}} + \\frac{P{\\left(t \\right)} e^{- 4 x}}{A^{2}{\\left(t \\right)}}\\\\0\\\\0\\end{matrix}\\right]$"
      ],
      "text/plain": [
       "⎡                 -4⋅x d               d               d               d      \n",
       "⎢           P(t)⋅ℯ    ⋅──(C(t))   ρ(t)⋅──(C(t))   P(t)⋅──(B(t))   ρ(t)⋅──(B(t)\n",
       "⎢d                     dt              dt              dt              dt     \n",
       "⎢──(ρ(t)) + ─────────────────── + ───────────── + ───────────── + ────────────\n",
       "⎢dt                 C(t)               C(t)            B(t)            B(t)   \n",
       "⎢                                                                             \n",
       "⎢                                                             -4⋅x            \n",
       "⎢                                                P(t)   P(t)⋅ℯ                \n",
       "⎢                                             - ───── + ──────────            \n",
       "⎢                                                2         2                  \n",
       "⎢                                               A (t)     A (t)               \n",
       "⎢                                                                             \n",
       "⎢                                                      0                      \n",
       "⎢                                                                             \n",
       "⎣                                                      0                      \n",
       "\n",
       "         d               d       ⎤\n",
       ")   P(t)⋅──(A(t))   ρ(t)⋅──(A(t))⎥\n",
       "         dt              dt      ⎥\n",
       "─ + ───────────── + ─────────────⎥\n",
       "         A(t)            A(t)    ⎥\n",
       "                                 ⎥\n",
       "                                 ⎥\n",
       "                                 ⎥\n",
       "                                 ⎥\n",
       "                                 ⎥\n",
       "                                 ⎥\n",
       "                                 ⎥\n",
       "                                 ⎥\n",
       "                                 ⎥\n",
       "                                 ⎦"
      ]
     },
     "metadata": {},
     "output_type": "display_data"
    }
   ],
   "source": [
    "U = pt.ten('U',1)\n",
    "U.assign([1,0,0,0],'^')\n",
    "U.display('^')\n",
    "rho = pt.fun('rho','t')\n",
    "P = pt.fun('P','t')\n",
    "T = pt.ten('T',2)\n",
    "T.assign((rho+P)*U(\"^mu\")*U(\"^nu\")+P*g(\"^mu,^nu\"),\"^mu,^nu\")\n",
    "T.display('^,^')\n",
    "T.complete('^,^')\n",
    "T.display('_,_')\n",
    "CT_dat = pt.C(T('^mu,^nu'),'_nu')\n",
    "CT = pt.ten('CT',1)\n",
    "CT.assign(CT_dat,'^mu')\n",
    "CT.display('^')"
   ]
  }
 ],
 "metadata": {
  "kernelspec": {
   "display_name": "Python 3.6.7 64-bit",
   "language": "python",
   "name": "python3"
  },
  "language_info": {
   "codemirror_mode": {
    "name": "ipython",
    "version": 3
   },
   "file_extension": ".py",
   "mimetype": "text/x-python",
   "name": "python",
   "nbconvert_exporter": "python",
   "pygments_lexer": "ipython3",
   "version": "3.6.7"
  },
  "orig_nbformat": 4,
  "vscode": {
   "interpreter": {
    "hash": "2fe84a340ba9287c7cb1571137a812dad7cb370584e1b8cf466a33e4cc3e43d3"
   }
  }
 },
 "nbformat": 4,
 "nbformat_minor": 2
}
