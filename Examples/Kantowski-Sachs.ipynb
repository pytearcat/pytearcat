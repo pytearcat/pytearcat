{
 "cells": [
  {
   "cell_type": "code",
   "execution_count": 7,
   "metadata": {},
   "outputs": [],
   "source": [
    "import pytearcat as pt"
   ]
  },
  {
   "cell_type": "code",
   "execution_count": 8,
   "metadata": {},
   "outputs": [
    {
     "name": "stdout",
     "output_type": "stream",
     "text": [
      "Remember that the time coordinate must be the first coordinate.\n",
      "Function A(t) is already defined\n",
      "Function B(t) is already defined\n",
      "\n",
      "Dimension = 4\n",
      "Coordinates = t,r,theta,phi\n",
      "Metric defined successfully: \n",
      "\n"
     ]
    },
    {
     "data": {
      "text/latex": [
       "$\\displaystyle ds^2 = 1 \\cdot dt^2- A^{2}{\\left(t \\right)} \\cdot dr^2- B^{2}{\\left(t \\right)} \\cdot d\\theta^2- B^{2}{\\left(t \\right)} \\sin^{2}{\\left(\\theta \\right)} \\cdot d\\phi^2$"
      ],
      "text/plain": [
       "<IPython.core.display.Math object>"
      ]
     },
     "metadata": {},
     "output_type": "display_data"
    },
    {
     "data": {
      "text/latex": [
       "$\\displaystyle \\left[\\begin{matrix}1 & 0 & 0 & 0\\\\0 & - A^{2}{\\left(t \\right)} & 0 & 0\\\\0 & 0 & - B^{2}{\\left(t \\right)} & 0\\\\0 & 0 & 0 & - B^{2}{\\left(t \\right)} \\sin^{2}{\\left(\\theta \\right)}\\end{matrix}\\right]$"
      ],
      "text/plain": [
       "Matrix([\n",
       "[1,        0,        0,                      0],\n",
       "[0, -A(t)**2,        0,                      0],\n",
       "[0,        0, -B(t)**2,                      0],\n",
       "[0,        0,        0, -B(t)**2*sin(theta)**2]])"
      ]
     },
     "metadata": {},
     "output_type": "display_data"
    }
   ],
   "source": [
    "t,r,theta,phi = pt.coords('t,r,theta,phi')\n",
    "A = pt.fun('A','t')\n",
    "B = pt.fun('B','t')\n",
    "g = pt.metric('ds2 = dt**2 - A**2*dr**2 - B**2*dtheta**2 - sin(theta)**2*B**2*dphi**2')\n",
    "\n"
   ]
  },
  {
   "cell_type": "code",
   "execution_count": 9,
   "metadata": {},
   "outputs": [
    {
     "data": {
      "text/latex": [
       "Christoffel $\\Gamma_{\\alpha \\beta \\gamma}$ and $\\Gamma^{\\alpha}_{\\beta \\gamma}$"
      ],
      "text/plain": [
       "<IPython.core.display.Latex object>"
      ]
     },
     "metadata": {},
     "output_type": "display_data"
    },
    {
     "data": {
      "application/vnd.jupyter.widget-view+json": {
       "model_id": "5523f048360f4dada3e018ee0e430c64",
       "version_major": 2,
       "version_minor": 0
      },
      "text/plain": [
       "  0%|          | 0/64 [00:00<?, ?it/s]"
      ]
     },
     "metadata": {},
     "output_type": "display_data"
    },
    {
     "data": {
      "text/latex": [
       "$\\displaystyle {\\Gamma}{}_{0}\\,{}_{1}\\,{}_{1}\\, = A{\\left(t \\right)} \\frac{d}{d t} A{\\left(t \\right)}$"
      ],
      "text/plain": [
       "<IPython.core.display.Math object>"
      ]
     },
     "metadata": {},
     "output_type": "display_data"
    },
    {
     "data": {
      "text/latex": [
       "$\\displaystyle {\\Gamma}{}_{0}\\,{}_{2}\\,{}_{2}\\, = B{\\left(t \\right)} \\frac{d}{d t} B{\\left(t \\right)}$"
      ],
      "text/plain": [
       "<IPython.core.display.Math object>"
      ]
     },
     "metadata": {},
     "output_type": "display_data"
    },
    {
     "data": {
      "text/latex": [
       "$\\displaystyle {\\Gamma}{}_{0}\\,{}_{3}\\,{}_{3}\\, = B{\\left(t \\right)} \\sin^{2}{\\left(\\theta \\right)} \\frac{d}{d t} B{\\left(t \\right)}$"
      ],
      "text/plain": [
       "<IPython.core.display.Math object>"
      ]
     },
     "metadata": {},
     "output_type": "display_data"
    },
    {
     "data": {
      "text/latex": [
       "$\\displaystyle {\\Gamma}{}_{1}\\,{}_{0}\\,{}_{1}\\, = - A{\\left(t \\right)} \\frac{d}{d t} A{\\left(t \\right)}$"
      ],
      "text/plain": [
       "<IPython.core.display.Math object>"
      ]
     },
     "metadata": {},
     "output_type": "display_data"
    },
    {
     "data": {
      "text/latex": [
       "$\\displaystyle {\\Gamma}{}_{1}\\,{}_{1}\\,{}_{0}\\, = - A{\\left(t \\right)} \\frac{d}{d t} A{\\left(t \\right)}$"
      ],
      "text/plain": [
       "<IPython.core.display.Math object>"
      ]
     },
     "metadata": {},
     "output_type": "display_data"
    },
    {
     "data": {
      "text/latex": [
       "$\\displaystyle {\\Gamma}{}_{2}\\,{}_{0}\\,{}_{2}\\, = - B{\\left(t \\right)} \\frac{d}{d t} B{\\left(t \\right)}$"
      ],
      "text/plain": [
       "<IPython.core.display.Math object>"
      ]
     },
     "metadata": {},
     "output_type": "display_data"
    },
    {
     "data": {
      "text/latex": [
       "$\\displaystyle {\\Gamma}{}_{2}\\,{}_{2}\\,{}_{0}\\, = - B{\\left(t \\right)} \\frac{d}{d t} B{\\left(t \\right)}$"
      ],
      "text/plain": [
       "<IPython.core.display.Math object>"
      ]
     },
     "metadata": {},
     "output_type": "display_data"
    },
    {
     "data": {
      "text/latex": [
       "$\\displaystyle {\\Gamma}{}_{2}\\,{}_{3}\\,{}_{3}\\, = B^{2}{\\left(t \\right)} \\sin{\\left(\\theta \\right)} \\cos{\\left(\\theta \\right)}$"
      ],
      "text/plain": [
       "<IPython.core.display.Math object>"
      ]
     },
     "metadata": {},
     "output_type": "display_data"
    },
    {
     "data": {
      "text/latex": [
       "$\\displaystyle {\\Gamma}{}_{3}\\,{}_{0}\\,{}_{3}\\, = - B{\\left(t \\right)} \\sin^{2}{\\left(\\theta \\right)} \\frac{d}{d t} B{\\left(t \\right)}$"
      ],
      "text/plain": [
       "<IPython.core.display.Math object>"
      ]
     },
     "metadata": {},
     "output_type": "display_data"
    },
    {
     "data": {
      "text/latex": [
       "$\\displaystyle {\\Gamma}{}_{3}\\,{}_{2}\\,{}_{3}\\, = - B^{2}{\\left(t \\right)} \\sin{\\left(\\theta \\right)} \\cos{\\left(\\theta \\right)}$"
      ],
      "text/plain": [
       "<IPython.core.display.Math object>"
      ]
     },
     "metadata": {},
     "output_type": "display_data"
    },
    {
     "data": {
      "text/latex": [
       "$\\displaystyle {\\Gamma}{}_{3}\\,{}_{3}\\,{}_{0}\\, = - B{\\left(t \\right)} \\sin^{2}{\\left(\\theta \\right)} \\frac{d}{d t} B{\\left(t \\right)}$"
      ],
      "text/plain": [
       "<IPython.core.display.Math object>"
      ]
     },
     "metadata": {},
     "output_type": "display_data"
    },
    {
     "data": {
      "text/latex": [
       "$\\displaystyle {\\Gamma}{}_{3}\\,{}_{3}\\,{}_{2}\\, = - B^{2}{\\left(t \\right)} \\sin{\\left(\\theta \\right)} \\cos{\\left(\\theta \\right)}$"
      ],
      "text/plain": [
       "<IPython.core.display.Math object>"
      ]
     },
     "metadata": {},
     "output_type": "display_data"
    },
    {
     "data": {
      "text/latex": [
       "$\\displaystyle {\\Gamma}{}^{0}\\,{}_{1}\\,{}_{1}\\, = A{\\left(t \\right)} \\frac{d}{d t} A{\\left(t \\right)}$"
      ],
      "text/plain": [
       "<IPython.core.display.Math object>"
      ]
     },
     "metadata": {},
     "output_type": "display_data"
    },
    {
     "data": {
      "text/latex": [
       "$\\displaystyle {\\Gamma}{}^{0}\\,{}_{2}\\,{}_{2}\\, = B{\\left(t \\right)} \\frac{d}{d t} B{\\left(t \\right)}$"
      ],
      "text/plain": [
       "<IPython.core.display.Math object>"
      ]
     },
     "metadata": {},
     "output_type": "display_data"
    },
    {
     "data": {
      "text/latex": [
       "$\\displaystyle {\\Gamma}{}^{0}\\,{}_{3}\\,{}_{3}\\, = B{\\left(t \\right)} \\sin^{2}{\\left(\\theta \\right)} \\frac{d}{d t} B{\\left(t \\right)}$"
      ],
      "text/plain": [
       "<IPython.core.display.Math object>"
      ]
     },
     "metadata": {},
     "output_type": "display_data"
    },
    {
     "data": {
      "text/latex": [
       "$\\displaystyle {\\Gamma}{}^{1}\\,{}_{0}\\,{}_{1}\\, = \\frac{\\frac{d}{d t} A{\\left(t \\right)}}{A{\\left(t \\right)}}$"
      ],
      "text/plain": [
       "<IPython.core.display.Math object>"
      ]
     },
     "metadata": {},
     "output_type": "display_data"
    },
    {
     "data": {
      "text/latex": [
       "$\\displaystyle {\\Gamma}{}^{1}\\,{}_{1}\\,{}_{0}\\, = \\frac{\\frac{d}{d t} A{\\left(t \\right)}}{A{\\left(t \\right)}}$"
      ],
      "text/plain": [
       "<IPython.core.display.Math object>"
      ]
     },
     "metadata": {},
     "output_type": "display_data"
    },
    {
     "data": {
      "text/latex": [
       "$\\displaystyle {\\Gamma}{}^{2}\\,{}_{0}\\,{}_{2}\\, = \\frac{\\frac{d}{d t} B{\\left(t \\right)}}{B{\\left(t \\right)}}$"
      ],
      "text/plain": [
       "<IPython.core.display.Math object>"
      ]
     },
     "metadata": {},
     "output_type": "display_data"
    },
    {
     "data": {
      "text/latex": [
       "$\\displaystyle {\\Gamma}{}^{2}\\,{}_{2}\\,{}_{0}\\, = \\frac{\\frac{d}{d t} B{\\left(t \\right)}}{B{\\left(t \\right)}}$"
      ],
      "text/plain": [
       "<IPython.core.display.Math object>"
      ]
     },
     "metadata": {},
     "output_type": "display_data"
    },
    {
     "data": {
      "text/latex": [
       "$\\displaystyle {\\Gamma}{}^{2}\\,{}_{3}\\,{}_{3}\\, = - \\sin{\\left(\\theta \\right)} \\cos{\\left(\\theta \\right)}$"
      ],
      "text/plain": [
       "<IPython.core.display.Math object>"
      ]
     },
     "metadata": {},
     "output_type": "display_data"
    },
    {
     "data": {
      "text/latex": [
       "$\\displaystyle {\\Gamma}{}^{3}\\,{}_{0}\\,{}_{3}\\, = \\frac{\\frac{d}{d t} B{\\left(t \\right)}}{B{\\left(t \\right)}}$"
      ],
      "text/plain": [
       "<IPython.core.display.Math object>"
      ]
     },
     "metadata": {},
     "output_type": "display_data"
    },
    {
     "data": {
      "text/latex": [
       "$\\displaystyle {\\Gamma}{}^{3}\\,{}_{2}\\,{}_{3}\\, = \\frac{\\cos{\\left(\\theta \\right)}}{\\sin{\\left(\\theta \\right)}}$"
      ],
      "text/plain": [
       "<IPython.core.display.Math object>"
      ]
     },
     "metadata": {},
     "output_type": "display_data"
    },
    {
     "data": {
      "text/latex": [
       "$\\displaystyle {\\Gamma}{}^{3}\\,{}_{3}\\,{}_{0}\\, = \\frac{\\frac{d}{d t} B{\\left(t \\right)}}{B{\\left(t \\right)}}$"
      ],
      "text/plain": [
       "<IPython.core.display.Math object>"
      ]
     },
     "metadata": {},
     "output_type": "display_data"
    },
    {
     "data": {
      "text/latex": [
       "$\\displaystyle {\\Gamma}{}^{3}\\,{}_{3}\\,{}_{2}\\, = \\frac{\\cos{\\left(\\theta \\right)}}{\\sin{\\left(\\theta \\right)}}$"
      ],
      "text/plain": [
       "<IPython.core.display.Math object>"
      ]
     },
     "metadata": {},
     "output_type": "display_data"
    }
   ],
   "source": [
    "Chr = pt.christoffel()\n",
    "Chr.display()"
   ]
  },
  {
   "cell_type": "code",
   "execution_count": 10,
   "metadata": {},
   "outputs": [
    {
     "data": {
      "text/latex": [
       "Riemann Tensor $R^{\\alpha}_{\\beta \\gamma \\delta}$"
      ],
      "text/plain": [
       "<IPython.core.display.Latex object>"
      ]
     },
     "metadata": {},
     "output_type": "display_data"
    },
    {
     "data": {
      "application/vnd.jupyter.widget-view+json": {
       "model_id": "19e3bc8dfc754bfe907e0bf1750c8d5a",
       "version_major": 2,
       "version_minor": 0
      },
      "text/plain": [
       "  0%|          | 0/256 [00:00<?, ?it/s]"
      ]
     },
     "metadata": {},
     "output_type": "display_data"
    },
    {
     "data": {
      "text/latex": [
       "$\\displaystyle {R}{}^{0}\\,{}_{1}\\,{}_{0}\\,{}_{1}\\, = A{\\left(t \\right)} \\frac{d^{2}}{d t^{2}} A{\\left(t \\right)}$"
      ],
      "text/plain": [
       "<IPython.core.display.Math object>"
      ]
     },
     "metadata": {},
     "output_type": "display_data"
    },
    {
     "data": {
      "text/latex": [
       "$\\displaystyle {R}{}^{0}\\,{}_{1}\\,{}_{1}\\,{}_{0}\\, = - A{\\left(t \\right)} \\frac{d^{2}}{d t^{2}} A{\\left(t \\right)}$"
      ],
      "text/plain": [
       "<IPython.core.display.Math object>"
      ]
     },
     "metadata": {},
     "output_type": "display_data"
    },
    {
     "data": {
      "text/latex": [
       "$\\displaystyle {R}{}^{0}\\,{}_{2}\\,{}_{0}\\,{}_{2}\\, = B{\\left(t \\right)} \\frac{d^{2}}{d t^{2}} B{\\left(t \\right)}$"
      ],
      "text/plain": [
       "<IPython.core.display.Math object>"
      ]
     },
     "metadata": {},
     "output_type": "display_data"
    },
    {
     "data": {
      "text/latex": [
       "$\\displaystyle {R}{}^{0}\\,{}_{2}\\,{}_{2}\\,{}_{0}\\, = - B{\\left(t \\right)} \\frac{d^{2}}{d t^{2}} B{\\left(t \\right)}$"
      ],
      "text/plain": [
       "<IPython.core.display.Math object>"
      ]
     },
     "metadata": {},
     "output_type": "display_data"
    },
    {
     "data": {
      "text/latex": [
       "$\\displaystyle {R}{}^{0}\\,{}_{3}\\,{}_{0}\\,{}_{3}\\, = B{\\left(t \\right)} \\sin^{2}{\\left(\\theta \\right)} \\frac{d^{2}}{d t^{2}} B{\\left(t \\right)}$"
      ],
      "text/plain": [
       "<IPython.core.display.Math object>"
      ]
     },
     "metadata": {},
     "output_type": "display_data"
    },
    {
     "data": {
      "text/latex": [
       "$\\displaystyle {R}{}^{0}\\,{}_{3}\\,{}_{3}\\,{}_{0}\\, = - B{\\left(t \\right)} \\sin^{2}{\\left(\\theta \\right)} \\frac{d^{2}}{d t^{2}} B{\\left(t \\right)}$"
      ],
      "text/plain": [
       "<IPython.core.display.Math object>"
      ]
     },
     "metadata": {},
     "output_type": "display_data"
    },
    {
     "data": {
      "text/latex": [
       "$\\displaystyle {R}{}^{1}\\,{}_{0}\\,{}_{0}\\,{}_{1}\\, = \\frac{\\frac{d^{2}}{d t^{2}} A{\\left(t \\right)}}{A{\\left(t \\right)}}$"
      ],
      "text/plain": [
       "<IPython.core.display.Math object>"
      ]
     },
     "metadata": {},
     "output_type": "display_data"
    },
    {
     "data": {
      "text/latex": [
       "$\\displaystyle {R}{}^{1}\\,{}_{0}\\,{}_{1}\\,{}_{0}\\, = - \\frac{\\frac{d^{2}}{d t^{2}} A{\\left(t \\right)}}{A{\\left(t \\right)}}$"
      ],
      "text/plain": [
       "<IPython.core.display.Math object>"
      ]
     },
     "metadata": {},
     "output_type": "display_data"
    },
    {
     "data": {
      "text/latex": [
       "$\\displaystyle {R}{}^{1}\\,{}_{2}\\,{}_{1}\\,{}_{2}\\, = \\frac{B{\\left(t \\right)} \\frac{d}{d t} A{\\left(t \\right)} \\frac{d}{d t} B{\\left(t \\right)}}{A{\\left(t \\right)}}$"
      ],
      "text/plain": [
       "<IPython.core.display.Math object>"
      ]
     },
     "metadata": {},
     "output_type": "display_data"
    },
    {
     "data": {
      "text/latex": [
       "$\\displaystyle {R}{}^{1}\\,{}_{2}\\,{}_{2}\\,{}_{1}\\, = - \\frac{B{\\left(t \\right)} \\frac{d}{d t} A{\\left(t \\right)} \\frac{d}{d t} B{\\left(t \\right)}}{A{\\left(t \\right)}}$"
      ],
      "text/plain": [
       "<IPython.core.display.Math object>"
      ]
     },
     "metadata": {},
     "output_type": "display_data"
    },
    {
     "data": {
      "text/latex": [
       "$\\displaystyle {R}{}^{1}\\,{}_{3}\\,{}_{1}\\,{}_{3}\\, = \\frac{B{\\left(t \\right)} \\sin^{2}{\\left(\\theta \\right)} \\frac{d}{d t} A{\\left(t \\right)} \\frac{d}{d t} B{\\left(t \\right)}}{A{\\left(t \\right)}}$"
      ],
      "text/plain": [
       "<IPython.core.display.Math object>"
      ]
     },
     "metadata": {},
     "output_type": "display_data"
    },
    {
     "data": {
      "text/latex": [
       "$\\displaystyle {R}{}^{1}\\,{}_{3}\\,{}_{3}\\,{}_{1}\\, = - \\frac{B{\\left(t \\right)} \\sin^{2}{\\left(\\theta \\right)} \\frac{d}{d t} A{\\left(t \\right)} \\frac{d}{d t} B{\\left(t \\right)}}{A{\\left(t \\right)}}$"
      ],
      "text/plain": [
       "<IPython.core.display.Math object>"
      ]
     },
     "metadata": {},
     "output_type": "display_data"
    },
    {
     "data": {
      "text/latex": [
       "$\\displaystyle {R}{}^{2}\\,{}_{0}\\,{}_{0}\\,{}_{2}\\, = \\frac{\\frac{d^{2}}{d t^{2}} B{\\left(t \\right)}}{B{\\left(t \\right)}}$"
      ],
      "text/plain": [
       "<IPython.core.display.Math object>"
      ]
     },
     "metadata": {},
     "output_type": "display_data"
    },
    {
     "data": {
      "text/latex": [
       "$\\displaystyle {R}{}^{2}\\,{}_{0}\\,{}_{2}\\,{}_{0}\\, = - \\frac{\\frac{d^{2}}{d t^{2}} B{\\left(t \\right)}}{B{\\left(t \\right)}}$"
      ],
      "text/plain": [
       "<IPython.core.display.Math object>"
      ]
     },
     "metadata": {},
     "output_type": "display_data"
    },
    {
     "data": {
      "text/latex": [
       "$\\displaystyle {R}{}^{2}\\,{}_{1}\\,{}_{1}\\,{}_{2}\\, = - \\frac{A{\\left(t \\right)} \\frac{d}{d t} A{\\left(t \\right)} \\frac{d}{d t} B{\\left(t \\right)}}{B{\\left(t \\right)}}$"
      ],
      "text/plain": [
       "<IPython.core.display.Math object>"
      ]
     },
     "metadata": {},
     "output_type": "display_data"
    },
    {
     "data": {
      "text/latex": [
       "$\\displaystyle {R}{}^{2}\\,{}_{1}\\,{}_{2}\\,{}_{1}\\, = \\frac{A{\\left(t \\right)} \\frac{d}{d t} A{\\left(t \\right)} \\frac{d}{d t} B{\\left(t \\right)}}{B{\\left(t \\right)}}$"
      ],
      "text/plain": [
       "<IPython.core.display.Math object>"
      ]
     },
     "metadata": {},
     "output_type": "display_data"
    },
    {
     "data": {
      "text/latex": [
       "$\\displaystyle {R}{}^{2}\\,{}_{3}\\,{}_{2}\\,{}_{3}\\, = \\left(\\left(\\frac{d}{d t} B{\\left(t \\right)}\\right)^{2} + 1\\right) \\sin^{2}{\\left(\\theta \\right)}$"
      ],
      "text/plain": [
       "<IPython.core.display.Math object>"
      ]
     },
     "metadata": {},
     "output_type": "display_data"
    },
    {
     "data": {
      "text/latex": [
       "$\\displaystyle {R}{}^{2}\\,{}_{3}\\,{}_{3}\\,{}_{2}\\, = - \\left(\\left(\\frac{d}{d t} B{\\left(t \\right)}\\right)^{2} + 1\\right) \\sin^{2}{\\left(\\theta \\right)}$"
      ],
      "text/plain": [
       "<IPython.core.display.Math object>"
      ]
     },
     "metadata": {},
     "output_type": "display_data"
    },
    {
     "data": {
      "text/latex": [
       "$\\displaystyle {R}{}^{3}\\,{}_{0}\\,{}_{0}\\,{}_{3}\\, = \\frac{\\frac{d^{2}}{d t^{2}} B{\\left(t \\right)}}{B{\\left(t \\right)}}$"
      ],
      "text/plain": [
       "<IPython.core.display.Math object>"
      ]
     },
     "metadata": {},
     "output_type": "display_data"
    },
    {
     "data": {
      "text/latex": [
       "$\\displaystyle {R}{}^{3}\\,{}_{0}\\,{}_{3}\\,{}_{0}\\, = - \\frac{\\frac{d^{2}}{d t^{2}} B{\\left(t \\right)}}{B{\\left(t \\right)}}$"
      ],
      "text/plain": [
       "<IPython.core.display.Math object>"
      ]
     },
     "metadata": {},
     "output_type": "display_data"
    },
    {
     "data": {
      "text/latex": [
       "$\\displaystyle {R}{}^{3}\\,{}_{1}\\,{}_{1}\\,{}_{3}\\, = - \\frac{A{\\left(t \\right)} \\frac{d}{d t} A{\\left(t \\right)} \\frac{d}{d t} B{\\left(t \\right)}}{B{\\left(t \\right)}}$"
      ],
      "text/plain": [
       "<IPython.core.display.Math object>"
      ]
     },
     "metadata": {},
     "output_type": "display_data"
    },
    {
     "data": {
      "text/latex": [
       "$\\displaystyle {R}{}^{3}\\,{}_{1}\\,{}_{3}\\,{}_{1}\\, = \\frac{A{\\left(t \\right)} \\frac{d}{d t} A{\\left(t \\right)} \\frac{d}{d t} B{\\left(t \\right)}}{B{\\left(t \\right)}}$"
      ],
      "text/plain": [
       "<IPython.core.display.Math object>"
      ]
     },
     "metadata": {},
     "output_type": "display_data"
    },
    {
     "data": {
      "text/latex": [
       "$\\displaystyle {R}{}^{3}\\,{}_{2}\\,{}_{2}\\,{}_{3}\\, = - \\left(\\frac{d}{d t} B{\\left(t \\right)}\\right)^{2} - 1$"
      ],
      "text/plain": [
       "<IPython.core.display.Math object>"
      ]
     },
     "metadata": {},
     "output_type": "display_data"
    },
    {
     "data": {
      "text/latex": [
       "$\\displaystyle {R}{}^{3}\\,{}_{2}\\,{}_{3}\\,{}_{2}\\, = \\left(\\frac{d}{d t} B{\\left(t \\right)}\\right)^{2} + 1$"
      ],
      "text/plain": [
       "<IPython.core.display.Math object>"
      ]
     },
     "metadata": {},
     "output_type": "display_data"
    }
   ],
   "source": [
    "R = pt.riemann()\n",
    "R.display(\"^,_,_,_\")"
   ]
  },
  {
   "cell_type": "code",
   "execution_count": 11,
   "metadata": {},
   "outputs": [
    {
     "data": {
      "text/latex": [
       "Ricci Tensor $R_{\\alpha \\beta}$"
      ],
      "text/plain": [
       "<IPython.core.display.Latex object>"
      ]
     },
     "metadata": {},
     "output_type": "display_data"
    },
    {
     "data": {
      "application/vnd.jupyter.widget-view+json": {
       "model_id": "203c544ada7a47faa5a642bb80c29559",
       "version_major": 2,
       "version_minor": 0
      },
      "text/plain": [
       "  0%|          | 0/16 [00:00<?, ?it/s]"
      ]
     },
     "metadata": {},
     "output_type": "display_data"
    },
    {
     "data": {
      "application/vnd.jupyter.widget-view+json": {
       "model_id": "52c5e5802e8b4e038fd735b6b2754478",
       "version_major": 2,
       "version_minor": 0
      },
      "text/plain": [
       "  0%|          | 0/16 [00:00<?, ?it/s]"
      ]
     },
     "metadata": {},
     "output_type": "display_data"
    },
    {
     "data": {
      "text/latex": [
       "Ricci Scalar $R$"
      ],
      "text/plain": [
       "<IPython.core.display.Latex object>"
      ]
     },
     "metadata": {},
     "output_type": "display_data"
    },
    {
     "data": {
      "text/latex": [
       "$\\displaystyle \\left[\\begin{matrix}- \\frac{2 A{\\left(t \\right)} \\frac{d^{2}}{d t^{2}} B{\\left(t \\right)} + B{\\left(t \\right)} \\frac{d^{2}}{d t^{2}} A{\\left(t \\right)}}{A{\\left(t \\right)} B{\\left(t \\right)}} & 0 & 0 & 0\\\\0 & \\frac{\\left(B{\\left(t \\right)} \\frac{d^{2}}{d t^{2}} A{\\left(t \\right)} + 2 \\frac{d}{d t} A{\\left(t \\right)} \\frac{d}{d t} B{\\left(t \\right)}\\right) A{\\left(t \\right)}}{B{\\left(t \\right)}} & 0 & 0\\\\0 & 0 & \\frac{A{\\left(t \\right)} B{\\left(t \\right)} \\frac{d^{2}}{d t^{2}} B{\\left(t \\right)} + A{\\left(t \\right)} \\left(\\frac{d}{d t} B{\\left(t \\right)}\\right)^{2} + A{\\left(t \\right)} + B{\\left(t \\right)} \\frac{d}{d t} A{\\left(t \\right)} \\frac{d}{d t} B{\\left(t \\right)}}{A{\\left(t \\right)}} & 0\\\\0 & 0 & 0 & \\frac{\\left(A{\\left(t \\right)} B{\\left(t \\right)} \\frac{d^{2}}{d t^{2}} B{\\left(t \\right)} + A{\\left(t \\right)} \\left(\\frac{d}{d t} B{\\left(t \\right)}\\right)^{2} + A{\\left(t \\right)} + B{\\left(t \\right)} \\frac{d}{d t} A{\\left(t \\right)} \\frac{d}{d t} B{\\left(t \\right)}\\right) \\sin^{2}{\\left(\\theta \\right)}}{A{\\left(t \\right)}}\\end{matrix}\\right]$"
      ],
      "text/plain": [
       "⎡ ⎛         2                2      ⎞                                         \n",
       "⎢ ⎜        d                d       ⎟                                         \n",
       "⎢-⎜2⋅A(t)⋅───(B(t)) + B(t)⋅───(A(t))⎟                                         \n",
       "⎢ ⎜         2                2      ⎟                                         \n",
       "⎢ ⎝       dt               dt       ⎠                                         \n",
       "⎢─────────────────────────────────────                       0                \n",
       "⎢              A(t)⋅B(t)                                                      \n",
       "⎢                                                                             \n",
       "⎢                                       ⎛       2                            ⎞\n",
       "⎢                                       ⎜      d            d        d       ⎟\n",
       "⎢                                       ⎜B(t)⋅───(A(t)) + 2⋅──(A(t))⋅──(B(t))⎟\n",
       "⎢                                       ⎜       2           dt       dt      ⎟\n",
       "⎢                                       ⎝     dt                             ⎠\n",
       "⎢                  0                    ──────────────────────────────────────\n",
       "⎢                                                           B(t)              \n",
       "⎢                                                                             \n",
       "⎢                                                                             \n",
       "⎢                                                                             \n",
       "⎢                                                                             \n",
       "⎢                                                                             \n",
       "⎢                                                                             \n",
       "⎢                  0                                         0                \n",
       "⎢                                                                             \n",
       "⎢                                                                             \n",
       "⎢                                                                             \n",
       "⎢                                                                             \n",
       "⎢                                                                             \n",
       "⎢                                                                             \n",
       "⎢                                                                             \n",
       "⎢                  0                                         0                \n",
       "⎣                                                                             \n",
       "\n",
       "                                                                              \n",
       "                                                                              \n",
       "                                                                              \n",
       "                                                                              \n",
       "                                                                              \n",
       "                                         0                                    \n",
       "                                                                              \n",
       "                                                                              \n",
       "                                                                              \n",
       "                                                                              \n",
       "⋅A(t)                                                                         \n",
       "                                                                              \n",
       "                                                                              \n",
       "─────                                    0                                    \n",
       "                                                                              \n",
       "                                                                              \n",
       "                   2                        2                                 \n",
       "                  d               ⎛d       ⎞                d        d        \n",
       "       A(t)⋅B(t)⋅───(B(t)) + A(t)⋅⎜──(B(t))⎟  + A(t) + B(t)⋅──(A(t))⋅──(B(t)) \n",
       "                   2              ⎝dt      ⎠                dt       dt       \n",
       "                 dt                                                           \n",
       "       ────────────────────────────────────────────────────────────────────── \n",
       "                                        A(t)                                  \n",
       "                                                                              \n",
       "                                                                              \n",
       "                                                                              \n",
       "                                                                              \n",
       "                                                                              \n",
       "                                                                              \n",
       "                                         0                                    \n",
       "                                                                              \n",
       "\n",
       "                                                                              \n",
       "                                                                              \n",
       "                                                                              \n",
       "                                                                              \n",
       "                                                                              \n",
       "                                        0                                     \n",
       "                                                                              \n",
       "                                                                              \n",
       "                                                                              \n",
       "                                                                              \n",
       "                                                                              \n",
       "                                                                              \n",
       "                                                                              \n",
       "                                        0                                     \n",
       "                                                                              \n",
       "                                                                              \n",
       "                                                                              \n",
       "                                                                              \n",
       "                                                                              \n",
       "                                                                              \n",
       "                                                                              \n",
       "                                        0                                     \n",
       "                                                                              \n",
       "                                                                              \n",
       " ⎛            2                        2                                ⎞     \n",
       " ⎜           d               ⎛d       ⎞                d        d       ⎟    2\n",
       " ⎜A(t)⋅B(t)⋅───(B(t)) + A(t)⋅⎜──(B(t))⎟  + A(t) + B(t)⋅──(A(t))⋅──(B(t))⎟⋅sin \n",
       " ⎜            2              ⎝dt      ⎠                dt       dt      ⎟     \n",
       " ⎝          dt                                                          ⎠     \n",
       " ─────────────────────────────────────────────────────────────────────────────\n",
       "                                       A(t)                                   \n",
       "\n",
       "   ⎤\n",
       "   ⎥\n",
       "   ⎥\n",
       "   ⎥\n",
       "   ⎥\n",
       "   ⎥\n",
       "   ⎥\n",
       "   ⎥\n",
       "   ⎥\n",
       "   ⎥\n",
       "   ⎥\n",
       "   ⎥\n",
       "   ⎥\n",
       "   ⎥\n",
       "   ⎥\n",
       "   ⎥\n",
       "   ⎥\n",
       "   ⎥\n",
       "   ⎥\n",
       "   ⎥\n",
       "   ⎥\n",
       "   ⎥\n",
       "   ⎥\n",
       "   ⎥\n",
       "   ⎥\n",
       "   ⎥\n",
       "(θ)⎥\n",
       "   ⎥\n",
       "   ⎥\n",
       "───⎥\n",
       "   ⎦"
      ]
     },
     "metadata": {},
     "output_type": "display_data"
    },
    {
     "data": {
      "text/latex": [
       "$\\displaystyle - \\frac{2 \\left(2 A{\\left(t \\right)} B{\\left(t \\right)} \\frac{d^{2}}{d t^{2}} B{\\left(t \\right)} + A{\\left(t \\right)} \\left(\\frac{d}{d t} B{\\left(t \\right)}\\right)^{2} + A{\\left(t \\right)} + B^{2}{\\left(t \\right)} \\frac{d^{2}}{d t^{2}} A{\\left(t \\right)} + 2 B{\\left(t \\right)} \\frac{d}{d t} A{\\left(t \\right)} \\frac{d}{d t} B{\\left(t \\right)}\\right)}{A{\\left(t \\right)} B^{2}{\\left(t \\right)}}$"
      ],
      "text/plain": [
       "<IPython.core.display.Math object>"
      ]
     },
     "metadata": {},
     "output_type": "display_data"
    }
   ],
   "source": [
    "Ric = pt.ricci()\n",
    "RicS = pt.riccis()\n",
    "Ric.display()\n",
    "pt.display(RicS)"
   ]
  },
  {
   "cell_type": "code",
   "execution_count": 12,
   "metadata": {},
   "outputs": [
    {
     "data": {
      "text/latex": [
       "Einstein Tensor $G_{\\alpha \\beta}$"
      ],
      "text/plain": [
       "<IPython.core.display.Latex object>"
      ]
     },
     "metadata": {},
     "output_type": "display_data"
    },
    {
     "data": {
      "application/vnd.jupyter.widget-view+json": {
       "model_id": "2d9e606c62c148e98d9710a3bebad906",
       "version_major": 2,
       "version_minor": 0
      },
      "text/plain": [
       "  0%|          | 0/16 [00:00<?, ?it/s]"
      ]
     },
     "metadata": {},
     "output_type": "display_data"
    },
    {
     "data": {
      "text/latex": [
       "$\\displaystyle \\left[\\begin{matrix}\\frac{A{\\left(t \\right)} \\left(\\frac{d}{d t} B{\\left(t \\right)}\\right)^{2} + A{\\left(t \\right)} + 2 B{\\left(t \\right)} \\frac{d}{d t} A{\\left(t \\right)} \\frac{d}{d t} B{\\left(t \\right)}}{A{\\left(t \\right)} B^{2}{\\left(t \\right)}} & 0 & 0 & 0\\\\0 & - \\frac{\\left(2 B{\\left(t \\right)} \\frac{d^{2}}{d t^{2}} B{\\left(t \\right)} + \\left(\\frac{d}{d t} B{\\left(t \\right)}\\right)^{2} + 1\\right) A^{2}{\\left(t \\right)}}{B^{2}{\\left(t \\right)}} & 0 & 0\\\\0 & 0 & - \\frac{\\left(A{\\left(t \\right)} \\frac{d^{2}}{d t^{2}} B{\\left(t \\right)} + B{\\left(t \\right)} \\frac{d^{2}}{d t^{2}} A{\\left(t \\right)} + \\frac{d}{d t} A{\\left(t \\right)} \\frac{d}{d t} B{\\left(t \\right)}\\right) B{\\left(t \\right)}}{A{\\left(t \\right)}} & 0\\\\0 & 0 & 0 & - \\frac{\\left(A{\\left(t \\right)} \\frac{d^{2}}{d t^{2}} B{\\left(t \\right)} + B{\\left(t \\right)} \\frac{d^{2}}{d t^{2}} A{\\left(t \\right)} + \\frac{d}{d t} A{\\left(t \\right)} \\frac{d}{d t} B{\\left(t \\right)}\\right) B{\\left(t \\right)} \\sin^{2}{\\left(\\theta \\right)}}{A{\\left(t \\right)}}\\end{matrix}\\right]$"
      ],
      "text/plain": [
       "⎡               2                                                             \n",
       "⎢     ⎛d       ⎞                  d        d                                  \n",
       "⎢A(t)⋅⎜──(B(t))⎟  + A(t) + 2⋅B(t)⋅──(A(t))⋅──(B(t))                           \n",
       "⎢     ⎝dt      ⎠                  dt       dt                                 \n",
       "⎢──────────────────────────────────────────────────                       0   \n",
       "⎢                          2                                                  \n",
       "⎢                    A(t)⋅B (t)                                               \n",
       "⎢                                                                             \n",
       "⎢                                                     ⎛         2             \n",
       "⎢                                                     ⎜        d          ⎛d  \n",
       "⎢                                                    -⎜2⋅B(t)⋅───(B(t)) + ⎜──(\n",
       "⎢                                                     ⎜         2         ⎝dt \n",
       "⎢                                                     ⎝       dt              \n",
       "⎢                        0                           ─────────────────────────\n",
       "⎢                                                                        2    \n",
       "⎢                                                                       B (t) \n",
       "⎢                                                                             \n",
       "⎢                                                                             \n",
       "⎢                                                                             \n",
       "⎢                                                                             \n",
       "⎢                                                                             \n",
       "⎢                                                                             \n",
       "⎢                        0                                                0   \n",
       "⎢                                                                             \n",
       "⎢                                                                             \n",
       "⎢                                                                             \n",
       "⎢                                                                             \n",
       "⎢                                                                             \n",
       "⎢                                                                             \n",
       "⎢                                                                             \n",
       "⎢                        0                                                0   \n",
       "⎣                                                                             \n",
       "\n",
       "                                                                              \n",
       "                                                                              \n",
       "                                                                              \n",
       "                                                                              \n",
       "                                                  0                           \n",
       "                                                                              \n",
       "                                                                              \n",
       "                                                                              \n",
       "      2    ⎞                                                                  \n",
       "     ⎞     ⎟  2                                                               \n",
       "B(t))⎟  + 1⎟⋅A (t)                                                            \n",
       "     ⎠     ⎟                                                                  \n",
       "           ⎠                                                                  \n",
       "───────────────────                               0                           \n",
       "                                                                              \n",
       "                                                                              \n",
       "                                                                              \n",
       "                      ⎛       2                2                          ⎞   \n",
       "                      ⎜      d                d          d        d       ⎟   \n",
       "                     -⎜A(t)⋅───(B(t)) + B(t)⋅───(A(t)) + ──(A(t))⋅──(B(t))⎟⋅B(\n",
       "                      ⎜       2                2         dt       dt      ⎟   \n",
       "                      ⎝     dt               dt                           ⎠   \n",
       "                     ─────────────────────────────────────────────────────────\n",
       "                                                 A(t)                         \n",
       "                                                                              \n",
       "                                                                              \n",
       "                                                                              \n",
       "                                                                              \n",
       "                                                                              \n",
       "                                                                              \n",
       "                                                  0                           \n",
       "                                                                              \n",
       "\n",
       "                                                                         ⎤\n",
       "                                                                         ⎥\n",
       "                                                                         ⎥\n",
       "                                                                         ⎥\n",
       "                                      0                                  ⎥\n",
       "                                                                         ⎥\n",
       "                                                                         ⎥\n",
       "                                                                         ⎥\n",
       "                                                                         ⎥\n",
       "                                                                         ⎥\n",
       "                                                                         ⎥\n",
       "                                                                         ⎥\n",
       "                                                                         ⎥\n",
       "                                      0                                  ⎥\n",
       "                                                                         ⎥\n",
       "                                                                         ⎥\n",
       "                                                                         ⎥\n",
       "                                                                         ⎥\n",
       "                                                                         ⎥\n",
       "t)                                                                       ⎥\n",
       "                                                                         ⎥\n",
       "                                                                         ⎥\n",
       "───                                   0                                  ⎥\n",
       "                                                                         ⎥\n",
       "                                                                         ⎥\n",
       "      ⎛       2                2                          ⎞              ⎥\n",
       "      ⎜      d                d          d        d       ⎟         2    ⎥\n",
       "     -⎜A(t)⋅───(B(t)) + B(t)⋅───(A(t)) + ──(A(t))⋅──(B(t))⎟⋅B(t)⋅sin (θ) ⎥\n",
       "      ⎜       2                2         dt       dt      ⎟              ⎥\n",
       "      ⎝     dt               dt                           ⎠              ⎥\n",
       "     ────────────────────────────────────────────────────────────────────⎥\n",
       "                                     A(t)                                ⎦"
      ]
     },
     "metadata": {},
     "output_type": "display_data"
    }
   ],
   "source": [
    "\n",
    "G = pt.einstein()\n",
    "G.display()"
   ]
  },
  {
   "cell_type": "code",
   "execution_count": 13,
   "metadata": {},
   "outputs": [
    {
     "name": "stdout",
     "output_type": "stream",
     "text": [
      "Elements assigned correctly to the ^ components\n"
     ]
    },
    {
     "data": {
      "text/latex": [
       "$\\displaystyle \\left[\\begin{matrix}1\\\\0\\\\0\\\\0\\end{matrix}\\right]$"
      ],
      "text/plain": [
       "⎡1⎤\n",
       "⎢ ⎥\n",
       "⎢0⎥\n",
       "⎢ ⎥\n",
       "⎢0⎥\n",
       "⎢ ⎥\n",
       "⎣0⎦"
      ]
     },
     "metadata": {},
     "output_type": "display_data"
    },
    {
     "name": "stdout",
     "output_type": "stream",
     "text": [
      "Elements assigned correctly to the ^mu,^nu components\n"
     ]
    },
    {
     "data": {
      "text/latex": [
       "$\\displaystyle \\left[\\begin{matrix}2 P{\\left(t \\right)} + \\rho{\\left(t \\right)} & 0 & 0 & 0\\\\0 & - \\frac{P{\\left(t \\right)}}{A^{2}{\\left(t \\right)}} & 0 & 0\\\\0 & 0 & - \\frac{P{\\left(t \\right)}}{B^{2}{\\left(t \\right)}} & 0\\\\0 & 0 & 0 & - \\frac{P{\\left(t \\right)}}{B^{2}{\\left(t \\right)} \\sin^{2}{\\left(\\theta \\right)}}\\end{matrix}\\right]$"
      ],
      "text/plain": [
       "⎡2⋅P(t) + ρ(t)    0       0           0      ⎤\n",
       "⎢                                            ⎥\n",
       "⎢               -P(t)                        ⎥\n",
       "⎢      0        ──────    0           0      ⎥\n",
       "⎢                2                           ⎥\n",
       "⎢               A (t)                        ⎥\n",
       "⎢                                            ⎥\n",
       "⎢                       -P(t)                ⎥\n",
       "⎢      0          0     ──────        0      ⎥\n",
       "⎢                        2                   ⎥\n",
       "⎢                       B (t)                ⎥\n",
       "⎢                                            ⎥\n",
       "⎢                                   -P(t)    ⎥\n",
       "⎢      0          0       0     ─────────────⎥\n",
       "⎢                                2       2   ⎥\n",
       "⎣                               B (t)⋅sin (θ)⎦"
      ]
     },
     "metadata": {},
     "output_type": "display_data"
    }
   ],
   "source": [
    "U = pt.ten('U',1)\n",
    "U.assign([1,0,0,0],'^')\n",
    "U.display('^')\n",
    "rho = pt.fun('rho','t')\n",
    "P = pt.fun('P','t')\n",
    "T = pt.ten('T',2)\n",
    "T.assign((rho+P)*U(\"^mu\")*U(\"^nu\")+P*g(\"^mu,^nu\"),\"^mu,^nu\")\n",
    "T.display('^,^')"
   ]
  },
  {
   "cell_type": "code",
   "execution_count": 14,
   "metadata": {},
   "outputs": [
    {
     "data": {
      "application/vnd.jupyter.widget-view+json": {
       "model_id": "b9cf2aa5fe114f67b94c7100c4171b03",
       "version_major": 2,
       "version_minor": 0
      },
      "text/plain": [
       "T Tensor $T{_\\alpha}{^\\beta}$:   0%|          | 0/16 [00:00<?, ?it/s]"
      ]
     },
     "metadata": {},
     "output_type": "display_data"
    },
    {
     "data": {
      "application/vnd.jupyter.widget-view+json": {
       "model_id": "43e7e7d9f062478fb36e6a17599be3cf",
       "version_major": 2,
       "version_minor": 0
      },
      "text/plain": [
       "T Tensor $T{_\\alpha}{_\\beta}$:   0%|          | 0/16 [00:00<?, ?it/s]"
      ]
     },
     "metadata": {},
     "output_type": "display_data"
    },
    {
     "data": {
      "application/vnd.jupyter.widget-view+json": {
       "model_id": "ff154064143e499e89e19c69f73dff37",
       "version_major": 2,
       "version_minor": 0
      },
      "text/plain": [
       "T Tensor $T{^\\alpha}{_\\beta}$:   0%|          | 0/16 [00:00<?, ?it/s]"
      ]
     },
     "metadata": {},
     "output_type": "display_data"
    },
    {
     "data": {
      "text/latex": [
       "All other indices of T Tensor $T$  already calculated."
      ],
      "text/plain": [
       "<IPython.core.display.Latex object>"
      ]
     },
     "metadata": {},
     "output_type": "display_data"
    },
    {
     "data": {
      "text/latex": [
       "$\\displaystyle \\left[\\begin{matrix}2 P{\\left(t \\right)} + \\rho{\\left(t \\right)} & 0 & 0 & 0\\\\0 & - A^{2}{\\left(t \\right)} P{\\left(t \\right)} & 0 & 0\\\\0 & 0 & - B^{2}{\\left(t \\right)} P{\\left(t \\right)} & 0\\\\0 & 0 & 0 & - B^{2}{\\left(t \\right)} P{\\left(t \\right)} \\sin^{2}{\\left(\\theta \\right)}\\end{matrix}\\right]$"
      ],
      "text/plain": [
       "⎡2⋅P(t) + ρ(t)       0            0                0         ⎤\n",
       "⎢                                                            ⎥\n",
       "⎢                 2                                          ⎥\n",
       "⎢      0        -A (t)⋅P(t)       0                0         ⎥\n",
       "⎢                                                            ⎥\n",
       "⎢                              2                             ⎥\n",
       "⎢      0             0       -B (t)⋅P(t)           0         ⎥\n",
       "⎢                                                            ⎥\n",
       "⎢                                           2            2   ⎥\n",
       "⎣      0             0            0       -B (t)⋅P(t)⋅sin (θ)⎦"
      ]
     },
     "metadata": {},
     "output_type": "display_data"
    },
    {
     "name": "stdout",
     "output_type": "stream",
     "text": [
      "Elements assigned correctly to the ^mu components\n"
     ]
    },
    {
     "data": {
      "text/latex": [
       "$\\displaystyle \\left[\\begin{matrix}\\frac{2 \\left(2 P{\\left(t \\right)} + \\rho{\\left(t \\right)}\\right) \\frac{d}{d t} B{\\left(t \\right)}}{B{\\left(t \\right)}} + \\frac{\\left(2 P{\\left(t \\right)} + \\rho{\\left(t \\right)}\\right) \\frac{d}{d t} A{\\left(t \\right)}}{A{\\left(t \\right)}} + 2 \\frac{d}{d t} P{\\left(t \\right)} + \\frac{d}{d t} \\rho{\\left(t \\right)} - \\frac{2 P{\\left(t \\right)} \\frac{d}{d t} B{\\left(t \\right)}}{B{\\left(t \\right)}} - \\frac{P{\\left(t \\right)} \\frac{d}{d t} A{\\left(t \\right)}}{A{\\left(t \\right)}}\\\\0\\\\0\\\\0\\end{matrix}\\right]$"
      ],
      "text/plain": [
       "⎡                  d                          d                               \n",
       "⎢2⋅(2⋅P(t) + ρ(t))⋅──(B(t))   (2⋅P(t) + ρ(t))⋅──(A(t))                        \n",
       "⎢                  dt                         dt           d          d       \n",
       "⎢────────────────────────── + ──────────────────────── + 2⋅──(P(t)) + ──(ρ(t))\n",
       "⎢           B(t)                        A(t)               dt         dt      \n",
       "⎢                                                                             \n",
       "⎢                                                       0                     \n",
       "⎢                                                                             \n",
       "⎢                                                       0                     \n",
       "⎢                                                                             \n",
       "⎣                                                       0                     \n",
       "\n",
       "          d               d       ⎤\n",
       "   2⋅P(t)⋅──(B(t))   P(t)⋅──(A(t))⎥\n",
       "          dt              dt      ⎥\n",
       " - ─────────────── - ─────────────⎥\n",
       "         B(t)             A(t)    ⎥\n",
       "                                  ⎥\n",
       "                                  ⎥\n",
       "                                  ⎥\n",
       "                                  ⎥\n",
       "                                  ⎥\n",
       "                                  ⎦"
      ]
     },
     "metadata": {},
     "output_type": "display_data"
    }
   ],
   "source": [
    "T.complete('^,^')\n",
    "T.display('_,_')\n",
    "CT_dat = pt.C(T('^mu,^nu'),'_nu')\n",
    "CT = pt.ten('CT',1)\n",
    "CT.assign(CT_dat,'^mu')\n",
    "CT.display('^')"
   ]
  }
 ],
 "metadata": {
  "kernelspec": {
   "display_name": "Python 3.6.7 64-bit",
   "language": "python",
   "name": "python3"
  },
  "language_info": {
   "codemirror_mode": {
    "name": "ipython",
    "version": 3
   },
   "file_extension": ".py",
   "mimetype": "text/x-python",
   "name": "python",
   "nbconvert_exporter": "python",
   "pygments_lexer": "ipython3",
   "version": "3.6.7"
  },
  "orig_nbformat": 4,
  "vscode": {
   "interpreter": {
    "hash": "2fe84a340ba9287c7cb1571137a812dad7cb370584e1b8cf466a33e4cc3e43d3"
   }
  }
 },
 "nbformat": 4,
 "nbformat_minor": 2
}
