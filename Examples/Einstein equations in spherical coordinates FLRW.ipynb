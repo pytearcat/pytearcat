{
 "cells": [
  {
   "cell_type": "code",
   "execution_count": 1,
   "metadata": {},
   "outputs": [],
   "source": [
    "import pytearcat as pt"
   ]
  },
  {
   "cell_type": "code",
   "execution_count": 2,
   "metadata": {},
   "outputs": [
    {
     "name": "stdout",
     "output_type": "stream",
     "text": [
      "Remember that the time coordinate must be the first coordinate.\n",
      "\n",
      "Dimension = 4\n",
      "Coordinates = t,r,theta,phi\n",
      "Metric defined successfully: \n",
      "\n"
     ]
    },
    {
     "data": {
      "text/latex": [
       "$\\displaystyle ds^2 = -1 \\cdot dt^2+\\frac{a^{2}{\\left(t \\right)}}{- k r^{2} + 1} \\cdot dr^2+r^{2} a^{2}{\\left(t \\right)} \\cdot d\\theta^2+r^{2} a^{2}{\\left(t \\right)} \\sin^{2}{\\left(\\theta \\right)} \\cdot d\\phi^2$"
      ],
      "text/plain": [
       "<IPython.core.display.Math object>"
      ]
     },
     "metadata": {},
     "output_type": "display_data"
    },
    {
     "data": {
      "text/latex": [
       "$\\displaystyle \\left[\\begin{matrix}-1 & 0 & 0 & 0\\\\0 & \\frac{a^{2}{\\left(t \\right)}}{- k r^{2} + 1} & 0 & 0\\\\0 & 0 & r^{2} a^{2}{\\left(t \\right)} & 0\\\\0 & 0 & 0 & r^{2} a^{2}{\\left(t \\right)} \\sin^{2}{\\left(\\theta \\right)}\\end{matrix}\\right]$"
      ],
      "text/plain": [
       "Matrix([\n",
       "[-1,                     0,            0,                          0],\n",
       "[ 0, a(t)**2/(-k*r**2 + 1),            0,                          0],\n",
       "[ 0,                     0, r**2*a(t)**2,                          0],\n",
       "[ 0,                     0,            0, r**2*a(t)**2*sin(theta)**2]])"
      ]
     },
     "metadata": {},
     "output_type": "display_data"
    }
   ],
   "source": [
    "t,r,theta,phi = pt.coords('t,r,theta,phi')\n",
    "\n",
    "k,c = pt.con('k','c')\n",
    "\n",
    "a = pt.fun('a','t')\n",
    "\n",
    "ds = 'ds2 = -dt**2 + a**2*(1/(1-k*r**2)*dr**2 + \\\n",
    "r**2*dtheta**2 + r**2*sin(theta)**2*dphi**2)'\n",
    "\n",
    "g = pt.metric(ds)"
   ]
  },
  {
   "cell_type": "code",
   "execution_count": 3,
   "metadata": {
    "scrolled": false
   },
   "outputs": [
    {
     "data": {
      "text/latex": [
       "Christoffel $\\Gamma_{\\alpha \\beta \\gamma}$ and $\\Gamma^{\\alpha}_{\\beta \\gamma}$"
      ],
      "text/plain": [
       "<IPython.core.display.Latex object>"
      ]
     },
     "metadata": {},
     "output_type": "display_data"
    },
    {
     "data": {
      "application/vnd.jupyter.widget-view+json": {
       "model_id": "28db7f5788fc48b2a68e76485ac346d7",
       "version_major": 2,
       "version_minor": 0
      },
      "text/plain": [
       "  0%|          | 0/64 [00:00<?, ?it/s]"
      ]
     },
     "metadata": {},
     "output_type": "display_data"
    },
    {
     "data": {
      "text/latex": [
       "$\\displaystyle {\\Gamma}{}_{0}\\,{}_{1}\\,{}_{1}\\, = \\frac{a{\\left(t \\right)} \\frac{d}{d t} a{\\left(t \\right)}}{k r^{2} - 1}$"
      ],
      "text/plain": [
       "<IPython.core.display.Math object>"
      ]
     },
     "metadata": {},
     "output_type": "display_data"
    },
    {
     "data": {
      "text/latex": [
       "$\\displaystyle {\\Gamma}{}_{0}\\,{}_{2}\\,{}_{2}\\, = - r^{2} a{\\left(t \\right)} \\frac{d}{d t} a{\\left(t \\right)}$"
      ],
      "text/plain": [
       "<IPython.core.display.Math object>"
      ]
     },
     "metadata": {},
     "output_type": "display_data"
    },
    {
     "data": {
      "text/latex": [
       "$\\displaystyle {\\Gamma}{}_{0}\\,{}_{3}\\,{}_{3}\\, = - r^{2} a{\\left(t \\right)} \\sin^{2}{\\left(\\theta \\right)} \\frac{d}{d t} a{\\left(t \\right)}$"
      ],
      "text/plain": [
       "<IPython.core.display.Math object>"
      ]
     },
     "metadata": {},
     "output_type": "display_data"
    },
    {
     "data": {
      "text/latex": [
       "$\\displaystyle {\\Gamma}{}_{1}\\,{}_{0}\\,{}_{1}\\, = - \\frac{a{\\left(t \\right)} \\frac{d}{d t} a{\\left(t \\right)}}{k r^{2} - 1}$"
      ],
      "text/plain": [
       "<IPython.core.display.Math object>"
      ]
     },
     "metadata": {},
     "output_type": "display_data"
    },
    {
     "data": {
      "text/latex": [
       "$\\displaystyle {\\Gamma}{}_{1}\\,{}_{1}\\,{}_{0}\\, = - \\frac{a{\\left(t \\right)} \\frac{d}{d t} a{\\left(t \\right)}}{k r^{2} - 1}$"
      ],
      "text/plain": [
       "<IPython.core.display.Math object>"
      ]
     },
     "metadata": {},
     "output_type": "display_data"
    },
    {
     "data": {
      "text/latex": [
       "$\\displaystyle {\\Gamma}{}_{1}\\,{}_{1}\\,{}_{1}\\, = \\frac{k r a^{2}{\\left(t \\right)}}{\\left(k r^{2} - 1\\right)^{2}}$"
      ],
      "text/plain": [
       "<IPython.core.display.Math object>"
      ]
     },
     "metadata": {},
     "output_type": "display_data"
    },
    {
     "data": {
      "text/latex": [
       "$\\displaystyle {\\Gamma}{}_{1}\\,{}_{2}\\,{}_{2}\\, = - r a^{2}{\\left(t \\right)}$"
      ],
      "text/plain": [
       "<IPython.core.display.Math object>"
      ]
     },
     "metadata": {},
     "output_type": "display_data"
    },
    {
     "data": {
      "text/latex": [
       "$\\displaystyle {\\Gamma}{}_{1}\\,{}_{3}\\,{}_{3}\\, = - r a^{2}{\\left(t \\right)} \\sin^{2}{\\left(\\theta \\right)}$"
      ],
      "text/plain": [
       "<IPython.core.display.Math object>"
      ]
     },
     "metadata": {},
     "output_type": "display_data"
    },
    {
     "data": {
      "text/latex": [
       "$\\displaystyle {\\Gamma}{}_{2}\\,{}_{0}\\,{}_{2}\\, = r^{2} a{\\left(t \\right)} \\frac{d}{d t} a{\\left(t \\right)}$"
      ],
      "text/plain": [
       "<IPython.core.display.Math object>"
      ]
     },
     "metadata": {},
     "output_type": "display_data"
    },
    {
     "data": {
      "text/latex": [
       "$\\displaystyle {\\Gamma}{}_{2}\\,{}_{1}\\,{}_{2}\\, = r a^{2}{\\left(t \\right)}$"
      ],
      "text/plain": [
       "<IPython.core.display.Math object>"
      ]
     },
     "metadata": {},
     "output_type": "display_data"
    },
    {
     "data": {
      "text/latex": [
       "$\\displaystyle {\\Gamma}{}_{2}\\,{}_{2}\\,{}_{0}\\, = r^{2} a{\\left(t \\right)} \\frac{d}{d t} a{\\left(t \\right)}$"
      ],
      "text/plain": [
       "<IPython.core.display.Math object>"
      ]
     },
     "metadata": {},
     "output_type": "display_data"
    },
    {
     "data": {
      "text/latex": [
       "$\\displaystyle {\\Gamma}{}_{2}\\,{}_{2}\\,{}_{1}\\, = r a^{2}{\\left(t \\right)}$"
      ],
      "text/plain": [
       "<IPython.core.display.Math object>"
      ]
     },
     "metadata": {},
     "output_type": "display_data"
    },
    {
     "data": {
      "text/latex": [
       "$\\displaystyle {\\Gamma}{}_{2}\\,{}_{3}\\,{}_{3}\\, = - r^{2} a^{2}{\\left(t \\right)} \\sin{\\left(\\theta \\right)} \\cos{\\left(\\theta \\right)}$"
      ],
      "text/plain": [
       "<IPython.core.display.Math object>"
      ]
     },
     "metadata": {},
     "output_type": "display_data"
    },
    {
     "data": {
      "text/latex": [
       "$\\displaystyle {\\Gamma}{}_{3}\\,{}_{0}\\,{}_{3}\\, = r^{2} a{\\left(t \\right)} \\sin^{2}{\\left(\\theta \\right)} \\frac{d}{d t} a{\\left(t \\right)}$"
      ],
      "text/plain": [
       "<IPython.core.display.Math object>"
      ]
     },
     "metadata": {},
     "output_type": "display_data"
    },
    {
     "data": {
      "text/latex": [
       "$\\displaystyle {\\Gamma}{}_{3}\\,{}_{1}\\,{}_{3}\\, = r a^{2}{\\left(t \\right)} \\sin^{2}{\\left(\\theta \\right)}$"
      ],
      "text/plain": [
       "<IPython.core.display.Math object>"
      ]
     },
     "metadata": {},
     "output_type": "display_data"
    },
    {
     "data": {
      "text/latex": [
       "$\\displaystyle {\\Gamma}{}_{3}\\,{}_{2}\\,{}_{3}\\, = r^{2} a^{2}{\\left(t \\right)} \\sin{\\left(\\theta \\right)} \\cos{\\left(\\theta \\right)}$"
      ],
      "text/plain": [
       "<IPython.core.display.Math object>"
      ]
     },
     "metadata": {},
     "output_type": "display_data"
    },
    {
     "data": {
      "text/latex": [
       "$\\displaystyle {\\Gamma}{}_{3}\\,{}_{3}\\,{}_{0}\\, = r^{2} a{\\left(t \\right)} \\sin^{2}{\\left(\\theta \\right)} \\frac{d}{d t} a{\\left(t \\right)}$"
      ],
      "text/plain": [
       "<IPython.core.display.Math object>"
      ]
     },
     "metadata": {},
     "output_type": "display_data"
    },
    {
     "data": {
      "text/latex": [
       "$\\displaystyle {\\Gamma}{}_{3}\\,{}_{3}\\,{}_{1}\\, = r a^{2}{\\left(t \\right)} \\sin^{2}{\\left(\\theta \\right)}$"
      ],
      "text/plain": [
       "<IPython.core.display.Math object>"
      ]
     },
     "metadata": {},
     "output_type": "display_data"
    },
    {
     "data": {
      "text/latex": [
       "$\\displaystyle {\\Gamma}{}_{3}\\,{}_{3}\\,{}_{2}\\, = r^{2} a^{2}{\\left(t \\right)} \\sin{\\left(\\theta \\right)} \\cos{\\left(\\theta \\right)}$"
      ],
      "text/plain": [
       "<IPython.core.display.Math object>"
      ]
     },
     "metadata": {},
     "output_type": "display_data"
    },
    {
     "data": {
      "text/latex": [
       "$\\displaystyle {\\Gamma}{}^{0}\\,{}_{1}\\,{}_{1}\\, = - \\frac{a{\\left(t \\right)} \\frac{d}{d t} a{\\left(t \\right)}}{k r^{2} - 1}$"
      ],
      "text/plain": [
       "<IPython.core.display.Math object>"
      ]
     },
     "metadata": {},
     "output_type": "display_data"
    },
    {
     "data": {
      "text/latex": [
       "$\\displaystyle {\\Gamma}{}^{0}\\,{}_{2}\\,{}_{2}\\, = r^{2} a{\\left(t \\right)} \\frac{d}{d t} a{\\left(t \\right)}$"
      ],
      "text/plain": [
       "<IPython.core.display.Math object>"
      ]
     },
     "metadata": {},
     "output_type": "display_data"
    },
    {
     "data": {
      "text/latex": [
       "$\\displaystyle {\\Gamma}{}^{0}\\,{}_{3}\\,{}_{3}\\, = r^{2} a{\\left(t \\right)} \\sin^{2}{\\left(\\theta \\right)} \\frac{d}{d t} a{\\left(t \\right)}$"
      ],
      "text/plain": [
       "<IPython.core.display.Math object>"
      ]
     },
     "metadata": {},
     "output_type": "display_data"
    },
    {
     "data": {
      "text/latex": [
       "$\\displaystyle {\\Gamma}{}^{1}\\,{}_{0}\\,{}_{1}\\, = \\frac{\\frac{d}{d t} a{\\left(t \\right)}}{a{\\left(t \\right)}}$"
      ],
      "text/plain": [
       "<IPython.core.display.Math object>"
      ]
     },
     "metadata": {},
     "output_type": "display_data"
    },
    {
     "data": {
      "text/latex": [
       "$\\displaystyle {\\Gamma}{}^{1}\\,{}_{1}\\,{}_{0}\\, = \\frac{\\frac{d}{d t} a{\\left(t \\right)}}{a{\\left(t \\right)}}$"
      ],
      "text/plain": [
       "<IPython.core.display.Math object>"
      ]
     },
     "metadata": {},
     "output_type": "display_data"
    },
    {
     "data": {
      "text/latex": [
       "$\\displaystyle {\\Gamma}{}^{1}\\,{}_{1}\\,{}_{1}\\, = - \\frac{k r}{k r^{2} - 1}$"
      ],
      "text/plain": [
       "<IPython.core.display.Math object>"
      ]
     },
     "metadata": {},
     "output_type": "display_data"
    },
    {
     "data": {
      "text/latex": [
       "$\\displaystyle {\\Gamma}{}^{1}\\,{}_{2}\\,{}_{2}\\, = r \\left(k r^{2} - 1\\right)$"
      ],
      "text/plain": [
       "<IPython.core.display.Math object>"
      ]
     },
     "metadata": {},
     "output_type": "display_data"
    },
    {
     "data": {
      "text/latex": [
       "$\\displaystyle {\\Gamma}{}^{1}\\,{}_{3}\\,{}_{3}\\, = r \\left(k r^{2} - 1\\right) \\sin^{2}{\\left(\\theta \\right)}$"
      ],
      "text/plain": [
       "<IPython.core.display.Math object>"
      ]
     },
     "metadata": {},
     "output_type": "display_data"
    },
    {
     "data": {
      "text/latex": [
       "$\\displaystyle {\\Gamma}{}^{2}\\,{}_{0}\\,{}_{2}\\, = \\frac{\\frac{d}{d t} a{\\left(t \\right)}}{a{\\left(t \\right)}}$"
      ],
      "text/plain": [
       "<IPython.core.display.Math object>"
      ]
     },
     "metadata": {},
     "output_type": "display_data"
    },
    {
     "data": {
      "text/latex": [
       "$\\displaystyle {\\Gamma}{}^{2}\\,{}_{1}\\,{}_{2}\\, = \\frac{1}{r}$"
      ],
      "text/plain": [
       "<IPython.core.display.Math object>"
      ]
     },
     "metadata": {},
     "output_type": "display_data"
    },
    {
     "data": {
      "text/latex": [
       "$\\displaystyle {\\Gamma}{}^{2}\\,{}_{2}\\,{}_{0}\\, = \\frac{\\frac{d}{d t} a{\\left(t \\right)}}{a{\\left(t \\right)}}$"
      ],
      "text/plain": [
       "<IPython.core.display.Math object>"
      ]
     },
     "metadata": {},
     "output_type": "display_data"
    },
    {
     "data": {
      "text/latex": [
       "$\\displaystyle {\\Gamma}{}^{2}\\,{}_{2}\\,{}_{1}\\, = \\frac{1}{r}$"
      ],
      "text/plain": [
       "<IPython.core.display.Math object>"
      ]
     },
     "metadata": {},
     "output_type": "display_data"
    },
    {
     "data": {
      "text/latex": [
       "$\\displaystyle {\\Gamma}{}^{2}\\,{}_{3}\\,{}_{3}\\, = - \\sin{\\left(\\theta \\right)} \\cos{\\left(\\theta \\right)}$"
      ],
      "text/plain": [
       "<IPython.core.display.Math object>"
      ]
     },
     "metadata": {},
     "output_type": "display_data"
    },
    {
     "data": {
      "text/latex": [
       "$\\displaystyle {\\Gamma}{}^{3}\\,{}_{0}\\,{}_{3}\\, = \\frac{\\frac{d}{d t} a{\\left(t \\right)}}{a{\\left(t \\right)}}$"
      ],
      "text/plain": [
       "<IPython.core.display.Math object>"
      ]
     },
     "metadata": {},
     "output_type": "display_data"
    },
    {
     "data": {
      "text/latex": [
       "$\\displaystyle {\\Gamma}{}^{3}\\,{}_{1}\\,{}_{3}\\, = \\frac{1}{r}$"
      ],
      "text/plain": [
       "<IPython.core.display.Math object>"
      ]
     },
     "metadata": {},
     "output_type": "display_data"
    },
    {
     "data": {
      "text/latex": [
       "$\\displaystyle {\\Gamma}{}^{3}\\,{}_{2}\\,{}_{3}\\, = \\frac{\\cos{\\left(\\theta \\right)}}{\\sin{\\left(\\theta \\right)}}$"
      ],
      "text/plain": [
       "<IPython.core.display.Math object>"
      ]
     },
     "metadata": {},
     "output_type": "display_data"
    },
    {
     "data": {
      "text/latex": [
       "$\\displaystyle {\\Gamma}{}^{3}\\,{}_{3}\\,{}_{0}\\, = \\frac{\\frac{d}{d t} a{\\left(t \\right)}}{a{\\left(t \\right)}}$"
      ],
      "text/plain": [
       "<IPython.core.display.Math object>"
      ]
     },
     "metadata": {},
     "output_type": "display_data"
    },
    {
     "data": {
      "text/latex": [
       "$\\displaystyle {\\Gamma}{}^{3}\\,{}_{3}\\,{}_{1}\\, = \\frac{1}{r}$"
      ],
      "text/plain": [
       "<IPython.core.display.Math object>"
      ]
     },
     "metadata": {},
     "output_type": "display_data"
    },
    {
     "data": {
      "text/latex": [
       "$\\displaystyle {\\Gamma}{}^{3}\\,{}_{3}\\,{}_{2}\\, = \\frac{\\cos{\\left(\\theta \\right)}}{\\sin{\\left(\\theta \\right)}}$"
      ],
      "text/plain": [
       "<IPython.core.display.Math object>"
      ]
     },
     "metadata": {},
     "output_type": "display_data"
    }
   ],
   "source": [
    "# To calculate the First and Second kind Christoffel Symbols:\n",
    "Chr = pt.christoffel()\n",
    "\n",
    "# To calculate the first kind without the second kind:\n",
    "# Chr = pt.christoffel(Second_kind = False)\n",
    "\n",
    "# To calculate the second kind without the first kind:\n",
    "# Chr = pt.christoffel(First_kind = False)\n",
    "\n",
    "# To display the tensor:\n",
    "Chr.display()\n",
    "\n",
    "# By default it displays all the non zero components for the two kinds of Christoffel Symbols.\n",
    "\n",
    "# To display only a particular combination of indices, e.g., the Second kind:\n",
    "# Chr.display(\"^,_,_\")"
   ]
  },
  {
   "cell_type": "code",
   "execution_count": 4,
   "metadata": {},
   "outputs": [
    {
     "data": {
      "text/latex": [
       "Riemann Tensor $R^{\\alpha}_{\\beta \\gamma \\delta}$"
      ],
      "text/plain": [
       "<IPython.core.display.Latex object>"
      ]
     },
     "metadata": {},
     "output_type": "display_data"
    },
    {
     "data": {
      "application/vnd.jupyter.widget-view+json": {
       "model_id": "2717ec91b8234ec588f0217cd4f04e7f",
       "version_major": 2,
       "version_minor": 0
      },
      "text/plain": [
       "  0%|          | 0/256 [00:00<?, ?it/s]"
      ]
     },
     "metadata": {},
     "output_type": "display_data"
    },
    {
     "data": {
      "text/latex": [
       "$\\displaystyle {R}{}^{0}\\,{}_{1}\\,{}_{0}\\,{}_{1}\\, = - \\frac{a{\\left(t \\right)} \\frac{d^{2}}{d t^{2}} a{\\left(t \\right)}}{k r^{2} - 1}$"
      ],
      "text/plain": [
       "<IPython.core.display.Math object>"
      ]
     },
     "metadata": {},
     "output_type": "display_data"
    },
    {
     "data": {
      "text/latex": [
       "$\\displaystyle {R}{}^{0}\\,{}_{1}\\,{}_{1}\\,{}_{0}\\, = \\frac{a{\\left(t \\right)} \\frac{d^{2}}{d t^{2}} a{\\left(t \\right)}}{k r^{2} - 1}$"
      ],
      "text/plain": [
       "<IPython.core.display.Math object>"
      ]
     },
     "metadata": {},
     "output_type": "display_data"
    },
    {
     "data": {
      "text/latex": [
       "$\\displaystyle {R}{}^{0}\\,{}_{2}\\,{}_{0}\\,{}_{2}\\, = r^{2} a{\\left(t \\right)} \\frac{d^{2}}{d t^{2}} a{\\left(t \\right)}$"
      ],
      "text/plain": [
       "<IPython.core.display.Math object>"
      ]
     },
     "metadata": {},
     "output_type": "display_data"
    },
    {
     "data": {
      "text/latex": [
       "$\\displaystyle {R}{}^{0}\\,{}_{2}\\,{}_{2}\\,{}_{0}\\, = - r^{2} a{\\left(t \\right)} \\frac{d^{2}}{d t^{2}} a{\\left(t \\right)}$"
      ],
      "text/plain": [
       "<IPython.core.display.Math object>"
      ]
     },
     "metadata": {},
     "output_type": "display_data"
    },
    {
     "data": {
      "text/latex": [
       "$\\displaystyle {R}{}^{0}\\,{}_{3}\\,{}_{0}\\,{}_{3}\\, = r^{2} a{\\left(t \\right)} \\sin^{2}{\\left(\\theta \\right)} \\frac{d^{2}}{d t^{2}} a{\\left(t \\right)}$"
      ],
      "text/plain": [
       "<IPython.core.display.Math object>"
      ]
     },
     "metadata": {},
     "output_type": "display_data"
    },
    {
     "data": {
      "text/latex": [
       "$\\displaystyle {R}{}^{0}\\,{}_{3}\\,{}_{3}\\,{}_{0}\\, = - r^{2} a{\\left(t \\right)} \\sin^{2}{\\left(\\theta \\right)} \\frac{d^{2}}{d t^{2}} a{\\left(t \\right)}$"
      ],
      "text/plain": [
       "<IPython.core.display.Math object>"
      ]
     },
     "metadata": {},
     "output_type": "display_data"
    },
    {
     "data": {
      "text/latex": [
       "$\\displaystyle {R}{}^{1}\\,{}_{0}\\,{}_{0}\\,{}_{1}\\, = \\frac{\\frac{d^{2}}{d t^{2}} a{\\left(t \\right)}}{a{\\left(t \\right)}}$"
      ],
      "text/plain": [
       "<IPython.core.display.Math object>"
      ]
     },
     "metadata": {},
     "output_type": "display_data"
    },
    {
     "data": {
      "text/latex": [
       "$\\displaystyle {R}{}^{1}\\,{}_{0}\\,{}_{1}\\,{}_{0}\\, = - \\frac{\\frac{d^{2}}{d t^{2}} a{\\left(t \\right)}}{a{\\left(t \\right)}}$"
      ],
      "text/plain": [
       "<IPython.core.display.Math object>"
      ]
     },
     "metadata": {},
     "output_type": "display_data"
    },
    {
     "data": {
      "text/latex": [
       "$\\displaystyle {R}{}^{1}\\,{}_{2}\\,{}_{1}\\,{}_{2}\\, = r^{2} \\left(k + \\left(\\frac{d}{d t} a{\\left(t \\right)}\\right)^{2}\\right)$"
      ],
      "text/plain": [
       "<IPython.core.display.Math object>"
      ]
     },
     "metadata": {},
     "output_type": "display_data"
    },
    {
     "data": {
      "text/latex": [
       "$\\displaystyle {R}{}^{1}\\,{}_{2}\\,{}_{2}\\,{}_{1}\\, = - r^{2} \\left(k + \\left(\\frac{d}{d t} a{\\left(t \\right)}\\right)^{2}\\right)$"
      ],
      "text/plain": [
       "<IPython.core.display.Math object>"
      ]
     },
     "metadata": {},
     "output_type": "display_data"
    },
    {
     "data": {
      "text/latex": [
       "$\\displaystyle {R}{}^{1}\\,{}_{3}\\,{}_{1}\\,{}_{3}\\, = r^{2} \\left(k + \\left(\\frac{d}{d t} a{\\left(t \\right)}\\right)^{2}\\right) \\sin^{2}{\\left(\\theta \\right)}$"
      ],
      "text/plain": [
       "<IPython.core.display.Math object>"
      ]
     },
     "metadata": {},
     "output_type": "display_data"
    },
    {
     "data": {
      "text/latex": [
       "$\\displaystyle {R}{}^{1}\\,{}_{3}\\,{}_{3}\\,{}_{1}\\, = - r^{2} \\left(k + \\left(\\frac{d}{d t} a{\\left(t \\right)}\\right)^{2}\\right) \\sin^{2}{\\left(\\theta \\right)}$"
      ],
      "text/plain": [
       "<IPython.core.display.Math object>"
      ]
     },
     "metadata": {},
     "output_type": "display_data"
    },
    {
     "data": {
      "text/latex": [
       "$\\displaystyle {R}{}^{2}\\,{}_{0}\\,{}_{0}\\,{}_{2}\\, = \\frac{\\frac{d^{2}}{d t^{2}} a{\\left(t \\right)}}{a{\\left(t \\right)}}$"
      ],
      "text/plain": [
       "<IPython.core.display.Math object>"
      ]
     },
     "metadata": {},
     "output_type": "display_data"
    },
    {
     "data": {
      "text/latex": [
       "$\\displaystyle {R}{}^{2}\\,{}_{0}\\,{}_{2}\\,{}_{0}\\, = - \\frac{\\frac{d^{2}}{d t^{2}} a{\\left(t \\right)}}{a{\\left(t \\right)}}$"
      ],
      "text/plain": [
       "<IPython.core.display.Math object>"
      ]
     },
     "metadata": {},
     "output_type": "display_data"
    },
    {
     "data": {
      "text/latex": [
       "$\\displaystyle {R}{}^{2}\\,{}_{1}\\,{}_{1}\\,{}_{2}\\, = \\frac{k + \\left(\\frac{d}{d t} a{\\left(t \\right)}\\right)^{2}}{k r^{2} - 1}$"
      ],
      "text/plain": [
       "<IPython.core.display.Math object>"
      ]
     },
     "metadata": {},
     "output_type": "display_data"
    },
    {
     "data": {
      "text/latex": [
       "$\\displaystyle {R}{}^{2}\\,{}_{1}\\,{}_{2}\\,{}_{1}\\, = - \\frac{k + \\left(\\frac{d}{d t} a{\\left(t \\right)}\\right)^{2}}{k r^{2} - 1}$"
      ],
      "text/plain": [
       "<IPython.core.display.Math object>"
      ]
     },
     "metadata": {},
     "output_type": "display_data"
    },
    {
     "data": {
      "text/latex": [
       "$\\displaystyle {R}{}^{2}\\,{}_{3}\\,{}_{2}\\,{}_{3}\\, = r^{2} \\left(k + \\left(\\frac{d}{d t} a{\\left(t \\right)}\\right)^{2}\\right) \\sin^{2}{\\left(\\theta \\right)}$"
      ],
      "text/plain": [
       "<IPython.core.display.Math object>"
      ]
     },
     "metadata": {},
     "output_type": "display_data"
    },
    {
     "data": {
      "text/latex": [
       "$\\displaystyle {R}{}^{2}\\,{}_{3}\\,{}_{3}\\,{}_{2}\\, = - r^{2} \\left(k + \\left(\\frac{d}{d t} a{\\left(t \\right)}\\right)^{2}\\right) \\sin^{2}{\\left(\\theta \\right)}$"
      ],
      "text/plain": [
       "<IPython.core.display.Math object>"
      ]
     },
     "metadata": {},
     "output_type": "display_data"
    },
    {
     "data": {
      "text/latex": [
       "$\\displaystyle {R}{}^{3}\\,{}_{0}\\,{}_{0}\\,{}_{3}\\, = \\frac{\\frac{d^{2}}{d t^{2}} a{\\left(t \\right)}}{a{\\left(t \\right)}}$"
      ],
      "text/plain": [
       "<IPython.core.display.Math object>"
      ]
     },
     "metadata": {},
     "output_type": "display_data"
    },
    {
     "data": {
      "text/latex": [
       "$\\displaystyle {R}{}^{3}\\,{}_{0}\\,{}_{3}\\,{}_{0}\\, = - \\frac{\\frac{d^{2}}{d t^{2}} a{\\left(t \\right)}}{a{\\left(t \\right)}}$"
      ],
      "text/plain": [
       "<IPython.core.display.Math object>"
      ]
     },
     "metadata": {},
     "output_type": "display_data"
    },
    {
     "data": {
      "text/latex": [
       "$\\displaystyle {R}{}^{3}\\,{}_{1}\\,{}_{1}\\,{}_{3}\\, = \\frac{k + \\left(\\frac{d}{d t} a{\\left(t \\right)}\\right)^{2}}{k r^{2} - 1}$"
      ],
      "text/plain": [
       "<IPython.core.display.Math object>"
      ]
     },
     "metadata": {},
     "output_type": "display_data"
    },
    {
     "data": {
      "text/latex": [
       "$\\displaystyle {R}{}^{3}\\,{}_{1}\\,{}_{3}\\,{}_{1}\\, = - \\frac{k + \\left(\\frac{d}{d t} a{\\left(t \\right)}\\right)^{2}}{k r^{2} - 1}$"
      ],
      "text/plain": [
       "<IPython.core.display.Math object>"
      ]
     },
     "metadata": {},
     "output_type": "display_data"
    },
    {
     "data": {
      "text/latex": [
       "$\\displaystyle {R}{}^{3}\\,{}_{2}\\,{}_{2}\\,{}_{3}\\, = - r^{2} \\left(k + \\left(\\frac{d}{d t} a{\\left(t \\right)}\\right)^{2}\\right)$"
      ],
      "text/plain": [
       "<IPython.core.display.Math object>"
      ]
     },
     "metadata": {},
     "output_type": "display_data"
    },
    {
     "data": {
      "text/latex": [
       "$\\displaystyle {R}{}^{3}\\,{}_{2}\\,{}_{3}\\,{}_{2}\\, = r^{2} \\left(k + \\left(\\frac{d}{d t} a{\\left(t \\right)}\\right)^{2}\\right)$"
      ],
      "text/plain": [
       "<IPython.core.display.Math object>"
      ]
     },
     "metadata": {},
     "output_type": "display_data"
    }
   ],
   "source": [
    "# To calculate the default combination of the Riemann Tensor, i.e, (^,_,_,_): \n",
    "R = pt.riemann()\n",
    "\n",
    "# To calculate all the combinations:\n",
    "# R = pt.riemann(All = True)\n",
    "\n",
    "# To display the default Riemann tensor:\n",
    "R.display(\"^,_,_,_\")\n",
    "\n"
   ]
  },
  {
   "cell_type": "markdown",
   "metadata": {},
   "source": [
    "Remember that if there is no argument, the display method will show the non zero components of the tensor with all lower indices (\"_ ,_ ,_ ,_ \"), which, in this case, has not been calculated."
   ]
  },
  {
   "cell_type": "code",
   "execution_count": 5,
   "metadata": {},
   "outputs": [
    {
     "data": {
      "text/latex": [
       "Ricci Tensor $R_{\\alpha \\beta}$"
      ],
      "text/plain": [
       "<IPython.core.display.Latex object>"
      ]
     },
     "metadata": {},
     "output_type": "display_data"
    },
    {
     "data": {
      "application/vnd.jupyter.widget-view+json": {
       "model_id": "c06f659b279d492cb4997ede8f717e62",
       "version_major": 2,
       "version_minor": 0
      },
      "text/plain": [
       "  0%|          | 0/16 [00:00<?, ?it/s]"
      ]
     },
     "metadata": {},
     "output_type": "display_data"
    },
    {
     "data": {
      "application/vnd.jupyter.widget-view+json": {
       "model_id": "7b4bf80dd1454842bc274a33185348b9",
       "version_major": 2,
       "version_minor": 0
      },
      "text/plain": [
       "  0%|          | 0/16 [00:00<?, ?it/s]"
      ]
     },
     "metadata": {},
     "output_type": "display_data"
    },
    {
     "data": {
      "text/latex": [
       "Ricci Scalar $R$"
      ],
      "text/plain": [
       "<IPython.core.display.Latex object>"
      ]
     },
     "metadata": {},
     "output_type": "display_data"
    }
   ],
   "source": [
    "# To calculate the default combination of the Ricci Tensor, i.e., (_,_):\n",
    "Ric = pt.ricci()\n",
    "\n",
    "# To calculate all the combinations:\n",
    "# Ric = pt.ricci(All = True)\n",
    "\n",
    "# To calculate the Ricci Scalar:\n",
    "RicS = pt.riccis()"
   ]
  },
  {
   "cell_type": "code",
   "execution_count": 6,
   "metadata": {},
   "outputs": [
    {
     "data": {
      "image/png": "[encoded data removed]",
      "text/latex": [
       "$\\displaystyle \\left[\\begin{matrix}- \\frac{3 \\frac{d^{2}}{d t^{2}} a{\\left(t \\right)}}{a{\\left(t \\right)}} & 0 & 0 & 0\\\\0 & - \\frac{2 k + a{\\left(t \\right)} \\frac{d^{2}}{d t^{2}} a{\\left(t \\right)} + 2 \\left(\\frac{d}{d t} a{\\left(t \\right)}\\right)^{2}}{k r^{2} - 1} & 0 & 0\\\\0 & 0 & r^{2} \\left(2 k + a{\\left(t \\right)} \\frac{d^{2}}{d t^{2}} a{\\left(t \\right)} + 2 \\left(\\frac{d}{d t} a{\\left(t \\right)}\\right)^{2}\\right) & 0\\\\0 & 0 & 0 & r^{2} \\left(2 k + a{\\left(t \\right)} \\frac{d^{2}}{d t^{2}} a{\\left(t \\right)} + 2 \\left(\\frac{d}{d t} a{\\left(t \\right)}\\right)^{2}\\right) \\sin^{2}{\\left(\\theta \\right)}\\end{matrix}\\right]$"
      ],
      "text/plain": [
       "⎡     2                                                                       \n",
       "⎢    d                                                                        \n",
       "⎢-3⋅───(a(t))                                                                 \n",
       "⎢     2                                                                       \n",
       "⎢   dt                                                                        \n",
       "⎢─────────────                     0                                          \n",
       "⎢     a(t)                                                                    \n",
       "⎢                                                                             \n",
       "⎢                ⎛             2                     2⎞                       \n",
       "⎢                ⎜            d            ⎛d       ⎞ ⎟                       \n",
       "⎢               -⎜2⋅k + a(t)⋅───(a(t)) + 2⋅⎜──(a(t))⎟ ⎟                       \n",
       "⎢                ⎜             2           ⎝dt      ⎠ ⎟                       \n",
       "⎢                ⎝           dt                       ⎠                       \n",
       "⎢      0        ────────────────────────────────────────                      \n",
       "⎢                                  2                                          \n",
       "⎢                               k⋅r  - 1                                      \n",
       "⎢                                                                             \n",
       "⎢                                                            ⎛             2  \n",
       "⎢                                                          2 ⎜            d   \n",
       "⎢      0                           0                      r ⋅⎜2⋅k + a(t)⋅───(a\n",
       "⎢                                                            ⎜             2  \n",
       "⎢                                                            ⎝           dt   \n",
       "⎢                                                                             \n",
       "⎢                                                                             \n",
       "⎢                                                                             \n",
       "⎢      0                           0                                          \n",
       "⎢                                                                             \n",
       "⎣                                                                             \n",
       "\n",
       "                                                                        ⎤\n",
       "                                                                        ⎥\n",
       "                                                                        ⎥\n",
       "                                                                        ⎥\n",
       "                                                                        ⎥\n",
       "0                                              0                        ⎥\n",
       "                                                                        ⎥\n",
       "                                                                        ⎥\n",
       "                                                                        ⎥\n",
       "                                                                        ⎥\n",
       "                                                                        ⎥\n",
       "                                                                        ⎥\n",
       "                                                                        ⎥\n",
       "0                                              0                        ⎥\n",
       "                                                                        ⎥\n",
       "                                                                        ⎥\n",
       "                                                                        ⎥\n",
       "                   2⎞                                                   ⎥\n",
       "         ⎛d       ⎞ ⎟                                                   ⎥\n",
       "(t)) + 2⋅⎜──(a(t))⎟ ⎟                          0                        ⎥\n",
       "         ⎝dt      ⎠ ⎟                                                   ⎥\n",
       "                    ⎠                                                   ⎥\n",
       "                                                                        ⎥\n",
       "                          ⎛             2                     2⎞        ⎥\n",
       "                        2 ⎜            d            ⎛d       ⎞ ⎟    2   ⎥\n",
       "0                      r ⋅⎜2⋅k + a(t)⋅───(a(t)) + 2⋅⎜──(a(t))⎟ ⎟⋅sin (θ)⎥\n",
       "                          ⎜             2           ⎝dt      ⎠ ⎟        ⎥\n",
       "                          ⎝           dt                       ⎠        ⎦"
      ]
     },
     "metadata": {},
     "output_type": "display_data"
    },
    {
     "data": {
      "text/latex": [
       "$\\displaystyle \\frac{6 \\left(k + a{\\left(t \\right)} \\frac{d^{2}}{d t^{2}} a{\\left(t \\right)} + \\left(\\frac{d}{d t} a{\\left(t \\right)}\\right)^{2}\\right)}{a^{2}{\\left(t \\right)}}$"
      ],
      "text/plain": [
       "<IPython.core.display.Math object>"
      ]
     },
     "metadata": {},
     "output_type": "display_data"
    }
   ],
   "source": [
    "# To display the Ricci Tensor (by default it displays the tensor with all lower indices):\n",
    "Ric.display()\n",
    "\n",
    "# To display the Ricci Scalar:\n",
    "pt.display(RicS)"
   ]
  },
  {
   "cell_type": "code",
   "execution_count": 7,
   "metadata": {},
   "outputs": [
    {
     "data": {
      "text/latex": [
       "Einstein Tensor $G_{\\alpha \\beta}$"
      ],
      "text/plain": [
       "<IPython.core.display.Latex object>"
      ]
     },
     "metadata": {},
     "output_type": "display_data"
    },
    {
     "data": {
      "application/vnd.jupyter.widget-view+json": {
       "model_id": "3ffc79f3600a4ee4952af96509a4c884",
       "version_major": 2,
       "version_minor": 0
      },
      "text/plain": [
       "  0%|          | 0/16 [00:00<?, ?it/s]"
      ]
     },
     "metadata": {},
     "output_type": "display_data"
    },
    {
     "data": {
      "image/png": "[encoded data removed]",
      "text/latex": [
       "$\\displaystyle \\left[\\begin{matrix}\\frac{3 \\left(k + \\left(\\frac{d}{d t} a{\\left(t \\right)}\\right)^{2}\\right)}{a^{2}{\\left(t \\right)}} & 0 & 0 & 0\\\\0 & \\frac{k + 2 a{\\left(t \\right)} \\frac{d^{2}}{d t^{2}} a{\\left(t \\right)} + \\left(\\frac{d}{d t} a{\\left(t \\right)}\\right)^{2}}{k r^{2} - 1} & 0 & 0\\\\0 & 0 & - r^{2} \\left(k + 2 a{\\left(t \\right)} \\frac{d^{2}}{d t^{2}} a{\\left(t \\right)} + \\left(\\frac{d}{d t} a{\\left(t \\right)}\\right)^{2}\\right) & 0\\\\0 & 0 & 0 & - r^{2} \\left(k + 2 a{\\left(t \\right)} \\frac{d^{2}}{d t^{2}} a{\\left(t \\right)} + \\left(\\frac{d}{d t} a{\\left(t \\right)}\\right)^{2}\\right) \\sin^{2}{\\left(\\theta \\right)}\\end{matrix}\\right]$"
      ],
      "text/plain": [
       "⎡  ⎛              2⎞                                                          \n",
       "⎢  ⎜    ⎛d       ⎞ ⎟                                                          \n",
       "⎢3⋅⎜k + ⎜──(a(t))⎟ ⎟                                                          \n",
       "⎢  ⎝    ⎝dt      ⎠ ⎠                                                          \n",
       "⎢───────────────────                  0                                      0\n",
       "⎢        2                                                                    \n",
       "⎢       a (t)                                                                 \n",
       "⎢                                                                             \n",
       "⎢                                  2                   2                      \n",
       "⎢                                 d          ⎛d       ⎞                       \n",
       "⎢                     k + 2⋅a(t)⋅───(a(t)) + ⎜──(a(t))⎟                       \n",
       "⎢                                  2         ⎝dt      ⎠                       \n",
       "⎢                                dt                                           \n",
       "⎢         0           ──────────────────────────────────                     0\n",
       "⎢                                     2                                       \n",
       "⎢                                  k⋅r  - 1                                   \n",
       "⎢                                                                             \n",
       "⎢                                                             ⎛             2 \n",
       "⎢                                                           2 ⎜            d  \n",
       "⎢         0                           0                   -r ⋅⎜k + 2⋅a(t)⋅───(\n",
       "⎢                                                             ⎜             2 \n",
       "⎢                                                             ⎝           dt  \n",
       "⎢                                                                             \n",
       "⎢                                                                             \n",
       "⎢                                                                             \n",
       "⎢         0                           0                                      0\n",
       "⎢                                                                             \n",
       "⎣                                                                             \n",
       "\n",
       "                                                                      ⎤\n",
       "                                                                      ⎥\n",
       "                                                                      ⎥\n",
       "                                                                      ⎥\n",
       "                                             0                        ⎥\n",
       "                                                                      ⎥\n",
       "                                                                      ⎥\n",
       "                                                                      ⎥\n",
       "                                                                      ⎥\n",
       "                                                                      ⎥\n",
       "                                                                      ⎥\n",
       "                                                                      ⎥\n",
       "                                                                      ⎥\n",
       "                                             0                        ⎥\n",
       "                                                                      ⎥\n",
       "                                                                      ⎥\n",
       "                                                                      ⎥\n",
       "                  2⎞                                                  ⎥\n",
       "        ⎛d       ⎞ ⎟                                                  ⎥\n",
       "a(t)) + ⎜──(a(t))⎟ ⎟                         0                        ⎥\n",
       "        ⎝dt      ⎠ ⎟                                                  ⎥\n",
       "                   ⎠                                                  ⎥\n",
       "                                                                      ⎥\n",
       "                          ⎛             2                   2⎞        ⎥\n",
       "                        2 ⎜            d          ⎛d       ⎞ ⎟    2   ⎥\n",
       "                      -r ⋅⎜k + 2⋅a(t)⋅───(a(t)) + ⎜──(a(t))⎟ ⎟⋅sin (θ)⎥\n",
       "                          ⎜             2         ⎝dt      ⎠ ⎟        ⎥\n",
       "                          ⎝           dt                     ⎠        ⎦"
      ]
     },
     "metadata": {},
     "output_type": "display_data"
    }
   ],
   "source": [
    "# To calculate the default combination of the Einstein Tensor, i.e., (_,_):\n",
    "G = pt.einstein()\n",
    "\n",
    "# To calculate all the combinations:\n",
    "# G = pt.einstein(All = True)\n",
    "\n",
    "# To display the Einstein Tensor:\n",
    "G.display()\n",
    "\n",
    "# To show the tensor components as a list:\n",
    "# G.display(aslist = True)"
   ]
  },
  {
   "cell_type": "code",
   "execution_count": 8,
   "metadata": {},
   "outputs": [
    {
     "data": {
      "application/vnd.jupyter.widget-view+json": {
       "model_id": "8f197057d82e42af955bd9bed755b6f1",
       "version_major": 2,
       "version_minor": 0
      },
      "text/plain": [
       "Einstein Tensor $G{^\\alpha}{_\\beta}$:   0%|          | 0/16 [00:00<?, ?it/s]"
      ]
     },
     "metadata": {},
     "output_type": "display_data"
    },
    {
     "data": {
      "application/vnd.jupyter.widget-view+json": {
       "model_id": "f2b3574c1cd348e18ab9b4c5643edfc4",
       "version_major": 2,
       "version_minor": 0
      },
      "text/plain": [
       "Einstein Tensor $G{^\\alpha}{^\\beta}$:   0%|          | 0/16 [00:00<?, ?it/s]"
      ]
     },
     "metadata": {},
     "output_type": "display_data"
    },
    {
     "data": {
      "application/vnd.jupyter.widget-view+json": {
       "model_id": "b8040c8e4dc54ec79b72bf5650c025a9",
       "version_major": 2,
       "version_minor": 0
      },
      "text/plain": [
       "Einstein Tensor $G{_\\alpha}{^\\beta}$:   0%|          | 0/16 [00:00<?, ?it/s]"
      ]
     },
     "metadata": {},
     "output_type": "display_data"
    },
    {
     "data": {
      "text/latex": [
       "All other indices of Einstein Tensor $G$  already calculated."
      ],
      "text/plain": [
       "<IPython.core.display.Latex object>"
      ]
     },
     "metadata": {},
     "output_type": "display_data"
    }
   ],
   "source": [
    "G.complete('_,_')"
   ]
  },
  {
   "cell_type": "markdown",
   "metadata": {},
   "source": [
    "The display method uses matrix notation for all tensors with rank $\\leq$ 2 by default. To display the tensor components as a list, the user must include the \"aslist = True\" argument."
   ]
  },
  {
   "cell_type": "code",
   "execution_count": 9,
   "metadata": {},
   "outputs": [
    {
     "name": "stdout",
     "output_type": "stream",
     "text": [
      "Elements assigned correctly to the components ^\n"
     ]
    },
    {
     "data": {
      "image/png": "[encoded data removed]",
      "text/latex": [
       "$\\displaystyle \\left[\\begin{matrix}1\\\\0\\\\0\\\\0\\end{matrix}\\right]$"
      ],
      "text/plain": [
       "⎡1⎤\n",
       "⎢ ⎥\n",
       "⎢0⎥\n",
       "⎢ ⎥\n",
       "⎢0⎥\n",
       "⎢ ⎥\n",
       "⎣0⎦"
      ]
     },
     "metadata": {},
     "output_type": "display_data"
    }
   ],
   "source": [
    "# To define an arbitrary tensor, indicating the name and rank of the tensor.\n",
    "U = pt.ten('U',1)\n",
    "# To assign a list or array (even numpy arrays) to a particular component of the tensor.\n",
    "U.assign([1,0,0,0],'^')\n",
    "# Display the tensor, or vector in this particular example.\n",
    "U.display('^')"
   ]
  },
  {
   "cell_type": "code",
   "execution_count": 10,
   "metadata": {},
   "outputs": [
    {
     "data": {
      "image/png": "[encoded data removed]",
      "text/latex": [
       "$\\displaystyle \\left[\\begin{matrix}1\\\\0\\\\0\\\\0\\end{matrix}\\right]$"
      ],
      "text/plain": [
       "⎡1⎤\n",
       "⎢ ⎥\n",
       "⎢0⎥\n",
       "⎢ ⎥\n",
       "⎢0⎥\n",
       "⎢ ⎥\n",
       "⎣0⎦"
      ]
     },
     "metadata": {},
     "output_type": "display_data"
    }
   ],
   "source": [
    "U.display('^')"
   ]
  },
  {
   "cell_type": "code",
   "execution_count": 11,
   "metadata": {},
   "outputs": [
    {
     "data": {
      "image/png": "[encoded data removed]",
      "text/latex": [
       "$\\displaystyle \\left[\\begin{matrix}\\text{NaN} & \\text{NaN} & \\text{NaN} & \\text{NaN}\\end{matrix}\\right]$"
      ],
      "text/plain": [
       "[nan  nan  nan  nan]"
      ]
     },
     "metadata": {},
     "output_type": "display_data"
    }
   ],
   "source": [
    "U.display('_')"
   ]
  },
  {
   "cell_type": "markdown",
   "metadata": {},
   "source": [
    "Note that pytearcat uses the definition of \"vectors\" as Columns, and \"one-forms\" as Rows. \n",
    "\n",
    "- A 1-vector is a Tensor with one contravariant index $A^{\\mu}$.\n",
    "\n",
    "- A 1-form is a Tensor with one covariant index $A_{\\mu}$."
   ]
  },
  {
   "cell_type": "code",
   "execution_count": 12,
   "metadata": {},
   "outputs": [
    {
     "data": {
      "image/png": "[encoded data removed]",
      "text/latex": [
       "$\\displaystyle \\left[\\begin{matrix}\\rho{\\left(t \\right)} & 0 & 0 & 0\\\\0 & \\frac{\\left(- k r^{2} + 1\\right) P{\\left(t \\right)}}{a^{2}{\\left(t \\right)}} & 0 & 0\\\\0 & 0 & \\frac{P{\\left(t \\right)}}{r^{2} a^{2}{\\left(t \\right)}} & 0\\\\0 & 0 & 0 & \\frac{P{\\left(t \\right)}}{r^{2} a^{2}{\\left(t \\right)} \\sin^{2}{\\left(\\theta \\right)}}\\end{matrix}\\right]$"
      ],
      "text/plain": [
       "⎡ρ(t)          0             0             0        ⎤\n",
       "⎢                                                   ⎥\n",
       "⎢      ⎛     2    ⎞                                 ⎥\n",
       "⎢      ⎝- k⋅r  + 1⎠⋅P(t)                            ⎥\n",
       "⎢ 0    ─────────────────     0             0        ⎥\n",
       "⎢             2                                     ⎥\n",
       "⎢            a (t)                                  ⎥\n",
       "⎢                                                   ⎥\n",
       "⎢                           P(t)                    ⎥\n",
       "⎢ 0            0          ────────         0        ⎥\n",
       "⎢                          2  2                     ⎥\n",
       "⎢                         r ⋅a (t)                  ⎥\n",
       "⎢                                                   ⎥\n",
       "⎢                                         P(t)      ⎥\n",
       "⎢ 0            0             0      ────────────────⎥\n",
       "⎢                                    2  2       2   ⎥\n",
       "⎣                                   r ⋅a (t)⋅sin (θ)⎦"
      ]
     },
     "metadata": {},
     "output_type": "display_data"
    }
   ],
   "source": [
    "rho = pt.fun('rho','t')\n",
    "P = pt.fun('P','t')\n",
    "\n",
    "T = pt.ten('T',2)\n",
    "\n",
    "T.assign((rho+P)*U(\"^mu\")*U(\"^nu\")+P*g(\"^mu,^nu\"),\"^mu,^nu\")\n",
    "\n",
    "# One could also save the result of a tensor operation in a variable\n",
    "# For example: T_value = (rho+P/c**2)*U(\"^mu\")*U(\"^nu\")-P*g(\"^mu,^nu\")\n",
    "# And then, to assing that value to the tensor: \n",
    "# T.assign(T_value,'^mu,^nu')\n",
    "\n",
    "T.simplify()\n",
    "\n",
    "T.display('^,^')"
   ]
  },
  {
   "cell_type": "code",
   "execution_count": 13,
   "metadata": {},
   "outputs": [
    {
     "data": {
      "application/vnd.jupyter.widget-view+json": {
       "model_id": "aebea9d523074a1889ba476e69cc4595",
       "version_major": 2,
       "version_minor": 0
      },
      "text/plain": [
       "T Tensor $T{_\\alpha}{^\\beta}$:   0%|          | 0/16 [00:00<?, ?it/s]"
      ]
     },
     "metadata": {},
     "output_type": "display_data"
    },
    {
     "data": {
      "application/vnd.jupyter.widget-view+json": {
       "model_id": "410a9a3e4a284269b37086298e4c72d5",
       "version_major": 2,
       "version_minor": 0
      },
      "text/plain": [
       "T Tensor $T{_\\alpha}{_\\beta}$:   0%|          | 0/16 [00:00<?, ?it/s]"
      ]
     },
     "metadata": {},
     "output_type": "display_data"
    },
    {
     "data": {
      "application/vnd.jupyter.widget-view+json": {
       "model_id": "e6c57d0562d54879b82ca0f50584dfca",
       "version_major": 2,
       "version_minor": 0
      },
      "text/plain": [
       "T Tensor $T{^\\alpha}{_\\beta}$:   0%|          | 0/16 [00:00<?, ?it/s]"
      ]
     },
     "metadata": {},
     "output_type": "display_data"
    },
    {
     "data": {
      "text/latex": [
       "All other indices of T Tensor $T$  already calculated."
      ],
      "text/plain": [
       "<IPython.core.display.Latex object>"
      ]
     },
     "metadata": {},
     "output_type": "display_data"
    },
    {
     "data": {
      "image/png": "[encoded data removed]",
      "text/latex": [
       "$\\displaystyle \\left[\\begin{matrix}\\rho{\\left(t \\right)} & 0 & 0 & 0\\\\0 & - \\frac{P{\\left(t \\right)} a^{2}{\\left(t \\right)}}{k r^{2} - 1} & 0 & 0\\\\0 & 0 & r^{2} P{\\left(t \\right)} a^{2}{\\left(t \\right)} & 0\\\\0 & 0 & 0 & r^{2} P{\\left(t \\right)} a^{2}{\\left(t \\right)} \\sin^{2}{\\left(\\theta \\right)}\\end{matrix}\\right]$"
      ],
      "text/plain": [
       "⎡ρ(t)       0              0                  0          ⎤\n",
       "⎢                                                        ⎥\n",
       "⎢             2                                          ⎥\n",
       "⎢      -P(t)⋅a (t)                                       ⎥\n",
       "⎢ 0    ────────────        0                  0          ⎥\n",
       "⎢           2                                            ⎥\n",
       "⎢        k⋅r  - 1                                        ⎥\n",
       "⎢                                                        ⎥\n",
       "⎢                     2       2                          ⎥\n",
       "⎢ 0         0        r ⋅P(t)⋅a (t)            0          ⎥\n",
       "⎢                                                        ⎥\n",
       "⎢                                    2       2       2   ⎥\n",
       "⎣ 0         0              0        r ⋅P(t)⋅a (t)⋅sin (θ)⎦"
      ]
     },
     "metadata": {},
     "output_type": "display_data"
    }
   ],
   "source": [
    "# To calculate the rest of indices combinations of the tensor:\n",
    "T.complete('^,^')\n",
    "T.simplify()\n",
    "T.display('_,_')"
   ]
  },
  {
   "cell_type": "code",
   "execution_count": 14,
   "metadata": {},
   "outputs": [
    {
     "data": {
      "image/png": "[encoded data removed]",
      "text/latex": [
       "$\\displaystyle \\left[\\begin{matrix}\\frac{3 P{\\left(t \\right)} \\frac{d}{d t} a{\\left(t \\right)} + a{\\left(t \\right)} \\frac{d}{d t} \\rho{\\left(t \\right)} + 3 \\rho{\\left(t \\right)} \\frac{d}{d t} a{\\left(t \\right)}}{a{\\left(t \\right)}}\\\\0\\\\0\\\\0\\end{matrix}\\right]$"
      ],
      "text/plain": [
       "⎡       d               d                 d       ⎤\n",
       "⎢3⋅P(t)⋅──(a(t)) + a(t)⋅──(ρ(t)) + 3⋅ρ(t)⋅──(a(t))⎥\n",
       "⎢       dt              dt                dt      ⎥\n",
       "⎢─────────────────────────────────────────────────⎥\n",
       "⎢                       a(t)                      ⎥\n",
       "⎢                                                 ⎥\n",
       "⎢                        0                        ⎥\n",
       "⎢                                                 ⎥\n",
       "⎢                        0                        ⎥\n",
       "⎢                                                 ⎥\n",
       "⎣                        0                        ⎦"
      ]
     },
     "metadata": {},
     "output_type": "display_data"
    }
   ],
   "source": [
    "data = pt.C(T(\"^mu,^nu\"),\"_nu\")\n",
    "cons = pt.ten('cons',1)\n",
    "cons.assign(data,\"^mu\")\n",
    "cons.simplify()\n",
    "cons.display('^')"
   ]
  }
 ],
 "metadata": {
  "kernelspec": {
   "display_name": "Python 3",
   "language": "python",
   "name": "python3"
  },
  "language_info": {
   "codemirror_mode": {
    "name": "ipython",
    "version": 3
   },
   "file_extension": ".py",
   "mimetype": "text/x-python",
   "name": "python",
   "nbconvert_exporter": "python",
   "pygments_lexer": "ipython3",
   "version": "3.8.2"
  }
 },
 "nbformat": 4,
 "nbformat_minor": 4
}
