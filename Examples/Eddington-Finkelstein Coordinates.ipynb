{
 "cells": [
  {
   "cell_type": "code",
   "execution_count": 1,
   "metadata": {},
   "outputs": [],
   "source": [
    "import pytearcat as pt"
   ]
  },
  {
   "cell_type": "code",
   "execution_count": 7,
   "metadata": {},
   "outputs": [
    {
     "name": "stdout",
     "output_type": "stream",
     "text": [
      "Remember that the time coordinate must be the first coordinate.\n",
      "Constant(s) already defined.\n",
      "\n",
      "Dimension = 4\n",
      "Coordinates = t,r,theta,phi\n",
      "Metric defined successfully: \n",
      "\n"
     ]
    },
    {
     "data": {
      "text/latex": [
       "$\\displaystyle ds^2 = \\left(- \\frac{a}{r} - 1\\right) \\cdot dt^2-2 \\cdot dt \\cdot dr+r^{2} \\cdot d\\theta^2+r^{2} \\sin^{2}{\\left(\\theta \\right)} \\cdot d\\phi^2$"
      ],
      "text/plain": [
       "<IPython.core.display.Math object>"
      ]
     },
     "metadata": {},
     "output_type": "display_data"
    },
    {
     "data": {
      "text/latex": [
       "$\\displaystyle \\left[\\begin{matrix}- \\frac{a}{r} - 1 & -1 & 0 & 0\\\\-1 & 0 & 0 & 0\\\\0 & 0 & r^{2} & 0\\\\0 & 0 & 0 & r^{2} \\sin^{2}{\\left(\\theta \\right)}\\end{matrix}\\right]$"
      ],
      "text/plain": [
       "Matrix([\n",
       "[-a/r - 1, -1,    0,                  0],\n",
       "[      -1,  0,    0,                  0],\n",
       "[       0,  0, r**2,                  0],\n",
       "[       0,  0,    0, r**2*sin(theta)**2]])"
      ]
     },
     "metadata": {},
     "output_type": "display_data"
    }
   ],
   "source": [
    "t,r,theta,phi = pt.coords('t,r,theta,phi')\n",
    "a = pt.con('a') # a = -2GM\n",
    "g = pt.metric('ds2 = -dt**2*(1 + (a/r)) + (-1)*dt*dr + (-1)*dr*dt + r**2 * (dtheta**2 + sin(theta)**2 * dphi**2)')"
   ]
  },
  {
   "cell_type": "code",
   "execution_count": 8,
   "metadata": {},
   "outputs": [
    {
     "data": {
      "text/latex": [
       "Christoffel $\\Gamma_{\\alpha \\beta \\gamma}$ and $\\Gamma^{\\alpha}_{\\beta \\gamma}$"
      ],
      "text/plain": [
       "<IPython.core.display.Latex object>"
      ]
     },
     "metadata": {},
     "output_type": "display_data"
    },
    {
     "data": {
      "application/vnd.jupyter.widget-view+json": {
       "model_id": "6f42289f46da4015a0a5f73d627ab366",
       "version_major": 2,
       "version_minor": 0
      },
      "text/plain": [
       "  0%|          | 0/64 [00:00<?, ?it/s]"
      ]
     },
     "metadata": {},
     "output_type": "display_data"
    },
    {
     "data": {
      "text/latex": [
       "$\\displaystyle {\\Gamma}{}^{0}\\,{}_{0}\\,{}_{0}\\, = \\frac{a}{2 r^{2}}$"
      ],
      "text/plain": [
       "<IPython.core.display.Math object>"
      ]
     },
     "metadata": {},
     "output_type": "display_data"
    },
    {
     "data": {
      "text/latex": [
       "$\\displaystyle {\\Gamma}{}^{0}\\,{}_{2}\\,{}_{2}\\, = r$"
      ],
      "text/plain": [
       "<IPython.core.display.Math object>"
      ]
     },
     "metadata": {},
     "output_type": "display_data"
    },
    {
     "data": {
      "text/latex": [
       "$\\displaystyle {\\Gamma}{}^{0}\\,{}_{3}\\,{}_{3}\\, = r \\sin^{2}{\\left(\\theta \\right)}$"
      ],
      "text/plain": [
       "<IPython.core.display.Math object>"
      ]
     },
     "metadata": {},
     "output_type": "display_data"
    },
    {
     "data": {
      "text/latex": [
       "$\\displaystyle {\\Gamma}{}^{1}\\,{}_{0}\\,{}_{0}\\, = - \\frac{a \\left(a + r\\right)}{2 r^{3}}$"
      ],
      "text/plain": [
       "<IPython.core.display.Math object>"
      ]
     },
     "metadata": {},
     "output_type": "display_data"
    },
    {
     "data": {
      "text/latex": [
       "$\\displaystyle {\\Gamma}{}^{1}\\,{}_{0}\\,{}_{1}\\, = - \\frac{a}{2 r^{2}}$"
      ],
      "text/plain": [
       "<IPython.core.display.Math object>"
      ]
     },
     "metadata": {},
     "output_type": "display_data"
    },
    {
     "data": {
      "text/latex": [
       "$\\displaystyle {\\Gamma}{}^{1}\\,{}_{1}\\,{}_{0}\\, = - \\frac{a}{2 r^{2}}$"
      ],
      "text/plain": [
       "<IPython.core.display.Math object>"
      ]
     },
     "metadata": {},
     "output_type": "display_data"
    },
    {
     "data": {
      "text/latex": [
       "$\\displaystyle {\\Gamma}{}^{1}\\,{}_{2}\\,{}_{2}\\, = - a - r$"
      ],
      "text/plain": [
       "<IPython.core.display.Math object>"
      ]
     },
     "metadata": {},
     "output_type": "display_data"
    },
    {
     "data": {
      "text/latex": [
       "$\\displaystyle {\\Gamma}{}^{1}\\,{}_{3}\\,{}_{3}\\, = - \\left(a + r\\right) \\sin^{2}{\\left(\\theta \\right)}$"
      ],
      "text/plain": [
       "<IPython.core.display.Math object>"
      ]
     },
     "metadata": {},
     "output_type": "display_data"
    },
    {
     "data": {
      "text/latex": [
       "$\\displaystyle {\\Gamma}{}^{2}\\,{}_{1}\\,{}_{2}\\, = \\frac{1}{r}$"
      ],
      "text/plain": [
       "<IPython.core.display.Math object>"
      ]
     },
     "metadata": {},
     "output_type": "display_data"
    },
    {
     "data": {
      "text/latex": [
       "$\\displaystyle {\\Gamma}{}^{2}\\,{}_{2}\\,{}_{1}\\, = \\frac{1}{r}$"
      ],
      "text/plain": [
       "<IPython.core.display.Math object>"
      ]
     },
     "metadata": {},
     "output_type": "display_data"
    },
    {
     "data": {
      "text/latex": [
       "$\\displaystyle {\\Gamma}{}^{2}\\,{}_{3}\\,{}_{3}\\, = - \\sin{\\left(\\theta \\right)} \\cos{\\left(\\theta \\right)}$"
      ],
      "text/plain": [
       "<IPython.core.display.Math object>"
      ]
     },
     "metadata": {},
     "output_type": "display_data"
    },
    {
     "data": {
      "text/latex": [
       "$\\displaystyle {\\Gamma}{}^{3}\\,{}_{1}\\,{}_{3}\\, = \\frac{1}{r}$"
      ],
      "text/plain": [
       "<IPython.core.display.Math object>"
      ]
     },
     "metadata": {},
     "output_type": "display_data"
    },
    {
     "data": {
      "text/latex": [
       "$\\displaystyle {\\Gamma}{}^{3}\\,{}_{2}\\,{}_{3}\\, = \\frac{\\cos{\\left(\\theta \\right)}}{\\sin{\\left(\\theta \\right)}}$"
      ],
      "text/plain": [
       "<IPython.core.display.Math object>"
      ]
     },
     "metadata": {},
     "output_type": "display_data"
    },
    {
     "data": {
      "text/latex": [
       "$\\displaystyle {\\Gamma}{}^{3}\\,{}_{3}\\,{}_{1}\\, = \\frac{1}{r}$"
      ],
      "text/plain": [
       "<IPython.core.display.Math object>"
      ]
     },
     "metadata": {},
     "output_type": "display_data"
    },
    {
     "data": {
      "text/latex": [
       "$\\displaystyle {\\Gamma}{}^{3}\\,{}_{3}\\,{}_{2}\\, = \\frac{\\cos{\\left(\\theta \\right)}}{\\sin{\\left(\\theta \\right)}}$"
      ],
      "text/plain": [
       "<IPython.core.display.Math object>"
      ]
     },
     "metadata": {},
     "output_type": "display_data"
    }
   ],
   "source": [
    "Chr = pt.christoffel()\n",
    "Chr.display('^,_,_',aslist=True)"
   ]
  },
  {
   "cell_type": "code",
   "execution_count": 10,
   "metadata": {},
   "outputs": [
    {
     "name": "stdout",
     "output_type": "stream",
     "text": [
      "Geodesic already calculated.\n"
     ]
    },
    {
     "data": {
      "image/png": "[encoded data removed]",
      "text/latex": [
       "$\\displaystyle \\frac{a \\left(\\frac{d}{d s} \\operatorname{x^{0}}{\\left(s \\right)}\\right)^{2} + 2 r^{3} \\sin^{2}{\\left(\\theta \\right)} \\left(\\frac{d}{d s} \\operatorname{x^{3}}{\\left(s \\right)}\\right)^{2} + 2 r^{3} \\left(\\frac{d}{d s} \\operatorname{x^{2}}{\\left(s \\right)}\\right)^{2} + 2 r^{2} \\frac{d^{2}}{d s^{2}} \\operatorname{x^{0}}{\\left(s \\right)}}{2 r^{2}}$"
      ],
      "text/plain": [
       "             2                           2                   2          2     \n",
       "  ⎛d        ⎞       3    2    ⎛d        ⎞       3 ⎛d        ⎞       2  d      \n",
       "a⋅⎜──(x⁰(s))⎟  + 2⋅r ⋅sin (θ)⋅⎜──(x³(s))⎟  + 2⋅r ⋅⎜──(x²(s))⎟  + 2⋅r ⋅───(x⁰(s\n",
       "  ⎝ds       ⎠                 ⎝ds       ⎠         ⎝ds       ⎠           2     \n",
       "                                                                      ds      \n",
       "──────────────────────────────────────────────────────────────────────────────\n",
       "                                         2                                    \n",
       "                                      2⋅r                                     \n",
       "\n",
       "  \n",
       "  \n",
       "))\n",
       "  \n",
       "  \n",
       "──\n",
       "  \n",
       "  "
      ]
     },
     "execution_count": 10,
     "metadata": {},
     "output_type": "execute_result"
    }
   ],
   "source": [
    "Geodesic = pt.geodesic()[0]\n",
    "Geodesic[0]"
   ]
  },
  {
   "cell_type": "code",
   "execution_count": 11,
   "metadata": {},
   "outputs": [
    {
     "data": {
      "image/png": "[encoded data removed]",
      "text/latex": [
       "$\\displaystyle - \\frac{a^{2} \\left(\\frac{d}{d s} \\operatorname{x^{0}}{\\left(s \\right)}\\right)^{2} + 2 a r^{3} \\sin^{2}{\\left(\\theta \\right)} \\left(\\frac{d}{d s} \\operatorname{x^{3}}{\\left(s \\right)}\\right)^{2} + 2 a r^{3} \\left(\\frac{d}{d s} \\operatorname{x^{2}}{\\left(s \\right)}\\right)^{2} + a r \\left(\\frac{d}{d s} \\operatorname{x^{0}}{\\left(s \\right)}\\right)^{2} + 2 a r \\frac{d}{d s} \\operatorname{x^{0}}{\\left(s \\right)} \\frac{d}{d s} \\operatorname{x^{1}}{\\left(s \\right)} + 2 r^{4} \\sin^{2}{\\left(\\theta \\right)} \\left(\\frac{d}{d s} \\operatorname{x^{3}}{\\left(s \\right)}\\right)^{2} + 2 r^{4} \\left(\\frac{d}{d s} \\operatorname{x^{2}}{\\left(s \\right)}\\right)^{2} - 2 r^{3} \\frac{d^{2}}{d s^{2}} \\operatorname{x^{1}}{\\left(s \\right)}}{2 r^{3}}$"
      ],
      "text/plain": [
       " ⎛              2                             2                     2         \n",
       " ⎜ 2 ⎛d        ⎞         3    2    ⎛d        ⎞         3 ⎛d        ⎞        ⎛d\n",
       "-⎜a ⋅⎜──(x⁰(s))⎟  + 2⋅a⋅r ⋅sin (θ)⋅⎜──(x³(s))⎟  + 2⋅a⋅r ⋅⎜──(x²(s))⎟  + a⋅r⋅⎜─\n",
       " ⎜   ⎝ds       ⎠                   ⎝ds       ⎠           ⎝ds       ⎠        ⎝d\n",
       " ⎝                                                                            \n",
       "──────────────────────────────────────────────────────────────────────────────\n",
       "                                                                              \n",
       "                                                                              \n",
       "\n",
       "         2                                                       2            \n",
       "        ⎞          d         d              4    2    ⎛d        ⎞       4 ⎛d  \n",
       "─(x⁰(s))⎟  + 2⋅a⋅r⋅──(x⁰(s))⋅──(x¹(s)) + 2⋅r ⋅sin (θ)⋅⎜──(x³(s))⎟  + 2⋅r ⋅⎜──(\n",
       "s       ⎠          ds        ds                       ⎝ds       ⎠         ⎝ds \n",
       "                                                                              \n",
       "──────────────────────────────────────────────────────────────────────────────\n",
       "               3                                                              \n",
       "            2⋅r                                                               \n",
       "\n",
       "       2          2       ⎞ \n",
       "      ⎞       3  d        ⎟ \n",
       "x²(s))⎟  - 2⋅r ⋅───(x¹(s))⎟ \n",
       "      ⎠           2       ⎟ \n",
       "                ds        ⎠ \n",
       "────────────────────────────\n",
       "                            \n",
       "                            "
      ]
     },
     "execution_count": 11,
     "metadata": {},
     "output_type": "execute_result"
    }
   ],
   "source": [
    "Geodesic[1]"
   ]
  },
  {
   "cell_type": "code",
   "execution_count": 12,
   "metadata": {},
   "outputs": [
    {
     "data": {
      "image/png": "[encoded data removed]",
      "text/latex": [
       "$\\displaystyle \\frac{- r \\sin{\\left(\\theta \\right)} \\cos{\\left(\\theta \\right)} \\left(\\frac{d}{d s} \\operatorname{x^{3}}{\\left(s \\right)}\\right)^{2} + r \\frac{d^{2}}{d s^{2}} \\operatorname{x^{2}}{\\left(s \\right)} + 2 \\frac{d}{d s} \\operatorname{x^{1}}{\\left(s \\right)} \\frac{d}{d s} \\operatorname{x^{2}}{\\left(s \\right)}}{r}$"
      ],
      "text/plain": [
       "                             2       2                               \n",
       "                  ⎛d        ⎞       d             d         d        \n",
       "- r⋅sin(θ)⋅cos(θ)⋅⎜──(x³(s))⎟  + r⋅───(x²(s)) + 2⋅──(x¹(s))⋅──(x²(s))\n",
       "                  ⎝ds       ⎠        2            ds        ds       \n",
       "                                   ds                                \n",
       "─────────────────────────────────────────────────────────────────────\n",
       "                                  r                                  "
      ]
     },
     "execution_count": 12,
     "metadata": {},
     "output_type": "execute_result"
    }
   ],
   "source": [
    "Geodesic[2]"
   ]
  },
  {
   "cell_type": "code",
   "execution_count": 13,
   "metadata": {},
   "outputs": [
    {
     "data": {
      "image/png": "[encoded data removed]",
      "text/latex": [
       "$\\displaystyle \\frac{r \\sin{\\left(\\theta \\right)} \\frac{d^{2}}{d s^{2}} \\operatorname{x^{3}}{\\left(s \\right)} + 2 r \\cos{\\left(\\theta \\right)} \\frac{d}{d s} \\operatorname{x^{2}}{\\left(s \\right)} \\frac{d}{d s} \\operatorname{x^{3}}{\\left(s \\right)} + 2 \\sin{\\left(\\theta \\right)} \\frac{d}{d s} \\operatorname{x^{1}}{\\left(s \\right)} \\frac{d}{d s} \\operatorname{x^{3}}{\\left(s \\right)}}{r \\sin{\\left(\\theta \\right)}}$"
      ],
      "text/plain": [
       "           2                                                                  \n",
       "          d                      d         d                    d         d   \n",
       "r⋅sin(θ)⋅───(x³(s)) + 2⋅r⋅cos(θ)⋅──(x²(s))⋅──(x³(s)) + 2⋅sin(θ)⋅──(x¹(s))⋅──(x\n",
       "           2                     ds        ds                   ds        ds  \n",
       "         ds                                                                   \n",
       "──────────────────────────────────────────────────────────────────────────────\n",
       "                                      r⋅sin(θ)                                \n",
       "\n",
       "     \n",
       "     \n",
       "³(s))\n",
       "     \n",
       "     \n",
       "─────\n",
       "     "
      ]
     },
     "execution_count": 13,
     "metadata": {},
     "output_type": "execute_result"
    }
   ],
   "source": [
    "Geodesic[3]"
   ]
  }
 ],
 "metadata": {
  "kernelspec": {
   "display_name": "Python 3.6.7 64-bit",
   "language": "python",
   "name": "python3"
  },
  "language_info": {
   "codemirror_mode": {
    "name": "ipython",
    "version": 3
   },
   "file_extension": ".py",
   "mimetype": "text/x-python",
   "name": "python",
   "nbconvert_exporter": "python",
   "pygments_lexer": "ipython3",
   "version": "3.6.7"
  },
  "orig_nbformat": 4,
  "vscode": {
   "interpreter": {
    "hash": "2fe84a340ba9287c7cb1571137a812dad7cb370584e1b8cf466a33e4cc3e43d3"
   }
  }
 },
 "nbformat": 4,
 "nbformat_minor": 2
}
