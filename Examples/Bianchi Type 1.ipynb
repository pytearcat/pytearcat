{
 "cells": [
  {
   "cell_type": "code",
   "execution_count": 12,
   "metadata": {},
   "outputs": [],
   "source": [
    "import pytearcat as pt"
   ]
  },
  {
   "cell_type": "code",
   "execution_count": 13,
   "metadata": {},
   "outputs": [
    {
     "name": "stdout",
     "output_type": "stream",
     "text": [
      "Remember that the time coordinate must be the first coordinate.\n",
      "Function a(t) is already defined\n",
      "Function b(t) is already defined\n",
      "Function c(t) is already defined\n",
      "\n",
      "Dimension = 4\n",
      "Coordinates = t,x,y,z\n",
      "Metric defined successfully: \n",
      "\n"
     ]
    },
    {
     "data": {
      "text/latex": [
       "$\\displaystyle ds^2 = -1 \\cdot dt^2+a^{2}{\\left(t \\right)} \\cdot dx^2+b^{2}{\\left(t \\right)} \\cdot dy^2+c^{2}{\\left(t \\right)} \\cdot dz^2$"
      ],
      "text/plain": [
       "<IPython.core.display.Math object>"
      ]
     },
     "metadata": {},
     "output_type": "display_data"
    },
    {
     "data": {
      "text/latex": [
       "$\\displaystyle \\left[\\begin{matrix}-1 & 0 & 0 & 0\\\\0 & a^{2}{\\left(t \\right)} & 0 & 0\\\\0 & 0 & b^{2}{\\left(t \\right)} & 0\\\\0 & 0 & 0 & c^{2}{\\left(t \\right)}\\end{matrix}\\right]$"
      ],
      "text/plain": [
       "⎡-1    0      0      0  ⎤\n",
       "⎢                       ⎥\n",
       "⎢     2                 ⎥\n",
       "⎢0   a (t)    0      0  ⎥\n",
       "⎢                       ⎥\n",
       "⎢            2          ⎥\n",
       "⎢0     0    b (t)    0  ⎥\n",
       "⎢                       ⎥\n",
       "⎢                   2   ⎥\n",
       "⎣0     0      0    c (t)⎦"
      ]
     },
     "metadata": {},
     "output_type": "display_data"
    }
   ],
   "source": [
    "t,x,y,z = pt.coords('t,x,y,z')\n",
    "a = pt.fun('a','t')\n",
    "b = pt.fun('b','t')\n",
    "c = pt.fun('c','t')\n",
    "g = pt.metric('ds2 = -dt**2 + a**2*dx**2 + b**2*dy**2 + c**2*dz**2')"
   ]
  },
  {
   "cell_type": "markdown",
   "metadata": {},
   "source": [
    "Non Zero Christoffel Symbols"
   ]
  },
  {
   "cell_type": "code",
   "execution_count": 14,
   "metadata": {},
   "outputs": [
    {
     "data": {
      "text/latex": [
       "First and Second Kind Christoffel Symbol $\\Gamma_{\\alpha \\beta \\gamma}$ and $\\Gamma^{\\alpha}_{\\beta \\gamma}$ already calculated"
      ],
      "text/plain": [
       "<IPython.core.display.Latex object>"
      ]
     },
     "metadata": {},
     "output_type": "display_data"
    },
    {
     "data": {
      "text/latex": [
       "$\\displaystyle {\\Gamma}{}_{0}\\,{}_{1}\\,{}_{1}\\, = - a{\\left(t \\right)} \\frac{d}{d t} a{\\left(t \\right)}$"
      ],
      "text/plain": [
       "<IPython.core.display.Math object>"
      ]
     },
     "metadata": {},
     "output_type": "display_data"
    },
    {
     "data": {
      "text/latex": [
       "$\\displaystyle {\\Gamma}{}_{0}\\,{}_{2}\\,{}_{2}\\, = - b{\\left(t \\right)} \\frac{d}{d t} b{\\left(t \\right)}$"
      ],
      "text/plain": [
       "<IPython.core.display.Math object>"
      ]
     },
     "metadata": {},
     "output_type": "display_data"
    },
    {
     "data": {
      "text/latex": [
       "$\\displaystyle {\\Gamma}{}_{0}\\,{}_{3}\\,{}_{3}\\, = - c{\\left(t \\right)} \\frac{d}{d t} c{\\left(t \\right)}$"
      ],
      "text/plain": [
       "<IPython.core.display.Math object>"
      ]
     },
     "metadata": {},
     "output_type": "display_data"
    },
    {
     "data": {
      "text/latex": [
       "$\\displaystyle {\\Gamma}{}_{1}\\,{}_{0}\\,{}_{1}\\, = a{\\left(t \\right)} \\frac{d}{d t} a{\\left(t \\right)}$"
      ],
      "text/plain": [
       "<IPython.core.display.Math object>"
      ]
     },
     "metadata": {},
     "output_type": "display_data"
    },
    {
     "data": {
      "text/latex": [
       "$\\displaystyle {\\Gamma}{}_{1}\\,{}_{1}\\,{}_{0}\\, = a{\\left(t \\right)} \\frac{d}{d t} a{\\left(t \\right)}$"
      ],
      "text/plain": [
       "<IPython.core.display.Math object>"
      ]
     },
     "metadata": {},
     "output_type": "display_data"
    },
    {
     "data": {
      "text/latex": [
       "$\\displaystyle {\\Gamma}{}_{2}\\,{}_{0}\\,{}_{2}\\, = b{\\left(t \\right)} \\frac{d}{d t} b{\\left(t \\right)}$"
      ],
      "text/plain": [
       "<IPython.core.display.Math object>"
      ]
     },
     "metadata": {},
     "output_type": "display_data"
    },
    {
     "data": {
      "text/latex": [
       "$\\displaystyle {\\Gamma}{}_{2}\\,{}_{2}\\,{}_{0}\\, = b{\\left(t \\right)} \\frac{d}{d t} b{\\left(t \\right)}$"
      ],
      "text/plain": [
       "<IPython.core.display.Math object>"
      ]
     },
     "metadata": {},
     "output_type": "display_data"
    },
    {
     "data": {
      "text/latex": [
       "$\\displaystyle {\\Gamma}{}_{3}\\,{}_{0}\\,{}_{3}\\, = c{\\left(t \\right)} \\frac{d}{d t} c{\\left(t \\right)}$"
      ],
      "text/plain": [
       "<IPython.core.display.Math object>"
      ]
     },
     "metadata": {},
     "output_type": "display_data"
    },
    {
     "data": {
      "text/latex": [
       "$\\displaystyle {\\Gamma}{}_{3}\\,{}_{3}\\,{}_{0}\\, = c{\\left(t \\right)} \\frac{d}{d t} c{\\left(t \\right)}$"
      ],
      "text/plain": [
       "<IPython.core.display.Math object>"
      ]
     },
     "metadata": {},
     "output_type": "display_data"
    },
    {
     "data": {
      "text/latex": [
       "$\\displaystyle {\\Gamma}{}^{0}\\,{}_{1}\\,{}_{1}\\, = a{\\left(t \\right)} \\frac{d}{d t} a{\\left(t \\right)}$"
      ],
      "text/plain": [
       "<IPython.core.display.Math object>"
      ]
     },
     "metadata": {},
     "output_type": "display_data"
    },
    {
     "data": {
      "text/latex": [
       "$\\displaystyle {\\Gamma}{}^{0}\\,{}_{2}\\,{}_{2}\\, = b{\\left(t \\right)} \\frac{d}{d t} b{\\left(t \\right)}$"
      ],
      "text/plain": [
       "<IPython.core.display.Math object>"
      ]
     },
     "metadata": {},
     "output_type": "display_data"
    },
    {
     "data": {
      "text/latex": [
       "$\\displaystyle {\\Gamma}{}^{0}\\,{}_{3}\\,{}_{3}\\, = c{\\left(t \\right)} \\frac{d}{d t} c{\\left(t \\right)}$"
      ],
      "text/plain": [
       "<IPython.core.display.Math object>"
      ]
     },
     "metadata": {},
     "output_type": "display_data"
    },
    {
     "data": {
      "text/latex": [
       "$\\displaystyle {\\Gamma}{}^{1}\\,{}_{0}\\,{}_{1}\\, = \\frac{\\frac{d}{d t} a{\\left(t \\right)}}{a{\\left(t \\right)}}$"
      ],
      "text/plain": [
       "<IPython.core.display.Math object>"
      ]
     },
     "metadata": {},
     "output_type": "display_data"
    },
    {
     "data": {
      "text/latex": [
       "$\\displaystyle {\\Gamma}{}^{1}\\,{}_{1}\\,{}_{0}\\, = \\frac{\\frac{d}{d t} a{\\left(t \\right)}}{a{\\left(t \\right)}}$"
      ],
      "text/plain": [
       "<IPython.core.display.Math object>"
      ]
     },
     "metadata": {},
     "output_type": "display_data"
    },
    {
     "data": {
      "text/latex": [
       "$\\displaystyle {\\Gamma}{}^{2}\\,{}_{0}\\,{}_{2}\\, = \\frac{\\frac{d}{d t} b{\\left(t \\right)}}{b{\\left(t \\right)}}$"
      ],
      "text/plain": [
       "<IPython.core.display.Math object>"
      ]
     },
     "metadata": {},
     "output_type": "display_data"
    },
    {
     "data": {
      "text/latex": [
       "$\\displaystyle {\\Gamma}{}^{2}\\,{}_{2}\\,{}_{0}\\, = \\frac{\\frac{d}{d t} b{\\left(t \\right)}}{b{\\left(t \\right)}}$"
      ],
      "text/plain": [
       "<IPython.core.display.Math object>"
      ]
     },
     "metadata": {},
     "output_type": "display_data"
    },
    {
     "data": {
      "text/latex": [
       "$\\displaystyle {\\Gamma}{}^{3}\\,{}_{0}\\,{}_{3}\\, = \\frac{\\frac{d}{d t} c{\\left(t \\right)}}{c{\\left(t \\right)}}$"
      ],
      "text/plain": [
       "<IPython.core.display.Math object>"
      ]
     },
     "metadata": {},
     "output_type": "display_data"
    },
    {
     "data": {
      "text/latex": [
       "$\\displaystyle {\\Gamma}{}^{3}\\,{}_{3}\\,{}_{0}\\, = \\frac{\\frac{d}{d t} c{\\left(t \\right)}}{c{\\left(t \\right)}}$"
      ],
      "text/plain": [
       "<IPython.core.display.Math object>"
      ]
     },
     "metadata": {},
     "output_type": "display_data"
    }
   ],
   "source": [
    "Chr = pt.christoffel()\n",
    "Chr.display()"
   ]
  },
  {
   "cell_type": "markdown",
   "metadata": {},
   "source": [
    "Non Zero Riemann Tensor"
   ]
  },
  {
   "cell_type": "code",
   "execution_count": 15,
   "metadata": {},
   "outputs": [
    {
     "data": {
      "text/latex": [
       "Riemann Tensor $R_{\\alpha \\beta \\gamma \\delta}$ already calculated"
      ],
      "text/plain": [
       "<IPython.core.display.Latex object>"
      ]
     },
     "metadata": {},
     "output_type": "display_data"
    },
    {
     "data": {
      "text/latex": [
       "$\\displaystyle {R}{}^{0}\\,{}_{1}\\,{}_{0}\\,{}_{1}\\, = a{\\left(t \\right)} \\frac{d^{2}}{d t^{2}} a{\\left(t \\right)}$"
      ],
      "text/plain": [
       "<IPython.core.display.Math object>"
      ]
     },
     "metadata": {},
     "output_type": "display_data"
    },
    {
     "data": {
      "text/latex": [
       "$\\displaystyle {R}{}^{0}\\,{}_{1}\\,{}_{1}\\,{}_{0}\\, = - a{\\left(t \\right)} \\frac{d^{2}}{d t^{2}} a{\\left(t \\right)}$"
      ],
      "text/plain": [
       "<IPython.core.display.Math object>"
      ]
     },
     "metadata": {},
     "output_type": "display_data"
    },
    {
     "data": {
      "text/latex": [
       "$\\displaystyle {R}{}^{0}\\,{}_{2}\\,{}_{0}\\,{}_{2}\\, = b{\\left(t \\right)} \\frac{d^{2}}{d t^{2}} b{\\left(t \\right)}$"
      ],
      "text/plain": [
       "<IPython.core.display.Math object>"
      ]
     },
     "metadata": {},
     "output_type": "display_data"
    },
    {
     "data": {
      "text/latex": [
       "$\\displaystyle {R}{}^{0}\\,{}_{2}\\,{}_{2}\\,{}_{0}\\, = - b{\\left(t \\right)} \\frac{d^{2}}{d t^{2}} b{\\left(t \\right)}$"
      ],
      "text/plain": [
       "<IPython.core.display.Math object>"
      ]
     },
     "metadata": {},
     "output_type": "display_data"
    },
    {
     "data": {
      "text/latex": [
       "$\\displaystyle {R}{}^{0}\\,{}_{3}\\,{}_{0}\\,{}_{3}\\, = c{\\left(t \\right)} \\frac{d^{2}}{d t^{2}} c{\\left(t \\right)}$"
      ],
      "text/plain": [
       "<IPython.core.display.Math object>"
      ]
     },
     "metadata": {},
     "output_type": "display_data"
    },
    {
     "data": {
      "text/latex": [
       "$\\displaystyle {R}{}^{0}\\,{}_{3}\\,{}_{3}\\,{}_{0}\\, = - c{\\left(t \\right)} \\frac{d^{2}}{d t^{2}} c{\\left(t \\right)}$"
      ],
      "text/plain": [
       "<IPython.core.display.Math object>"
      ]
     },
     "metadata": {},
     "output_type": "display_data"
    },
    {
     "data": {
      "text/latex": [
       "$\\displaystyle {R}{}^{1}\\,{}_{0}\\,{}_{0}\\,{}_{1}\\, = \\frac{\\frac{d^{2}}{d t^{2}} a{\\left(t \\right)}}{a{\\left(t \\right)}}$"
      ],
      "text/plain": [
       "<IPython.core.display.Math object>"
      ]
     },
     "metadata": {},
     "output_type": "display_data"
    },
    {
     "data": {
      "text/latex": [
       "$\\displaystyle {R}{}^{1}\\,{}_{0}\\,{}_{1}\\,{}_{0}\\, = - \\frac{\\frac{d^{2}}{d t^{2}} a{\\left(t \\right)}}{a{\\left(t \\right)}}$"
      ],
      "text/plain": [
       "<IPython.core.display.Math object>"
      ]
     },
     "metadata": {},
     "output_type": "display_data"
    },
    {
     "data": {
      "text/latex": [
       "$\\displaystyle {R}{}^{1}\\,{}_{2}\\,{}_{1}\\,{}_{2}\\, = \\frac{b{\\left(t \\right)} \\frac{d}{d t} a{\\left(t \\right)} \\frac{d}{d t} b{\\left(t \\right)}}{a{\\left(t \\right)}}$"
      ],
      "text/plain": [
       "<IPython.core.display.Math object>"
      ]
     },
     "metadata": {},
     "output_type": "display_data"
    },
    {
     "data": {
      "text/latex": [
       "$\\displaystyle {R}{}^{1}\\,{}_{2}\\,{}_{2}\\,{}_{1}\\, = - \\frac{b{\\left(t \\right)} \\frac{d}{d t} a{\\left(t \\right)} \\frac{d}{d t} b{\\left(t \\right)}}{a{\\left(t \\right)}}$"
      ],
      "text/plain": [
       "<IPython.core.display.Math object>"
      ]
     },
     "metadata": {},
     "output_type": "display_data"
    },
    {
     "data": {
      "text/latex": [
       "$\\displaystyle {R}{}^{1}\\,{}_{3}\\,{}_{1}\\,{}_{3}\\, = \\frac{c{\\left(t \\right)} \\frac{d}{d t} a{\\left(t \\right)} \\frac{d}{d t} c{\\left(t \\right)}}{a{\\left(t \\right)}}$"
      ],
      "text/plain": [
       "<IPython.core.display.Math object>"
      ]
     },
     "metadata": {},
     "output_type": "display_data"
    },
    {
     "data": {
      "text/latex": [
       "$\\displaystyle {R}{}^{1}\\,{}_{3}\\,{}_{3}\\,{}_{1}\\, = - \\frac{c{\\left(t \\right)} \\frac{d}{d t} a{\\left(t \\right)} \\frac{d}{d t} c{\\left(t \\right)}}{a{\\left(t \\right)}}$"
      ],
      "text/plain": [
       "<IPython.core.display.Math object>"
      ]
     },
     "metadata": {},
     "output_type": "display_data"
    },
    {
     "data": {
      "text/latex": [
       "$\\displaystyle {R}{}^{2}\\,{}_{0}\\,{}_{0}\\,{}_{2}\\, = \\frac{\\frac{d^{2}}{d t^{2}} b{\\left(t \\right)}}{b{\\left(t \\right)}}$"
      ],
      "text/plain": [
       "<IPython.core.display.Math object>"
      ]
     },
     "metadata": {},
     "output_type": "display_data"
    },
    {
     "data": {
      "text/latex": [
       "$\\displaystyle {R}{}^{2}\\,{}_{0}\\,{}_{2}\\,{}_{0}\\, = - \\frac{\\frac{d^{2}}{d t^{2}} b{\\left(t \\right)}}{b{\\left(t \\right)}}$"
      ],
      "text/plain": [
       "<IPython.core.display.Math object>"
      ]
     },
     "metadata": {},
     "output_type": "display_data"
    },
    {
     "data": {
      "text/latex": [
       "$\\displaystyle {R}{}^{2}\\,{}_{1}\\,{}_{1}\\,{}_{2}\\, = - \\frac{a{\\left(t \\right)} \\frac{d}{d t} a{\\left(t \\right)} \\frac{d}{d t} b{\\left(t \\right)}}{b{\\left(t \\right)}}$"
      ],
      "text/plain": [
       "<IPython.core.display.Math object>"
      ]
     },
     "metadata": {},
     "output_type": "display_data"
    },
    {
     "data": {
      "text/latex": [
       "$\\displaystyle {R}{}^{2}\\,{}_{1}\\,{}_{2}\\,{}_{1}\\, = \\frac{a{\\left(t \\right)} \\frac{d}{d t} a{\\left(t \\right)} \\frac{d}{d t} b{\\left(t \\right)}}{b{\\left(t \\right)}}$"
      ],
      "text/plain": [
       "<IPython.core.display.Math object>"
      ]
     },
     "metadata": {},
     "output_type": "display_data"
    },
    {
     "data": {
      "text/latex": [
       "$\\displaystyle {R}{}^{2}\\,{}_{3}\\,{}_{2}\\,{}_{3}\\, = \\frac{c{\\left(t \\right)} \\frac{d}{d t} b{\\left(t \\right)} \\frac{d}{d t} c{\\left(t \\right)}}{b{\\left(t \\right)}}$"
      ],
      "text/plain": [
       "<IPython.core.display.Math object>"
      ]
     },
     "metadata": {},
     "output_type": "display_data"
    },
    {
     "data": {
      "text/latex": [
       "$\\displaystyle {R}{}^{2}\\,{}_{3}\\,{}_{3}\\,{}_{2}\\, = - \\frac{c{\\left(t \\right)} \\frac{d}{d t} b{\\left(t \\right)} \\frac{d}{d t} c{\\left(t \\right)}}{b{\\left(t \\right)}}$"
      ],
      "text/plain": [
       "<IPython.core.display.Math object>"
      ]
     },
     "metadata": {},
     "output_type": "display_data"
    },
    {
     "data": {
      "text/latex": [
       "$\\displaystyle {R}{}^{3}\\,{}_{0}\\,{}_{0}\\,{}_{3}\\, = \\frac{\\frac{d^{2}}{d t^{2}} c{\\left(t \\right)}}{c{\\left(t \\right)}}$"
      ],
      "text/plain": [
       "<IPython.core.display.Math object>"
      ]
     },
     "metadata": {},
     "output_type": "display_data"
    },
    {
     "data": {
      "text/latex": [
       "$\\displaystyle {R}{}^{3}\\,{}_{0}\\,{}_{3}\\,{}_{0}\\, = - \\frac{\\frac{d^{2}}{d t^{2}} c{\\left(t \\right)}}{c{\\left(t \\right)}}$"
      ],
      "text/plain": [
       "<IPython.core.display.Math object>"
      ]
     },
     "metadata": {},
     "output_type": "display_data"
    },
    {
     "data": {
      "text/latex": [
       "$\\displaystyle {R}{}^{3}\\,{}_{1}\\,{}_{1}\\,{}_{3}\\, = - \\frac{a{\\left(t \\right)} \\frac{d}{d t} a{\\left(t \\right)} \\frac{d}{d t} c{\\left(t \\right)}}{c{\\left(t \\right)}}$"
      ],
      "text/plain": [
       "<IPython.core.display.Math object>"
      ]
     },
     "metadata": {},
     "output_type": "display_data"
    },
    {
     "data": {
      "text/latex": [
       "$\\displaystyle {R}{}^{3}\\,{}_{1}\\,{}_{3}\\,{}_{1}\\, = \\frac{a{\\left(t \\right)} \\frac{d}{d t} a{\\left(t \\right)} \\frac{d}{d t} c{\\left(t \\right)}}{c{\\left(t \\right)}}$"
      ],
      "text/plain": [
       "<IPython.core.display.Math object>"
      ]
     },
     "metadata": {},
     "output_type": "display_data"
    },
    {
     "data": {
      "text/latex": [
       "$\\displaystyle {R}{}^{3}\\,{}_{2}\\,{}_{2}\\,{}_{3}\\, = - \\frac{b{\\left(t \\right)} \\frac{d}{d t} b{\\left(t \\right)} \\frac{d}{d t} c{\\left(t \\right)}}{c{\\left(t \\right)}}$"
      ],
      "text/plain": [
       "<IPython.core.display.Math object>"
      ]
     },
     "metadata": {},
     "output_type": "display_data"
    },
    {
     "data": {
      "text/latex": [
       "$\\displaystyle {R}{}^{3}\\,{}_{2}\\,{}_{3}\\,{}_{2}\\, = \\frac{b{\\left(t \\right)} \\frac{d}{d t} b{\\left(t \\right)} \\frac{d}{d t} c{\\left(t \\right)}}{c{\\left(t \\right)}}$"
      ],
      "text/plain": [
       "<IPython.core.display.Math object>"
      ]
     },
     "metadata": {},
     "output_type": "display_data"
    }
   ],
   "source": [
    "R = pt.riemann()\n",
    "R.display(\"^,_,_,_\")"
   ]
  },
  {
   "cell_type": "markdown",
   "metadata": {},
   "source": [
    "Non Zero Ricci Tensor and Scalar"
   ]
  },
  {
   "cell_type": "code",
   "execution_count": 16,
   "metadata": {},
   "outputs": [
    {
     "data": {
      "text/latex": [
       "Ricci Tensor $R_{\\alpha \\beta}$ already calculated"
      ],
      "text/plain": [
       "<IPython.core.display.Latex object>"
      ]
     },
     "metadata": {},
     "output_type": "display_data"
    },
    {
     "data": {
      "text/latex": [
       "Ricci Scalar $R$ already calculated"
      ],
      "text/plain": [
       "<IPython.core.display.Latex object>"
      ]
     },
     "metadata": {},
     "output_type": "display_data"
    },
    {
     "data": {
      "text/latex": [
       "$\\displaystyle \\left[\\begin{matrix}- \\frac{a{\\left(t \\right)} b{\\left(t \\right)} \\frac{d^{2}}{d t^{2}} c{\\left(t \\right)} + a{\\left(t \\right)} c{\\left(t \\right)} \\frac{d^{2}}{d t^{2}} b{\\left(t \\right)} + b{\\left(t \\right)} c{\\left(t \\right)} \\frac{d^{2}}{d t^{2}} a{\\left(t \\right)}}{a{\\left(t \\right)} b{\\left(t \\right)} c{\\left(t \\right)}} & 0 & 0 & 0\\\\0 & \\frac{\\left(b{\\left(t \\right)} c{\\left(t \\right)} \\frac{d^{2}}{d t^{2}} a{\\left(t \\right)} + b{\\left(t \\right)} \\frac{d}{d t} a{\\left(t \\right)} \\frac{d}{d t} c{\\left(t \\right)} + c{\\left(t \\right)} \\frac{d}{d t} a{\\left(t \\right)} \\frac{d}{d t} b{\\left(t \\right)}\\right) a{\\left(t \\right)}}{b{\\left(t \\right)} c{\\left(t \\right)}} & 0 & 0\\\\0 & 0 & \\frac{\\left(a{\\left(t \\right)} c{\\left(t \\right)} \\frac{d^{2}}{d t^{2}} b{\\left(t \\right)} + a{\\left(t \\right)} \\frac{d}{d t} b{\\left(t \\right)} \\frac{d}{d t} c{\\left(t \\right)} + c{\\left(t \\right)} \\frac{d}{d t} a{\\left(t \\right)} \\frac{d}{d t} b{\\left(t \\right)}\\right) b{\\left(t \\right)}}{a{\\left(t \\right)} c{\\left(t \\right)}} & 0\\\\0 & 0 & 0 & \\frac{\\left(a{\\left(t \\right)} b{\\left(t \\right)} \\frac{d^{2}}{d t^{2}} c{\\left(t \\right)} + a{\\left(t \\right)} \\frac{d}{d t} b{\\left(t \\right)} \\frac{d}{d t} c{\\left(t \\right)} + b{\\left(t \\right)} \\frac{d}{d t} a{\\left(t \\right)} \\frac{d}{d t} c{\\left(t \\right)}\\right) c{\\left(t \\right)}}{a{\\left(t \\right)} b{\\left(t \\right)}}\\end{matrix}\\right]$"
      ],
      "text/plain": [
       "⎡ ⎛            2                     2                     2      ⎞           \n",
       "⎢ ⎜           d                     d                     d       ⎟           \n",
       "⎢-⎜a(t)⋅b(t)⋅───(c(t)) + a(t)⋅c(t)⋅───(b(t)) + b(t)⋅c(t)⋅───(a(t))⎟           \n",
       "⎢ ⎜            2                     2                     2      ⎟           \n",
       "⎢ ⎝          dt                    dt                    dt       ⎠           \n",
       "⎢───────────────────────────────────────────────────────────────────          \n",
       "⎢                           a(t)⋅b(t)⋅c(t)                                    \n",
       "⎢                                                                             \n",
       "⎢                                                                     ⎛       \n",
       "⎢                                                                     ⎜       \n",
       "⎢                                                                     ⎜b(t)⋅c(\n",
       "⎢                                                                     ⎜       \n",
       "⎢                                                                     ⎝       \n",
       "⎢                                 0                                   ────────\n",
       "⎢                                                                             \n",
       "⎢                                                                             \n",
       "⎢                                                                             \n",
       "⎢                                                                             \n",
       "⎢                                                                             \n",
       "⎢                                                                             \n",
       "⎢                                                                             \n",
       "⎢                                 0                                           \n",
       "⎢                                                                             \n",
       "⎢                                                                             \n",
       "⎢                                                                             \n",
       "⎢                                                                             \n",
       "⎢                                                                             \n",
       "⎢                                                                             \n",
       "⎢                                                                             \n",
       "⎢                                 0                                           \n",
       "⎣                                                                             \n",
       "\n",
       "                                                                              \n",
       "                                                                              \n",
       "                                                                              \n",
       "                                                                              \n",
       "                                                                              \n",
       "                             0                                                \n",
       "                                                                              \n",
       "                                                                              \n",
       "     2                                                        ⎞               \n",
       "    d               d        d               d        d       ⎟               \n",
       "t)⋅───(a(t)) + b(t)⋅──(a(t))⋅──(c(t)) + c(t)⋅──(a(t))⋅──(b(t))⎟⋅a(t)          \n",
       "     2              dt       dt              dt       dt      ⎟               \n",
       "   dt                                                         ⎠               \n",
       "────────────────────────────────────────────────────────────────────          \n",
       "                         b(t)⋅c(t)                                            \n",
       "                                                                              \n",
       "                                                                      ⎛       \n",
       "                                                                      ⎜       \n",
       "                                                                      ⎜a(t)⋅c(\n",
       "                                                                      ⎜       \n",
       "                                                                      ⎝       \n",
       "                             0                                        ────────\n",
       "                                                                              \n",
       "                                                                              \n",
       "                                                                              \n",
       "                                                                              \n",
       "                                                                              \n",
       "                                                                              \n",
       "                                                                              \n",
       "                             0                                                \n",
       "                                                                              \n",
       "\n",
       "                                                                              \n",
       "                                                                              \n",
       "                                                                              \n",
       "                                                                              \n",
       "                                                                              \n",
       "                             0                                                \n",
       "                                                                              \n",
       "                                                                              \n",
       "                                                                              \n",
       "                                                                              \n",
       "                                                                              \n",
       "                                                                              \n",
       "                                                                              \n",
       "                             0                                                \n",
       "                                                                              \n",
       "                                                                              \n",
       "     2                                                        ⎞               \n",
       "    d               d        d               d        d       ⎟               \n",
       "t)⋅───(b(t)) + a(t)⋅──(b(t))⋅──(c(t)) + c(t)⋅──(a(t))⋅──(b(t))⎟⋅b(t)          \n",
       "     2              dt       dt              dt       dt      ⎟               \n",
       "   dt                                                         ⎠               \n",
       "────────────────────────────────────────────────────────────────────          \n",
       "                         a(t)⋅c(t)                                            \n",
       "                                                                              \n",
       "                                                                      ⎛       \n",
       "                                                                      ⎜       \n",
       "                                                                      ⎜a(t)⋅b(\n",
       "                                                                      ⎜       \n",
       "                                                                      ⎝       \n",
       "                             0                                        ────────\n",
       "                                                                              \n",
       "\n",
       "                                                                    ⎤\n",
       "                                                                    ⎥\n",
       "                                                                    ⎥\n",
       "                                                                    ⎥\n",
       "                                                                    ⎥\n",
       "                             0                                      ⎥\n",
       "                                                                    ⎥\n",
       "                                                                    ⎥\n",
       "                                                                    ⎥\n",
       "                                                                    ⎥\n",
       "                                                                    ⎥\n",
       "                                                                    ⎥\n",
       "                                                                    ⎥\n",
       "                             0                                      ⎥\n",
       "                                                                    ⎥\n",
       "                                                                    ⎥\n",
       "                                                                    ⎥\n",
       "                                                                    ⎥\n",
       "                                                                    ⎥\n",
       "                                                                    ⎥\n",
       "                                                                    ⎥\n",
       "                             0                                      ⎥\n",
       "                                                                    ⎥\n",
       "                                                                    ⎥\n",
       "     2                                                        ⎞     ⎥\n",
       "    d               d        d               d        d       ⎟     ⎥\n",
       "t)⋅───(c(t)) + a(t)⋅──(b(t))⋅──(c(t)) + b(t)⋅──(a(t))⋅──(c(t))⎟⋅c(t)⎥\n",
       "     2              dt       dt              dt       dt      ⎟     ⎥\n",
       "   dt                                                         ⎠     ⎥\n",
       "────────────────────────────────────────────────────────────────────⎥\n",
       "                         a(t)⋅b(t)                                  ⎦"
      ]
     },
     "metadata": {},
     "output_type": "display_data"
    },
    {
     "data": {
      "text/latex": [
       "$\\displaystyle \\frac{a{\\left(t \\right)} b{\\left(t \\right)} \\frac{d^{2}}{d t^{2}} c{\\left(t \\right)} + a{\\left(t \\right)} c{\\left(t \\right)} \\frac{d^{2}}{d t^{2}} b{\\left(t \\right)} + b{\\left(t \\right)} c{\\left(t \\right)} \\frac{d^{2}}{d t^{2}} a{\\left(t \\right)}}{a{\\left(t \\right)} b{\\left(t \\right)} c{\\left(t \\right)}} + \\frac{a{\\left(t \\right)} b{\\left(t \\right)} \\frac{d^{2}}{d t^{2}} c{\\left(t \\right)} + a{\\left(t \\right)} \\frac{d}{d t} b{\\left(t \\right)} \\frac{d}{d t} c{\\left(t \\right)} + b{\\left(t \\right)} \\frac{d}{d t} a{\\left(t \\right)} \\frac{d}{d t} c{\\left(t \\right)}}{a{\\left(t \\right)} b{\\left(t \\right)} c{\\left(t \\right)}} + \\frac{a{\\left(t \\right)} c{\\left(t \\right)} \\frac{d^{2}}{d t^{2}} b{\\left(t \\right)} + a{\\left(t \\right)} \\frac{d}{d t} b{\\left(t \\right)} \\frac{d}{d t} c{\\left(t \\right)} + c{\\left(t \\right)} \\frac{d}{d t} a{\\left(t \\right)} \\frac{d}{d t} b{\\left(t \\right)}}{a{\\left(t \\right)} b{\\left(t \\right)} c{\\left(t \\right)}} + \\frac{b{\\left(t \\right)} c{\\left(t \\right)} \\frac{d^{2}}{d t^{2}} a{\\left(t \\right)} + b{\\left(t \\right)} \\frac{d}{d t} a{\\left(t \\right)} \\frac{d}{d t} c{\\left(t \\right)} + c{\\left(t \\right)} \\frac{d}{d t} a{\\left(t \\right)} \\frac{d}{d t} b{\\left(t \\right)}}{a{\\left(t \\right)} b{\\left(t \\right)} c{\\left(t \\right)}}$"
      ],
      "text/plain": [
       "<IPython.core.display.Math object>"
      ]
     },
     "metadata": {},
     "output_type": "display_data"
    }
   ],
   "source": [
    "Ric = pt.ricci()\n",
    "RicS = pt.riccis()\n",
    "Ric.display()\n",
    "pt.display(RicS)"
   ]
  },
  {
   "cell_type": "markdown",
   "metadata": {},
   "source": [
    "Einstein Tensor"
   ]
  },
  {
   "cell_type": "code",
   "execution_count": 17,
   "metadata": {},
   "outputs": [
    {
     "data": {
      "text/latex": [
       "Einstein Tensor $G_{\\alpha \\beta}$ already calculated"
      ],
      "text/plain": [
       "<IPython.core.display.Latex object>"
      ]
     },
     "metadata": {},
     "output_type": "display_data"
    },
    {
     "data": {
      "text/latex": [
       "$\\displaystyle \\left[\\begin{matrix}\\frac{a{\\left(t \\right)} \\frac{d}{d t} b{\\left(t \\right)} \\frac{d}{d t} c{\\left(t \\right)} + b{\\left(t \\right)} \\frac{d}{d t} a{\\left(t \\right)} \\frac{d}{d t} c{\\left(t \\right)} + c{\\left(t \\right)} \\frac{d}{d t} a{\\left(t \\right)} \\frac{d}{d t} b{\\left(t \\right)}}{a{\\left(t \\right)} b{\\left(t \\right)} c{\\left(t \\right)}} & 0 & 0 & 0\\\\0 & - \\frac{\\left(b{\\left(t \\right)} \\frac{d^{2}}{d t^{2}} c{\\left(t \\right)} + c{\\left(t \\right)} \\frac{d^{2}}{d t^{2}} b{\\left(t \\right)} + \\frac{d}{d t} b{\\left(t \\right)} \\frac{d}{d t} c{\\left(t \\right)}\\right) a^{2}{\\left(t \\right)}}{b{\\left(t \\right)} c{\\left(t \\right)}} & 0 & 0\\\\0 & 0 & - \\frac{\\left(a{\\left(t \\right)} \\frac{d^{2}}{d t^{2}} c{\\left(t \\right)} + c{\\left(t \\right)} \\frac{d^{2}}{d t^{2}} a{\\left(t \\right)} + \\frac{d}{d t} a{\\left(t \\right)} \\frac{d}{d t} c{\\left(t \\right)}\\right) b^{2}{\\left(t \\right)}}{a{\\left(t \\right)} c{\\left(t \\right)}} & 0\\\\0 & 0 & 0 & - \\frac{\\left(a{\\left(t \\right)} \\frac{d^{2}}{d t^{2}} b{\\left(t \\right)} + b{\\left(t \\right)} \\frac{d^{2}}{d t^{2}} a{\\left(t \\right)} + \\frac{d}{d t} a{\\left(t \\right)} \\frac{d}{d t} b{\\left(t \\right)}\\right) c^{2}{\\left(t \\right)}}{a{\\left(t \\right)} b{\\left(t \\right)}}\\end{matrix}\\right]$"
      ],
      "text/plain": [
       "⎡     d        d               d        d               d        d            \n",
       "⎢a(t)⋅──(b(t))⋅──(c(t)) + b(t)⋅──(a(t))⋅──(c(t)) + c(t)⋅──(a(t))⋅──(b(t))     \n",
       "⎢     dt       dt              dt       dt              dt       dt           \n",
       "⎢────────────────────────────────────────────────────────────────────────     \n",
       "⎢                             a(t)⋅b(t)⋅c(t)                                  \n",
       "⎢                                                                             \n",
       "⎢                                                                           ⎛ \n",
       "⎢                                                                           ⎜ \n",
       "⎢                                                                          -⎜b\n",
       "⎢                                                                           ⎜ \n",
       "⎢                                                                           ⎝ \n",
       "⎢                                   0                                      ───\n",
       "⎢                                                                             \n",
       "⎢                                                                             \n",
       "⎢                                                                             \n",
       "⎢                                                                             \n",
       "⎢                                                                             \n",
       "⎢                                                                             \n",
       "⎢                                                                             \n",
       "⎢                                   0                                         \n",
       "⎢                                                                             \n",
       "⎢                                                                             \n",
       "⎢                                                                             \n",
       "⎢                                                                             \n",
       "⎢                                                                             \n",
       "⎢                                                                             \n",
       "⎢                                                                             \n",
       "⎢                                   0                                         \n",
       "⎣                                                                             \n",
       "\n",
       "                                                                              \n",
       "                                                                              \n",
       "                                                                              \n",
       "                           0                                                  \n",
       "                                                                              \n",
       "                                                                              \n",
       "      2                2                          ⎞                           \n",
       "     d                d          d        d       ⎟  2                        \n",
       "(t)⋅───(c(t)) + c(t)⋅───(b(t)) + ──(b(t))⋅──(c(t))⎟⋅a (t)                     \n",
       "      2                2         dt       dt      ⎟                           \n",
       "    dt               dt                           ⎠                           \n",
       "──────────────────────────────────────────────────────────                    \n",
       "                       b(t)⋅c(t)                                              \n",
       "                                                                              \n",
       "                                                             ⎛       2        \n",
       "                                                             ⎜      d         \n",
       "                                                            -⎜a(t)⋅───(c(t)) +\n",
       "                                                             ⎜       2        \n",
       "                                                             ⎝     dt         \n",
       "                           0                                ──────────────────\n",
       "                                                                              \n",
       "                                                                              \n",
       "                                                                              \n",
       "                                                                              \n",
       "                                                                              \n",
       "                                                                              \n",
       "                                                                              \n",
       "                           0                                                  \n",
       "                                                                              \n",
       "\n",
       "                                                                              \n",
       "                                                                              \n",
       "                                                                              \n",
       "            0                                                              0  \n",
       "                                                                              \n",
       "                                                                              \n",
       "                                                                              \n",
       "                                                                              \n",
       "                                                                              \n",
       "                                                                              \n",
       "                                                                              \n",
       "            0                                                              0  \n",
       "                                                                              \n",
       "                                                                              \n",
       "        2                          ⎞                                          \n",
       "       d          d        d       ⎟  2                                       \n",
       " c(t)⋅───(a(t)) + ──(a(t))⋅──(c(t))⎟⋅b (t)                                    \n",
       "        2         dt       dt      ⎟                                          \n",
       "      dt                           ⎠                                          \n",
       "───────────────────────────────────────────                                0  \n",
       "        a(t)⋅c(t)                                                             \n",
       "                                                                              \n",
       "                                              ⎛       2                2      \n",
       "                                              ⎜      d                d       \n",
       "                                             -⎜a(t)⋅───(b(t)) + b(t)⋅───(a(t))\n",
       "                                              ⎜       2                2      \n",
       "                                              ⎝     dt               dt       \n",
       "            0                                ─────────────────────────────────\n",
       "                                                                       a(t)⋅b(\n",
       "\n",
       "                            ⎤\n",
       "                            ⎥\n",
       "                            ⎥\n",
       "                            ⎥\n",
       "                            ⎥\n",
       "                            ⎥\n",
       "                            ⎥\n",
       "                            ⎥\n",
       "                            ⎥\n",
       "                            ⎥\n",
       "                            ⎥\n",
       "                            ⎥\n",
       "                            ⎥\n",
       "                            ⎥\n",
       "                            ⎥\n",
       "                            ⎥\n",
       "                            ⎥\n",
       "                            ⎥\n",
       "                            ⎥\n",
       "                            ⎥\n",
       "                            ⎥\n",
       "                            ⎥\n",
       "                    ⎞       ⎥\n",
       "   d        d       ⎟  2    ⎥\n",
       " + ──(a(t))⋅──(b(t))⎟⋅c (t) ⎥\n",
       "   dt       dt      ⎟       ⎥\n",
       "                    ⎠       ⎥\n",
       "────────────────────────────⎥\n",
       "t)                          ⎦"
      ]
     },
     "metadata": {},
     "output_type": "display_data"
    }
   ],
   "source": [
    "\n",
    "G = pt.einstein()\n",
    "G.display()"
   ]
  },
  {
   "cell_type": "markdown",
   "metadata": {},
   "source": [
    "The display method uses matrix notation for all tensors with rank $\\leq$ 2 by default. To display the tensor components as a list, the user must include the \"aslist = True\" argument."
   ]
  },
  {
   "cell_type": "code",
   "execution_count": 18,
   "metadata": {},
   "outputs": [
    {
     "name": "stdout",
     "output_type": "stream",
     "text": [
      "Elements assigned correctly to the ^ components\n"
     ]
    },
    {
     "data": {
      "text/latex": [
       "$\\displaystyle \\left[\\begin{matrix}1\\\\0\\\\0\\\\0\\end{matrix}\\right]$"
      ],
      "text/plain": [
       "⎡1⎤\n",
       "⎢ ⎥\n",
       "⎢0⎥\n",
       "⎢ ⎥\n",
       "⎢0⎥\n",
       "⎢ ⎥\n",
       "⎣0⎦"
      ]
     },
     "metadata": {},
     "output_type": "display_data"
    }
   ],
   "source": [
    "U = pt.ten('U',1)\n",
    "U.assign([1,0,0,0],'^')\n",
    "U.display('^')"
   ]
  },
  {
   "cell_type": "markdown",
   "metadata": {},
   "source": [
    "Note that pytearcat uses the definition of \"vectors\" as Columns, and \"one-forms\" as Rows. \n",
    "\n",
    "- A 1-vector is a Tensor with one contravariant index $A^{\\mu}$.\n",
    "\n",
    "- A 1-form is a Tensor with one covariant index $A_{\\mu}$."
   ]
  },
  {
   "cell_type": "code",
   "execution_count": 19,
   "metadata": {},
   "outputs": [
    {
     "name": "stdout",
     "output_type": "stream",
     "text": [
      "Function rho(t) is already defined\n",
      "Function P(t) is already defined\n",
      "Elements assigned correctly to the ^mu,^nu components\n"
     ]
    },
    {
     "data": {
      "text/latex": [
       "$\\displaystyle \\left[\\begin{matrix}\\rho{\\left(t \\right)} & 0 & 0 & 0\\\\0 & \\frac{P{\\left(t \\right)}}{a^{2}{\\left(t \\right)}} & 0 & 0\\\\0 & 0 & \\frac{P{\\left(t \\right)}}{b^{2}{\\left(t \\right)}} & 0\\\\0 & 0 & 0 & \\frac{P{\\left(t \\right)}}{c^{2}{\\left(t \\right)}}\\end{matrix}\\right]$"
      ],
      "text/plain": [
       "⎡ρ(t)    0      0      0  ⎤\n",
       "⎢                         ⎥\n",
       "⎢       P(t)              ⎥\n",
       "⎢ 0    ─────    0      0  ⎥\n",
       "⎢       2                 ⎥\n",
       "⎢      a (t)              ⎥\n",
       "⎢                         ⎥\n",
       "⎢              P(t)       ⎥\n",
       "⎢ 0      0    ─────    0  ⎥\n",
       "⎢              2          ⎥\n",
       "⎢             b (t)       ⎥\n",
       "⎢                         ⎥\n",
       "⎢                     P(t)⎥\n",
       "⎢ 0      0      0    ─────⎥\n",
       "⎢                     2   ⎥\n",
       "⎣                    c (t)⎦"
      ]
     },
     "metadata": {},
     "output_type": "display_data"
    }
   ],
   "source": [
    "rho = pt.fun('rho','t')\n",
    "P = pt.fun('P','t')\n",
    "T = pt.ten('T',2)\n",
    "T.assign((rho+P)*U(\"^mu\")*U(\"^nu\")+P*g(\"^mu,^nu\"),\"^mu,^nu\")\n",
    "T.display('^,^')"
   ]
  },
  {
   "cell_type": "code",
   "execution_count": 20,
   "metadata": {},
   "outputs": [
    {
     "data": {
      "application/vnd.jupyter.widget-view+json": {
       "model_id": "6d343b122ed14443804e0b617601437c",
       "version_major": 2,
       "version_minor": 0
      },
      "text/plain": [
       "T Tensor $T{_\\alpha}{^\\beta}$:   0%|          | 0/16 [00:00<?, ?it/s]"
      ]
     },
     "metadata": {},
     "output_type": "display_data"
    },
    {
     "data": {
      "application/vnd.jupyter.widget-view+json": {
       "model_id": "21178a97413a4fd0a1fc50383268b472",
       "version_major": 2,
       "version_minor": 0
      },
      "text/plain": [
       "T Tensor $T{_\\alpha}{_\\beta}$:   0%|          | 0/16 [00:00<?, ?it/s]"
      ]
     },
     "metadata": {},
     "output_type": "display_data"
    },
    {
     "data": {
      "application/vnd.jupyter.widget-view+json": {
       "model_id": "f3e21864f5a84864b6b9091990b83e13",
       "version_major": 2,
       "version_minor": 0
      },
      "text/plain": [
       "T Tensor $T{^\\alpha}{_\\beta}$:   0%|          | 0/16 [00:00<?, ?it/s]"
      ]
     },
     "metadata": {},
     "output_type": "display_data"
    },
    {
     "data": {
      "text/latex": [
       "All other indices of T Tensor $T$  already calculated."
      ],
      "text/plain": [
       "<IPython.core.display.Latex object>"
      ]
     },
     "metadata": {},
     "output_type": "display_data"
    },
    {
     "data": {
      "text/latex": [
       "$\\displaystyle \\left[\\begin{matrix}\\rho{\\left(t \\right)} & 0 & 0 & 0\\\\0 & P{\\left(t \\right)} a^{2}{\\left(t \\right)} & 0 & 0\\\\0 & 0 & P{\\left(t \\right)} b^{2}{\\left(t \\right)} & 0\\\\0 & 0 & 0 & P{\\left(t \\right)} c^{2}{\\left(t \\right)}\\end{matrix}\\right]$"
      ],
      "text/plain": [
       "⎡ρ(t)      0           0           0     ⎤\n",
       "⎢                                        ⎥\n",
       "⎢            2                           ⎥\n",
       "⎢ 0    P(t)⋅a (t)      0           0     ⎥\n",
       "⎢                                        ⎥\n",
       "⎢                        2               ⎥\n",
       "⎢ 0        0       P(t)⋅b (t)      0     ⎥\n",
       "⎢                                        ⎥\n",
       "⎢                                    2   ⎥\n",
       "⎣ 0        0           0       P(t)⋅c (t)⎦"
      ]
     },
     "metadata": {},
     "output_type": "display_data"
    }
   ],
   "source": [
    "T.complete('^,^')\n",
    "T.display('_,_')"
   ]
  },
  {
   "cell_type": "code",
   "execution_count": 21,
   "metadata": {},
   "outputs": [
    {
     "name": "stdout",
     "output_type": "stream",
     "text": [
      "Elements assigned correctly to the ^mu components\n"
     ]
    },
    {
     "data": {
      "text/latex": [
       "$\\displaystyle \\left[\\begin{matrix}\\frac{P{\\left(t \\right)} \\frac{d}{d t} c{\\left(t \\right)}}{c{\\left(t \\right)}} + \\frac{P{\\left(t \\right)} \\frac{d}{d t} b{\\left(t \\right)}}{b{\\left(t \\right)}} + \\frac{P{\\left(t \\right)} \\frac{d}{d t} a{\\left(t \\right)}}{a{\\left(t \\right)}} + \\frac{d}{d t} \\rho{\\left(t \\right)} + \\frac{\\rho{\\left(t \\right)} \\frac{d}{d t} c{\\left(t \\right)}}{c{\\left(t \\right)}} + \\frac{\\rho{\\left(t \\right)} \\frac{d}{d t} b{\\left(t \\right)}}{b{\\left(t \\right)}} + \\frac{\\rho{\\left(t \\right)} \\frac{d}{d t} a{\\left(t \\right)}}{a{\\left(t \\right)}}\\\\0\\\\0\\\\0\\end{matrix}\\right]$"
      ],
      "text/plain": [
       "⎡     d               d               d                          d            \n",
       "⎢P(t)⋅──(c(t))   P(t)⋅──(b(t))   P(t)⋅──(a(t))              ρ(t)⋅──(c(t))   ρ(\n",
       "⎢     dt              dt              dt         d               dt           \n",
       "⎢───────────── + ───────────── + ───────────── + ──(ρ(t)) + ───────────── + ──\n",
       "⎢     c(t)            b(t)            a(t)       dt              c(t)         \n",
       "⎢                                                                             \n",
       "⎢                                                   0                         \n",
       "⎢                                                                             \n",
       "⎢                                                   0                         \n",
       "⎢                                                                             \n",
       "⎣                                                   0                         \n",
       "\n",
       "   d               d       ⎤\n",
       "t)⋅──(b(t))   ρ(t)⋅──(a(t))⎥\n",
       "   dt              dt      ⎥\n",
       "─────────── + ─────────────⎥\n",
       "   b(t)            a(t)    ⎥\n",
       "                           ⎥\n",
       "                           ⎥\n",
       "                           ⎥\n",
       "                           ⎥\n",
       "                           ⎥\n",
       "                           ⎦"
      ]
     },
     "metadata": {},
     "output_type": "display_data"
    }
   ],
   "source": [
    "CT_dat = pt.C(T('^mu,^nu'),'_nu')\n",
    "CT = pt.ten('CT',1)\n",
    "CT.assign(CT_dat,'^mu')\n",
    "CT.display('^')"
   ]
  },
  {
   "cell_type": "markdown",
   "metadata": {},
   "source": [
    "The conservation equation is obtained by computing the covariant derivative of the Energy-Momentum Tensor \n",
    "\n",
    "$$\\nabla_\\nu T^{\\mu\\nu}=0$$\n",
    "\n",
    "Replacing $P = \\omega\\rho$ one obtains:\n",
    "\n",
    "$$ \\dot{\\rho} + 3\\, H(1+\\omega)\\rho = 0 $$"
   ]
  }
 ],
 "metadata": {
  "kernelspec": {
   "display_name": "Python 3",
   "language": "python",
   "name": "python3"
  },
  "language_info": {
   "codemirror_mode": {
    "name": "ipython",
    "version": 3
   },
   "file_extension": ".py",
   "mimetype": "text/x-python",
   "name": "python",
   "nbconvert_exporter": "python",
   "pygments_lexer": "ipython3",
   "version": "3.8.2"
  }
 },
 "nbformat": 4,
 "nbformat_minor": 4
}
