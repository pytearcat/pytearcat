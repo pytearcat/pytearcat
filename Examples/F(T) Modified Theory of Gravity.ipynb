{
 "cells": [
  {
   "cell_type": "code",
   "execution_count": 1,
   "metadata": {},
   "outputs": [
    {
     "name": "stdout",
     "output_type": "stream",
     "text": [
      "Remember that the time coordinate must be the first coordinate.\n",
      "\n",
      "Dimension = 4\n",
      "Coordinates = t,x,y,z\n",
      "Metric defined successfully: \n",
      "\n"
     ]
    },
    {
     "data": {
      "text/latex": [
       "$\\displaystyle ds^2 = 1 \\cdot dt^2- A^{2}{\\left(t \\right)} \\cdot dx^2- A^{2}{\\left(t \\right)} \\cdot dy^2- A^{2}{\\left(t \\right)} \\cdot dz^2$"
      ],
      "text/plain": [
       "<IPython.core.display.Math object>"
      ]
     },
     "metadata": {},
     "output_type": "display_data"
    },
    {
     "data": {
      "text/latex": [
       "$\\displaystyle \\left[\\begin{matrix}1 & 0 & 0 & 0\\\\0 & - A^{2}{\\left(t \\right)} & 0 & 0\\\\0 & 0 & - A^{2}{\\left(t \\right)} & 0\\\\0 & 0 & 0 & - A^{2}{\\left(t \\right)}\\end{matrix}\\right]$"
      ],
      "text/plain": [
       "Matrix([\n",
       "[1,        0,        0,        0],\n",
       "[0, -A(t)**2,        0,        0],\n",
       "[0,        0, -A(t)**2,        0],\n",
       "[0,        0,        0, -A(t)**2]])"
      ]
     },
     "metadata": {},
     "output_type": "display_data"
    }
   ],
   "source": [
    "import pytearcat as pt\n",
    "import sympy as sp\n",
    "t,x,y,z = pt.coords('t,x,y,z')\n",
    "A = pt.fun('A','t')\n",
    "g = pt.metric('ds2 = dt**2 - A**2*dx**2 - A**2*dy**2 - A**2*dz**2')"
   ]
  },
  {
   "cell_type": "code",
   "execution_count": 2,
   "metadata": {},
   "outputs": [
    {
     "name": "stdout",
     "output_type": "stream",
     "text": [
      "Elements assigned correctly to the _,^ components\n",
      "Elements assigned correctly to the ^,_ components\n"
     ]
    },
    {
     "data": {
      "text/latex": [
       "$\\displaystyle \\left[\\begin{matrix}1 & 0 & 0 & 0\\\\0 & A{\\left(t \\right)} & 0 & 0\\\\0 & 0 & A{\\left(t \\right)} & 0\\\\0 & 0 & 0 & A{\\left(t \\right)}\\end{matrix}\\right]$"
      ],
      "text/plain": [
       "⎡1   0     0     0  ⎤\n",
       "⎢                   ⎥\n",
       "⎢0  A(t)   0     0  ⎥\n",
       "⎢                   ⎥\n",
       "⎢0   0    A(t)   0  ⎥\n",
       "⎢                   ⎥\n",
       "⎣0   0     0    A(t)⎦"
      ]
     },
     "metadata": {},
     "output_type": "display_data"
    },
    {
     "data": {
      "text/latex": [
       "$\\displaystyle \\left[\\begin{matrix}1.0 & 0 & 0 & 0\\\\0 & \\frac{1}{A{\\left(t \\right)}} & 0 & 0\\\\0 & 0 & \\frac{1}{A{\\left(t \\right)}} & 0\\\\0 & 0 & 0 & \\frac{1}{A{\\left(t \\right)}}\\end{matrix}\\right]$"
      ],
      "text/plain": [
       "⎡1.0   0     0     0  ⎤\n",
       "⎢                     ⎥\n",
       "⎢      1              ⎥\n",
       "⎢ 0   ────   0     0  ⎥\n",
       "⎢     A(t)            ⎥\n",
       "⎢                     ⎥\n",
       "⎢            1        ⎥\n",
       "⎢ 0    0    ────   0  ⎥\n",
       "⎢           A(t)      ⎥\n",
       "⎢                     ⎥\n",
       "⎢                  1  ⎥\n",
       "⎢ 0    0     0    ────⎥\n",
       "⎣                 A(t)⎦"
      ]
     },
     "metadata": {},
     "output_type": "display_data"
    }
   ],
   "source": [
    "e = pt.ten('e',2)\n",
    "Matrix_e = [[1,0,0,0],[0,A,0,0],[0,0,A,0],[0,0,0,A]]\n",
    "Matrix_e_inv = [[1/1,0,0,0],[0,1/A,0,0],[0,0,1/A,0],[0,0,0,1/A]]\n",
    "e.assign(Matrix_e,'_,^')\n",
    "e.assign(Matrix_e_inv,'^,_')\n",
    "e.display('_,^')\n",
    "e.display('^,_')"
   ]
  },
  {
   "cell_type": "code",
   "execution_count": 3,
   "metadata": {},
   "outputs": [
    {
     "name": "stdout",
     "output_type": "stream",
     "text": [
      "Elements assigned correctly to the ^d,_u,_v components\n"
     ]
    },
    {
     "data": {
      "text/latex": [
       "$\\displaystyle {Gamma}{}^{1}\\,{}_{1}\\,{}_{0}\\, = \\frac{\\frac{d}{d t} A{\\left(t \\right)}}{A{\\left(t \\right)}}$"
      ],
      "text/plain": [
       "<IPython.core.display.Math object>"
      ]
     },
     "metadata": {},
     "output_type": "display_data"
    },
    {
     "data": {
      "text/latex": [
       "$\\displaystyle {Gamma}{}^{2}\\,{}_{2}\\,{}_{0}\\, = \\frac{\\frac{d}{d t} A{\\left(t \\right)}}{A{\\left(t \\right)}}$"
      ],
      "text/plain": [
       "<IPython.core.display.Math object>"
      ]
     },
     "metadata": {},
     "output_type": "display_data"
    },
    {
     "data": {
      "text/latex": [
       "$\\displaystyle {Gamma}{}^{3}\\,{}_{3}\\,{}_{0}\\, = \\frac{\\frac{d}{d t} A{\\left(t \\right)}}{A{\\left(t \\right)}}$"
      ],
      "text/plain": [
       "<IPython.core.display.Math object>"
      ]
     },
     "metadata": {},
     "output_type": "display_data"
    }
   ],
   "source": [
    "Gamma = pt.ten('Gamma',3)\n",
    "Gamma.assign(e('^d,_i')* pt.D(e('_u,^i'),'_v'),\"^d,_u,_v\")\n",
    "Gamma.display('^,_,_')"
   ]
  },
  {
   "cell_type": "code",
   "execution_count": 4,
   "metadata": {},
   "outputs": [
    {
     "data": {
      "image/png": "[encoded data removed]",
      "text/latex": [
       "$\\displaystyle A^{3}{\\left(t \\right)}$"
      ],
      "text/plain": [
       " 3   \n",
       "A (t)"
      ]
     },
     "execution_count": 4,
     "metadata": {},
     "output_type": "execute_result"
    }
   ],
   "source": [
    "det_e = sp.det(sp.Matrix(Matrix_e))\n",
    "det_e"
   ]
  },
  {
   "cell_type": "code",
   "execution_count": 5,
   "metadata": {},
   "outputs": [
    {
     "name": "stdout",
     "output_type": "stream",
     "text": [
      "Elements assigned correctly to the ^d,_u,_v components\n"
     ]
    },
    {
     "data": {
      "text/latex": [
       "$\\displaystyle {T}{}^{1}\\,{}_{0}\\,{}_{1}\\, = \\frac{\\frac{d}{d t} A{\\left(t \\right)}}{A{\\left(t \\right)}}$"
      ],
      "text/plain": [
       "<IPython.core.display.Math object>"
      ]
     },
     "metadata": {},
     "output_type": "display_data"
    },
    {
     "data": {
      "text/latex": [
       "$\\displaystyle {T}{}^{1}\\,{}_{1}\\,{}_{0}\\, = - \\frac{\\frac{d}{d t} A{\\left(t \\right)}}{A{\\left(t \\right)}}$"
      ],
      "text/plain": [
       "<IPython.core.display.Math object>"
      ]
     },
     "metadata": {},
     "output_type": "display_data"
    },
    {
     "data": {
      "text/latex": [
       "$\\displaystyle {T}{}^{2}\\,{}_{0}\\,{}_{2}\\, = \\frac{\\frac{d}{d t} A{\\left(t \\right)}}{A{\\left(t \\right)}}$"
      ],
      "text/plain": [
       "<IPython.core.display.Math object>"
      ]
     },
     "metadata": {},
     "output_type": "display_data"
    },
    {
     "data": {
      "text/latex": [
       "$\\displaystyle {T}{}^{2}\\,{}_{2}\\,{}_{0}\\, = - \\frac{\\frac{d}{d t} A{\\left(t \\right)}}{A{\\left(t \\right)}}$"
      ],
      "text/plain": [
       "<IPython.core.display.Math object>"
      ]
     },
     "metadata": {},
     "output_type": "display_data"
    },
    {
     "data": {
      "text/latex": [
       "$\\displaystyle {T}{}^{3}\\,{}_{0}\\,{}_{3}\\, = \\frac{\\frac{d}{d t} A{\\left(t \\right)}}{A{\\left(t \\right)}}$"
      ],
      "text/plain": [
       "<IPython.core.display.Math object>"
      ]
     },
     "metadata": {},
     "output_type": "display_data"
    },
    {
     "data": {
      "text/latex": [
       "$\\displaystyle {T}{}^{3}\\,{}_{3}\\,{}_{0}\\, = - \\frac{\\frac{d}{d t} A{\\left(t \\right)}}{A{\\left(t \\right)}}$"
      ],
      "text/plain": [
       "<IPython.core.display.Math object>"
      ]
     },
     "metadata": {},
     "output_type": "display_data"
    }
   ],
   "source": [
    "T = pt.ten('T',3)\n",
    "T.assign(Gamma('^d,_v,_u')-Gamma('^d,_u,_v'),\"^d,_u,_v\")\n",
    "T.display('^,_,_')"
   ]
  },
  {
   "cell_type": "code",
   "execution_count": 6,
   "metadata": {},
   "outputs": [
    {
     "data": {
      "application/vnd.jupyter.widget-view+json": {
       "model_id": "f6d4addfe5bc4872a9c04aeeb77545fa",
       "version_major": 2,
       "version_minor": 0
      },
      "text/plain": [
       "T Tensor $T{_\\alpha}{_\\beta}{_\\gamma}$:   0%|          | 0/64 [00:00<?, ?it/s]"
      ]
     },
     "metadata": {},
     "output_type": "display_data"
    },
    {
     "data": {
      "application/vnd.jupyter.widget-view+json": {
       "model_id": "bdc508235a3046b4bfc05487ca169cff",
       "version_major": 2,
       "version_minor": 0
      },
      "text/plain": [
       "T Tensor $T{^\\alpha}{^\\beta}{_\\gamma}$:   0%|          | 0/64 [00:00<?, ?it/s]"
      ]
     },
     "metadata": {},
     "output_type": "display_data"
    },
    {
     "data": {
      "application/vnd.jupyter.widget-view+json": {
       "model_id": "b44b303ab93544239f4e52ac70d41f2d",
       "version_major": 2,
       "version_minor": 0
      },
      "text/plain": [
       "T Tensor $T{^\\alpha}{^\\beta}{^\\gamma}$:   0%|          | 0/64 [00:00<?, ?it/s]"
      ]
     },
     "metadata": {},
     "output_type": "display_data"
    },
    {
     "data": {
      "application/vnd.jupyter.widget-view+json": {
       "model_id": "8c0077f8b913461c9b0c08585adafe9e",
       "version_major": 2,
       "version_minor": 0
      },
      "text/plain": [
       "T Tensor $T{^\\alpha}{_\\beta}{^\\gamma}$:   0%|          | 0/64 [00:00<?, ?it/s]"
      ]
     },
     "metadata": {},
     "output_type": "display_data"
    },
    {
     "data": {
      "application/vnd.jupyter.widget-view+json": {
       "model_id": "aae1aa2add49491ba8fcfe1fad687a30",
       "version_major": 2,
       "version_minor": 0
      },
      "text/plain": [
       "T Tensor $T{_\\alpha}{^\\beta}{_\\gamma}$:   0%|          | 0/64 [00:00<?, ?it/s]"
      ]
     },
     "metadata": {},
     "output_type": "display_data"
    },
    {
     "data": {
      "application/vnd.jupyter.widget-view+json": {
       "model_id": "f62566b3c954451e9b6a2984516839f1",
       "version_major": 2,
       "version_minor": 0
      },
      "text/plain": [
       "T Tensor $T{_\\alpha}{^\\beta}{^\\gamma}$:   0%|          | 0/64 [00:00<?, ?it/s]"
      ]
     },
     "metadata": {},
     "output_type": "display_data"
    },
    {
     "data": {
      "application/vnd.jupyter.widget-view+json": {
       "model_id": "998335163e054b4a88620afeca95fbe6",
       "version_major": 2,
       "version_minor": 0
      },
      "text/plain": [
       "T Tensor $T{_\\alpha}{_\\beta}{^\\gamma}$:   0%|          | 0/64 [00:00<?, ?it/s]"
      ]
     },
     "metadata": {},
     "output_type": "display_data"
    },
    {
     "data": {
      "text/latex": [
       "All other indices of T Tensor $T$  already calculated."
      ],
      "text/plain": [
       "<IPython.core.display.Latex object>"
      ]
     },
     "metadata": {},
     "output_type": "display_data"
    }
   ],
   "source": [
    "T.complete('^,_,_')"
   ]
  },
  {
   "cell_type": "code",
   "execution_count": 17,
   "metadata": {},
   "outputs": [
    {
     "name": "stdout",
     "output_type": "stream",
     "text": [
      "Elements assigned correctly to the ^roh,_mu,_nu components\n"
     ]
    },
    {
     "data": {
      "text/latex": [
       "$\\displaystyle {K}{}^{0}\\,{}_{1}\\,{}_{1}\\, = - A{\\left(t \\right)} \\frac{d}{d t} A{\\left(t \\right)}$"
      ],
      "text/plain": [
       "<IPython.core.display.Math object>"
      ]
     },
     "metadata": {},
     "output_type": "display_data"
    },
    {
     "data": {
      "text/latex": [
       "$\\displaystyle {K}{}^{0}\\,{}_{2}\\,{}_{2}\\, = - A{\\left(t \\right)} \\frac{d}{d t} A{\\left(t \\right)}$"
      ],
      "text/plain": [
       "<IPython.core.display.Math object>"
      ]
     },
     "metadata": {},
     "output_type": "display_data"
    },
    {
     "data": {
      "text/latex": [
       "$\\displaystyle {K}{}^{0}\\,{}_{3}\\,{}_{3}\\, = - A{\\left(t \\right)} \\frac{d}{d t} A{\\left(t \\right)}$"
      ],
      "text/plain": [
       "<IPython.core.display.Math object>"
      ]
     },
     "metadata": {},
     "output_type": "display_data"
    },
    {
     "data": {
      "text/latex": [
       "$\\displaystyle {K}{}^{1}\\,{}_{0}\\,{}_{1}\\, = - \\frac{\\frac{d}{d t} A{\\left(t \\right)}}{A{\\left(t \\right)}}$"
      ],
      "text/plain": [
       "<IPython.core.display.Math object>"
      ]
     },
     "metadata": {},
     "output_type": "display_data"
    },
    {
     "data": {
      "text/latex": [
       "$\\displaystyle {K}{}^{2}\\,{}_{0}\\,{}_{2}\\, = - \\frac{\\frac{d}{d t} A{\\left(t \\right)}}{A{\\left(t \\right)}}$"
      ],
      "text/plain": [
       "<IPython.core.display.Math object>"
      ]
     },
     "metadata": {},
     "output_type": "display_data"
    },
    {
     "data": {
      "text/latex": [
       "$\\displaystyle {K}{}^{3}\\,{}_{0}\\,{}_{3}\\, = - \\frac{\\frac{d}{d t} A{\\left(t \\right)}}{A{\\left(t \\right)}}$"
      ],
      "text/plain": [
       "<IPython.core.display.Math object>"
      ]
     },
     "metadata": {},
     "output_type": "display_data"
    },
    {
     "data": {
      "application/vnd.jupyter.widget-view+json": {
       "model_id": "c022e129d2bf4ed297579289c868719e",
       "version_major": 2,
       "version_minor": 0
      },
      "text/plain": [
       "K Tensor $K{_\\alpha}{_\\beta}{_\\gamma}$:   0%|          | 0/64 [00:00<?, ?it/s]"
      ]
     },
     "metadata": {},
     "output_type": "display_data"
    },
    {
     "data": {
      "application/vnd.jupyter.widget-view+json": {
       "model_id": "c6c4383fa9d6401f93c5bee828adb398",
       "version_major": 2,
       "version_minor": 0
      },
      "text/plain": [
       "K Tensor $K{^\\alpha}{^\\beta}{_\\gamma}$:   0%|          | 0/64 [00:00<?, ?it/s]"
      ]
     },
     "metadata": {},
     "output_type": "display_data"
    },
    {
     "data": {
      "application/vnd.jupyter.widget-view+json": {
       "model_id": "3e2500d18b104ca1aa7d7f981e9dfccb",
       "version_major": 2,
       "version_minor": 0
      },
      "text/plain": [
       "K Tensor $K{^\\alpha}{^\\beta}{^\\gamma}$:   0%|          | 0/64 [00:00<?, ?it/s]"
      ]
     },
     "metadata": {},
     "output_type": "display_data"
    },
    {
     "data": {
      "application/vnd.jupyter.widget-view+json": {
       "model_id": "5e4abd5112df4dfaafd49293ca70db7f",
       "version_major": 2,
       "version_minor": 0
      },
      "text/plain": [
       "K Tensor $K{^\\alpha}{_\\beta}{^\\gamma}$:   0%|          | 0/64 [00:00<?, ?it/s]"
      ]
     },
     "metadata": {},
     "output_type": "display_data"
    },
    {
     "data": {
      "application/vnd.jupyter.widget-view+json": {
       "model_id": "ecd4f485e6684da7994d020354f1b4cf",
       "version_major": 2,
       "version_minor": 0
      },
      "text/plain": [
       "K Tensor $K{_\\alpha}{^\\beta}{_\\gamma}$:   0%|          | 0/64 [00:00<?, ?it/s]"
      ]
     },
     "metadata": {},
     "output_type": "display_data"
    },
    {
     "data": {
      "application/vnd.jupyter.widget-view+json": {
       "model_id": "a81bd232c87746eca33c00aca607dee0",
       "version_major": 2,
       "version_minor": 0
      },
      "text/plain": [
       "K Tensor $K{_\\alpha}{^\\beta}{^\\gamma}$:   0%|          | 0/64 [00:00<?, ?it/s]"
      ]
     },
     "metadata": {},
     "output_type": "display_data"
    },
    {
     "data": {
      "application/vnd.jupyter.widget-view+json": {
       "model_id": "2e1cf9ecc7064162ab285e65a4f129c7",
       "version_major": 2,
       "version_minor": 0
      },
      "text/plain": [
       "K Tensor $K{_\\alpha}{_\\beta}{^\\gamma}$:   0%|          | 0/64 [00:00<?, ?it/s]"
      ]
     },
     "metadata": {},
     "output_type": "display_data"
    },
    {
     "data": {
      "text/latex": [
       "All other indices of K Tensor $K$  already calculated."
      ],
      "text/plain": [
       "<IPython.core.display.Latex object>"
      ]
     },
     "metadata": {},
     "output_type": "display_data"
    }
   ],
   "source": [
    "K = pt.ten(\"K\",3)\n",
    "K.assign(sp.Rational(1,2)*(T(\"_mu,^roh,_nu\")+T(\"_nu,^roh,_mu\")-T(\"^roh,_mu,_nu\")),'^roh,_mu,_nu')\n",
    "K.display(\"^,_,_\")\n",
    "K.complete('^,_,_')"
   ]
  },
  {
   "cell_type": "code",
   "execution_count": 18,
   "metadata": {},
   "outputs": [
    {
     "name": "stdout",
     "output_type": "stream",
     "text": [
      "Elements assigned correctly to the _roh,^mu,^nu components\n"
     ]
    },
    {
     "data": {
      "text/latex": [
       "$\\displaystyle {S}{}_{1}\\,{}^{0}\\,{}^{1}\\, = - \\frac{2 \\frac{d}{d t} A{\\left(t \\right)}}{A{\\left(t \\right)}}$"
      ],
      "text/plain": [
       "<IPython.core.display.Math object>"
      ]
     },
     "metadata": {},
     "output_type": "display_data"
    },
    {
     "data": {
      "text/latex": [
       "$\\displaystyle {S}{}_{1}\\,{}^{1}\\,{}^{0}\\, = \\frac{2 \\frac{d}{d t} A{\\left(t \\right)}}{A{\\left(t \\right)}}$"
      ],
      "text/plain": [
       "<IPython.core.display.Math object>"
      ]
     },
     "metadata": {},
     "output_type": "display_data"
    },
    {
     "data": {
      "text/latex": [
       "$\\displaystyle {S}{}_{2}\\,{}^{0}\\,{}^{2}\\, = - \\frac{2 \\frac{d}{d t} A{\\left(t \\right)}}{A{\\left(t \\right)}}$"
      ],
      "text/plain": [
       "<IPython.core.display.Math object>"
      ]
     },
     "metadata": {},
     "output_type": "display_data"
    },
    {
     "data": {
      "text/latex": [
       "$\\displaystyle {S}{}_{2}\\,{}^{2}\\,{}^{0}\\, = \\frac{2 \\frac{d}{d t} A{\\left(t \\right)}}{A{\\left(t \\right)}}$"
      ],
      "text/plain": [
       "<IPython.core.display.Math object>"
      ]
     },
     "metadata": {},
     "output_type": "display_data"
    },
    {
     "data": {
      "text/latex": [
       "$\\displaystyle {S}{}_{3}\\,{}^{0}\\,{}^{3}\\, = - \\frac{2 \\frac{d}{d t} A{\\left(t \\right)}}{A{\\left(t \\right)}}$"
      ],
      "text/plain": [
       "<IPython.core.display.Math object>"
      ]
     },
     "metadata": {},
     "output_type": "display_data"
    },
    {
     "data": {
      "text/latex": [
       "$\\displaystyle {S}{}_{3}\\,{}^{3}\\,{}^{0}\\, = \\frac{2 \\frac{d}{d t} A{\\left(t \\right)}}{A{\\left(t \\right)}}$"
      ],
      "text/plain": [
       "<IPython.core.display.Math object>"
      ]
     },
     "metadata": {},
     "output_type": "display_data"
    },
    {
     "data": {
      "application/vnd.jupyter.widget-view+json": {
       "model_id": "edef0857f51449ec8034d73d6564442f",
       "version_major": 2,
       "version_minor": 0
      },
      "text/plain": [
       "S Tensor $S{_\\alpha}{_\\beta}{^\\gamma}$:   0%|          | 0/64 [00:00<?, ?it/s]"
      ]
     },
     "metadata": {},
     "output_type": "display_data"
    },
    {
     "data": {
      "application/vnd.jupyter.widget-view+json": {
       "model_id": "6f5c9b36b815416086c78f4eb6eb5f82",
       "version_major": 2,
       "version_minor": 0
      },
      "text/plain": [
       "S Tensor $S{_\\alpha}{_\\beta}{_\\gamma}$:   0%|          | 0/64 [00:00<?, ?it/s]"
      ]
     },
     "metadata": {},
     "output_type": "display_data"
    },
    {
     "data": {
      "application/vnd.jupyter.widget-view+json": {
       "model_id": "ca3025636af5433d9cb56781644855d2",
       "version_major": 2,
       "version_minor": 0
      },
      "text/plain": [
       "S Tensor $S{^\\alpha}{_\\beta}{_\\gamma}$:   0%|          | 0/64 [00:00<?, ?it/s]"
      ]
     },
     "metadata": {},
     "output_type": "display_data"
    },
    {
     "data": {
      "application/vnd.jupyter.widget-view+json": {
       "model_id": "469053dd2abc4baab8b79fa0c8df3663",
       "version_major": 2,
       "version_minor": 0
      },
      "text/plain": [
       "S Tensor $S{^\\alpha}{^\\beta}{_\\gamma}$:   0%|          | 0/64 [00:00<?, ?it/s]"
      ]
     },
     "metadata": {},
     "output_type": "display_data"
    },
    {
     "data": {
      "application/vnd.jupyter.widget-view+json": {
       "model_id": "23375f6114834879bead80acd896da7c",
       "version_major": 2,
       "version_minor": 0
      },
      "text/plain": [
       "S Tensor $S{^\\alpha}{^\\beta}{^\\gamma}$:   0%|          | 0/64 [00:00<?, ?it/s]"
      ]
     },
     "metadata": {},
     "output_type": "display_data"
    },
    {
     "data": {
      "application/vnd.jupyter.widget-view+json": {
       "model_id": "f9e0ffafdf34473995d1b6970b317bec",
       "version_major": 2,
       "version_minor": 0
      },
      "text/plain": [
       "S Tensor $S{^\\alpha}{_\\beta}{^\\gamma}$:   0%|          | 0/64 [00:00<?, ?it/s]"
      ]
     },
     "metadata": {},
     "output_type": "display_data"
    },
    {
     "data": {
      "application/vnd.jupyter.widget-view+json": {
       "model_id": "8d68825ed0c6469f829a794f02975b52",
       "version_major": 2,
       "version_minor": 0
      },
      "text/plain": [
       "S Tensor $S{_\\alpha}{^\\beta}{_\\gamma}$:   0%|          | 0/64 [00:00<?, ?it/s]"
      ]
     },
     "metadata": {},
     "output_type": "display_data"
    },
    {
     "data": {
      "text/latex": [
       "All other indices of S Tensor $S$  already calculated."
      ],
      "text/plain": [
       "<IPython.core.display.Latex object>"
      ]
     },
     "metadata": {},
     "output_type": "display_data"
    }
   ],
   "source": [
    "KD = pt.kdelta()\n",
    "S = pt.ten(\"S\",3)\n",
    "S.assign((K(\"^mu,^nu,_roh\")-KD('^mu,_roh')*T(\"_sigma,^sigma,^nu\")+KD('^nu,_roh')*T(\"_sigma,^sigma,^mu\")),'_roh,^mu,^nu')\n",
    "S.display('_,^,^')\n",
    "S.complete('_,^,^')"
   ]
  },
  {
   "cell_type": "code",
   "execution_count": 19,
   "metadata": {},
   "outputs": [
    {
     "data": {
      "image/png": "[encoded data removed]",
      "text/latex": [
       "$\\displaystyle - \\frac{6 \\left(\\frac{d}{d t} A{\\left(t \\right)}\\right)^{2}}{A^{2}{\\left(t \\right)}}$"
      ],
      "text/plain": [
       "             2 \n",
       "   ⎛d       ⎞  \n",
       "-6⋅⎜──(A(t))⎟  \n",
       "   ⎝dt      ⎠  \n",
       "───────────────\n",
       "      2        \n",
       "     A (t)     "
      ]
     },
     "execution_count": 19,
     "metadata": {},
     "output_type": "execute_result"
    }
   ],
   "source": [
    "sp.simplify(sp.Rational(1,2)*S('_roh,^mu,^nu')*T('^roh,_mu,_nu'))"
   ]
  },
  {
   "cell_type": "code",
   "execution_count": 20,
   "metadata": {},
   "outputs": [],
   "source": [
    "L = sp.Function('L')(t)\n",
    "f = sp.Function('f')(L)\n",
    "ft=sp.diff(f,L)\n",
    "ftt=sp.diff(f,L,2)"
   ]
  },
  {
   "cell_type": "code",
   "execution_count": 21,
   "metadata": {},
   "outputs": [
    {
     "name": "stdout",
     "output_type": "stream",
     "text": [
      "Elements assigned correctly to the ^nu,_mu components\n"
     ]
    },
    {
     "data": {
      "text/latex": [
       "$\\displaystyle {LHS}{}^{0}\\,{}_{0}\\, = \\frac{f{\\left(L{\\left(t \\right)} \\right)}}{4}$"
      ],
      "text/plain": [
       "<IPython.core.display.Math object>"
      ]
     },
     "metadata": {},
     "output_type": "display_data"
    },
    {
     "data": {
      "text/latex": [
       "$\\displaystyle {LHS}{}^{1}\\,{}_{1}\\, = \\frac{f{\\left(L{\\left(t \\right)} \\right)}}{4} + \\frac{2 \\frac{d}{d t} A{\\left(t \\right)} \\frac{d}{d t} L{\\left(t \\right)} \\frac{d^{2}}{d L{\\left(t \\right)}^{2}} f{\\left(L{\\left(t \\right)} \\right)}}{A{\\left(t \\right)}} + \\frac{2 \\frac{d^{2}}{d t^{2}} A{\\left(t \\right)} \\frac{d}{d L{\\left(t \\right)}} f{\\left(L{\\left(t \\right)} \\right)}}{A{\\left(t \\right)}} + \\frac{4 \\left(\\frac{d}{d t} A{\\left(t \\right)}\\right)^{2} \\frac{d}{d L{\\left(t \\right)}} f{\\left(L{\\left(t \\right)} \\right)}}{A^{2}{\\left(t \\right)}}$"
      ],
      "text/plain": [
       "<IPython.core.display.Math object>"
      ]
     },
     "metadata": {},
     "output_type": "display_data"
    },
    {
     "data": {
      "text/latex": [
       "$\\displaystyle {LHS}{}^{2}\\,{}_{2}\\, = \\frac{f{\\left(L{\\left(t \\right)} \\right)}}{4} + \\frac{2 \\frac{d}{d t} A{\\left(t \\right)} \\frac{d}{d t} L{\\left(t \\right)} \\frac{d^{2}}{d L{\\left(t \\right)}^{2}} f{\\left(L{\\left(t \\right)} \\right)}}{A{\\left(t \\right)}} + \\frac{2 \\frac{d^{2}}{d t^{2}} A{\\left(t \\right)} \\frac{d}{d L{\\left(t \\right)}} f{\\left(L{\\left(t \\right)} \\right)}}{A{\\left(t \\right)}} + \\frac{4 \\left(\\frac{d}{d t} A{\\left(t \\right)}\\right)^{2} \\frac{d}{d L{\\left(t \\right)}} f{\\left(L{\\left(t \\right)} \\right)}}{A^{2}{\\left(t \\right)}}$"
      ],
      "text/plain": [
       "<IPython.core.display.Math object>"
      ]
     },
     "metadata": {},
     "output_type": "display_data"
    },
    {
     "data": {
      "text/latex": [
       "$\\displaystyle {LHS}{}^{3}\\,{}_{3}\\, = \\frac{f{\\left(L{\\left(t \\right)} \\right)}}{4} + \\frac{2 \\frac{d}{d t} A{\\left(t \\right)} \\frac{d}{d t} L{\\left(t \\right)} \\frac{d^{2}}{d L{\\left(t \\right)}^{2}} f{\\left(L{\\left(t \\right)} \\right)}}{A{\\left(t \\right)}} + \\frac{2 \\frac{d^{2}}{d t^{2}} A{\\left(t \\right)} \\frac{d}{d L{\\left(t \\right)}} f{\\left(L{\\left(t \\right)} \\right)}}{A{\\left(t \\right)}} + \\frac{4 \\left(\\frac{d}{d t} A{\\left(t \\right)}\\right)^{2} \\frac{d}{d L{\\left(t \\right)}} f{\\left(L{\\left(t \\right)} \\right)}}{A^{2}{\\left(t \\right)}}$"
      ],
      "text/plain": [
       "<IPython.core.display.Math object>"
      ]
     },
     "metadata": {},
     "output_type": "display_data"
    }
   ],
   "source": [
    "#1st Form of Field Equation in F(T)\n",
    "LHS = pt.ten('LHS',2)\n",
    "value = (det_e**(-1)*e('^i,_mu')*pt.D(det_e*e('_i,^alpha')*S('_alpha,^nu,^rho'),'_rho')*(ft) + S('^nu,^lambda,_alpha')*T('^alpha,_lambda,_mu')*(ft)) - S('^nu,^rho,_mu')*pt.D(L,'_rho')*ftt + sp.Rational(1,4)*KD('^nu,_mu')*(f)\n",
    "LHS.assign(value,'^nu,_mu')\n",
    "LHS.simplify()\n",
    "LHS.display(\"^,_\",aslist=True)"
   ]
  },
  {
   "cell_type": "code",
   "execution_count": 14,
   "metadata": {},
   "outputs": [
    {
     "name": "stdout",
     "output_type": "stream",
     "text": [
      "Elements assigned correctly to the ^nu,_mu components\n"
     ]
    },
    {
     "data": {
      "text/latex": [
       "$\\displaystyle {LHS}{}^{1}\\,{}_{1}\\, = \\frac{A{\\left(t \\right)} \\frac{d^{2}}{d t^{2}} A{\\left(t \\right)} + 2 \\left(\\frac{d}{d t} A{\\left(t \\right)}\\right)^{2}}{A^{2}{\\left(t \\right)}}$"
      ],
      "text/plain": [
       "<IPython.core.display.Math object>"
      ]
     },
     "metadata": {},
     "output_type": "display_data"
    },
    {
     "data": {
      "text/latex": [
       "$\\displaystyle {LHS}{}^{2}\\,{}_{2}\\, = \\frac{A{\\left(t \\right)} \\frac{d^{2}}{d t^{2}} A{\\left(t \\right)} + 2 \\left(\\frac{d}{d t} A{\\left(t \\right)}\\right)^{2}}{A^{2}{\\left(t \\right)}}$"
      ],
      "text/plain": [
       "<IPython.core.display.Math object>"
      ]
     },
     "metadata": {},
     "output_type": "display_data"
    },
    {
     "data": {
      "text/latex": [
       "$\\displaystyle {LHS}{}^{3}\\,{}_{3}\\, = \\frac{A{\\left(t \\right)} \\frac{d^{2}}{d t^{2}} A{\\left(t \\right)} + 2 \\left(\\frac{d}{d t} A{\\left(t \\right)}\\right)^{2}}{A^{2}{\\left(t \\right)}}$"
      ],
      "text/plain": [
       "<IPython.core.display.Math object>"
      ]
     },
     "metadata": {},
     "output_type": "display_data"
    }
   ],
   "source": [
    "LHS = pt.ten('LHS',2)\n",
    "value = det_e**(-1)*e('^i,_mu')*pt.D(det_e*e('_i,^alpha')*S('_alpha,^nu,^rho'),'_rho') + S('^nu,^lambda,_alpha')*T('^alpha,_lambda,_mu')\n",
    "LHS.assign(value,'^nu,_mu')\n",
    "LHS.simplify()\n",
    "LHS.display(\"^,_\",aslist=True)"
   ]
  },
  {
   "cell_type": "code",
   "execution_count": 15,
   "metadata": {},
   "outputs": [
    {
     "name": "stdout",
     "output_type": "stream",
     "text": [
      "Elements assigned correctly to the _i,^nu components\n"
     ]
    },
    {
     "data": {
      "text/latex": [
       "$\\displaystyle {LHS2}{}_{0}\\,{}^{0}\\, = 0.25 f{\\left(L{\\left(t \\right)} \\right)} - \\frac{3.0 \\left(\\frac{d}{d t} A{\\left(t \\right)}\\right)^{2} \\frac{d}{d L{\\left(t \\right)}} f{\\left(L{\\left(t \\right)} \\right)}}{A^{2}{\\left(t \\right)}}$"
      ],
      "text/plain": [
       "<IPython.core.display.Math object>"
      ]
     },
     "metadata": {},
     "output_type": "display_data"
    },
    {
     "data": {
      "text/latex": [
       "$\\displaystyle {LHS2}{}_{1}\\,{}^{1}\\, = \\frac{f{\\left(L{\\left(t \\right)} \\right)}}{4 A{\\left(t \\right)}} - \\frac{\\frac{d}{d t} A{\\left(t \\right)} \\frac{d}{d t} L{\\left(t \\right)} \\frac{d^{2}}{d L{\\left(t \\right)}^{2}} f{\\left(L{\\left(t \\right)} \\right)}}{A{\\left(t \\right)}} - \\frac{\\frac{d^{2}}{d t^{2}} A{\\left(t \\right)} \\frac{d}{d L{\\left(t \\right)}} f{\\left(L{\\left(t \\right)} \\right)}}{A{\\left(t \\right)}} - \\frac{2 \\left(\\frac{d}{d t} A{\\left(t \\right)}\\right)^{2} \\frac{d}{d L{\\left(t \\right)}} f{\\left(L{\\left(t \\right)} \\right)}}{A^{2}{\\left(t \\right)}} - \\frac{\\left(\\frac{d}{d t} A{\\left(t \\right)}\\right)^{2} \\frac{d}{d L{\\left(t \\right)}} f{\\left(L{\\left(t \\right)} \\right)}}{A^{3}{\\left(t \\right)}}$"
      ],
      "text/plain": [
       "<IPython.core.display.Math object>"
      ]
     },
     "metadata": {},
     "output_type": "display_data"
    },
    {
     "data": {
      "text/latex": [
       "$\\displaystyle {LHS2}{}_{2}\\,{}^{2}\\, = \\frac{f{\\left(L{\\left(t \\right)} \\right)}}{4 A{\\left(t \\right)}} - \\frac{\\frac{d}{d t} A{\\left(t \\right)} \\frac{d}{d t} L{\\left(t \\right)} \\frac{d^{2}}{d L{\\left(t \\right)}^{2}} f{\\left(L{\\left(t \\right)} \\right)}}{A{\\left(t \\right)}} - \\frac{\\frac{d^{2}}{d t^{2}} A{\\left(t \\right)} \\frac{d}{d L{\\left(t \\right)}} f{\\left(L{\\left(t \\right)} \\right)}}{A{\\left(t \\right)}} - \\frac{2 \\left(\\frac{d}{d t} A{\\left(t \\right)}\\right)^{2} \\frac{d}{d L{\\left(t \\right)}} f{\\left(L{\\left(t \\right)} \\right)}}{A^{2}{\\left(t \\right)}} - \\frac{\\left(\\frac{d}{d t} A{\\left(t \\right)}\\right)^{2} \\frac{d}{d L{\\left(t \\right)}} f{\\left(L{\\left(t \\right)} \\right)}}{A^{3}{\\left(t \\right)}}$"
      ],
      "text/plain": [
       "<IPython.core.display.Math object>"
      ]
     },
     "metadata": {},
     "output_type": "display_data"
    },
    {
     "data": {
      "text/latex": [
       "$\\displaystyle {LHS2}{}_{3}\\,{}^{3}\\, = \\frac{f{\\left(L{\\left(t \\right)} \\right)}}{4 A{\\left(t \\right)}} - \\frac{\\frac{d}{d t} A{\\left(t \\right)} \\frac{d}{d t} L{\\left(t \\right)} \\frac{d^{2}}{d L{\\left(t \\right)}^{2}} f{\\left(L{\\left(t \\right)} \\right)}}{A{\\left(t \\right)}} - \\frac{\\frac{d^{2}}{d t^{2}} A{\\left(t \\right)} \\frac{d}{d L{\\left(t \\right)}} f{\\left(L{\\left(t \\right)} \\right)}}{A{\\left(t \\right)}} - \\frac{2 \\left(\\frac{d}{d t} A{\\left(t \\right)}\\right)^{2} \\frac{d}{d L{\\left(t \\right)}} f{\\left(L{\\left(t \\right)} \\right)}}{A^{2}{\\left(t \\right)}} - \\frac{\\left(\\frac{d}{d t} A{\\left(t \\right)}\\right)^{2} \\frac{d}{d L{\\left(t \\right)}} f{\\left(L{\\left(t \\right)} \\right)}}{A^{3}{\\left(t \\right)}}$"
      ],
      "text/plain": [
       "<IPython.core.display.Math object>"
      ]
     },
     "metadata": {},
     "output_type": "display_data"
    }
   ],
   "source": [
    "#2nd Form of Field Eqaution\n",
    "LHS2 = pt.ten('LHS2',2)\n",
    "value = (det_e**(-1)*pt.D(det_e*S('_i,^mu,^nu'),'_mu') - e('^lemda,_i')*S('_roh,^nu,^mu')*T('^roh,_mu,_lemda'))*(ft) + S('_i,^mu,^nu')*pt.D(L,'_mu')*ftt + sp.Rational(1,4)*e('^nu,_i')*(f)\n",
    "LHS2.assign(value,'_i,^nu')\n",
    "LHS2.simplify()\n",
    "LHS2.expand()\n",
    "LHS2.display(\"_,^\",aslist=True)"
   ]
  },
  {
   "cell_type": "code",
   "execution_count": 16,
   "metadata": {},
   "outputs": [
    {
     "name": "stdout",
     "output_type": "stream",
     "text": [
      "Elements assigned correctly to the _i,^nu components\n"
     ]
    },
    {
     "data": {
      "text/latex": [
       "$\\displaystyle {LHS2}{}_{0}\\,{}^{0}\\, = - \\frac{3.0 \\left(\\frac{d}{d t} A{\\left(t \\right)}\\right)^{2}}{A^{2}{\\left(t \\right)}}$"
      ],
      "text/plain": [
       "<IPython.core.display.Math object>"
      ]
     },
     "metadata": {},
     "output_type": "display_data"
    },
    {
     "data": {
      "text/latex": [
       "$\\displaystyle {LHS2}{}_{1}\\,{}^{1}\\, = - \\frac{\\frac{d^{2}}{d t^{2}} A{\\left(t \\right)}}{A{\\left(t \\right)}} - \\frac{2 \\left(\\frac{d}{d t} A{\\left(t \\right)}\\right)^{2}}{A^{2}{\\left(t \\right)}} - \\frac{\\left(\\frac{d}{d t} A{\\left(t \\right)}\\right)^{2}}{A^{3}{\\left(t \\right)}}$"
      ],
      "text/plain": [
       "<IPython.core.display.Math object>"
      ]
     },
     "metadata": {},
     "output_type": "display_data"
    },
    {
     "data": {
      "text/latex": [
       "$\\displaystyle {LHS2}{}_{2}\\,{}^{2}\\, = - \\frac{\\frac{d^{2}}{d t^{2}} A{\\left(t \\right)}}{A{\\left(t \\right)}} - \\frac{2 \\left(\\frac{d}{d t} A{\\left(t \\right)}\\right)^{2}}{A^{2}{\\left(t \\right)}} - \\frac{\\left(\\frac{d}{d t} A{\\left(t \\right)}\\right)^{2}}{A^{3}{\\left(t \\right)}}$"
      ],
      "text/plain": [
       "<IPython.core.display.Math object>"
      ]
     },
     "metadata": {},
     "output_type": "display_data"
    },
    {
     "data": {
      "text/latex": [
       "$\\displaystyle {LHS2}{}_{3}\\,{}^{3}\\, = - \\frac{\\frac{d^{2}}{d t^{2}} A{\\left(t \\right)}}{A{\\left(t \\right)}} - \\frac{2 \\left(\\frac{d}{d t} A{\\left(t \\right)}\\right)^{2}}{A^{2}{\\left(t \\right)}} - \\frac{\\left(\\frac{d}{d t} A{\\left(t \\right)}\\right)^{2}}{A^{3}{\\left(t \\right)}}$"
      ],
      "text/plain": [
       "<IPython.core.display.Math object>"
      ]
     },
     "metadata": {},
     "output_type": "display_data"
    }
   ],
   "source": [
    "LHS2 = pt.ten('LHS2',2)\n",
    "value = (det_e**(-1)*pt.D(det_e*S('_i,^mu,^nu'),'_mu') - e('^lemda,_i')*S('_roh,^nu,^mu')*T('^roh,_mu,_lemda'))\n",
    "LHS2.assign(value,'_i,^nu')\n",
    "LHS2.simplify()\n",
    "LHS2.expand()\n",
    "LHS2.display(\"_,^\",aslist=True)"
   ]
  }
 ],
 "metadata": {
  "interpreter": {
   "hash": "2fe84a340ba9287c7cb1571137a812dad7cb370584e1b8cf466a33e4cc3e43d3"
  },
  "kernelspec": {
   "display_name": "Python 3 (ipykernel)",
   "language": "python",
   "name": "python3"
  },
  "language_info": {
   "codemirror_mode": {
    "name": "ipython",
    "version": 3
   },
   "file_extension": ".py",
   "mimetype": "text/x-python",
   "name": "python",
   "nbconvert_exporter": "python",
   "pygments_lexer": "ipython3",
   "version": "3.6.7"
  }
 },
 "nbformat": 4,
 "nbformat_minor": 2
}
