{
 "cells": [
  {
   "cell_type": "code",
   "execution_count": 3,
   "metadata": {},
   "outputs": [],
   "source": [
    "import pytearcat as pt"
   ]
  },
  {
   "cell_type": "code",
   "execution_count": 4,
   "metadata": {},
   "outputs": [
    {
     "name": "stdout",
     "output_type": "stream",
     "text": [
      "Remember that the time coordinate must be the first coordinate.\n",
      "Function A(t) is already defined\n",
      "Function B(t) is already defined\n",
      "Function C(t) is already defined\n",
      "\n",
      "Dimension = 4\n",
      "Coordinates = t,x,y,z\n",
      "Metric defined successfully: \n",
      "\n"
     ]
    },
    {
     "data": {
      "text/latex": [
       "$\\displaystyle ds^2 = -1 \\cdot dt^2+A^{2}{\\left(t \\right)} \\cdot dx^2- 2 A^{2}{\\left(t \\right)} \\cos{\\left(y \\right)} \\cdot dx \\cdot dz+B^{2}{\\left(t \\right)} \\cdot dy^2+\\left(A^{2}{\\left(t \\right)} \\cos^{2}{\\left(y \\right)} + B^{2}{\\left(t \\right)} \\sin^{2}{\\left(y \\right)}\\right) \\cdot dz^2$"
      ],
      "text/plain": [
       "<IPython.core.display.Math object>"
      ]
     },
     "metadata": {},
     "output_type": "display_data"
    },
    {
     "data": {
      "text/latex": [
       "$\\displaystyle \\left[\\begin{matrix}-1 & 0 & 0 & 0\\\\0 & A^{2}{\\left(t \\right)} & 0 & - A^{2}{\\left(t \\right)} \\cos{\\left(y \\right)}\\\\0 & 0 & B^{2}{\\left(t \\right)} & 0\\\\0 & - A^{2}{\\left(t \\right)} \\cos{\\left(y \\right)} & 0 & A^{2}{\\left(t \\right)} \\cos^{2}{\\left(y \\right)} + B^{2}{\\left(t \\right)} \\sin^{2}{\\left(y \\right)}\\end{matrix}\\right]$"
      ],
      "text/plain": [
       "Matrix([\n",
       "[-1,               0,       0,                                     0],\n",
       "[ 0,         A(t)**2,       0,                       -A(t)**2*cos(y)],\n",
       "[ 0,               0, B(t)**2,                                     0],\n",
       "[ 0, -A(t)**2*cos(y),       0, A(t)**2*cos(y)**2 + B(t)**2*sin(y)**2]])"
      ]
     },
     "metadata": {},
     "output_type": "display_data"
    }
   ],
   "source": [
    "t,x,y,z = pt.coords('t,x,y,z')\n",
    "A = pt.fun('A','t')\n",
    "B = pt.fun('B','t')\n",
    "C = pt.fun('C','t')\n",
    "g = pt.metric('ds2 = -dt**2 + A**2*dx**2 + B**2*dy**2 + (B**2*sin(y)**2 +A**2*cos(y)**2)*dz**2 - 2*cos(y)*A**2*dz*dx')"
   ]
  },
  {
   "cell_type": "code",
   "execution_count": 5,
   "metadata": {},
   "outputs": [
    {
     "data": {
      "text/latex": [
       "Christoffel $\\Gamma_{\\alpha \\beta \\gamma}$ and $\\Gamma^{\\alpha}_{\\beta \\gamma}$"
      ],
      "text/plain": [
       "<IPython.core.display.Latex object>"
      ]
     },
     "metadata": {},
     "output_type": "display_data"
    },
    {
     "data": {
      "application/vnd.jupyter.widget-view+json": {
       "model_id": "ba18d09f24e94606a29168c42b760a36",
       "version_major": 2,
       "version_minor": 0
      },
      "text/plain": [
       "  0%|          | 0/64 [00:00<?, ?it/s]"
      ]
     },
     "metadata": {},
     "output_type": "display_data"
    },
    {
     "data": {
      "text/latex": [
       "$\\displaystyle {\\Gamma}{}_{0}\\,{}_{1}\\,{}_{1}\\, = - A{\\left(t \\right)} \\frac{d}{d t} A{\\left(t \\right)}$"
      ],
      "text/plain": [
       "<IPython.core.display.Math object>"
      ]
     },
     "metadata": {},
     "output_type": "display_data"
    },
    {
     "data": {
      "text/latex": [
       "$\\displaystyle {\\Gamma}{}_{0}\\,{}_{1}\\,{}_{3}\\, = A{\\left(t \\right)} \\cos{\\left(y \\right)} \\frac{d}{d t} A{\\left(t \\right)}$"
      ],
      "text/plain": [
       "<IPython.core.display.Math object>"
      ]
     },
     "metadata": {},
     "output_type": "display_data"
    },
    {
     "data": {
      "text/latex": [
       "$\\displaystyle {\\Gamma}{}_{0}\\,{}_{2}\\,{}_{2}\\, = - B{\\left(t \\right)} \\frac{d}{d t} B{\\left(t \\right)}$"
      ],
      "text/plain": [
       "<IPython.core.display.Math object>"
      ]
     },
     "metadata": {},
     "output_type": "display_data"
    },
    {
     "data": {
      "text/latex": [
       "$\\displaystyle {\\Gamma}{}_{0}\\,{}_{3}\\,{}_{1}\\, = A{\\left(t \\right)} \\cos{\\left(y \\right)} \\frac{d}{d t} A{\\left(t \\right)}$"
      ],
      "text/plain": [
       "<IPython.core.display.Math object>"
      ]
     },
     "metadata": {},
     "output_type": "display_data"
    },
    {
     "data": {
      "text/latex": [
       "$\\displaystyle {\\Gamma}{}_{0}\\,{}_{3}\\,{}_{3}\\, = - A{\\left(t \\right)} \\cos^{2}{\\left(y \\right)} \\frac{d}{d t} A{\\left(t \\right)} - B{\\left(t \\right)} \\sin^{2}{\\left(y \\right)} \\frac{d}{d t} B{\\left(t \\right)}$"
      ],
      "text/plain": [
       "<IPython.core.display.Math object>"
      ]
     },
     "metadata": {},
     "output_type": "display_data"
    },
    {
     "data": {
      "text/latex": [
       "$\\displaystyle {\\Gamma}{}_{1}\\,{}_{0}\\,{}_{1}\\, = A{\\left(t \\right)} \\frac{d}{d t} A{\\left(t \\right)}$"
      ],
      "text/plain": [
       "<IPython.core.display.Math object>"
      ]
     },
     "metadata": {},
     "output_type": "display_data"
    },
    {
     "data": {
      "text/latex": [
       "$\\displaystyle {\\Gamma}{}_{1}\\,{}_{0}\\,{}_{3}\\, = - A{\\left(t \\right)} \\cos{\\left(y \\right)} \\frac{d}{d t} A{\\left(t \\right)}$"
      ],
      "text/plain": [
       "<IPython.core.display.Math object>"
      ]
     },
     "metadata": {},
     "output_type": "display_data"
    },
    {
     "data": {
      "text/latex": [
       "$\\displaystyle {\\Gamma}{}_{1}\\,{}_{1}\\,{}_{0}\\, = A{\\left(t \\right)} \\frac{d}{d t} A{\\left(t \\right)}$"
      ],
      "text/plain": [
       "<IPython.core.display.Math object>"
      ]
     },
     "metadata": {},
     "output_type": "display_data"
    },
    {
     "data": {
      "text/latex": [
       "$\\displaystyle {\\Gamma}{}_{1}\\,{}_{2}\\,{}_{3}\\, = \\frac{A^{2}{\\left(t \\right)} \\sin{\\left(y \\right)}}{2}$"
      ],
      "text/plain": [
       "<IPython.core.display.Math object>"
      ]
     },
     "metadata": {},
     "output_type": "display_data"
    },
    {
     "data": {
      "text/latex": [
       "$\\displaystyle {\\Gamma}{}_{1}\\,{}_{3}\\,{}_{0}\\, = - A{\\left(t \\right)} \\cos{\\left(y \\right)} \\frac{d}{d t} A{\\left(t \\right)}$"
      ],
      "text/plain": [
       "<IPython.core.display.Math object>"
      ]
     },
     "metadata": {},
     "output_type": "display_data"
    },
    {
     "data": {
      "text/latex": [
       "$\\displaystyle {\\Gamma}{}_{1}\\,{}_{3}\\,{}_{2}\\, = \\frac{A^{2}{\\left(t \\right)} \\sin{\\left(y \\right)}}{2}$"
      ],
      "text/plain": [
       "<IPython.core.display.Math object>"
      ]
     },
     "metadata": {},
     "output_type": "display_data"
    },
    {
     "data": {
      "text/latex": [
       "$\\displaystyle {\\Gamma}{}_{2}\\,{}_{0}\\,{}_{2}\\, = B{\\left(t \\right)} \\frac{d}{d t} B{\\left(t \\right)}$"
      ],
      "text/plain": [
       "<IPython.core.display.Math object>"
      ]
     },
     "metadata": {},
     "output_type": "display_data"
    },
    {
     "data": {
      "text/latex": [
       "$\\displaystyle {\\Gamma}{}_{2}\\,{}_{1}\\,{}_{3}\\, = - \\frac{A^{2}{\\left(t \\right)} \\sin{\\left(y \\right)}}{2}$"
      ],
      "text/plain": [
       "<IPython.core.display.Math object>"
      ]
     },
     "metadata": {},
     "output_type": "display_data"
    },
    {
     "data": {
      "text/latex": [
       "$\\displaystyle {\\Gamma}{}_{2}\\,{}_{2}\\,{}_{0}\\, = B{\\left(t \\right)} \\frac{d}{d t} B{\\left(t \\right)}$"
      ],
      "text/plain": [
       "<IPython.core.display.Math object>"
      ]
     },
     "metadata": {},
     "output_type": "display_data"
    },
    {
     "data": {
      "text/latex": [
       "$\\displaystyle {\\Gamma}{}_{2}\\,{}_{3}\\,{}_{1}\\, = - \\frac{A^{2}{\\left(t \\right)} \\sin{\\left(y \\right)}}{2}$"
      ],
      "text/plain": [
       "<IPython.core.display.Math object>"
      ]
     },
     "metadata": {},
     "output_type": "display_data"
    },
    {
     "data": {
      "text/latex": [
       "$\\displaystyle {\\Gamma}{}_{2}\\,{}_{3}\\,{}_{3}\\, = \\left(A{\\left(t \\right)} - B{\\left(t \\right)}\\right) \\left(A{\\left(t \\right)} + B{\\left(t \\right)}\\right) \\sin{\\left(y \\right)} \\cos{\\left(y \\right)}$"
      ],
      "text/plain": [
       "<IPython.core.display.Math object>"
      ]
     },
     "metadata": {},
     "output_type": "display_data"
    },
    {
     "data": {
      "text/latex": [
       "$\\displaystyle {\\Gamma}{}_{3}\\,{}_{0}\\,{}_{1}\\, = - A{\\left(t \\right)} \\cos{\\left(y \\right)} \\frac{d}{d t} A{\\left(t \\right)}$"
      ],
      "text/plain": [
       "<IPython.core.display.Math object>"
      ]
     },
     "metadata": {},
     "output_type": "display_data"
    },
    {
     "data": {
      "text/latex": [
       "$\\displaystyle {\\Gamma}{}_{3}\\,{}_{0}\\,{}_{3}\\, = A{\\left(t \\right)} \\cos^{2}{\\left(y \\right)} \\frac{d}{d t} A{\\left(t \\right)} + B{\\left(t \\right)} \\sin^{2}{\\left(y \\right)} \\frac{d}{d t} B{\\left(t \\right)}$"
      ],
      "text/plain": [
       "<IPython.core.display.Math object>"
      ]
     },
     "metadata": {},
     "output_type": "display_data"
    },
    {
     "data": {
      "text/latex": [
       "$\\displaystyle {\\Gamma}{}_{3}\\,{}_{1}\\,{}_{0}\\, = - A{\\left(t \\right)} \\cos{\\left(y \\right)} \\frac{d}{d t} A{\\left(t \\right)}$"
      ],
      "text/plain": [
       "<IPython.core.display.Math object>"
      ]
     },
     "metadata": {},
     "output_type": "display_data"
    },
    {
     "data": {
      "text/latex": [
       "$\\displaystyle {\\Gamma}{}_{3}\\,{}_{1}\\,{}_{2}\\, = \\frac{A^{2}{\\left(t \\right)} \\sin{\\left(y \\right)}}{2}$"
      ],
      "text/plain": [
       "<IPython.core.display.Math object>"
      ]
     },
     "metadata": {},
     "output_type": "display_data"
    },
    {
     "data": {
      "text/latex": [
       "$\\displaystyle {\\Gamma}{}_{3}\\,{}_{2}\\,{}_{1}\\, = \\frac{A^{2}{\\left(t \\right)} \\sin{\\left(y \\right)}}{2}$"
      ],
      "text/plain": [
       "<IPython.core.display.Math object>"
      ]
     },
     "metadata": {},
     "output_type": "display_data"
    },
    {
     "data": {
      "text/latex": [
       "$\\displaystyle {\\Gamma}{}_{3}\\,{}_{2}\\,{}_{3}\\, = - \\left(A{\\left(t \\right)} - B{\\left(t \\right)}\\right) \\left(A{\\left(t \\right)} + B{\\left(t \\right)}\\right) \\sin{\\left(y \\right)} \\cos{\\left(y \\right)}$"
      ],
      "text/plain": [
       "<IPython.core.display.Math object>"
      ]
     },
     "metadata": {},
     "output_type": "display_data"
    },
    {
     "data": {
      "text/latex": [
       "$\\displaystyle {\\Gamma}{}_{3}\\,{}_{3}\\,{}_{0}\\, = A{\\left(t \\right)} \\cos^{2}{\\left(y \\right)} \\frac{d}{d t} A{\\left(t \\right)} + B{\\left(t \\right)} \\sin^{2}{\\left(y \\right)} \\frac{d}{d t} B{\\left(t \\right)}$"
      ],
      "text/plain": [
       "<IPython.core.display.Math object>"
      ]
     },
     "metadata": {},
     "output_type": "display_data"
    },
    {
     "data": {
      "text/latex": [
       "$\\displaystyle {\\Gamma}{}_{3}\\,{}_{3}\\,{}_{2}\\, = - \\left(A{\\left(t \\right)} - B{\\left(t \\right)}\\right) \\left(A{\\left(t \\right)} + B{\\left(t \\right)}\\right) \\sin{\\left(y \\right)} \\cos{\\left(y \\right)}$"
      ],
      "text/plain": [
       "<IPython.core.display.Math object>"
      ]
     },
     "metadata": {},
     "output_type": "display_data"
    },
    {
     "data": {
      "text/latex": [
       "$\\displaystyle {\\Gamma}{}^{0}\\,{}_{1}\\,{}_{1}\\, = A{\\left(t \\right)} \\frac{d}{d t} A{\\left(t \\right)}$"
      ],
      "text/plain": [
       "<IPython.core.display.Math object>"
      ]
     },
     "metadata": {},
     "output_type": "display_data"
    },
    {
     "data": {
      "text/latex": [
       "$\\displaystyle {\\Gamma}{}^{0}\\,{}_{1}\\,{}_{3}\\, = - A{\\left(t \\right)} \\cos{\\left(y \\right)} \\frac{d}{d t} A{\\left(t \\right)}$"
      ],
      "text/plain": [
       "<IPython.core.display.Math object>"
      ]
     },
     "metadata": {},
     "output_type": "display_data"
    },
    {
     "data": {
      "text/latex": [
       "$\\displaystyle {\\Gamma}{}^{0}\\,{}_{2}\\,{}_{2}\\, = B{\\left(t \\right)} \\frac{d}{d t} B{\\left(t \\right)}$"
      ],
      "text/plain": [
       "<IPython.core.display.Math object>"
      ]
     },
     "metadata": {},
     "output_type": "display_data"
    },
    {
     "data": {
      "text/latex": [
       "$\\displaystyle {\\Gamma}{}^{0}\\,{}_{3}\\,{}_{1}\\, = - A{\\left(t \\right)} \\cos{\\left(y \\right)} \\frac{d}{d t} A{\\left(t \\right)}$"
      ],
      "text/plain": [
       "<IPython.core.display.Math object>"
      ]
     },
     "metadata": {},
     "output_type": "display_data"
    },
    {
     "data": {
      "text/latex": [
       "$\\displaystyle {\\Gamma}{}^{0}\\,{}_{3}\\,{}_{3}\\, = A{\\left(t \\right)} \\cos^{2}{\\left(y \\right)} \\frac{d}{d t} A{\\left(t \\right)} + B{\\left(t \\right)} \\sin^{2}{\\left(y \\right)} \\frac{d}{d t} B{\\left(t \\right)}$"
      ],
      "text/plain": [
       "<IPython.core.display.Math object>"
      ]
     },
     "metadata": {},
     "output_type": "display_data"
    },
    {
     "data": {
      "text/latex": [
       "$\\displaystyle {\\Gamma}{}^{1}\\,{}_{0}\\,{}_{1}\\, = \\frac{\\frac{d}{d t} A{\\left(t \\right)}}{A{\\left(t \\right)}}$"
      ],
      "text/plain": [
       "<IPython.core.display.Math object>"
      ]
     },
     "metadata": {},
     "output_type": "display_data"
    },
    {
     "data": {
      "text/latex": [
       "$\\displaystyle {\\Gamma}{}^{1}\\,{}_{0}\\,{}_{3}\\, = \\frac{\\left(A{\\left(t \\right)} \\frac{d}{d t} B{\\left(t \\right)} - B{\\left(t \\right)} \\frac{d}{d t} A{\\left(t \\right)}\\right) \\cos{\\left(y \\right)}}{A{\\left(t \\right)} B{\\left(t \\right)}}$"
      ],
      "text/plain": [
       "<IPython.core.display.Math object>"
      ]
     },
     "metadata": {},
     "output_type": "display_data"
    },
    {
     "data": {
      "text/latex": [
       "$\\displaystyle {\\Gamma}{}^{1}\\,{}_{1}\\,{}_{0}\\, = \\frac{\\frac{d}{d t} A{\\left(t \\right)}}{A{\\left(t \\right)}}$"
      ],
      "text/plain": [
       "<IPython.core.display.Math object>"
      ]
     },
     "metadata": {},
     "output_type": "display_data"
    },
    {
     "data": {
      "text/latex": [
       "$\\displaystyle {\\Gamma}{}^{1}\\,{}_{1}\\,{}_{2}\\, = \\frac{A^{2}{\\left(t \\right)} \\cos{\\left(y \\right)}}{2 B^{2}{\\left(t \\right)} \\sin{\\left(y \\right)}}$"
      ],
      "text/plain": [
       "<IPython.core.display.Math object>"
      ]
     },
     "metadata": {},
     "output_type": "display_data"
    },
    {
     "data": {
      "text/latex": [
       "$\\displaystyle {\\Gamma}{}^{1}\\,{}_{2}\\,{}_{1}\\, = \\frac{A^{2}{\\left(t \\right)} \\cos{\\left(y \\right)}}{2 B^{2}{\\left(t \\right)} \\sin{\\left(y \\right)}}$"
      ],
      "text/plain": [
       "<IPython.core.display.Math object>"
      ]
     },
     "metadata": {},
     "output_type": "display_data"
    },
    {
     "data": {
      "text/latex": [
       "$\\displaystyle {\\Gamma}{}^{1}\\,{}_{2}\\,{}_{3}\\, = - \\frac{A^{2}{\\left(t \\right)} \\cos^{2}{\\left(y \\right)} - B^{2}{\\left(t \\right)} \\sin^{2}{\\left(y \\right)} - 2 B^{2}{\\left(t \\right)} \\cos^{2}{\\left(y \\right)}}{2 B^{2}{\\left(t \\right)} \\sin{\\left(y \\right)}}$"
      ],
      "text/plain": [
       "<IPython.core.display.Math object>"
      ]
     },
     "metadata": {},
     "output_type": "display_data"
    },
    {
     "data": {
      "text/latex": [
       "$\\displaystyle {\\Gamma}{}^{1}\\,{}_{3}\\,{}_{0}\\, = \\frac{\\left(A{\\left(t \\right)} \\frac{d}{d t} B{\\left(t \\right)} - B{\\left(t \\right)} \\frac{d}{d t} A{\\left(t \\right)}\\right) \\cos{\\left(y \\right)}}{A{\\left(t \\right)} B{\\left(t \\right)}}$"
      ],
      "text/plain": [
       "<IPython.core.display.Math object>"
      ]
     },
     "metadata": {},
     "output_type": "display_data"
    },
    {
     "data": {
      "text/latex": [
       "$\\displaystyle {\\Gamma}{}^{1}\\,{}_{3}\\,{}_{2}\\, = - \\frac{A^{2}{\\left(t \\right)} \\cos^{2}{\\left(y \\right)} - B^{2}{\\left(t \\right)} \\sin^{2}{\\left(y \\right)} - 2 B^{2}{\\left(t \\right)} \\cos^{2}{\\left(y \\right)}}{2 B^{2}{\\left(t \\right)} \\sin{\\left(y \\right)}}$"
      ],
      "text/plain": [
       "<IPython.core.display.Math object>"
      ]
     },
     "metadata": {},
     "output_type": "display_data"
    },
    {
     "data": {
      "text/latex": [
       "$\\displaystyle {\\Gamma}{}^{2}\\,{}_{0}\\,{}_{2}\\, = \\frac{\\frac{d}{d t} B{\\left(t \\right)}}{B{\\left(t \\right)}}$"
      ],
      "text/plain": [
       "<IPython.core.display.Math object>"
      ]
     },
     "metadata": {},
     "output_type": "display_data"
    },
    {
     "data": {
      "text/latex": [
       "$\\displaystyle {\\Gamma}{}^{2}\\,{}_{1}\\,{}_{3}\\, = - \\frac{A^{2}{\\left(t \\right)} \\sin{\\left(y \\right)}}{2 B^{2}{\\left(t \\right)}}$"
      ],
      "text/plain": [
       "<IPython.core.display.Math object>"
      ]
     },
     "metadata": {},
     "output_type": "display_data"
    },
    {
     "data": {
      "text/latex": [
       "$\\displaystyle {\\Gamma}{}^{2}\\,{}_{2}\\,{}_{0}\\, = \\frac{\\frac{d}{d t} B{\\left(t \\right)}}{B{\\left(t \\right)}}$"
      ],
      "text/plain": [
       "<IPython.core.display.Math object>"
      ]
     },
     "metadata": {},
     "output_type": "display_data"
    },
    {
     "data": {
      "text/latex": [
       "$\\displaystyle {\\Gamma}{}^{2}\\,{}_{3}\\,{}_{1}\\, = - \\frac{A^{2}{\\left(t \\right)} \\sin{\\left(y \\right)}}{2 B^{2}{\\left(t \\right)}}$"
      ],
      "text/plain": [
       "<IPython.core.display.Math object>"
      ]
     },
     "metadata": {},
     "output_type": "display_data"
    },
    {
     "data": {
      "text/latex": [
       "$\\displaystyle {\\Gamma}{}^{2}\\,{}_{3}\\,{}_{3}\\, = \\frac{\\left(A{\\left(t \\right)} - B{\\left(t \\right)}\\right) \\left(A{\\left(t \\right)} + B{\\left(t \\right)}\\right) \\sin{\\left(y \\right)} \\cos{\\left(y \\right)}}{B^{2}{\\left(t \\right)}}$"
      ],
      "text/plain": [
       "<IPython.core.display.Math object>"
      ]
     },
     "metadata": {},
     "output_type": "display_data"
    },
    {
     "data": {
      "text/latex": [
       "$\\displaystyle {\\Gamma}{}^{3}\\,{}_{0}\\,{}_{3}\\, = \\frac{\\frac{d}{d t} B{\\left(t \\right)}}{B{\\left(t \\right)}}$"
      ],
      "text/plain": [
       "<IPython.core.display.Math object>"
      ]
     },
     "metadata": {},
     "output_type": "display_data"
    },
    {
     "data": {
      "text/latex": [
       "$\\displaystyle {\\Gamma}{}^{3}\\,{}_{1}\\,{}_{2}\\, = \\frac{A^{2}{\\left(t \\right)}}{2 B^{2}{\\left(t \\right)} \\sin{\\left(y \\right)}}$"
      ],
      "text/plain": [
       "<IPython.core.display.Math object>"
      ]
     },
     "metadata": {},
     "output_type": "display_data"
    },
    {
     "data": {
      "text/latex": [
       "$\\displaystyle {\\Gamma}{}^{3}\\,{}_{2}\\,{}_{1}\\, = \\frac{A^{2}{\\left(t \\right)}}{2 B^{2}{\\left(t \\right)} \\sin{\\left(y \\right)}}$"
      ],
      "text/plain": [
       "<IPython.core.display.Math object>"
      ]
     },
     "metadata": {},
     "output_type": "display_data"
    },
    {
     "data": {
      "text/latex": [
       "$\\displaystyle {\\Gamma}{}^{3}\\,{}_{2}\\,{}_{3}\\, = - \\frac{\\left(A^{2}{\\left(t \\right)} - 2 B^{2}{\\left(t \\right)}\\right) \\cos{\\left(y \\right)}}{2 B^{2}{\\left(t \\right)} \\sin{\\left(y \\right)}}$"
      ],
      "text/plain": [
       "<IPython.core.display.Math object>"
      ]
     },
     "metadata": {},
     "output_type": "display_data"
    },
    {
     "data": {
      "text/latex": [
       "$\\displaystyle {\\Gamma}{}^{3}\\,{}_{3}\\,{}_{0}\\, = \\frac{\\frac{d}{d t} B{\\left(t \\right)}}{B{\\left(t \\right)}}$"
      ],
      "text/plain": [
       "<IPython.core.display.Math object>"
      ]
     },
     "metadata": {},
     "output_type": "display_data"
    },
    {
     "data": {
      "text/latex": [
       "$\\displaystyle {\\Gamma}{}^{3}\\,{}_{3}\\,{}_{2}\\, = - \\frac{\\left(A^{2}{\\left(t \\right)} - 2 B^{2}{\\left(t \\right)}\\right) \\cos{\\left(y \\right)}}{2 B^{2}{\\left(t \\right)} \\sin{\\left(y \\right)}}$"
      ],
      "text/plain": [
       "<IPython.core.display.Math object>"
      ]
     },
     "metadata": {},
     "output_type": "display_data"
    }
   ],
   "source": [
    "Chr = pt.christoffel()\n",
    "Chr.display()"
   ]
  },
  {
   "cell_type": "code",
   "execution_count": 6,
   "metadata": {},
   "outputs": [
    {
     "data": {
      "text/latex": [
       "Riemann Tensor $R^{\\alpha}_{\\beta \\gamma \\delta}$"
      ],
      "text/plain": [
       "<IPython.core.display.Latex object>"
      ]
     },
     "metadata": {},
     "output_type": "display_data"
    },
    {
     "data": {
      "application/vnd.jupyter.widget-view+json": {
       "model_id": "871852ef379647fc9040b2a11f672a4c",
       "version_major": 2,
       "version_minor": 0
      },
      "text/plain": [
       "  0%|          | 0/256 [00:00<?, ?it/s]"
      ]
     },
     "metadata": {},
     "output_type": "display_data"
    },
    {
     "data": {
      "text/latex": [
       "$\\displaystyle {R}{}^{0}\\,{}_{1}\\,{}_{0}\\,{}_{1}\\, = A{\\left(t \\right)} \\frac{d^{2}}{d t^{2}} A{\\left(t \\right)}$"
      ],
      "text/plain": [
       "<IPython.core.display.Math object>"
      ]
     },
     "metadata": {},
     "output_type": "display_data"
    },
    {
     "data": {
      "text/latex": [
       "$\\displaystyle {R}{}^{0}\\,{}_{1}\\,{}_{0}\\,{}_{3}\\, = - A{\\left(t \\right)} \\cos{\\left(y \\right)} \\frac{d^{2}}{d t^{2}} A{\\left(t \\right)}$"
      ],
      "text/plain": [
       "<IPython.core.display.Math object>"
      ]
     },
     "metadata": {},
     "output_type": "display_data"
    },
    {
     "data": {
      "text/latex": [
       "$\\displaystyle {R}{}^{0}\\,{}_{1}\\,{}_{1}\\,{}_{0}\\, = - A{\\left(t \\right)} \\frac{d^{2}}{d t^{2}} A{\\left(t \\right)}$"
      ],
      "text/plain": [
       "<IPython.core.display.Math object>"
      ]
     },
     "metadata": {},
     "output_type": "display_data"
    },
    {
     "data": {
      "text/latex": [
       "$\\displaystyle {R}{}^{0}\\,{}_{1}\\,{}_{2}\\,{}_{3}\\, = - \\frac{\\left(A{\\left(t \\right)} \\frac{d}{d t} B{\\left(t \\right)} - B{\\left(t \\right)} \\frac{d}{d t} A{\\left(t \\right)}\\right) A{\\left(t \\right)} \\sin{\\left(y \\right)}}{B{\\left(t \\right)}}$"
      ],
      "text/plain": [
       "<IPython.core.display.Math object>"
      ]
     },
     "metadata": {},
     "output_type": "display_data"
    },
    {
     "data": {
      "text/latex": [
       "$\\displaystyle {R}{}^{0}\\,{}_{1}\\,{}_{3}\\,{}_{0}\\, = A{\\left(t \\right)} \\cos{\\left(y \\right)} \\frac{d^{2}}{d t^{2}} A{\\left(t \\right)}$"
      ],
      "text/plain": [
       "<IPython.core.display.Math object>"
      ]
     },
     "metadata": {},
     "output_type": "display_data"
    },
    {
     "data": {
      "text/latex": [
       "$\\displaystyle {R}{}^{0}\\,{}_{1}\\,{}_{3}\\,{}_{2}\\, = \\frac{\\left(A{\\left(t \\right)} \\frac{d}{d t} B{\\left(t \\right)} - B{\\left(t \\right)} \\frac{d}{d t} A{\\left(t \\right)}\\right) A{\\left(t \\right)} \\sin{\\left(y \\right)}}{B{\\left(t \\right)}}$"
      ],
      "text/plain": [
       "<IPython.core.display.Math object>"
      ]
     },
     "metadata": {},
     "output_type": "display_data"
    },
    {
     "data": {
      "text/latex": [
       "$\\displaystyle {R}{}^{0}\\,{}_{2}\\,{}_{0}\\,{}_{2}\\, = B{\\left(t \\right)} \\frac{d^{2}}{d t^{2}} B{\\left(t \\right)}$"
      ],
      "text/plain": [
       "<IPython.core.display.Math object>"
      ]
     },
     "metadata": {},
     "output_type": "display_data"
    },
    {
     "data": {
      "text/latex": [
       "$\\displaystyle {R}{}^{0}\\,{}_{2}\\,{}_{1}\\,{}_{3}\\, = - \\frac{\\left(A{\\left(t \\right)} \\frac{d}{d t} B{\\left(t \\right)} - B{\\left(t \\right)} \\frac{d}{d t} A{\\left(t \\right)}\\right) A{\\left(t \\right)} \\sin{\\left(y \\right)}}{2 B{\\left(t \\right)}}$"
      ],
      "text/plain": [
       "<IPython.core.display.Math object>"
      ]
     },
     "metadata": {},
     "output_type": "display_data"
    },
    {
     "data": {
      "text/latex": [
       "$\\displaystyle {R}{}^{0}\\,{}_{2}\\,{}_{2}\\,{}_{0}\\, = - B{\\left(t \\right)} \\frac{d^{2}}{d t^{2}} B{\\left(t \\right)}$"
      ],
      "text/plain": [
       "<IPython.core.display.Math object>"
      ]
     },
     "metadata": {},
     "output_type": "display_data"
    },
    {
     "data": {
      "text/latex": [
       "$\\displaystyle {R}{}^{0}\\,{}_{2}\\,{}_{3}\\,{}_{1}\\, = \\frac{\\left(A{\\left(t \\right)} \\frac{d}{d t} B{\\left(t \\right)} - B{\\left(t \\right)} \\frac{d}{d t} A{\\left(t \\right)}\\right) A{\\left(t \\right)} \\sin{\\left(y \\right)}}{2 B{\\left(t \\right)}}$"
      ],
      "text/plain": [
       "<IPython.core.display.Math object>"
      ]
     },
     "metadata": {},
     "output_type": "display_data"
    },
    {
     "data": {
      "text/latex": [
       "$\\displaystyle {R}{}^{0}\\,{}_{3}\\,{}_{0}\\,{}_{1}\\, = - A{\\left(t \\right)} \\cos{\\left(y \\right)} \\frac{d^{2}}{d t^{2}} A{\\left(t \\right)}$"
      ],
      "text/plain": [
       "<IPython.core.display.Math object>"
      ]
     },
     "metadata": {},
     "output_type": "display_data"
    },
    {
     "data": {
      "text/latex": [
       "$\\displaystyle {R}{}^{0}\\,{}_{3}\\,{}_{0}\\,{}_{3}\\, = A{\\left(t \\right)} \\cos^{2}{\\left(y \\right)} \\frac{d^{2}}{d t^{2}} A{\\left(t \\right)} + B{\\left(t \\right)} \\sin^{2}{\\left(y \\right)} \\frac{d^{2}}{d t^{2}} B{\\left(t \\right)}$"
      ],
      "text/plain": [
       "<IPython.core.display.Math object>"
      ]
     },
     "metadata": {},
     "output_type": "display_data"
    },
    {
     "data": {
      "text/latex": [
       "$\\displaystyle {R}{}^{0}\\,{}_{3}\\,{}_{1}\\,{}_{0}\\, = A{\\left(t \\right)} \\cos{\\left(y \\right)} \\frac{d^{2}}{d t^{2}} A{\\left(t \\right)}$"
      ],
      "text/plain": [
       "<IPython.core.display.Math object>"
      ]
     },
     "metadata": {},
     "output_type": "display_data"
    },
    {
     "data": {
      "text/latex": [
       "$\\displaystyle {R}{}^{0}\\,{}_{3}\\,{}_{1}\\,{}_{2}\\, = \\frac{\\left(A{\\left(t \\right)} \\frac{d}{d t} B{\\left(t \\right)} - B{\\left(t \\right)} \\frac{d}{d t} A{\\left(t \\right)}\\right) A{\\left(t \\right)} \\sin{\\left(y \\right)}}{2 B{\\left(t \\right)}}$"
      ],
      "text/plain": [
       "<IPython.core.display.Math object>"
      ]
     },
     "metadata": {},
     "output_type": "display_data"
    },
    {
     "data": {
      "text/latex": [
       "$\\displaystyle {R}{}^{0}\\,{}_{3}\\,{}_{2}\\,{}_{1}\\, = - \\frac{\\left(A{\\left(t \\right)} \\frac{d}{d t} B{\\left(t \\right)} - B{\\left(t \\right)} \\frac{d}{d t} A{\\left(t \\right)}\\right) A{\\left(t \\right)} \\sin{\\left(y \\right)}}{2 B{\\left(t \\right)}}$"
      ],
      "text/plain": [
       "<IPython.core.display.Math object>"
      ]
     },
     "metadata": {},
     "output_type": "display_data"
    },
    {
     "data": {
      "text/latex": [
       "$\\displaystyle {R}{}^{0}\\,{}_{3}\\,{}_{2}\\,{}_{3}\\, = \\frac{3 \\left(A{\\left(t \\right)} \\frac{d}{d t} B{\\left(t \\right)} - B{\\left(t \\right)} \\frac{d}{d t} A{\\left(t \\right)}\\right) A{\\left(t \\right)} \\sin{\\left(y \\right)} \\cos{\\left(y \\right)}}{2 B{\\left(t \\right)}}$"
      ],
      "text/plain": [
       "<IPython.core.display.Math object>"
      ]
     },
     "metadata": {},
     "output_type": "display_data"
    },
    {
     "data": {
      "text/latex": [
       "$\\displaystyle {R}{}^{0}\\,{}_{3}\\,{}_{3}\\,{}_{0}\\, = - A{\\left(t \\right)} \\cos^{2}{\\left(y \\right)} \\frac{d^{2}}{d t^{2}} A{\\left(t \\right)} - B{\\left(t \\right)} \\sin^{2}{\\left(y \\right)} \\frac{d^{2}}{d t^{2}} B{\\left(t \\right)}$"
      ],
      "text/plain": [
       "<IPython.core.display.Math object>"
      ]
     },
     "metadata": {},
     "output_type": "display_data"
    },
    {
     "data": {
      "text/latex": [
       "$\\displaystyle {R}{}^{0}\\,{}_{3}\\,{}_{3}\\,{}_{2}\\, = - \\frac{3 \\left(A{\\left(t \\right)} \\frac{d}{d t} B{\\left(t \\right)} - B{\\left(t \\right)} \\frac{d}{d t} A{\\left(t \\right)}\\right) A{\\left(t \\right)} \\sin{\\left(y \\right)} \\cos{\\left(y \\right)}}{2 B{\\left(t \\right)}}$"
      ],
      "text/plain": [
       "<IPython.core.display.Math object>"
      ]
     },
     "metadata": {},
     "output_type": "display_data"
    },
    {
     "data": {
      "text/latex": [
       "$\\displaystyle {R}{}^{1}\\,{}_{0}\\,{}_{0}\\,{}_{1}\\, = \\frac{\\frac{d^{2}}{d t^{2}} A{\\left(t \\right)}}{A{\\left(t \\right)}}$"
      ],
      "text/plain": [
       "<IPython.core.display.Math object>"
      ]
     },
     "metadata": {},
     "output_type": "display_data"
    },
    {
     "data": {
      "text/latex": [
       "$\\displaystyle {R}{}^{1}\\,{}_{0}\\,{}_{0}\\,{}_{3}\\, = \\frac{\\left(A{\\left(t \\right)} \\frac{d^{2}}{d t^{2}} B{\\left(t \\right)} - B{\\left(t \\right)} \\frac{d^{2}}{d t^{2}} A{\\left(t \\right)}\\right) \\cos{\\left(y \\right)}}{A{\\left(t \\right)} B{\\left(t \\right)}}$"
      ],
      "text/plain": [
       "<IPython.core.display.Math object>"
      ]
     },
     "metadata": {},
     "output_type": "display_data"
    },
    {
     "data": {
      "text/latex": [
       "$\\displaystyle {R}{}^{1}\\,{}_{0}\\,{}_{1}\\,{}_{0}\\, = - \\frac{\\frac{d^{2}}{d t^{2}} A{\\left(t \\right)}}{A{\\left(t \\right)}}$"
      ],
      "text/plain": [
       "<IPython.core.display.Math object>"
      ]
     },
     "metadata": {},
     "output_type": "display_data"
    },
    {
     "data": {
      "text/latex": [
       "$\\displaystyle {R}{}^{1}\\,{}_{0}\\,{}_{1}\\,{}_{2}\\, = \\frac{\\left(A{\\left(t \\right)} \\frac{d}{d t} B{\\left(t \\right)} - B{\\left(t \\right)} \\frac{d}{d t} A{\\left(t \\right)}\\right) A{\\left(t \\right)} \\cos{\\left(y \\right)}}{2 B^{3}{\\left(t \\right)} \\sin{\\left(y \\right)}}$"
      ],
      "text/plain": [
       "<IPython.core.display.Math object>"
      ]
     },
     "metadata": {},
     "output_type": "display_data"
    },
    {
     "data": {
      "text/latex": [
       "$\\displaystyle {R}{}^{1}\\,{}_{0}\\,{}_{2}\\,{}_{1}\\, = - \\frac{\\left(A{\\left(t \\right)} \\frac{d}{d t} B{\\left(t \\right)} - B{\\left(t \\right)} \\frac{d}{d t} A{\\left(t \\right)}\\right) A{\\left(t \\right)} \\cos{\\left(y \\right)}}{2 B^{3}{\\left(t \\right)} \\sin{\\left(y \\right)}}$"
      ],
      "text/plain": [
       "<IPython.core.display.Math object>"
      ]
     },
     "metadata": {},
     "output_type": "display_data"
    },
    {
     "data": {
      "text/latex": [
       "$\\displaystyle {R}{}^{1}\\,{}_{0}\\,{}_{2}\\,{}_{3}\\, = \\frac{\\left(A{\\left(t \\right)} \\frac{d}{d t} B{\\left(t \\right)} - B{\\left(t \\right)} \\frac{d}{d t} A{\\left(t \\right)}\\right) \\left(A^{2}{\\left(t \\right)} \\cos^{2}{\\left(y \\right)} - 2 B^{2}{\\left(t \\right)} \\sin^{2}{\\left(y \\right)}\\right)}{2 A{\\left(t \\right)} B^{3}{\\left(t \\right)} \\sin{\\left(y \\right)}}$"
      ],
      "text/plain": [
       "<IPython.core.display.Math object>"
      ]
     },
     "metadata": {},
     "output_type": "display_data"
    },
    {
     "data": {
      "text/latex": [
       "$\\displaystyle {R}{}^{1}\\,{}_{0}\\,{}_{3}\\,{}_{0}\\, = - \\frac{\\left(A{\\left(t \\right)} \\frac{d^{2}}{d t^{2}} B{\\left(t \\right)} - B{\\left(t \\right)} \\frac{d^{2}}{d t^{2}} A{\\left(t \\right)}\\right) \\cos{\\left(y \\right)}}{A{\\left(t \\right)} B{\\left(t \\right)}}$"
      ],
      "text/plain": [
       "<IPython.core.display.Math object>"
      ]
     },
     "metadata": {},
     "output_type": "display_data"
    },
    {
     "data": {
      "text/latex": [
       "$\\displaystyle {R}{}^{1}\\,{}_{0}\\,{}_{3}\\,{}_{2}\\, = - \\frac{\\left(A{\\left(t \\right)} \\frac{d}{d t} B{\\left(t \\right)} - B{\\left(t \\right)} \\frac{d}{d t} A{\\left(t \\right)}\\right) \\left(A^{2}{\\left(t \\right)} \\cos^{2}{\\left(y \\right)} - 2 B^{2}{\\left(t \\right)} \\sin^{2}{\\left(y \\right)}\\right)}{2 A{\\left(t \\right)} B^{3}{\\left(t \\right)} \\sin{\\left(y \\right)}}$"
      ],
      "text/plain": [
       "<IPython.core.display.Math object>"
      ]
     },
     "metadata": {},
     "output_type": "display_data"
    },
    {
     "data": {
      "text/latex": [
       "$\\displaystyle {R}{}^{1}\\,{}_{1}\\,{}_{0}\\,{}_{2}\\, = - \\frac{\\left(A{\\left(t \\right)} \\frac{d}{d t} B{\\left(t \\right)} - B{\\left(t \\right)} \\frac{d}{d t} A{\\left(t \\right)}\\right) A{\\left(t \\right)} \\cos{\\left(y \\right)}}{2 B^{3}{\\left(t \\right)} \\sin{\\left(y \\right)}}$"
      ],
      "text/plain": [
       "<IPython.core.display.Math object>"
      ]
     },
     "metadata": {},
     "output_type": "display_data"
    },
    {
     "data": {
      "text/latex": [
       "$\\displaystyle {R}{}^{1}\\,{}_{1}\\,{}_{1}\\,{}_{3}\\, = - \\frac{\\left(A^{3}{\\left(t \\right)} + 4 B^{3}{\\left(t \\right)} \\frac{d}{d t} A{\\left(t \\right)} \\frac{d}{d t} B{\\left(t \\right)}\\right) A{\\left(t \\right)} \\cos{\\left(y \\right)}}{4 B^{4}{\\left(t \\right)}}$"
      ],
      "text/plain": [
       "<IPython.core.display.Math object>"
      ]
     },
     "metadata": {},
     "output_type": "display_data"
    },
    {
     "data": {
      "text/latex": [
       "$\\displaystyle {R}{}^{1}\\,{}_{1}\\,{}_{2}\\,{}_{0}\\, = \\frac{\\left(A{\\left(t \\right)} \\frac{d}{d t} B{\\left(t \\right)} - B{\\left(t \\right)} \\frac{d}{d t} A{\\left(t \\right)}\\right) A{\\left(t \\right)} \\cos{\\left(y \\right)}}{2 B^{3}{\\left(t \\right)} \\sin{\\left(y \\right)}}$"
      ],
      "text/plain": [
       "<IPython.core.display.Math object>"
      ]
     },
     "metadata": {},
     "output_type": "display_data"
    },
    {
     "data": {
      "text/latex": [
       "$\\displaystyle {R}{}^{1}\\,{}_{1}\\,{}_{3}\\,{}_{1}\\, = \\frac{\\left(A^{3}{\\left(t \\right)} + 4 B^{3}{\\left(t \\right)} \\frac{d}{d t} A{\\left(t \\right)} \\frac{d}{d t} B{\\left(t \\right)}\\right) A{\\left(t \\right)} \\cos{\\left(y \\right)}}{4 B^{4}{\\left(t \\right)}}$"
      ],
      "text/plain": [
       "<IPython.core.display.Math object>"
      ]
     },
     "metadata": {},
     "output_type": "display_data"
    },
    {
     "data": {
      "text/latex": [
       "$\\displaystyle {R}{}^{1}\\,{}_{2}\\,{}_{0}\\,{}_{1}\\, = - \\frac{\\left(A{\\left(t \\right)} \\frac{d}{d t} B{\\left(t \\right)} - B{\\left(t \\right)} \\frac{d}{d t} A{\\left(t \\right)}\\right) A{\\left(t \\right)} \\cos{\\left(y \\right)}}{B^{3}{\\left(t \\right)} \\sin{\\left(y \\right)}}$"
      ],
      "text/plain": [
       "<IPython.core.display.Math object>"
      ]
     },
     "metadata": {},
     "output_type": "display_data"
    },
    {
     "data": {
      "text/latex": [
       "$\\displaystyle {R}{}^{1}\\,{}_{2}\\,{}_{0}\\,{}_{3}\\, = \\frac{\\left(A{\\left(t \\right)} \\frac{d}{d t} B{\\left(t \\right)} - B{\\left(t \\right)} \\frac{d}{d t} A{\\left(t \\right)}\\right) \\left(2 A^{2}{\\left(t \\right)} \\cos^{2}{\\left(y \\right)} - B^{2}{\\left(t \\right)} \\sin^{2}{\\left(y \\right)}\\right)}{2 A{\\left(t \\right)} B^{3}{\\left(t \\right)} \\sin{\\left(y \\right)}}$"
      ],
      "text/plain": [
       "<IPython.core.display.Math object>"
      ]
     },
     "metadata": {},
     "output_type": "display_data"
    },
    {
     "data": {
      "text/latex": [
       "$\\displaystyle {R}{}^{1}\\,{}_{2}\\,{}_{1}\\,{}_{0}\\, = \\frac{\\left(A{\\left(t \\right)} \\frac{d}{d t} B{\\left(t \\right)} - B{\\left(t \\right)} \\frac{d}{d t} A{\\left(t \\right)}\\right) A{\\left(t \\right)} \\cos{\\left(y \\right)}}{B^{3}{\\left(t \\right)} \\sin{\\left(y \\right)}}$"
      ],
      "text/plain": [
       "<IPython.core.display.Math object>"
      ]
     },
     "metadata": {},
     "output_type": "display_data"
    },
    {
     "data": {
      "text/latex": [
       "$\\displaystyle {R}{}^{1}\\,{}_{2}\\,{}_{1}\\,{}_{2}\\, = \\frac{A^{3}{\\left(t \\right)} + 4 B^{3}{\\left(t \\right)} \\frac{d}{d t} A{\\left(t \\right)} \\frac{d}{d t} B{\\left(t \\right)}}{4 A{\\left(t \\right)} B^{2}{\\left(t \\right)}}$"
      ],
      "text/plain": [
       "<IPython.core.display.Math object>"
      ]
     },
     "metadata": {},
     "output_type": "display_data"
    },
    {
     "data": {
      "text/latex": [
       "$\\displaystyle {R}{}^{1}\\,{}_{2}\\,{}_{2}\\,{}_{1}\\, = - \\frac{A^{3}{\\left(t \\right)} + 4 B^{3}{\\left(t \\right)} \\frac{d}{d t} A{\\left(t \\right)} \\frac{d}{d t} B{\\left(t \\right)}}{4 A{\\left(t \\right)} B^{2}{\\left(t \\right)}}$"
      ],
      "text/plain": [
       "<IPython.core.display.Math object>"
      ]
     },
     "metadata": {},
     "output_type": "display_data"
    },
    {
     "data": {
      "text/latex": [
       "$\\displaystyle {R}{}^{1}\\,{}_{2}\\,{}_{2}\\,{}_{3}\\, = \\frac{\\left(A^{3}{\\left(t \\right)} - A{\\left(t \\right)} B^{2}{\\left(t \\right)} \\left(\\frac{d}{d t} B{\\left(t \\right)}\\right)^{2} - A{\\left(t \\right)} B^{2}{\\left(t \\right)} + B^{3}{\\left(t \\right)} \\frac{d}{d t} A{\\left(t \\right)} \\frac{d}{d t} B{\\left(t \\right)}\\right) \\cos{\\left(y \\right)}}{A{\\left(t \\right)} B^{2}{\\left(t \\right)}}$"
      ],
      "text/plain": [
       "<IPython.core.display.Math object>"
      ]
     },
     "metadata": {},
     "output_type": "display_data"
    },
    {
     "data": {
      "text/latex": [
       "$\\displaystyle {R}{}^{1}\\,{}_{2}\\,{}_{3}\\,{}_{0}\\, = - \\frac{\\left(A{\\left(t \\right)} \\frac{d}{d t} B{\\left(t \\right)} - B{\\left(t \\right)} \\frac{d}{d t} A{\\left(t \\right)}\\right) \\left(2 A^{2}{\\left(t \\right)} \\cos^{2}{\\left(y \\right)} - B^{2}{\\left(t \\right)} \\sin^{2}{\\left(y \\right)}\\right)}{2 A{\\left(t \\right)} B^{3}{\\left(t \\right)} \\sin{\\left(y \\right)}}$"
      ],
      "text/plain": [
       "<IPython.core.display.Math object>"
      ]
     },
     "metadata": {},
     "output_type": "display_data"
    },
    {
     "data": {
      "text/latex": [
       "$\\displaystyle {R}{}^{1}\\,{}_{2}\\,{}_{3}\\,{}_{2}\\, = - \\frac{\\left(A^{3}{\\left(t \\right)} - A{\\left(t \\right)} B^{2}{\\left(t \\right)} \\left(\\frac{d}{d t} B{\\left(t \\right)}\\right)^{2} - A{\\left(t \\right)} B^{2}{\\left(t \\right)} + B^{3}{\\left(t \\right)} \\frac{d}{d t} A{\\left(t \\right)} \\frac{d}{d t} B{\\left(t \\right)}\\right) \\cos{\\left(y \\right)}}{A{\\left(t \\right)} B^{2}{\\left(t \\right)}}$"
      ],
      "text/plain": [
       "<IPython.core.display.Math object>"
      ]
     },
     "metadata": {},
     "output_type": "display_data"
    },
    {
     "data": {
      "text/latex": [
       "$\\displaystyle {R}{}^{1}\\,{}_{3}\\,{}_{0}\\,{}_{2}\\, = \\frac{\\left(A{\\left(t \\right)} \\frac{d}{d t} B{\\left(t \\right)} - B{\\left(t \\right)} \\frac{d}{d t} A{\\left(t \\right)}\\right) \\left(A^{2}{\\left(t \\right)} \\cos^{2}{\\left(y \\right)} + B^{2}{\\left(t \\right)} \\sin^{2}{\\left(y \\right)}\\right)}{2 A{\\left(t \\right)} B^{3}{\\left(t \\right)} \\sin{\\left(y \\right)}}$"
      ],
      "text/plain": [
       "<IPython.core.display.Math object>"
      ]
     },
     "metadata": {},
     "output_type": "display_data"
    },
    {
     "data": {
      "text/latex": [
       "$\\displaystyle {R}{}^{1}\\,{}_{3}\\,{}_{1}\\,{}_{3}\\, = \\frac{\\left(A^{2}{\\left(t \\right)} \\cos^{2}{\\left(y \\right)} + B^{2}{\\left(t \\right)} \\sin^{2}{\\left(y \\right)}\\right) \\left(A^{3}{\\left(t \\right)} + 4 B^{3}{\\left(t \\right)} \\frac{d}{d t} A{\\left(t \\right)} \\frac{d}{d t} B{\\left(t \\right)}\\right)}{4 A{\\left(t \\right)} B^{4}{\\left(t \\right)}}$"
      ],
      "text/plain": [
       "<IPython.core.display.Math object>"
      ]
     },
     "metadata": {},
     "output_type": "display_data"
    },
    {
     "data": {
      "text/latex": [
       "$\\displaystyle {R}{}^{1}\\,{}_{3}\\,{}_{2}\\,{}_{0}\\, = - \\frac{\\left(A{\\left(t \\right)} \\frac{d}{d t} B{\\left(t \\right)} - B{\\left(t \\right)} \\frac{d}{d t} A{\\left(t \\right)}\\right) \\left(A^{2}{\\left(t \\right)} \\cos^{2}{\\left(y \\right)} + B^{2}{\\left(t \\right)} \\sin^{2}{\\left(y \\right)}\\right)}{2 A{\\left(t \\right)} B^{3}{\\left(t \\right)} \\sin{\\left(y \\right)}}$"
      ],
      "text/plain": [
       "<IPython.core.display.Math object>"
      ]
     },
     "metadata": {},
     "output_type": "display_data"
    },
    {
     "data": {
      "text/latex": [
       "$\\displaystyle {R}{}^{1}\\,{}_{3}\\,{}_{3}\\,{}_{1}\\, = - \\frac{\\left(A^{2}{\\left(t \\right)} \\cos^{2}{\\left(y \\right)} + B^{2}{\\left(t \\right)} \\sin^{2}{\\left(y \\right)}\\right) \\left(A^{3}{\\left(t \\right)} + 4 B^{3}{\\left(t \\right)} \\frac{d}{d t} A{\\left(t \\right)} \\frac{d}{d t} B{\\left(t \\right)}\\right)}{4 A{\\left(t \\right)} B^{4}{\\left(t \\right)}}$"
      ],
      "text/plain": [
       "<IPython.core.display.Math object>"
      ]
     },
     "metadata": {},
     "output_type": "display_data"
    },
    {
     "data": {
      "text/latex": [
       "$\\displaystyle {R}{}^{2}\\,{}_{0}\\,{}_{0}\\,{}_{2}\\, = \\frac{\\frac{d^{2}}{d t^{2}} B{\\left(t \\right)}}{B{\\left(t \\right)}}$"
      ],
      "text/plain": [
       "<IPython.core.display.Math object>"
      ]
     },
     "metadata": {},
     "output_type": "display_data"
    },
    {
     "data": {
      "text/latex": [
       "$\\displaystyle {R}{}^{2}\\,{}_{0}\\,{}_{1}\\,{}_{3}\\, = - \\frac{\\left(A{\\left(t \\right)} \\frac{d}{d t} B{\\left(t \\right)} - B{\\left(t \\right)} \\frac{d}{d t} A{\\left(t \\right)}\\right) A{\\left(t \\right)} \\sin{\\left(y \\right)}}{2 B^{3}{\\left(t \\right)}}$"
      ],
      "text/plain": [
       "<IPython.core.display.Math object>"
      ]
     },
     "metadata": {},
     "output_type": "display_data"
    },
    {
     "data": {
      "text/latex": [
       "$\\displaystyle {R}{}^{2}\\,{}_{0}\\,{}_{2}\\,{}_{0}\\, = - \\frac{\\frac{d^{2}}{d t^{2}} B{\\left(t \\right)}}{B{\\left(t \\right)}}$"
      ],
      "text/plain": [
       "<IPython.core.display.Math object>"
      ]
     },
     "metadata": {},
     "output_type": "display_data"
    },
    {
     "data": {
      "text/latex": [
       "$\\displaystyle {R}{}^{2}\\,{}_{0}\\,{}_{3}\\,{}_{1}\\, = \\frac{\\left(A{\\left(t \\right)} \\frac{d}{d t} B{\\left(t \\right)} - B{\\left(t \\right)} \\frac{d}{d t} A{\\left(t \\right)}\\right) A{\\left(t \\right)} \\sin{\\left(y \\right)}}{2 B^{3}{\\left(t \\right)}}$"
      ],
      "text/plain": [
       "<IPython.core.display.Math object>"
      ]
     },
     "metadata": {},
     "output_type": "display_data"
    },
    {
     "data": {
      "text/latex": [
       "$\\displaystyle {R}{}^{2}\\,{}_{1}\\,{}_{0}\\,{}_{3}\\, = \\frac{\\left(A{\\left(t \\right)} \\frac{d}{d t} B{\\left(t \\right)} - B{\\left(t \\right)} \\frac{d}{d t} A{\\left(t \\right)}\\right) A{\\left(t \\right)} \\sin{\\left(y \\right)}}{2 B^{3}{\\left(t \\right)}}$"
      ],
      "text/plain": [
       "<IPython.core.display.Math object>"
      ]
     },
     "metadata": {},
     "output_type": "display_data"
    },
    {
     "data": {
      "text/latex": [
       "$\\displaystyle {R}{}^{2}\\,{}_{1}\\,{}_{1}\\,{}_{2}\\, = - \\frac{\\left(A^{3}{\\left(t \\right)} + 4 B^{3}{\\left(t \\right)} \\frac{d}{d t} A{\\left(t \\right)} \\frac{d}{d t} B{\\left(t \\right)}\\right) A{\\left(t \\right)}}{4 B^{4}{\\left(t \\right)}}$"
      ],
      "text/plain": [
       "<IPython.core.display.Math object>"
      ]
     },
     "metadata": {},
     "output_type": "display_data"
    },
    {
     "data": {
      "text/latex": [
       "$\\displaystyle {R}{}^{2}\\,{}_{1}\\,{}_{2}\\,{}_{1}\\, = \\frac{\\left(A^{3}{\\left(t \\right)} + 4 B^{3}{\\left(t \\right)} \\frac{d}{d t} A{\\left(t \\right)} \\frac{d}{d t} B{\\left(t \\right)}\\right) A{\\left(t \\right)}}{4 B^{4}{\\left(t \\right)}}$"
      ],
      "text/plain": [
       "<IPython.core.display.Math object>"
      ]
     },
     "metadata": {},
     "output_type": "display_data"
    },
    {
     "data": {
      "text/latex": [
       "$\\displaystyle {R}{}^{2}\\,{}_{1}\\,{}_{2}\\,{}_{3}\\, = - \\frac{\\left(A^{3}{\\left(t \\right)} + 4 B^{3}{\\left(t \\right)} \\frac{d}{d t} A{\\left(t \\right)} \\frac{d}{d t} B{\\left(t \\right)}\\right) A{\\left(t \\right)} \\cos{\\left(y \\right)}}{4 B^{4}{\\left(t \\right)}}$"
      ],
      "text/plain": [
       "<IPython.core.display.Math object>"
      ]
     },
     "metadata": {},
     "output_type": "display_data"
    },
    {
     "data": {
      "text/latex": [
       "$\\displaystyle {R}{}^{2}\\,{}_{1}\\,{}_{3}\\,{}_{0}\\, = - \\frac{\\left(A{\\left(t \\right)} \\frac{d}{d t} B{\\left(t \\right)} - B{\\left(t \\right)} \\frac{d}{d t} A{\\left(t \\right)}\\right) A{\\left(t \\right)} \\sin{\\left(y \\right)}}{2 B^{3}{\\left(t \\right)}}$"
      ],
      "text/plain": [
       "<IPython.core.display.Math object>"
      ]
     },
     "metadata": {},
     "output_type": "display_data"
    },
    {
     "data": {
      "text/latex": [
       "$\\displaystyle {R}{}^{2}\\,{}_{1}\\,{}_{3}\\,{}_{2}\\, = \\frac{\\left(A^{3}{\\left(t \\right)} + 4 B^{3}{\\left(t \\right)} \\frac{d}{d t} A{\\left(t \\right)} \\frac{d}{d t} B{\\left(t \\right)}\\right) A{\\left(t \\right)} \\cos{\\left(y \\right)}}{4 B^{4}{\\left(t \\right)}}$"
      ],
      "text/plain": [
       "<IPython.core.display.Math object>"
      ]
     },
     "metadata": {},
     "output_type": "display_data"
    },
    {
     "data": {
      "text/latex": [
       "$\\displaystyle {R}{}^{2}\\,{}_{3}\\,{}_{0}\\,{}_{1}\\, = \\frac{\\left(A{\\left(t \\right)} \\frac{d}{d t} B{\\left(t \\right)} - B{\\left(t \\right)} \\frac{d}{d t} A{\\left(t \\right)}\\right) A{\\left(t \\right)} \\sin{\\left(y \\right)}}{B^{3}{\\left(t \\right)}}$"
      ],
      "text/plain": [
       "<IPython.core.display.Math object>"
      ]
     },
     "metadata": {},
     "output_type": "display_data"
    },
    {
     "data": {
      "text/latex": [
       "$\\displaystyle {R}{}^{2}\\,{}_{3}\\,{}_{0}\\,{}_{3}\\, = - \\frac{3 \\left(A{\\left(t \\right)} \\frac{d}{d t} B{\\left(t \\right)} - B{\\left(t \\right)} \\frac{d}{d t} A{\\left(t \\right)}\\right) A{\\left(t \\right)} \\sin{\\left(y \\right)} \\cos{\\left(y \\right)}}{2 B^{3}{\\left(t \\right)}}$"
      ],
      "text/plain": [
       "<IPython.core.display.Math object>"
      ]
     },
     "metadata": {},
     "output_type": "display_data"
    },
    {
     "data": {
      "text/latex": [
       "$\\displaystyle {R}{}^{2}\\,{}_{3}\\,{}_{1}\\,{}_{0}\\, = - \\frac{\\left(A{\\left(t \\right)} \\frac{d}{d t} B{\\left(t \\right)} - B{\\left(t \\right)} \\frac{d}{d t} A{\\left(t \\right)}\\right) A{\\left(t \\right)} \\sin{\\left(y \\right)}}{B^{3}{\\left(t \\right)}}$"
      ],
      "text/plain": [
       "<IPython.core.display.Math object>"
      ]
     },
     "metadata": {},
     "output_type": "display_data"
    },
    {
     "data": {
      "text/latex": [
       "$\\displaystyle {R}{}^{2}\\,{}_{3}\\,{}_{1}\\,{}_{2}\\, = \\frac{\\left(A^{3}{\\left(t \\right)} + 4 B^{3}{\\left(t \\right)} \\frac{d}{d t} A{\\left(t \\right)} \\frac{d}{d t} B{\\left(t \\right)}\\right) A{\\left(t \\right)} \\cos{\\left(y \\right)}}{4 B^{4}{\\left(t \\right)}}$"
      ],
      "text/plain": [
       "<IPython.core.display.Math object>"
      ]
     },
     "metadata": {},
     "output_type": "display_data"
    },
    {
     "data": {
      "text/latex": [
       "$\\displaystyle {R}{}^{2}\\,{}_{3}\\,{}_{2}\\,{}_{1}\\, = - \\frac{\\left(A^{3}{\\left(t \\right)} + 4 B^{3}{\\left(t \\right)} \\frac{d}{d t} A{\\left(t \\right)} \\frac{d}{d t} B{\\left(t \\right)}\\right) A{\\left(t \\right)} \\cos{\\left(y \\right)}}{4 B^{4}{\\left(t \\right)}}$"
      ],
      "text/plain": [
       "<IPython.core.display.Math object>"
      ]
     },
     "metadata": {},
     "output_type": "display_data"
    },
    {
     "data": {
      "text/latex": [
       "$\\displaystyle {R}{}^{2}\\,{}_{3}\\,{}_{2}\\,{}_{3}\\, = \\frac{A^{4}{\\left(t \\right)} \\cos^{2}{\\left(y \\right)} - 3 A^{2}{\\left(t \\right)} B^{2}{\\left(t \\right)} \\sin^{2}{\\left(y \\right)} + 4 A{\\left(t \\right)} B^{3}{\\left(t \\right)} \\cos^{2}{\\left(y \\right)} \\frac{d}{d t} A{\\left(t \\right)} \\frac{d}{d t} B{\\left(t \\right)} + 4 B^{4}{\\left(t \\right)} \\sin^{2}{\\left(y \\right)} \\left(\\frac{d}{d t} B{\\left(t \\right)}\\right)^{2} + 4 B^{4}{\\left(t \\right)} \\sin^{2}{\\left(y \\right)}}{4 B^{4}{\\left(t \\right)}}$"
      ],
      "text/plain": [
       "<IPython.core.display.Math object>"
      ]
     },
     "metadata": {},
     "output_type": "display_data"
    },
    {
     "data": {
      "text/latex": [
       "$\\displaystyle {R}{}^{2}\\,{}_{3}\\,{}_{3}\\,{}_{0}\\, = \\frac{3 \\left(A{\\left(t \\right)} \\frac{d}{d t} B{\\left(t \\right)} - B{\\left(t \\right)} \\frac{d}{d t} A{\\left(t \\right)}\\right) A{\\left(t \\right)} \\sin{\\left(y \\right)} \\cos{\\left(y \\right)}}{2 B^{3}{\\left(t \\right)}}$"
      ],
      "text/plain": [
       "<IPython.core.display.Math object>"
      ]
     },
     "metadata": {},
     "output_type": "display_data"
    },
    {
     "data": {
      "text/latex": [
       "$\\displaystyle {R}{}^{2}\\,{}_{3}\\,{}_{3}\\,{}_{2}\\, = - \\frac{A^{4}{\\left(t \\right)} \\cos^{2}{\\left(y \\right)} - 3 A^{2}{\\left(t \\right)} B^{2}{\\left(t \\right)} \\sin^{2}{\\left(y \\right)} + 4 A{\\left(t \\right)} B^{3}{\\left(t \\right)} \\cos^{2}{\\left(y \\right)} \\frac{d}{d t} A{\\left(t \\right)} \\frac{d}{d t} B{\\left(t \\right)} + 4 B^{4}{\\left(t \\right)} \\sin^{2}{\\left(y \\right)} \\left(\\frac{d}{d t} B{\\left(t \\right)}\\right)^{2} + 4 B^{4}{\\left(t \\right)} \\sin^{2}{\\left(y \\right)}}{4 B^{4}{\\left(t \\right)}}$"
      ],
      "text/plain": [
       "<IPython.core.display.Math object>"
      ]
     },
     "metadata": {},
     "output_type": "display_data"
    },
    {
     "data": {
      "text/latex": [
       "$\\displaystyle {R}{}^{3}\\,{}_{0}\\,{}_{0}\\,{}_{3}\\, = \\frac{\\frac{d^{2}}{d t^{2}} B{\\left(t \\right)}}{B{\\left(t \\right)}}$"
      ],
      "text/plain": [
       "<IPython.core.display.Math object>"
      ]
     },
     "metadata": {},
     "output_type": "display_data"
    },
    {
     "data": {
      "text/latex": [
       "$\\displaystyle {R}{}^{3}\\,{}_{0}\\,{}_{1}\\,{}_{2}\\, = \\frac{\\left(A{\\left(t \\right)} \\frac{d}{d t} B{\\left(t \\right)} - B{\\left(t \\right)} \\frac{d}{d t} A{\\left(t \\right)}\\right) A{\\left(t \\right)}}{2 B^{3}{\\left(t \\right)} \\sin{\\left(y \\right)}}$"
      ],
      "text/plain": [
       "<IPython.core.display.Math object>"
      ]
     },
     "metadata": {},
     "output_type": "display_data"
    },
    {
     "data": {
      "text/latex": [
       "$\\displaystyle {R}{}^{3}\\,{}_{0}\\,{}_{2}\\,{}_{1}\\, = - \\frac{\\left(A{\\left(t \\right)} \\frac{d}{d t} B{\\left(t \\right)} - B{\\left(t \\right)} \\frac{d}{d t} A{\\left(t \\right)}\\right) A{\\left(t \\right)}}{2 B^{3}{\\left(t \\right)} \\sin{\\left(y \\right)}}$"
      ],
      "text/plain": [
       "<IPython.core.display.Math object>"
      ]
     },
     "metadata": {},
     "output_type": "display_data"
    },
    {
     "data": {
      "text/latex": [
       "$\\displaystyle {R}{}^{3}\\,{}_{0}\\,{}_{2}\\,{}_{3}\\, = \\frac{\\left(A{\\left(t \\right)} \\frac{d}{d t} B{\\left(t \\right)} - B{\\left(t \\right)} \\frac{d}{d t} A{\\left(t \\right)}\\right) A{\\left(t \\right)} \\cos{\\left(y \\right)}}{2 B^{3}{\\left(t \\right)} \\sin{\\left(y \\right)}}$"
      ],
      "text/plain": [
       "<IPython.core.display.Math object>"
      ]
     },
     "metadata": {},
     "output_type": "display_data"
    },
    {
     "data": {
      "text/latex": [
       "$\\displaystyle {R}{}^{3}\\,{}_{0}\\,{}_{3}\\,{}_{0}\\, = - \\frac{\\frac{d^{2}}{d t^{2}} B{\\left(t \\right)}}{B{\\left(t \\right)}}$"
      ],
      "text/plain": [
       "<IPython.core.display.Math object>"
      ]
     },
     "metadata": {},
     "output_type": "display_data"
    },
    {
     "data": {
      "text/latex": [
       "$\\displaystyle {R}{}^{3}\\,{}_{0}\\,{}_{3}\\,{}_{2}\\, = - \\frac{\\left(A{\\left(t \\right)} \\frac{d}{d t} B{\\left(t \\right)} - B{\\left(t \\right)} \\frac{d}{d t} A{\\left(t \\right)}\\right) A{\\left(t \\right)} \\cos{\\left(y \\right)}}{2 B^{3}{\\left(t \\right)} \\sin{\\left(y \\right)}}$"
      ],
      "text/plain": [
       "<IPython.core.display.Math object>"
      ]
     },
     "metadata": {},
     "output_type": "display_data"
    },
    {
     "data": {
      "text/latex": [
       "$\\displaystyle {R}{}^{3}\\,{}_{1}\\,{}_{0}\\,{}_{2}\\, = - \\frac{\\left(A{\\left(t \\right)} \\frac{d}{d t} B{\\left(t \\right)} - B{\\left(t \\right)} \\frac{d}{d t} A{\\left(t \\right)}\\right) A{\\left(t \\right)}}{2 B^{3}{\\left(t \\right)} \\sin{\\left(y \\right)}}$"
      ],
      "text/plain": [
       "<IPython.core.display.Math object>"
      ]
     },
     "metadata": {},
     "output_type": "display_data"
    },
    {
     "data": {
      "text/latex": [
       "$\\displaystyle {R}{}^{3}\\,{}_{1}\\,{}_{1}\\,{}_{3}\\, = - \\frac{\\left(A^{3}{\\left(t \\right)} + 4 B^{3}{\\left(t \\right)} \\frac{d}{d t} A{\\left(t \\right)} \\frac{d}{d t} B{\\left(t \\right)}\\right) A{\\left(t \\right)}}{4 B^{4}{\\left(t \\right)}}$"
      ],
      "text/plain": [
       "<IPython.core.display.Math object>"
      ]
     },
     "metadata": {},
     "output_type": "display_data"
    },
    {
     "data": {
      "text/latex": [
       "$\\displaystyle {R}{}^{3}\\,{}_{1}\\,{}_{2}\\,{}_{0}\\, = \\frac{\\left(A{\\left(t \\right)} \\frac{d}{d t} B{\\left(t \\right)} - B{\\left(t \\right)} \\frac{d}{d t} A{\\left(t \\right)}\\right) A{\\left(t \\right)}}{2 B^{3}{\\left(t \\right)} \\sin{\\left(y \\right)}}$"
      ],
      "text/plain": [
       "<IPython.core.display.Math object>"
      ]
     },
     "metadata": {},
     "output_type": "display_data"
    },
    {
     "data": {
      "text/latex": [
       "$\\displaystyle {R}{}^{3}\\,{}_{1}\\,{}_{3}\\,{}_{1}\\, = \\frac{\\left(A^{3}{\\left(t \\right)} + 4 B^{3}{\\left(t \\right)} \\frac{d}{d t} A{\\left(t \\right)} \\frac{d}{d t} B{\\left(t \\right)}\\right) A{\\left(t \\right)}}{4 B^{4}{\\left(t \\right)}}$"
      ],
      "text/plain": [
       "<IPython.core.display.Math object>"
      ]
     },
     "metadata": {},
     "output_type": "display_data"
    },
    {
     "data": {
      "text/latex": [
       "$\\displaystyle {R}{}^{3}\\,{}_{2}\\,{}_{0}\\,{}_{1}\\, = - \\frac{\\left(A{\\left(t \\right)} \\frac{d}{d t} B{\\left(t \\right)} - B{\\left(t \\right)} \\frac{d}{d t} A{\\left(t \\right)}\\right) A{\\left(t \\right)}}{B^{3}{\\left(t \\right)} \\sin{\\left(y \\right)}}$"
      ],
      "text/plain": [
       "<IPython.core.display.Math object>"
      ]
     },
     "metadata": {},
     "output_type": "display_data"
    },
    {
     "data": {
      "text/latex": [
       "$\\displaystyle {R}{}^{3}\\,{}_{2}\\,{}_{0}\\,{}_{3}\\, = \\frac{\\left(A{\\left(t \\right)} \\frac{d}{d t} B{\\left(t \\right)} - B{\\left(t \\right)} \\frac{d}{d t} A{\\left(t \\right)}\\right) A{\\left(t \\right)} \\cos{\\left(y \\right)}}{B^{3}{\\left(t \\right)} \\sin{\\left(y \\right)}}$"
      ],
      "text/plain": [
       "<IPython.core.display.Math object>"
      ]
     },
     "metadata": {},
     "output_type": "display_data"
    },
    {
     "data": {
      "text/latex": [
       "$\\displaystyle {R}{}^{3}\\,{}_{2}\\,{}_{1}\\,{}_{0}\\, = \\frac{\\left(A{\\left(t \\right)} \\frac{d}{d t} B{\\left(t \\right)} - B{\\left(t \\right)} \\frac{d}{d t} A{\\left(t \\right)}\\right) A{\\left(t \\right)}}{B^{3}{\\left(t \\right)} \\sin{\\left(y \\right)}}$"
      ],
      "text/plain": [
       "<IPython.core.display.Math object>"
      ]
     },
     "metadata": {},
     "output_type": "display_data"
    },
    {
     "data": {
      "text/latex": [
       "$\\displaystyle {R}{}^{3}\\,{}_{2}\\,{}_{2}\\,{}_{3}\\, = \\frac{3 A^{2}{\\left(t \\right)} - 4 B^{2}{\\left(t \\right)} \\left(\\frac{d}{d t} B{\\left(t \\right)}\\right)^{2} - 4 B^{2}{\\left(t \\right)}}{4 B^{2}{\\left(t \\right)}}$"
      ],
      "text/plain": [
       "<IPython.core.display.Math object>"
      ]
     },
     "metadata": {},
     "output_type": "display_data"
    },
    {
     "data": {
      "text/latex": [
       "$\\displaystyle {R}{}^{3}\\,{}_{2}\\,{}_{3}\\,{}_{0}\\, = - \\frac{\\left(A{\\left(t \\right)} \\frac{d}{d t} B{\\left(t \\right)} - B{\\left(t \\right)} \\frac{d}{d t} A{\\left(t \\right)}\\right) A{\\left(t \\right)} \\cos{\\left(y \\right)}}{B^{3}{\\left(t \\right)} \\sin{\\left(y \\right)}}$"
      ],
      "text/plain": [
       "<IPython.core.display.Math object>"
      ]
     },
     "metadata": {},
     "output_type": "display_data"
    },
    {
     "data": {
      "text/latex": [
       "$\\displaystyle {R}{}^{3}\\,{}_{2}\\,{}_{3}\\,{}_{2}\\, = - \\frac{3 A^{2}{\\left(t \\right)} - 4 B^{2}{\\left(t \\right)} \\left(\\frac{d}{d t} B{\\left(t \\right)}\\right)^{2} - 4 B^{2}{\\left(t \\right)}}{4 B^{2}{\\left(t \\right)}}$"
      ],
      "text/plain": [
       "<IPython.core.display.Math object>"
      ]
     },
     "metadata": {},
     "output_type": "display_data"
    },
    {
     "data": {
      "text/latex": [
       "$\\displaystyle {R}{}^{3}\\,{}_{3}\\,{}_{0}\\,{}_{2}\\, = \\frac{\\left(A{\\left(t \\right)} \\frac{d}{d t} B{\\left(t \\right)} - B{\\left(t \\right)} \\frac{d}{d t} A{\\left(t \\right)}\\right) A{\\left(t \\right)} \\cos{\\left(y \\right)}}{2 B^{3}{\\left(t \\right)} \\sin{\\left(y \\right)}}$"
      ],
      "text/plain": [
       "<IPython.core.display.Math object>"
      ]
     },
     "metadata": {},
     "output_type": "display_data"
    },
    {
     "data": {
      "text/latex": [
       "$\\displaystyle {R}{}^{3}\\,{}_{3}\\,{}_{1}\\,{}_{3}\\, = \\frac{\\left(A^{3}{\\left(t \\right)} + 4 B^{3}{\\left(t \\right)} \\frac{d}{d t} A{\\left(t \\right)} \\frac{d}{d t} B{\\left(t \\right)}\\right) A{\\left(t \\right)} \\cos{\\left(y \\right)}}{4 B^{4}{\\left(t \\right)}}$"
      ],
      "text/plain": [
       "<IPython.core.display.Math object>"
      ]
     },
     "metadata": {},
     "output_type": "display_data"
    },
    {
     "data": {
      "text/latex": [
       "$\\displaystyle {R}{}^{3}\\,{}_{3}\\,{}_{2}\\,{}_{0}\\, = - \\frac{\\left(A{\\left(t \\right)} \\frac{d}{d t} B{\\left(t \\right)} - B{\\left(t \\right)} \\frac{d}{d t} A{\\left(t \\right)}\\right) A{\\left(t \\right)} \\cos{\\left(y \\right)}}{2 B^{3}{\\left(t \\right)} \\sin{\\left(y \\right)}}$"
      ],
      "text/plain": [
       "<IPython.core.display.Math object>"
      ]
     },
     "metadata": {},
     "output_type": "display_data"
    },
    {
     "data": {
      "text/latex": [
       "$\\displaystyle {R}{}^{3}\\,{}_{3}\\,{}_{3}\\,{}_{1}\\, = - \\frac{\\left(A^{3}{\\left(t \\right)} + 4 B^{3}{\\left(t \\right)} \\frac{d}{d t} A{\\left(t \\right)} \\frac{d}{d t} B{\\left(t \\right)}\\right) A{\\left(t \\right)} \\cos{\\left(y \\right)}}{4 B^{4}{\\left(t \\right)}}$"
      ],
      "text/plain": [
       "<IPython.core.display.Math object>"
      ]
     },
     "metadata": {},
     "output_type": "display_data"
    }
   ],
   "source": [
    "R = pt.riemann()\n",
    "R.display(\"^,_,_,_\")"
   ]
  },
  {
   "cell_type": "code",
   "execution_count": 7,
   "metadata": {},
   "outputs": [
    {
     "data": {
      "text/latex": [
       "Ricci Tensor $R_{\\alpha \\beta}$"
      ],
      "text/plain": [
       "<IPython.core.display.Latex object>"
      ]
     },
     "metadata": {},
     "output_type": "display_data"
    },
    {
     "data": {
      "application/vnd.jupyter.widget-view+json": {
       "model_id": "0107233e6025413ba872e076c6aa79f0",
       "version_major": 2,
       "version_minor": 0
      },
      "text/plain": [
       "  0%|          | 0/16 [00:00<?, ?it/s]"
      ]
     },
     "metadata": {},
     "output_type": "display_data"
    },
    {
     "data": {
      "application/vnd.jupyter.widget-view+json": {
       "model_id": "46ec803de694495d8b69c5de05b53e6d",
       "version_major": 2,
       "version_minor": 0
      },
      "text/plain": [
       "  0%|          | 0/16 [00:00<?, ?it/s]"
      ]
     },
     "metadata": {},
     "output_type": "display_data"
    },
    {
     "data": {
      "text/latex": [
       "Ricci Scalar $R$"
      ],
      "text/plain": [
       "<IPython.core.display.Latex object>"
      ]
     },
     "metadata": {},
     "output_type": "display_data"
    },
    {
     "data": {
      "text/latex": [
       "$\\displaystyle \\left[\\begin{matrix}- \\frac{2 A{\\left(t \\right)} \\frac{d^{2}}{d t^{2}} B{\\left(t \\right)} + B{\\left(t \\right)} \\frac{d^{2}}{d t^{2}} A{\\left(t \\right)}}{A{\\left(t \\right)} B{\\left(t \\right)}} & 0 & 0 & 0\\\\0 & \\frac{\\left(A^{3}{\\left(t \\right)} + 2 B^{4}{\\left(t \\right)} \\frac{d^{2}}{d t^{2}} A{\\left(t \\right)} + 4 B^{3}{\\left(t \\right)} \\frac{d}{d t} A{\\left(t \\right)} \\frac{d}{d t} B{\\left(t \\right)}\\right) A{\\left(t \\right)}}{2 B^{4}{\\left(t \\right)}} & 0 & - \\frac{\\left(A^{3}{\\left(t \\right)} + 2 B^{4}{\\left(t \\right)} \\frac{d^{2}}{d t^{2}} A{\\left(t \\right)} + 4 B^{3}{\\left(t \\right)} \\frac{d}{d t} A{\\left(t \\right)} \\frac{d}{d t} B{\\left(t \\right)}\\right) A{\\left(t \\right)} \\cos{\\left(y \\right)}}{2 B^{4}{\\left(t \\right)}}\\\\0 & 0 & - \\frac{A^{3}{\\left(t \\right)} - 2 A{\\left(t \\right)} B^{3}{\\left(t \\right)} \\frac{d^{2}}{d t^{2}} B{\\left(t \\right)} - 2 A{\\left(t \\right)} B^{2}{\\left(t \\right)} \\left(\\frac{d}{d t} B{\\left(t \\right)}\\right)^{2} - 2 A{\\left(t \\right)} B^{2}{\\left(t \\right)} - 2 B^{3}{\\left(t \\right)} \\frac{d}{d t} A{\\left(t \\right)} \\frac{d}{d t} B{\\left(t \\right)}}{2 A{\\left(t \\right)} B^{2}{\\left(t \\right)}} & 0\\\\0 & - \\frac{\\left(A^{3}{\\left(t \\right)} + 2 B^{4}{\\left(t \\right)} \\frac{d^{2}}{d t^{2}} A{\\left(t \\right)} + 4 B^{3}{\\left(t \\right)} \\frac{d}{d t} A{\\left(t \\right)} \\frac{d}{d t} B{\\left(t \\right)}\\right) A{\\left(t \\right)} \\cos{\\left(y \\right)}}{2 B^{4}{\\left(t \\right)}} & 0 & \\frac{A^{5}{\\left(t \\right)} \\cos^{2}{\\left(y \\right)} - A^{3}{\\left(t \\right)} B^{2}{\\left(t \\right)} \\sin^{2}{\\left(y \\right)} + 2 A^{2}{\\left(t \\right)} B^{4}{\\left(t \\right)} \\cos^{2}{\\left(y \\right)} \\frac{d^{2}}{d t^{2}} A{\\left(t \\right)} + 4 A^{2}{\\left(t \\right)} B^{3}{\\left(t \\right)} \\cos^{2}{\\left(y \\right)} \\frac{d}{d t} A{\\left(t \\right)} \\frac{d}{d t} B{\\left(t \\right)} + 2 A{\\left(t \\right)} B^{5}{\\left(t \\right)} \\sin^{2}{\\left(y \\right)} \\frac{d^{2}}{d t^{2}} B{\\left(t \\right)} + 2 A{\\left(t \\right)} B^{4}{\\left(t \\right)} \\sin^{2}{\\left(y \\right)} \\left(\\frac{d}{d t} B{\\left(t \\right)}\\right)^{2} + 2 A{\\left(t \\right)} B^{4}{\\left(t \\right)} \\sin^{2}{\\left(y \\right)} + 2 B^{5}{\\left(t \\right)} \\sin^{2}{\\left(y \\right)} \\frac{d}{d t} A{\\left(t \\right)} \\frac{d}{d t} B{\\left(t \\right)}}{2 A{\\left(t \\right)} B^{4}{\\left(t \\right)}}\\end{matrix}\\right]$"
      ],
      "text/plain": [
       "⎡ ⎛         2                2      ⎞                                         \n",
       "⎢ ⎜        d                d       ⎟                                         \n",
       "⎢-⎜2⋅A(t)⋅───(B(t)) + B(t)⋅───(A(t))⎟                                         \n",
       "⎢ ⎜         2                2      ⎟                                         \n",
       "⎢ ⎝       dt               dt       ⎠                                         \n",
       "⎢─────────────────────────────────────                                    0   \n",
       "⎢              A(t)⋅B(t)                                                      \n",
       "⎢                                                                             \n",
       "⎢                                           ⎛                  2              \n",
       "⎢                                           ⎜ 3         4     d             3 \n",
       "⎢                                           ⎜A (t) + 2⋅B (t)⋅───(A(t)) + 4⋅B (\n",
       "⎢                                           ⎜                  2              \n",
       "⎢                                           ⎝                dt               \n",
       "⎢                  0                        ──────────────────────────────────\n",
       "⎢                                                                        4    \n",
       "⎢                                                                     2⋅B (t) \n",
       "⎢                                                                             \n",
       "⎢                                                                             \n",
       "⎢                                                                             \n",
       "⎢                                                                             \n",
       "⎢                                                                             \n",
       "⎢                                                                             \n",
       "⎢                  0                                                      0   \n",
       "⎢                                                                             \n",
       "⎢                                                                             \n",
       "⎢                                                                             \n",
       "⎢                                        ⎛                  2                 \n",
       "⎢                                        ⎜ 3         4     d             3    \n",
       "⎢                                       -⎜A (t) + 2⋅B (t)⋅───(A(t)) + 4⋅B (t)⋅\n",
       "⎢                                        ⎜                  2                 \n",
       "⎢                                        ⎝                dt                  \n",
       "⎢                  0                    ──────────────────────────────────────\n",
       "⎢                                                                         4   \n",
       "⎣                                                                      2⋅B (t)\n",
       "\n",
       "                                                                              \n",
       "                                                                              \n",
       "                                                                              \n",
       "                                                                              \n",
       "                                                                              \n",
       "                                                                              \n",
       "                                                                              \n",
       "                                                                              \n",
       "                    ⎞                                                         \n",
       "   d        d       ⎟                                                         \n",
       "t)⋅──(A(t))⋅──(B(t))⎟⋅A(t)                                                    \n",
       "   dt       dt      ⎟                                                         \n",
       "                    ⎠                                                         \n",
       "──────────────────────────                                                    \n",
       "                                                                              \n",
       "                                                                              \n",
       "                                                                              \n",
       "                                  ⎛                       2                   \n",
       "                                  ⎜ 3              3     d                  2 \n",
       "                                 -⎜A (t) - 2⋅A(t)⋅B (t)⋅───(B(t)) - 2⋅A(t)⋅B (\n",
       "                                  ⎜                       2                   \n",
       "                                  ⎝                     dt                    \n",
       "                                 ─────────────────────────────────────────────\n",
       "                                                                              \n",
       "                                                                              \n",
       "                                                                              \n",
       "                 ⎞                                                            \n",
       "d        d       ⎟                                                            \n",
       "──(A(t))⋅──(B(t))⎟⋅A(t)⋅cos(y)                                                \n",
       "dt       dt      ⎟                                                            \n",
       "                 ⎠                                                            \n",
       "───────────────────────────────                                               \n",
       "                                                                              \n",
       "                                                                              \n",
       "\n",
       "                                                                              \n",
       "                                                                              \n",
       "                                                                              \n",
       "                                                                              \n",
       "                                                                              \n",
       "      0                                                                       \n",
       "                                                                              \n",
       "                                                                              \n",
       "                                                                              \n",
       "                                                                              \n",
       "                                                                              \n",
       "                                                                              \n",
       "                                                                              \n",
       "      0                                                                       \n",
       "                                                                              \n",
       "                                                                              \n",
       "                                                                              \n",
       "             2                                           ⎞                    \n",
       "   ⎛d       ⎞            2         3    d        d       ⎟                    \n",
       "t)⋅⎜──(B(t))⎟  - 2⋅A(t)⋅B (t) - 2⋅B (t)⋅──(A(t))⋅──(B(t))⎟                    \n",
       "   ⎝dt      ⎠                           dt       dt      ⎟                    \n",
       "                                                         ⎠                    \n",
       "───────────────────────────────────────────────────────────                   \n",
       "         2                                                                    \n",
       " 2⋅A(t)⋅B (t)                                                                 \n",
       "                                                                              \n",
       "                                                                              \n",
       "                                                              5       2       \n",
       "                                                             A (t)⋅cos (y) - A\n",
       "                                                                              \n",
       "                                                                              \n",
       "      0                                                      ─────────────────\n",
       "                                                                              \n",
       "                                                                              \n",
       "\n",
       "                                                                              \n",
       "                                                                              \n",
       "                                                                              \n",
       "                                                                              \n",
       "                                                                              \n",
       "                                                                              \n",
       "                                                                              \n",
       "                                                                              \n",
       "                                                                    ⎛         \n",
       "                                                                    ⎜ 3       \n",
       "                                                                   -⎜A (t) + 2\n",
       "                                                                    ⎜         \n",
       "                                                                    ⎝         \n",
       "                                                                   ───────────\n",
       "                                                                              \n",
       "                                                                              \n",
       "                                                                              \n",
       "                                                                              \n",
       "                                                                              \n",
       "                                                                              \n",
       "                                                                              \n",
       "                                                                              \n",
       "                                                                              \n",
       "                                                                              \n",
       "                                                                              \n",
       "                                                                              \n",
       "                                             2                                \n",
       "3     2       2         2     4       2     d             2     3       2    d\n",
       " (t)⋅B (t)⋅sin (y) + 2⋅A (t)⋅B (t)⋅cos (y)⋅───(A(t)) + 4⋅A (t)⋅B (t)⋅cos (y)⋅─\n",
       "                                             2                               d\n",
       "                                           dt                                 \n",
       "──────────────────────────────────────────────────────────────────────────────\n",
       "                                                                              \n",
       "                                                                              \n",
       "\n",
       "                                                                              \n",
       "                                                                              \n",
       "                                                                              \n",
       "                                                                              \n",
       "                                                                              \n",
       "                       0                                                      \n",
       "                                                                              \n",
       "                                                                              \n",
       "         2                                  ⎞                                 \n",
       "  4     d             3    d        d       ⎟                                 \n",
       "⋅B (t)⋅───(A(t)) + 4⋅B (t)⋅──(A(t))⋅──(B(t))⎟⋅A(t)⋅cos(y)                     \n",
       "         2                 dt       dt      ⎟                                 \n",
       "       dt                                   ⎠                                 \n",
       "──────────────────────────────────────────────────────────                    \n",
       "                       4                                                      \n",
       "                    2⋅B (t)                                                   \n",
       "                                                                              \n",
       "                                                                              \n",
       "                                                                              \n",
       "                                                                              \n",
       "                                                                              \n",
       "                                                                              \n",
       "                       0                                                      \n",
       "                                                                              \n",
       "                                                                              \n",
       "                                                                              \n",
       "                                          2                                   \n",
       "        d                  5       2     d                  4       2    ⎛d   \n",
       "─(A(t))⋅──(B(t)) + 2⋅A(t)⋅B (t)⋅sin (y)⋅───(B(t)) + 2⋅A(t)⋅B (t)⋅sin (y)⋅⎜──(B\n",
       "t       dt                                2                              ⎝dt  \n",
       "                                        dt                                    \n",
       "──────────────────────────────────────────────────────────────────────────────\n",
       "                          4                                                   \n",
       "                  2⋅A(t)⋅B (t)                                                \n",
       "\n",
       "                                                                 ⎤\n",
       "                                                                 ⎥\n",
       "                                                                 ⎥\n",
       "                                                                 ⎥\n",
       "                                                                 ⎥\n",
       "                                                                 ⎥\n",
       "                                                                 ⎥\n",
       "                                                                 ⎥\n",
       "                                                                 ⎥\n",
       "                                                                 ⎥\n",
       "                                                                 ⎥\n",
       "                                                                 ⎥\n",
       "                                                                 ⎥\n",
       "                                                                 ⎥\n",
       "                                                                 ⎥\n",
       "                                                                 ⎥\n",
       "                                                                 ⎥\n",
       "                                                                 ⎥\n",
       "                                                                 ⎥\n",
       "                                                                 ⎥\n",
       "                                                                 ⎥\n",
       "                                                                 ⎥\n",
       "                                                                 ⎥\n",
       "                                                                 ⎥\n",
       "                                                                 ⎥\n",
       "                                                                 ⎥\n",
       "     2                                                           ⎥\n",
       "    ⎞            4       2         5       2    d        d       ⎥\n",
       "(t))⎟  + 2⋅A(t)⋅B (t)⋅sin (y) + 2⋅B (t)⋅sin (y)⋅──(A(t))⋅──(B(t))⎥\n",
       "    ⎠                                           dt       dt      ⎥\n",
       "                                                                 ⎥\n",
       "─────────────────────────────────────────────────────────────────⎥\n",
       "                                                                 ⎥\n",
       "                                                                 ⎦"
      ]
     },
     "metadata": {},
     "output_type": "display_data"
    },
    {
     "data": {
      "text/latex": [
       "$\\displaystyle - \\frac{A^{3}{\\left(t \\right)} - 8 A{\\left(t \\right)} B^{3}{\\left(t \\right)} \\frac{d^{2}}{d t^{2}} B{\\left(t \\right)} - 4 A{\\left(t \\right)} B^{2}{\\left(t \\right)} \\left(\\frac{d}{d t} B{\\left(t \\right)}\\right)^{2} - 4 A{\\left(t \\right)} B^{2}{\\left(t \\right)} - 4 B^{4}{\\left(t \\right)} \\frac{d^{2}}{d t^{2}} A{\\left(t \\right)} - 8 B^{3}{\\left(t \\right)} \\frac{d}{d t} A{\\left(t \\right)} \\frac{d}{d t} B{\\left(t \\right)}}{2 A{\\left(t \\right)} B^{4}{\\left(t \\right)}}$"
      ],
      "text/plain": [
       "<IPython.core.display.Math object>"
      ]
     },
     "metadata": {},
     "output_type": "display_data"
    }
   ],
   "source": [
    "Ric = pt.ricci()\n",
    "RicS = pt.riccis()\n",
    "Ric.display()\n",
    "pt.display(RicS)"
   ]
  },
  {
   "cell_type": "code",
   "execution_count": 8,
   "metadata": {},
   "outputs": [
    {
     "data": {
      "text/latex": [
       "Einstein Tensor $G_{\\alpha \\beta}$"
      ],
      "text/plain": [
       "<IPython.core.display.Latex object>"
      ]
     },
     "metadata": {},
     "output_type": "display_data"
    },
    {
     "data": {
      "application/vnd.jupyter.widget-view+json": {
       "model_id": "2728c6d9094d45aa9d4f27a60da75dc1",
       "version_major": 2,
       "version_minor": 0
      },
      "text/plain": [
       "  0%|          | 0/16 [00:00<?, ?it/s]"
      ]
     },
     "metadata": {},
     "output_type": "display_data"
    },
    {
     "data": {
      "text/latex": [
       "$\\displaystyle \\left[\\begin{matrix}- \\frac{A^{3}{\\left(t \\right)} - 4 A{\\left(t \\right)} B^{2}{\\left(t \\right)} \\left(\\frac{d}{d t} B{\\left(t \\right)}\\right)^{2} - 4 A{\\left(t \\right)} B^{2}{\\left(t \\right)} - 8 B^{3}{\\left(t \\right)} \\frac{d}{d t} A{\\left(t \\right)} \\frac{d}{d t} B{\\left(t \\right)}}{4 A{\\left(t \\right)} B^{4}{\\left(t \\right)}} & 0 & 0 & 0\\\\0 & \\frac{\\left(3 A^{2}{\\left(t \\right)} - 8 B^{3}{\\left(t \\right)} \\frac{d^{2}}{d t^{2}} B{\\left(t \\right)} - 4 B^{2}{\\left(t \\right)} \\left(\\frac{d}{d t} B{\\left(t \\right)}\\right)^{2} - 4 B^{2}{\\left(t \\right)}\\right) A^{2}{\\left(t \\right)}}{4 B^{4}{\\left(t \\right)}} & 0 & - \\frac{\\left(3 A^{2}{\\left(t \\right)} - 8 B^{3}{\\left(t \\right)} \\frac{d^{2}}{d t^{2}} B{\\left(t \\right)} - 4 B^{2}{\\left(t \\right)} \\left(\\frac{d}{d t} B{\\left(t \\right)}\\right)^{2} - 4 B^{2}{\\left(t \\right)}\\right) A^{2}{\\left(t \\right)} \\cos{\\left(y \\right)}}{4 B^{4}{\\left(t \\right)}}\\\\0 & 0 & - \\frac{A^{3}{\\left(t \\right)} + 4 A{\\left(t \\right)} B^{3}{\\left(t \\right)} \\frac{d^{2}}{d t^{2}} B{\\left(t \\right)} + 4 B^{4}{\\left(t \\right)} \\frac{d^{2}}{d t^{2}} A{\\left(t \\right)} + 4 B^{3}{\\left(t \\right)} \\frac{d}{d t} A{\\left(t \\right)} \\frac{d}{d t} B{\\left(t \\right)}}{4 A{\\left(t \\right)} B^{2}{\\left(t \\right)}} & 0\\\\0 & - \\frac{\\left(3 A^{2}{\\left(t \\right)} - 8 B^{3}{\\left(t \\right)} \\frac{d^{2}}{d t^{2}} B{\\left(t \\right)} - 4 B^{2}{\\left(t \\right)} \\left(\\frac{d}{d t} B{\\left(t \\right)}\\right)^{2} - 4 B^{2}{\\left(t \\right)}\\right) A^{2}{\\left(t \\right)} \\cos{\\left(y \\right)}}{4 B^{4}{\\left(t \\right)}} & 0 & \\frac{3 A^{5}{\\left(t \\right)} \\cos^{2}{\\left(y \\right)} - 8 A^{3}{\\left(t \\right)} B^{3}{\\left(t \\right)} \\cos^{2}{\\left(y \\right)} \\frac{d^{2}}{d t^{2}} B{\\left(t \\right)} - A^{3}{\\left(t \\right)} B^{2}{\\left(t \\right)} \\sin^{2}{\\left(y \\right)} - 4 A^{3}{\\left(t \\right)} B^{2}{\\left(t \\right)} \\cos^{2}{\\left(y \\right)} \\left(\\frac{d}{d t} B{\\left(t \\right)}\\right)^{2} - 4 A^{3}{\\left(t \\right)} B^{2}{\\left(t \\right)} \\cos^{2}{\\left(y \\right)} - 4 A{\\left(t \\right)} B^{5}{\\left(t \\right)} \\sin^{2}{\\left(y \\right)} \\frac{d^{2}}{d t^{2}} B{\\left(t \\right)} - 4 B^{6}{\\left(t \\right)} \\sin^{2}{\\left(y \\right)} \\frac{d^{2}}{d t^{2}} A{\\left(t \\right)} - 4 B^{5}{\\left(t \\right)} \\sin^{2}{\\left(y \\right)} \\frac{d}{d t} A{\\left(t \\right)} \\frac{d}{d t} B{\\left(t \\right)}}{4 A{\\left(t \\right)} B^{4}{\\left(t \\right)}}\\end{matrix}\\right]$"
      ],
      "text/plain": [
       "⎡ ⎛                               2                                           \n",
       "⎢ ⎜ 3              2    ⎛d       ⎞            2         3    d        d       \n",
       "⎢-⎜A (t) - 4⋅A(t)⋅B (t)⋅⎜──(B(t))⎟  - 4⋅A(t)⋅B (t) - 8⋅B (t)⋅──(A(t))⋅──(B(t))\n",
       "⎢ ⎝                     ⎝dt      ⎠                           dt       dt      \n",
       "⎢─────────────────────────────────────────────────────────────────────────────\n",
       "⎢                                          4                                  \n",
       "⎢                                  4⋅A(t)⋅B (t)                               \n",
       "⎢                                                                             \n",
       "⎢                                                                             \n",
       "⎢                                                                             \n",
       "⎢                                                                             \n",
       "⎢                                                                             \n",
       "⎢                                                                             \n",
       "⎢                                       0                                     \n",
       "⎢                                                                             \n",
       "⎢                                                                             \n",
       "⎢                                                                             \n",
       "⎢                                                                             \n",
       "⎢                                                                             \n",
       "⎢                                                                             \n",
       "⎢                                                                             \n",
       "⎢                                                                             \n",
       "⎢                                       0                                     \n",
       "⎢                                                                             \n",
       "⎢                                                                             \n",
       "⎢                                                                             \n",
       "⎢                                                                             \n",
       "⎢                                                                             \n",
       "⎢                                                                             \n",
       "⎢                                                                             \n",
       "⎢                                                                             \n",
       "⎢                                       0                                     \n",
       "⎢                                                                             \n",
       "⎣                                                                             \n",
       "\n",
       "⎞                                                                             \n",
       "⎟                                                                             \n",
       "⎟                                                                             \n",
       "⎠                                                                             \n",
       "──                                       0                                    \n",
       "                                                                              \n",
       "                                                                              \n",
       "                                                                              \n",
       "        ⎛                    2                           2          ⎞         \n",
       "        ⎜   2         3     d             2    ⎛d       ⎞       2   ⎟  2      \n",
       "        ⎜3⋅A (t) - 8⋅B (t)⋅───(B(t)) - 4⋅B (t)⋅⎜──(B(t))⎟  - 4⋅B (t)⎟⋅A (t)   \n",
       "        ⎜                    2                 ⎝dt      ⎠           ⎟         \n",
       "        ⎝                  dt                                       ⎠         \n",
       "        ───────────────────────────────────────────────────────────────────   \n",
       "                                         4                                    \n",
       "                                      4⋅B (t)                                 \n",
       "                                                                              \n",
       "                                                                              \n",
       "                                                                              \n",
       "                                                                              \n",
       "                                                                              \n",
       "                                                                              \n",
       "                                         0                                    \n",
       "                                                                              \n",
       "                                                                              \n",
       "                                                                              \n",
       "     ⎛                    2                           2          ⎞            \n",
       "     ⎜   2         3     d             2    ⎛d       ⎞       2   ⎟  2         \n",
       "    -⎜3⋅A (t) - 8⋅B (t)⋅───(B(t)) - 4⋅B (t)⋅⎜──(B(t))⎟  - 4⋅B (t)⎟⋅A (t)⋅cos(y\n",
       "     ⎜                    2                 ⎝dt      ⎠           ⎟            \n",
       "     ⎝                  dt                                       ⎠            \n",
       "    ──────────────────────────────────────────────────────────────────────────\n",
       "                                         4                                    \n",
       "                                      4⋅B (t)                                 \n",
       "\n",
       "                                                                              \n",
       "                                                                              \n",
       "                                                                              \n",
       "                                                                              \n",
       "                                            0                                 \n",
       "                                                                              \n",
       "                                                                              \n",
       "                                                                              \n",
       "                                                                              \n",
       "                                                                              \n",
       "                                                                              \n",
       "                                                                              \n",
       "                                                                              \n",
       "                                            0                                 \n",
       "                                                                              \n",
       "                                                                              \n",
       "                                                                              \n",
       "     ⎛                       2                   2                            \n",
       "     ⎜ 3              3     d             4     d             3    d        d \n",
       "    -⎜A (t) + 4⋅A(t)⋅B (t)⋅───(B(t)) + 4⋅B (t)⋅───(A(t)) + 4⋅B (t)⋅──(A(t))⋅──\n",
       "     ⎜                       2                   2                 dt       dt\n",
       "     ⎝                     dt                  dt                             \n",
       "    ──────────────────────────────────────────────────────────────────────────\n",
       "                                               2                              \n",
       "                                       4⋅A(t)⋅B (t)                           \n",
       "                                                                              \n",
       "                                                                              \n",
       "                                                                              \n",
       ")                                                                             \n",
       "                                                                              \n",
       "                                                                              \n",
       "──                                          0                                 \n",
       "                                                                              \n",
       "                                                                              \n",
       "\n",
       "                                                                              \n",
       "                                                                              \n",
       "                                                                              \n",
       "                                                                              \n",
       "                                                                              \n",
       "                                                                              \n",
       "                                                                              \n",
       "                                                                              \n",
       "                                                                              \n",
       "                                                                              \n",
       "                                                                              \n",
       "                                                                              \n",
       "                                                                              \n",
       "                                                                              \n",
       "                                                                              \n",
       "                                                                              \n",
       "                                                                              \n",
       "      ⎞                                                                       \n",
       "      ⎟                                                                       \n",
       "(B(t))⎟                                                                       \n",
       "      ⎟                                                                       \n",
       "      ⎠                                                                       \n",
       "────────                                                                      \n",
       "                                                                              \n",
       "                                                                              \n",
       "                                                                              \n",
       "                                                    2                         \n",
       "             5       2         3     3       2     d           3     2       2\n",
       "          3⋅A (t)⋅cos (y) - 8⋅A (t)⋅B (t)⋅cos (y)⋅───(B(t)) - A (t)⋅B (t)⋅sin \n",
       "                                                    2                         \n",
       "                                                  dt                          \n",
       "          ────────────────────────────────────────────────────────────────────\n",
       "                                                                              \n",
       "                                                                              \n",
       "\n",
       "                                                                              \n",
       "                                                                              \n",
       "                                                                              \n",
       "                                                                              \n",
       "                                             0                                \n",
       "                                                                              \n",
       "                                                                              \n",
       "                                                                              \n",
       "         ⎛                    2                           2          ⎞        \n",
       "         ⎜   2         3     d             2    ⎛d       ⎞       2   ⎟  2     \n",
       "        -⎜3⋅A (t) - 8⋅B (t)⋅───(B(t)) - 4⋅B (t)⋅⎜──(B(t))⎟  - 4⋅B (t)⎟⋅A (t)⋅c\n",
       "         ⎜                    2                 ⎝dt      ⎠           ⎟        \n",
       "         ⎝                  dt                                       ⎠        \n",
       "        ──────────────────────────────────────────────────────────────────────\n",
       "                                             4                                \n",
       "                                          4⋅B (t)                             \n",
       "                                                                              \n",
       "                                                                              \n",
       "                                                                              \n",
       "                                                                              \n",
       "                                                                              \n",
       "                                                                              \n",
       "                                             0                                \n",
       "                                                                              \n",
       "                                                                              \n",
       "                                                                              \n",
       "                                      2                                       \n",
       "         3     2       2    ⎛d       ⎞       3     2       2              5   \n",
       "(y) - 4⋅A (t)⋅B (t)⋅cos (y)⋅⎜──(B(t))⎟  - 4⋅A (t)⋅B (t)⋅cos (y) - 4⋅A(t)⋅B (t)\n",
       "                            ⎝dt      ⎠                                        \n",
       "                                                                              \n",
       "──────────────────────────────────────────────────────────────────────────────\n",
       "                                                4                             \n",
       "                                        4⋅A(t)⋅B (t)                          \n",
       "\n",
       "                                                                              \n",
       "                                                                              \n",
       "                                                                              \n",
       "                                                                              \n",
       "                                                                              \n",
       "                                                                              \n",
       "                                                                              \n",
       "                                                                              \n",
       "                                                                              \n",
       "                                                                              \n",
       "os(y)                                                                         \n",
       "                                                                              \n",
       "                                                                              \n",
       "──────                                                                        \n",
       "                                                                              \n",
       "                                                                              \n",
       "                                                                              \n",
       "                                                                              \n",
       "                                                                              \n",
       "                                                                              \n",
       "                                                                              \n",
       "                                                                              \n",
       "                                                                              \n",
       "                                                                              \n",
       "                                                                              \n",
       "                                                                              \n",
       "           2                           2                                      \n",
       "    2     d             6       2     d             5       2    d        d   \n",
       "⋅sin (y)⋅───(B(t)) - 4⋅B (t)⋅sin (y)⋅───(A(t)) - 4⋅B (t)⋅sin (y)⋅──(A(t))⋅──(B\n",
       "           2                           2                         dt       dt  \n",
       "         dt                          dt                                       \n",
       "──────────────────────────────────────────────────────────────────────────────\n",
       "                                                                              \n",
       "                                                                              \n",
       "\n",
       "    ⎤\n",
       "    ⎥\n",
       "    ⎥\n",
       "    ⎥\n",
       "    ⎥\n",
       "    ⎥\n",
       "    ⎥\n",
       "    ⎥\n",
       "    ⎥\n",
       "    ⎥\n",
       "    ⎥\n",
       "    ⎥\n",
       "    ⎥\n",
       "    ⎥\n",
       "    ⎥\n",
       "    ⎥\n",
       "    ⎥\n",
       "    ⎥\n",
       "    ⎥\n",
       "    ⎥\n",
       "    ⎥\n",
       "    ⎥\n",
       "    ⎥\n",
       "    ⎥\n",
       "    ⎥\n",
       "    ⎥\n",
       "    ⎥\n",
       "    ⎥\n",
       "(t))⎥\n",
       "    ⎥\n",
       "    ⎥\n",
       "────⎥\n",
       "    ⎥\n",
       "    ⎦"
      ]
     },
     "metadata": {},
     "output_type": "display_data"
    }
   ],
   "source": [
    "G = pt.einstein()\n",
    "G.display()"
   ]
  },
  {
   "cell_type": "code",
   "execution_count": 9,
   "metadata": {},
   "outputs": [
    {
     "name": "stdout",
     "output_type": "stream",
     "text": [
      "Elements assigned correctly to the ^ components\n"
     ]
    },
    {
     "data": {
      "text/latex": [
       "$\\displaystyle \\left[\\begin{matrix}1\\\\0\\\\0\\\\0\\end{matrix}\\right]$"
      ],
      "text/plain": [
       "⎡1⎤\n",
       "⎢ ⎥\n",
       "⎢0⎥\n",
       "⎢ ⎥\n",
       "⎢0⎥\n",
       "⎢ ⎥\n",
       "⎣0⎦"
      ]
     },
     "metadata": {},
     "output_type": "display_data"
    },
    {
     "name": "stdout",
     "output_type": "stream",
     "text": [
      "Elements assigned correctly to the ^mu,^nu components\n"
     ]
    },
    {
     "data": {
      "text/latex": [
       "$\\displaystyle \\left[\\begin{matrix}\\rho{\\left(t \\right)} & 0 & 0 & 0\\\\0 & \\frac{\\left(A^{2}{\\left(t \\right)} \\cos^{2}{\\left(y \\right)} + B^{2}{\\left(t \\right)} \\sin^{2}{\\left(y \\right)}\\right) P{\\left(t \\right)}}{A^{2}{\\left(t \\right)} B^{2}{\\left(t \\right)} \\sin^{2}{\\left(y \\right)}} & 0 & \\frac{P{\\left(t \\right)} \\cos{\\left(y \\right)}}{B^{2}{\\left(t \\right)} \\sin^{2}{\\left(y \\right)}}\\\\0 & 0 & \\frac{P{\\left(t \\right)}}{B^{2}{\\left(t \\right)}} & 0\\\\0 & \\frac{P{\\left(t \\right)} \\cos{\\left(y \\right)}}{B^{2}{\\left(t \\right)} \\sin^{2}{\\left(y \\right)}} & 0 & \\frac{P{\\left(t \\right)}}{B^{2}{\\left(t \\right)} \\sin^{2}{\\left(y \\right)}}\\end{matrix}\\right]$"
      ],
      "text/plain": [
       "⎡ρ(t)                   0                      0          0      ⎤\n",
       "⎢                                                                ⎥\n",
       "⎢      ⎛ 2       2       2       2   ⎞                           ⎥\n",
       "⎢      ⎝A (t)⋅cos (y) + B (t)⋅sin (y)⎠⋅P(t)          P(t)⋅cos(y) ⎥\n",
       "⎢ 0    ────────────────────────────────────    0    ─────────────⎥\n",
       "⎢               2     2       2                      2       2   ⎥\n",
       "⎢              A (t)⋅B (t)⋅sin (y)                  B (t)⋅sin (y)⎥\n",
       "⎢                                                                ⎥\n",
       "⎢                                             P(t)               ⎥\n",
       "⎢ 0                     0                    ─────        0      ⎥\n",
       "⎢                                             2                  ⎥\n",
       "⎢                                            B (t)               ⎥\n",
       "⎢                                                                ⎥\n",
       "⎢                  P(t)⋅cos(y)                           P(t)    ⎥\n",
       "⎢ 0               ─────────────                0    ─────────────⎥\n",
       "⎢                  2       2                         2       2   ⎥\n",
       "⎣                 B (t)⋅sin (y)                     B (t)⋅sin (y)⎦"
      ]
     },
     "metadata": {},
     "output_type": "display_data"
    },
    {
     "data": {
      "application/vnd.jupyter.widget-view+json": {
       "model_id": "0bbb19261af84064a402a2c622f36bd2",
       "version_major": 2,
       "version_minor": 0
      },
      "text/plain": [
       "T Tensor $T{_\\alpha}{^\\beta}$:   0%|          | 0/16 [00:00<?, ?it/s]"
      ]
     },
     "metadata": {},
     "output_type": "display_data"
    },
    {
     "data": {
      "application/vnd.jupyter.widget-view+json": {
       "model_id": "f620dba2524d4e45bdb1d38989bda556",
       "version_major": 2,
       "version_minor": 0
      },
      "text/plain": [
       "T Tensor $T{_\\alpha}{_\\beta}$:   0%|          | 0/16 [00:00<?, ?it/s]"
      ]
     },
     "metadata": {},
     "output_type": "display_data"
    },
    {
     "data": {
      "application/vnd.jupyter.widget-view+json": {
       "model_id": "d4106fbada9a419c9486a875139fde2c",
       "version_major": 2,
       "version_minor": 0
      },
      "text/plain": [
       "T Tensor $T{^\\alpha}{_\\beta}$:   0%|          | 0/16 [00:00<?, ?it/s]"
      ]
     },
     "metadata": {},
     "output_type": "display_data"
    },
    {
     "data": {
      "text/latex": [
       "All other indices of T Tensor $T$  already calculated."
      ],
      "text/plain": [
       "<IPython.core.display.Latex object>"
      ]
     },
     "metadata": {},
     "output_type": "display_data"
    },
    {
     "data": {
      "text/latex": [
       "$\\displaystyle \\left[\\begin{matrix}\\rho{\\left(t \\right)} & 0 & 0 & 0\\\\0 & \\left(\\frac{\\left(A^{2}{\\left(t \\right)} \\cos^{2}{\\left(y \\right)} + B^{2}{\\left(t \\right)} \\sin^{2}{\\left(y \\right)}\\right) P{\\left(t \\right)}}{B^{2}{\\left(t \\right)} \\sin^{2}{\\left(y \\right)}} - \\frac{A^{2}{\\left(t \\right)} P{\\left(t \\right)} \\cos^{2}{\\left(y \\right)}}{B^{2}{\\left(t \\right)} \\sin^{2}{\\left(y \\right)}}\\right) A^{2}{\\left(t \\right)} & 0 & - \\left(\\frac{\\left(A^{2}{\\left(t \\right)} \\cos^{2}{\\left(y \\right)} + B^{2}{\\left(t \\right)} \\sin^{2}{\\left(y \\right)}\\right) P{\\left(t \\right)}}{B^{2}{\\left(t \\right)} \\sin^{2}{\\left(y \\right)}} - \\frac{A^{2}{\\left(t \\right)} P{\\left(t \\right)} \\cos^{2}{\\left(y \\right)}}{B^{2}{\\left(t \\right)} \\sin^{2}{\\left(y \\right)}}\\right) A^{2}{\\left(t \\right)} \\cos{\\left(y \\right)}\\\\0 & 0 & B^{2}{\\left(t \\right)} P{\\left(t \\right)} & 0\\\\0 & - \\left(\\frac{\\left(A^{2}{\\left(t \\right)} \\cos^{2}{\\left(y \\right)} + B^{2}{\\left(t \\right)} \\sin^{2}{\\left(y \\right)}\\right) P{\\left(t \\right)}}{B^{2}{\\left(t \\right)} \\sin^{2}{\\left(y \\right)}} - \\frac{A^{2}{\\left(t \\right)} P{\\left(t \\right)} \\cos^{2}{\\left(y \\right)}}{B^{2}{\\left(t \\right)} \\sin^{2}{\\left(y \\right)}}\\right) A^{2}{\\left(t \\right)} \\cos{\\left(y \\right)} & 0 & \\left(A^{2}{\\left(t \\right)} \\cos^{2}{\\left(y \\right)} + B^{2}{\\left(t \\right)} \\sin^{2}{\\left(y \\right)}\\right) \\left(\\frac{\\left(A^{2}{\\left(t \\right)} \\cos^{2}{\\left(y \\right)} + B^{2}{\\left(t \\right)} \\sin^{2}{\\left(y \\right)}\\right) P{\\left(t \\right)}}{B^{2}{\\left(t \\right)} \\sin^{2}{\\left(y \\right)}} - \\frac{A^{2}{\\left(t \\right)} P{\\left(t \\right)} \\cos^{2}{\\left(y \\right)}}{B^{2}{\\left(t \\right)} \\sin^{2}{\\left(y \\right)}}\\right)\\end{matrix}\\right]$"
      ],
      "text/plain": [
       "⎡ρ(t)                                      0                                  \n",
       "⎢                                                                             \n",
       "⎢          ⎛⎛ 2       2       2       2   ⎞         2            2   ⎞        \n",
       "⎢          ⎜⎝A (t)⋅cos (y) + B (t)⋅sin (y)⎠⋅P(t)   A (t)⋅P(t)⋅cos (y)⎟  2     \n",
       "⎢ 0        ⎜──────────────────────────────────── - ──────────────────⎟⋅A (t)  \n",
       "⎢          ⎜            2       2                     2       2      ⎟        \n",
       "⎢          ⎝           B (t)⋅sin (y)                 B (t)⋅sin (y)   ⎠        \n",
       "⎢                                                                             \n",
       "⎢                                                                             \n",
       "⎢ 0                                        0                                  \n",
       "⎢                                                                             \n",
       "⎢       ⎛⎛ 2       2       2       2   ⎞         2            2   ⎞           \n",
       "⎢       ⎜⎝A (t)⋅cos (y) + B (t)⋅sin (y)⎠⋅P(t)   A (t)⋅P(t)⋅cos (y)⎟  2        \n",
       "⎢ 0    -⎜──────────────────────────────────── - ──────────────────⎟⋅A (t)⋅cos(\n",
       "⎢       ⎜            2       2                     2       2      ⎟           \n",
       "⎣       ⎝           B (t)⋅sin (y)                 B (t)⋅sin (y)   ⎠           \n",
       "\n",
       "        0                                                    0                \n",
       "                                                                              \n",
       "                          ⎛⎛ 2       2       2       2   ⎞         2          \n",
       "                          ⎜⎝A (t)⋅cos (y) + B (t)⋅sin (y)⎠⋅P(t)   A (t)⋅P(t)⋅c\n",
       "        0                -⎜──────────────────────────────────── - ────────────\n",
       "                          ⎜            2       2                     2       2\n",
       "                          ⎝           B (t)⋅sin (y)                 B (t)⋅sin \n",
       "                                                                              \n",
       "     2                                                                        \n",
       "    B (t)⋅P(t)                                               0                \n",
       "                                                                              \n",
       "                                                ⎛⎛ 2       2       2       2  \n",
       "                ⎛ 2       2       2       2   ⎞ ⎜⎝A (t)⋅cos (y) + B (t)⋅sin (y\n",
       "y)      0       ⎝A (t)⋅cos (y) + B (t)⋅sin (y)⎠⋅⎜─────────────────────────────\n",
       "                                                ⎜            2       2        \n",
       "                                                ⎝           B (t)⋅sin (y)     \n",
       "\n",
       "                             ⎤\n",
       "                             ⎥\n",
       "  2   ⎞                      ⎥\n",
       "os (y)⎟  2                   ⎥\n",
       "──────⎟⋅A (t)⋅cos(y)         ⎥\n",
       "      ⎟                      ⎥\n",
       "(y)   ⎠                      ⎥\n",
       "                             ⎥\n",
       "                             ⎥\n",
       "                             ⎥\n",
       "                             ⎥\n",
       " ⎞         2            2   ⎞⎥\n",
       ")⎠⋅P(t)   A (t)⋅P(t)⋅cos (y)⎟⎥\n",
       "─────── - ──────────────────⎟⎥\n",
       "             2       2      ⎟⎥\n",
       "            B (t)⋅sin (y)   ⎠⎦"
      ]
     },
     "metadata": {},
     "output_type": "display_data"
    },
    {
     "name": "stdout",
     "output_type": "stream",
     "text": [
      "Elements assigned correctly to the ^mu components\n"
     ]
    },
    {
     "data": {
      "text/latex": [
       "$\\displaystyle \\left[\\begin{matrix}\\frac{\\left(A^{2}{\\left(t \\right)} \\cos^{2}{\\left(y \\right)} + B^{2}{\\left(t \\right)} \\sin^{2}{\\left(y \\right)}\\right) P{\\left(t \\right)} \\frac{d}{d t} A{\\left(t \\right)}}{A{\\left(t \\right)} B^{2}{\\left(t \\right)} \\sin^{2}{\\left(y \\right)}} + \\frac{\\left(A{\\left(t \\right)} \\cos^{2}{\\left(y \\right)} \\frac{d}{d t} A{\\left(t \\right)} + B{\\left(t \\right)} \\sin^{2}{\\left(y \\right)} \\frac{d}{d t} B{\\left(t \\right)}\\right) P{\\left(t \\right)}}{B^{2}{\\left(t \\right)} \\sin^{2}{\\left(y \\right)}} - \\frac{2 A{\\left(t \\right)} P{\\left(t \\right)} \\cos^{2}{\\left(y \\right)} \\frac{d}{d t} A{\\left(t \\right)}}{B^{2}{\\left(t \\right)} \\sin^{2}{\\left(y \\right)}} + \\frac{d}{d t} \\rho{\\left(t \\right)} + \\frac{P{\\left(t \\right)} \\frac{d}{d t} B{\\left(t \\right)}}{B{\\left(t \\right)}} + \\frac{2 \\rho{\\left(t \\right)} \\frac{d}{d t} B{\\left(t \\right)}}{B{\\left(t \\right)}} + \\frac{\\rho{\\left(t \\right)} \\frac{d}{d t} A{\\left(t \\right)}}{A{\\left(t \\right)}}\\\\0\\\\\\frac{\\left(A{\\left(t \\right)} - B{\\left(t \\right)}\\right) \\left(A{\\left(t \\right)} + B{\\left(t \\right)}\\right) P{\\left(t \\right)} \\cos{\\left(y \\right)}}{B^{4}{\\left(t \\right)} \\sin{\\left(y \\right)}} - \\frac{\\left(A^{2}{\\left(t \\right)} - 2 B^{2}{\\left(t \\right)}\\right) P{\\left(t \\right)} \\cos{\\left(y \\right)}}{2 B^{4}{\\left(t \\right)} \\sin{\\left(y \\right)}} - \\frac{A^{2}{\\left(t \\right)} P{\\left(t \\right)} \\cos{\\left(y \\right)}}{2 B^{4}{\\left(t \\right)} \\sin{\\left(y \\right)}}\\\\0\\end{matrix}\\right]$"
      ],
      "text/plain": [
       "⎡⎛ 2       2       2       2   ⎞      d          ⎛        2    d              \n",
       "⎢⎝A (t)⋅cos (y) + B (t)⋅sin (y)⎠⋅P(t)⋅──(A(t))   ⎜A(t)⋅cos (y)⋅──(A(t)) + B(t)\n",
       "⎢                                     dt         ⎝             dt             \n",
       "⎢───────────────────────────────────────────── + ─────────────────────────────\n",
       "⎢                    2       2                                       2       2\n",
       "⎢              A(t)⋅B (t)⋅sin (y)                                   B (t)⋅sin \n",
       "⎢                                                                             \n",
       "⎢                                                                             \n",
       "⎢                                                                             \n",
       "⎢                                                                             \n",
       "⎢                                                  (A(t) - B(t))⋅(A(t) + B(t))\n",
       "⎢                                                  ───────────────────────────\n",
       "⎢                                                                 4           \n",
       "⎢                                                                B (t)⋅sin(y) \n",
       "⎢                                                                             \n",
       "⎣                                                                             \n",
       "\n",
       "    2    d       ⎞                       2    d                          d    \n",
       "⋅sin (y)⋅──(B(t))⎟⋅P(t)   2⋅A(t)⋅P(t)⋅cos (y)⋅──(A(t))              P(t)⋅──(B(\n",
       "         dt      ⎠                            dt         d               dt   \n",
       "─────────────────────── - ──────────────────────────── + ──(ρ(t)) + ──────────\n",
       "                                  2       2              dt              B(t) \n",
       "(y)                              B (t)⋅sin (y)                                \n",
       "                                                                              \n",
       "                  0                                                           \n",
       "                                                                              \n",
       "               ⎛ 2         2   ⎞                2                             \n",
       "⋅P(t)⋅cos(y)   ⎝A (t) - 2⋅B (t)⎠⋅P(t)⋅cos(y)   A (t)⋅P(t)⋅cos(y)              \n",
       "──────────── - ───────────────────────────── - ─────────────────              \n",
       "                          4                         4                         \n",
       "                       2⋅B (t)⋅sin(y)            2⋅B (t)⋅sin(y)               \n",
       "                                                                              \n",
       "                  0                                                           \n",
       "\n",
       "             d               d       ⎤\n",
       "t))   2⋅ρ(t)⋅──(B(t))   ρ(t)⋅──(A(t))⎥\n",
       "             dt              dt      ⎥\n",
       "─── + ─────────────── + ─────────────⎥\n",
       "            B(t)             A(t)    ⎥\n",
       "                                     ⎥\n",
       "                                     ⎥\n",
       "                                     ⎥\n",
       "                                     ⎥\n",
       "                                     ⎥\n",
       "                                     ⎥\n",
       "                                     ⎥\n",
       "                                     ⎥\n",
       "                                     ⎥\n",
       "                                     ⎥\n",
       "                                     ⎦"
      ]
     },
     "metadata": {},
     "output_type": "display_data"
    }
   ],
   "source": [
    "U = pt.ten('U',1)\n",
    "U.assign([1,0,0,0],'^')\n",
    "U.display('^')\n",
    "rho = pt.fun('rho','t')\n",
    "P = pt.fun('P','t')\n",
    "T = pt.ten('T',2)\n",
    "T.assign((rho+P)*U(\"^mu\")*U(\"^nu\")+P*g(\"^mu,^nu\"),\"^mu,^nu\")\n",
    "T.display('^,^')\n",
    "T.complete('^,^')\n",
    "T.display('_,_')\n",
    "CT_dat = pt.C(T('^mu,^nu'),'_nu')\n",
    "CT = pt.ten('CT',1)\n",
    "CT.assign(CT_dat,'^mu')\n",
    "CT.display('^')"
   ]
  }
 ],
 "metadata": {
  "kernelspec": {
   "display_name": "Python 3.6.7 64-bit",
   "language": "python",
   "name": "python3"
  },
  "language_info": {
   "codemirror_mode": {
    "name": "ipython",
    "version": 3
   },
   "file_extension": ".py",
   "mimetype": "text/x-python",
   "name": "python",
   "nbconvert_exporter": "python",
   "pygments_lexer": "ipython3",
   "version": "3.6.7"
  },
  "orig_nbformat": 4,
  "vscode": {
   "interpreter": {
    "hash": "2fe84a340ba9287c7cb1571137a812dad7cb370584e1b8cf466a33e4cc3e43d3"
   }
  }
 },
 "nbformat": 4,
 "nbformat_minor": 2
}
