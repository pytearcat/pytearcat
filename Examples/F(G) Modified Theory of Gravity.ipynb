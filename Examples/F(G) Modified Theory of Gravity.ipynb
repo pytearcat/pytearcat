{
 "cells": [
  {
   "cell_type": "code",
   "execution_count": 1,
   "metadata": {},
   "outputs": [],
   "source": [
    "'''F (G) theory is a modified theory of Gauss-Bonnet where F(G) is a generic function of the Gauss-Bonnet invariant G which is inspired by string theory'''\n",
    "import pytearcat as pt\n",
    "import sympy as sp"
   ]
  },
  {
   "cell_type": "code",
   "execution_count": 2,
   "metadata": {},
   "outputs": [
    {
     "name": "stdout",
     "output_type": "stream",
     "text": [
      "Remember that the time coordinate must be the first coordinate.\n",
      "\n",
      "Dimension = 4\n",
      "Coordinates = t,x,y,z\n",
      "Metric defined successfully: \n",
      "\n"
     ]
    },
    {
     "data": {
      "text/latex": [
       "$\\displaystyle ds^2 = 1 \\cdot dt^2- A^{2}{\\left(t \\right)} \\cdot dx^2- B^{2}{\\left(t \\right)} \\cdot dy^2- B^{2}{\\left(t \\right)} \\cdot dz^2$"
      ],
      "text/plain": [
       "<IPython.core.display.Math object>"
      ]
     },
     "metadata": {},
     "output_type": "display_data"
    },
    {
     "data": {
      "text/latex": [
       "$\\displaystyle \\left[\\begin{matrix}1 & 0 & 0 & 0\\\\0 & - A^{2}{\\left(t \\right)} & 0 & 0\\\\0 & 0 & - B^{2}{\\left(t \\right)} & 0\\\\0 & 0 & 0 & - B^{2}{\\left(t \\right)}\\end{matrix}\\right]$"
      ],
      "text/plain": [
       "Matrix([\n",
       "[1,        0,        0,        0],\n",
       "[0, -A(t)**2,        0,        0],\n",
       "[0,        0, -B(t)**2,        0],\n",
       "[0,        0,        0, -B(t)**2]])"
      ]
     },
     "metadata": {},
     "output_type": "display_data"
    }
   ],
   "source": [
    "'''Taking Example of Spatially Homogeneous and Anisotropic LRS Bianchi Type:-1 Universe'''\n",
    "t,x,y,z = pt.coords('t,x,y,z')\n",
    "A = pt.fun('A','t')\n",
    "B = pt.fun('B','t')\n",
    "g = pt.metric('ds2 = dt**2 - (A**2*dx**2 + B**2*dy**2 + B**2*dz**2)')\n"
   ]
  },
  {
   "cell_type": "code",
   "execution_count": 3,
   "metadata": {},
   "outputs": [
    {
     "data": {
      "text/latex": [
       "Christoffel $\\Gamma_{\\alpha \\beta \\gamma}$ and $\\Gamma^{\\alpha}_{\\beta \\gamma}$"
      ],
      "text/plain": [
       "<IPython.core.display.Latex object>"
      ]
     },
     "metadata": {},
     "output_type": "display_data"
    },
    {
     "data": {
      "application/vnd.jupyter.widget-view+json": {
       "model_id": "06a26e9a61b84ac2b9be22069c1ccb1e",
       "version_major": 2,
       "version_minor": 0
      },
      "text/plain": [
       "  0%|          | 0/64 [00:00<?, ?it/s]"
      ]
     },
     "metadata": {},
     "output_type": "display_data"
    },
    {
     "data": {
      "text/latex": [
       "$\\displaystyle {\\Gamma}{}^{0}\\,{}_{1}\\,{}_{1}\\, = A{\\left(t \\right)} \\frac{d}{d t} A{\\left(t \\right)}$"
      ],
      "text/plain": [
       "<IPython.core.display.Math object>"
      ]
     },
     "metadata": {},
     "output_type": "display_data"
    },
    {
     "data": {
      "text/latex": [
       "$\\displaystyle {\\Gamma}{}^{0}\\,{}_{2}\\,{}_{2}\\, = B{\\left(t \\right)} \\frac{d}{d t} B{\\left(t \\right)}$"
      ],
      "text/plain": [
       "<IPython.core.display.Math object>"
      ]
     },
     "metadata": {},
     "output_type": "display_data"
    },
    {
     "data": {
      "text/latex": [
       "$\\displaystyle {\\Gamma}{}^{0}\\,{}_{3}\\,{}_{3}\\, = B{\\left(t \\right)} \\frac{d}{d t} B{\\left(t \\right)}$"
      ],
      "text/plain": [
       "<IPython.core.display.Math object>"
      ]
     },
     "metadata": {},
     "output_type": "display_data"
    },
    {
     "data": {
      "text/latex": [
       "$\\displaystyle {\\Gamma}{}^{1}\\,{}_{0}\\,{}_{1}\\, = \\frac{\\frac{d}{d t} A{\\left(t \\right)}}{A{\\left(t \\right)}}$"
      ],
      "text/plain": [
       "<IPython.core.display.Math object>"
      ]
     },
     "metadata": {},
     "output_type": "display_data"
    },
    {
     "data": {
      "text/latex": [
       "$\\displaystyle {\\Gamma}{}^{1}\\,{}_{1}\\,{}_{0}\\, = \\frac{\\frac{d}{d t} A{\\left(t \\right)}}{A{\\left(t \\right)}}$"
      ],
      "text/plain": [
       "<IPython.core.display.Math object>"
      ]
     },
     "metadata": {},
     "output_type": "display_data"
    },
    {
     "data": {
      "text/latex": [
       "$\\displaystyle {\\Gamma}{}^{2}\\,{}_{0}\\,{}_{2}\\, = \\frac{\\frac{d}{d t} B{\\left(t \\right)}}{B{\\left(t \\right)}}$"
      ],
      "text/plain": [
       "<IPython.core.display.Math object>"
      ]
     },
     "metadata": {},
     "output_type": "display_data"
    },
    {
     "data": {
      "text/latex": [
       "$\\displaystyle {\\Gamma}{}^{2}\\,{}_{2}\\,{}_{0}\\, = \\frac{\\frac{d}{d t} B{\\left(t \\right)}}{B{\\left(t \\right)}}$"
      ],
      "text/plain": [
       "<IPython.core.display.Math object>"
      ]
     },
     "metadata": {},
     "output_type": "display_data"
    },
    {
     "data": {
      "text/latex": [
       "$\\displaystyle {\\Gamma}{}^{3}\\,{}_{0}\\,{}_{3}\\, = \\frac{\\frac{d}{d t} B{\\left(t \\right)}}{B{\\left(t \\right)}}$"
      ],
      "text/plain": [
       "<IPython.core.display.Math object>"
      ]
     },
     "metadata": {},
     "output_type": "display_data"
    },
    {
     "data": {
      "text/latex": [
       "$\\displaystyle {\\Gamma}{}^{3}\\,{}_{3}\\,{}_{0}\\, = \\frac{\\frac{d}{d t} B{\\left(t \\right)}}{B{\\left(t \\right)}}$"
      ],
      "text/plain": [
       "<IPython.core.display.Math object>"
      ]
     },
     "metadata": {},
     "output_type": "display_data"
    }
   ],
   "source": [
    "Chr = pt.christoffel()\n",
    "Chr.display(\"^,_,_\")"
   ]
  },
  {
   "cell_type": "code",
   "execution_count": 4,
   "metadata": {},
   "outputs": [
    {
     "data": {
      "text/latex": [
       "Riemann Tensor $R^{\\alpha}_{\\beta \\gamma \\delta}$"
      ],
      "text/plain": [
       "<IPython.core.display.Latex object>"
      ]
     },
     "metadata": {},
     "output_type": "display_data"
    },
    {
     "data": {
      "application/vnd.jupyter.widget-view+json": {
       "model_id": "a6f531651d024ed981c4314df51ee3c4",
       "version_major": 2,
       "version_minor": 0
      },
      "text/plain": [
       "  0%|          | 0/256 [00:00<?, ?it/s]"
      ]
     },
     "metadata": {},
     "output_type": "display_data"
    },
    {
     "data": {
      "application/vnd.jupyter.widget-view+json": {
       "model_id": "d2ded5de922d43e08b340f49505cc4c1",
       "version_major": 2,
       "version_minor": 0
      },
      "text/plain": [
       "Riemann Tensor $R{_\\alpha}{_\\beta}{_\\gamma}{_\\delta}$:   0%|          | 0/256 [00:00<?, ?it/s]"
      ]
     },
     "metadata": {},
     "output_type": "display_data"
    },
    {
     "data": {
      "application/vnd.jupyter.widget-view+json": {
       "model_id": "eccd72b51dbd41ae962bf90dd01119ca",
       "version_major": 2,
       "version_minor": 0
      },
      "text/plain": [
       "Riemann Tensor $R{^\\alpha}{^\\beta}{_\\gamma}{_\\delta}$:   0%|          | 0/256 [00:00<?, ?it/s]"
      ]
     },
     "metadata": {},
     "output_type": "display_data"
    },
    {
     "data": {
      "application/vnd.jupyter.widget-view+json": {
       "model_id": "aefd29265b624b0386416b1d6239174e",
       "version_major": 2,
       "version_minor": 0
      },
      "text/plain": [
       "Riemann Tensor $R{^\\alpha}{^\\beta}{^\\gamma}{_\\delta}$:   0%|          | 0/256 [00:00<?, ?it/s]"
      ]
     },
     "metadata": {},
     "output_type": "display_data"
    },
    {
     "data": {
      "application/vnd.jupyter.widget-view+json": {
       "model_id": "168ec1557c764561971a63ee2ca4dd46",
       "version_major": 2,
       "version_minor": 0
      },
      "text/plain": [
       "Riemann Tensor $R{^\\alpha}{^\\beta}{^\\gamma}{^\\delta}$:   0%|          | 0/256 [00:00<?, ?it/s]"
      ]
     },
     "metadata": {},
     "output_type": "display_data"
    },
    {
     "data": {
      "application/vnd.jupyter.widget-view+json": {
       "model_id": "132be136b472484fa8af1cb2cd4b205b",
       "version_major": 2,
       "version_minor": 0
      },
      "text/plain": [
       "Riemann Tensor $R{^\\alpha}{^\\beta}{_\\gamma}{^\\delta}$:   0%|          | 0/256 [00:00<?, ?it/s]"
      ]
     },
     "metadata": {},
     "output_type": "display_data"
    },
    {
     "data": {
      "application/vnd.jupyter.widget-view+json": {
       "model_id": "e0350ee4d7674d5980dd2eb092adab32",
       "version_major": 2,
       "version_minor": 0
      },
      "text/plain": [
       "Riemann Tensor $R{^\\alpha}{_\\beta}{^\\gamma}{_\\delta}$:   0%|          | 0/256 [00:00<?, ?it/s]"
      ]
     },
     "metadata": {},
     "output_type": "display_data"
    },
    {
     "data": {
      "application/vnd.jupyter.widget-view+json": {
       "model_id": "12c179a5a9034a8a8a56ee72fde0f95b",
       "version_major": 2,
       "version_minor": 0
      },
      "text/plain": [
       "Riemann Tensor $R{^\\alpha}{_\\beta}{^\\gamma}{^\\delta}$:   0%|          | 0/256 [00:00<?, ?it/s]"
      ]
     },
     "metadata": {},
     "output_type": "display_data"
    },
    {
     "data": {
      "application/vnd.jupyter.widget-view+json": {
       "model_id": "7261cbd6c00b42b4b0c48866e38bfda4",
       "version_major": 2,
       "version_minor": 0
      },
      "text/plain": [
       "Riemann Tensor $R{^\\alpha}{_\\beta}{_\\gamma}{^\\delta}$:   0%|          | 0/256 [00:00<?, ?it/s]"
      ]
     },
     "metadata": {},
     "output_type": "display_data"
    },
    {
     "data": {
      "application/vnd.jupyter.widget-view+json": {
       "model_id": "fd6c9c3910fc4bbebf3a07df4922df62",
       "version_major": 2,
       "version_minor": 0
      },
      "text/plain": [
       "Riemann Tensor $R{_\\alpha}{^\\beta}{_\\gamma}{_\\delta}$:   0%|          | 0/256 [00:00<?, ?it/s]"
      ]
     },
     "metadata": {},
     "output_type": "display_data"
    },
    {
     "data": {
      "application/vnd.jupyter.widget-view+json": {
       "model_id": "1deda90824b74d8b94007e0943946918",
       "version_major": 2,
       "version_minor": 0
      },
      "text/plain": [
       "Riemann Tensor $R{_\\alpha}{^\\beta}{^\\gamma}{_\\delta}$:   0%|          | 0/256 [00:00<?, ?it/s]"
      ]
     },
     "metadata": {},
     "output_type": "display_data"
    },
    {
     "data": {
      "application/vnd.jupyter.widget-view+json": {
       "model_id": "e581d93d827448d9a2bee4a008e946f2",
       "version_major": 2,
       "version_minor": 0
      },
      "text/plain": [
       "Riemann Tensor $R{_\\alpha}{^\\beta}{^\\gamma}{^\\delta}$:   0%|          | 0/256 [00:00<?, ?it/s]"
      ]
     },
     "metadata": {},
     "output_type": "display_data"
    },
    {
     "data": {
      "application/vnd.jupyter.widget-view+json": {
       "model_id": "05bf5af133984a8db1392eea1e006bd8",
       "version_major": 2,
       "version_minor": 0
      },
      "text/plain": [
       "Riemann Tensor $R{_\\alpha}{^\\beta}{_\\gamma}{^\\delta}$:   0%|          | 0/256 [00:00<?, ?it/s]"
      ]
     },
     "metadata": {},
     "output_type": "display_data"
    },
    {
     "data": {
      "application/vnd.jupyter.widget-view+json": {
       "model_id": "b855ff053858482c9b9052402075902f",
       "version_major": 2,
       "version_minor": 0
      },
      "text/plain": [
       "Riemann Tensor $R{_\\alpha}{_\\beta}{^\\gamma}{_\\delta}$:   0%|          | 0/256 [00:00<?, ?it/s]"
      ]
     },
     "metadata": {},
     "output_type": "display_data"
    },
    {
     "data": {
      "application/vnd.jupyter.widget-view+json": {
       "model_id": "88665e319b1942858fcbfb128b43d65a",
       "version_major": 2,
       "version_minor": 0
      },
      "text/plain": [
       "Riemann Tensor $R{_\\alpha}{_\\beta}{^\\gamma}{^\\delta}$:   0%|          | 0/256 [00:00<?, ?it/s]"
      ]
     },
     "metadata": {},
     "output_type": "display_data"
    },
    {
     "data": {
      "application/vnd.jupyter.widget-view+json": {
       "model_id": "4fc39cffefd54a6db2ebb9343d1d0e61",
       "version_major": 2,
       "version_minor": 0
      },
      "text/plain": [
       "Riemann Tensor $R{_\\alpha}{_\\beta}{_\\gamma}{^\\delta}$:   0%|          | 0/256 [00:00<?, ?it/s]"
      ]
     },
     "metadata": {},
     "output_type": "display_data"
    },
    {
     "data": {
      "text/latex": [
       "All other indices of Riemann Tensor $R$  already calculated."
      ],
      "text/plain": [
       "<IPython.core.display.Latex object>"
      ]
     },
     "metadata": {},
     "output_type": "display_data"
    },
    {
     "data": {
      "text/latex": [
       "$\\displaystyle {R}{}^{0}\\,{}_{1}\\,{}_{0}\\,{}_{1}\\, = A{\\left(t \\right)} \\frac{d^{2}}{d t^{2}} A{\\left(t \\right)}$"
      ],
      "text/plain": [
       "<IPython.core.display.Math object>"
      ]
     },
     "metadata": {},
     "output_type": "display_data"
    },
    {
     "data": {
      "text/latex": [
       "$\\displaystyle {R}{}^{0}\\,{}_{1}\\,{}_{1}\\,{}_{0}\\, = - A{\\left(t \\right)} \\frac{d^{2}}{d t^{2}} A{\\left(t \\right)}$"
      ],
      "text/plain": [
       "<IPython.core.display.Math object>"
      ]
     },
     "metadata": {},
     "output_type": "display_data"
    },
    {
     "data": {
      "text/latex": [
       "$\\displaystyle {R}{}^{0}\\,{}_{2}\\,{}_{0}\\,{}_{2}\\, = B{\\left(t \\right)} \\frac{d^{2}}{d t^{2}} B{\\left(t \\right)}$"
      ],
      "text/plain": [
       "<IPython.core.display.Math object>"
      ]
     },
     "metadata": {},
     "output_type": "display_data"
    },
    {
     "data": {
      "text/latex": [
       "$\\displaystyle {R}{}^{0}\\,{}_{2}\\,{}_{2}\\,{}_{0}\\, = - B{\\left(t \\right)} \\frac{d^{2}}{d t^{2}} B{\\left(t \\right)}$"
      ],
      "text/plain": [
       "<IPython.core.display.Math object>"
      ]
     },
     "metadata": {},
     "output_type": "display_data"
    },
    {
     "data": {
      "text/latex": [
       "$\\displaystyle {R}{}^{0}\\,{}_{3}\\,{}_{0}\\,{}_{3}\\, = B{\\left(t \\right)} \\frac{d^{2}}{d t^{2}} B{\\left(t \\right)}$"
      ],
      "text/plain": [
       "<IPython.core.display.Math object>"
      ]
     },
     "metadata": {},
     "output_type": "display_data"
    },
    {
     "data": {
      "text/latex": [
       "$\\displaystyle {R}{}^{0}\\,{}_{3}\\,{}_{3}\\,{}_{0}\\, = - B{\\left(t \\right)} \\frac{d^{2}}{d t^{2}} B{\\left(t \\right)}$"
      ],
      "text/plain": [
       "<IPython.core.display.Math object>"
      ]
     },
     "metadata": {},
     "output_type": "display_data"
    },
    {
     "data": {
      "text/latex": [
       "$\\displaystyle {R}{}^{1}\\,{}_{0}\\,{}_{0}\\,{}_{1}\\, = \\frac{\\frac{d^{2}}{d t^{2}} A{\\left(t \\right)}}{A{\\left(t \\right)}}$"
      ],
      "text/plain": [
       "<IPython.core.display.Math object>"
      ]
     },
     "metadata": {},
     "output_type": "display_data"
    },
    {
     "data": {
      "text/latex": [
       "$\\displaystyle {R}{}^{1}\\,{}_{0}\\,{}_{1}\\,{}_{0}\\, = - \\frac{\\frac{d^{2}}{d t^{2}} A{\\left(t \\right)}}{A{\\left(t \\right)}}$"
      ],
      "text/plain": [
       "<IPython.core.display.Math object>"
      ]
     },
     "metadata": {},
     "output_type": "display_data"
    },
    {
     "data": {
      "text/latex": [
       "$\\displaystyle {R}{}^{1}\\,{}_{2}\\,{}_{1}\\,{}_{2}\\, = \\frac{B{\\left(t \\right)} \\frac{d}{d t} A{\\left(t \\right)} \\frac{d}{d t} B{\\left(t \\right)}}{A{\\left(t \\right)}}$"
      ],
      "text/plain": [
       "<IPython.core.display.Math object>"
      ]
     },
     "metadata": {},
     "output_type": "display_data"
    },
    {
     "data": {
      "text/latex": [
       "$\\displaystyle {R}{}^{1}\\,{}_{2}\\,{}_{2}\\,{}_{1}\\, = - \\frac{B{\\left(t \\right)} \\frac{d}{d t} A{\\left(t \\right)} \\frac{d}{d t} B{\\left(t \\right)}}{A{\\left(t \\right)}}$"
      ],
      "text/plain": [
       "<IPython.core.display.Math object>"
      ]
     },
     "metadata": {},
     "output_type": "display_data"
    },
    {
     "data": {
      "text/latex": [
       "$\\displaystyle {R}{}^{1}\\,{}_{3}\\,{}_{1}\\,{}_{3}\\, = \\frac{B{\\left(t \\right)} \\frac{d}{d t} A{\\left(t \\right)} \\frac{d}{d t} B{\\left(t \\right)}}{A{\\left(t \\right)}}$"
      ],
      "text/plain": [
       "<IPython.core.display.Math object>"
      ]
     },
     "metadata": {},
     "output_type": "display_data"
    },
    {
     "data": {
      "text/latex": [
       "$\\displaystyle {R}{}^{1}\\,{}_{3}\\,{}_{3}\\,{}_{1}\\, = - \\frac{B{\\left(t \\right)} \\frac{d}{d t} A{\\left(t \\right)} \\frac{d}{d t} B{\\left(t \\right)}}{A{\\left(t \\right)}}$"
      ],
      "text/plain": [
       "<IPython.core.display.Math object>"
      ]
     },
     "metadata": {},
     "output_type": "display_data"
    },
    {
     "data": {
      "text/latex": [
       "$\\displaystyle {R}{}^{2}\\,{}_{0}\\,{}_{0}\\,{}_{2}\\, = \\frac{\\frac{d^{2}}{d t^{2}} B{\\left(t \\right)}}{B{\\left(t \\right)}}$"
      ],
      "text/plain": [
       "<IPython.core.display.Math object>"
      ]
     },
     "metadata": {},
     "output_type": "display_data"
    },
    {
     "data": {
      "text/latex": [
       "$\\displaystyle {R}{}^{2}\\,{}_{0}\\,{}_{2}\\,{}_{0}\\, = - \\frac{\\frac{d^{2}}{d t^{2}} B{\\left(t \\right)}}{B{\\left(t \\right)}}$"
      ],
      "text/plain": [
       "<IPython.core.display.Math object>"
      ]
     },
     "metadata": {},
     "output_type": "display_data"
    },
    {
     "data": {
      "text/latex": [
       "$\\displaystyle {R}{}^{2}\\,{}_{1}\\,{}_{1}\\,{}_{2}\\, = - \\frac{A{\\left(t \\right)} \\frac{d}{d t} A{\\left(t \\right)} \\frac{d}{d t} B{\\left(t \\right)}}{B{\\left(t \\right)}}$"
      ],
      "text/plain": [
       "<IPython.core.display.Math object>"
      ]
     },
     "metadata": {},
     "output_type": "display_data"
    },
    {
     "data": {
      "text/latex": [
       "$\\displaystyle {R}{}^{2}\\,{}_{1}\\,{}_{2}\\,{}_{1}\\, = \\frac{A{\\left(t \\right)} \\frac{d}{d t} A{\\left(t \\right)} \\frac{d}{d t} B{\\left(t \\right)}}{B{\\left(t \\right)}}$"
      ],
      "text/plain": [
       "<IPython.core.display.Math object>"
      ]
     },
     "metadata": {},
     "output_type": "display_data"
    },
    {
     "data": {
      "text/latex": [
       "$\\displaystyle {R}{}^{2}\\,{}_{3}\\,{}_{2}\\,{}_{3}\\, = \\left(\\frac{d}{d t} B{\\left(t \\right)}\\right)^{2}$"
      ],
      "text/plain": [
       "<IPython.core.display.Math object>"
      ]
     },
     "metadata": {},
     "output_type": "display_data"
    },
    {
     "data": {
      "text/latex": [
       "$\\displaystyle {R}{}^{2}\\,{}_{3}\\,{}_{3}\\,{}_{2}\\, = - \\left(\\frac{d}{d t} B{\\left(t \\right)}\\right)^{2}$"
      ],
      "text/plain": [
       "<IPython.core.display.Math object>"
      ]
     },
     "metadata": {},
     "output_type": "display_data"
    },
    {
     "data": {
      "text/latex": [
       "$\\displaystyle {R}{}^{3}\\,{}_{0}\\,{}_{0}\\,{}_{3}\\, = \\frac{\\frac{d^{2}}{d t^{2}} B{\\left(t \\right)}}{B{\\left(t \\right)}}$"
      ],
      "text/plain": [
       "<IPython.core.display.Math object>"
      ]
     },
     "metadata": {},
     "output_type": "display_data"
    },
    {
     "data": {
      "text/latex": [
       "$\\displaystyle {R}{}^{3}\\,{}_{0}\\,{}_{3}\\,{}_{0}\\, = - \\frac{\\frac{d^{2}}{d t^{2}} B{\\left(t \\right)}}{B{\\left(t \\right)}}$"
      ],
      "text/plain": [
       "<IPython.core.display.Math object>"
      ]
     },
     "metadata": {},
     "output_type": "display_data"
    },
    {
     "data": {
      "text/latex": [
       "$\\displaystyle {R}{}^{3}\\,{}_{1}\\,{}_{1}\\,{}_{3}\\, = - \\frac{A{\\left(t \\right)} \\frac{d}{d t} A{\\left(t \\right)} \\frac{d}{d t} B{\\left(t \\right)}}{B{\\left(t \\right)}}$"
      ],
      "text/plain": [
       "<IPython.core.display.Math object>"
      ]
     },
     "metadata": {},
     "output_type": "display_data"
    },
    {
     "data": {
      "text/latex": [
       "$\\displaystyle {R}{}^{3}\\,{}_{1}\\,{}_{3}\\,{}_{1}\\, = \\frac{A{\\left(t \\right)} \\frac{d}{d t} A{\\left(t \\right)} \\frac{d}{d t} B{\\left(t \\right)}}{B{\\left(t \\right)}}$"
      ],
      "text/plain": [
       "<IPython.core.display.Math object>"
      ]
     },
     "metadata": {},
     "output_type": "display_data"
    },
    {
     "data": {
      "text/latex": [
       "$\\displaystyle {R}{}^{3}\\,{}_{2}\\,{}_{2}\\,{}_{3}\\, = - \\left(\\frac{d}{d t} B{\\left(t \\right)}\\right)^{2}$"
      ],
      "text/plain": [
       "<IPython.core.display.Math object>"
      ]
     },
     "metadata": {},
     "output_type": "display_data"
    },
    {
     "data": {
      "text/latex": [
       "$\\displaystyle {R}{}^{3}\\,{}_{2}\\,{}_{3}\\,{}_{2}\\, = \\left(\\frac{d}{d t} B{\\left(t \\right)}\\right)^{2}$"
      ],
      "text/plain": [
       "<IPython.core.display.Math object>"
      ]
     },
     "metadata": {},
     "output_type": "display_data"
    }
   ],
   "source": [
    "R = pt.riemann()\n",
    "R.complete('^,_,_,_')\n",
    "R.display('^,_,_,_')"
   ]
  },
  {
   "cell_type": "code",
   "execution_count": 5,
   "metadata": {},
   "outputs": [
    {
     "data": {
      "text/latex": [
       "Ricci Tensor $R_{\\alpha \\beta}$"
      ],
      "text/plain": [
       "<IPython.core.display.Latex object>"
      ]
     },
     "metadata": {},
     "output_type": "display_data"
    },
    {
     "data": {
      "application/vnd.jupyter.widget-view+json": {
       "model_id": "9fcc8b5afc7144f8a6de42bf756d9f44",
       "version_major": 2,
       "version_minor": 0
      },
      "text/plain": [
       "  0%|          | 0/16 [00:00<?, ?it/s]"
      ]
     },
     "metadata": {},
     "output_type": "display_data"
    },
    {
     "data": {
      "application/vnd.jupyter.widget-view+json": {
       "model_id": "204467c743164fa0b1a2d56503236029",
       "version_major": 2,
       "version_minor": 0
      },
      "text/plain": [
       "Ricci Tensor $R{^\\alpha}{_\\beta}$:   0%|          | 0/16 [00:00<?, ?it/s]"
      ]
     },
     "metadata": {},
     "output_type": "display_data"
    },
    {
     "data": {
      "application/vnd.jupyter.widget-view+json": {
       "model_id": "d78b90c9a9e94545be40203a38c4bfb2",
       "version_major": 2,
       "version_minor": 0
      },
      "text/plain": [
       "Ricci Tensor $R{^\\alpha}{^\\beta}$:   0%|          | 0/16 [00:00<?, ?it/s]"
      ]
     },
     "metadata": {},
     "output_type": "display_data"
    },
    {
     "data": {
      "application/vnd.jupyter.widget-view+json": {
       "model_id": "cd63cd8727d141fe8c15f23ff452f5cd",
       "version_major": 2,
       "version_minor": 0
      },
      "text/plain": [
       "Ricci Tensor $R{_\\alpha}{^\\beta}$:   0%|          | 0/16 [00:00<?, ?it/s]"
      ]
     },
     "metadata": {},
     "output_type": "display_data"
    },
    {
     "data": {
      "text/latex": [
       "All other indices of Ricci Tensor $R$  already calculated."
      ],
      "text/plain": [
       "<IPython.core.display.Latex object>"
      ]
     },
     "metadata": {},
     "output_type": "display_data"
    },
    {
     "data": {
      "text/latex": [
       "$\\displaystyle {R}{}_{0}\\,{}_{0}\\, = - \\frac{2 A{\\left(t \\right)} \\frac{d^{2}}{d t^{2}} B{\\left(t \\right)} + B{\\left(t \\right)} \\frac{d^{2}}{d t^{2}} A{\\left(t \\right)}}{A{\\left(t \\right)} B{\\left(t \\right)}}$"
      ],
      "text/plain": [
       "<IPython.core.display.Math object>"
      ]
     },
     "metadata": {},
     "output_type": "display_data"
    },
    {
     "data": {
      "text/latex": [
       "$\\displaystyle {R}{}_{1}\\,{}_{1}\\, = \\frac{\\left(B{\\left(t \\right)} \\frac{d^{2}}{d t^{2}} A{\\left(t \\right)} + 2 \\frac{d}{d t} A{\\left(t \\right)} \\frac{d}{d t} B{\\left(t \\right)}\\right) A{\\left(t \\right)}}{B{\\left(t \\right)}}$"
      ],
      "text/plain": [
       "<IPython.core.display.Math object>"
      ]
     },
     "metadata": {},
     "output_type": "display_data"
    },
    {
     "data": {
      "text/latex": [
       "$\\displaystyle {R}{}_{2}\\,{}_{2}\\, = \\frac{A{\\left(t \\right)} B{\\left(t \\right)} \\frac{d^{2}}{d t^{2}} B{\\left(t \\right)} + A{\\left(t \\right)} \\left(\\frac{d}{d t} B{\\left(t \\right)}\\right)^{2} + B{\\left(t \\right)} \\frac{d}{d t} A{\\left(t \\right)} \\frac{d}{d t} B{\\left(t \\right)}}{A{\\left(t \\right)}}$"
      ],
      "text/plain": [
       "<IPython.core.display.Math object>"
      ]
     },
     "metadata": {},
     "output_type": "display_data"
    },
    {
     "data": {
      "text/latex": [
       "$\\displaystyle {R}{}_{3}\\,{}_{3}\\, = \\frac{A{\\left(t \\right)} B{\\left(t \\right)} \\frac{d^{2}}{d t^{2}} B{\\left(t \\right)} + A{\\left(t \\right)} \\left(\\frac{d}{d t} B{\\left(t \\right)}\\right)^{2} + B{\\left(t \\right)} \\frac{d}{d t} A{\\left(t \\right)} \\frac{d}{d t} B{\\left(t \\right)}}{A{\\left(t \\right)}}$"
      ],
      "text/plain": [
       "<IPython.core.display.Math object>"
      ]
     },
     "metadata": {},
     "output_type": "display_data"
    }
   ],
   "source": [
    "Ric = pt.ricci()\n",
    "Ric.complete('_,_')\n",
    "Ric.display('_,_',aslist=True)"
   ]
  },
  {
   "cell_type": "code",
   "execution_count": 6,
   "metadata": {},
   "outputs": [
    {
     "data": {
      "application/vnd.jupyter.widget-view+json": {
       "model_id": "21d1d3cf19054cb2bbe567cdd752eb59",
       "version_major": 2,
       "version_minor": 0
      },
      "text/plain": [
       "  0%|          | 0/16 [00:00<?, ?it/s]"
      ]
     },
     "metadata": {},
     "output_type": "display_data"
    },
    {
     "data": {
      "text/latex": [
       "Ricci Scalar $R$"
      ],
      "text/plain": [
       "<IPython.core.display.Latex object>"
      ]
     },
     "metadata": {},
     "output_type": "display_data"
    }
   ],
   "source": [
    "Rscalar = pt.riccis()"
   ]
  },
  {
   "cell_type": "code",
   "execution_count": 7,
   "metadata": {},
   "outputs": [
    {
     "data": {
      "image/png": "[encoded data removed]",
      "text/latex": [
       "$\\displaystyle - \\frac{4 \\frac{d^{2}}{d t^{2}} B{\\left(t \\right)}}{B{\\left(t \\right)}} - \\frac{2 \\left(\\frac{d}{d t} B{\\left(t \\right)}\\right)^{2}}{B^{2}{\\left(t \\right)}} - \\frac{2 \\frac{d^{2}}{d t^{2}} A{\\left(t \\right)}}{A{\\left(t \\right)}} - \\frac{4 \\frac{d}{d t} A{\\left(t \\right)} \\frac{d}{d t} B{\\left(t \\right)}}{A{\\left(t \\right)} B{\\left(t \\right)}}$"
      ],
      "text/plain": [
       "      2                             2                            \n",
       "     d                      2      d                             \n",
       "  4⋅───(B(t))     ⎛d       ⎞    2⋅───(A(t))     d        d       \n",
       "      2         2⋅⎜──(B(t))⎟        2         4⋅──(A(t))⋅──(B(t))\n",
       "    dt            ⎝dt      ⎠      dt            dt       dt      \n",
       "- ─────────── - ───────────── - ─────────── - ───────────────────\n",
       "      B(t)           2              A(t)           A(t)⋅B(t)     \n",
       "                    B (t)                                        "
      ]
     },
     "execution_count": 7,
     "metadata": {},
     "output_type": "execute_result"
    }
   ],
   "source": [
    "Rscalar = Rscalar.simplify()\n",
    "\n",
    "Rscalar"
   ]
  },
  {
   "cell_type": "code",
   "execution_count": 8,
   "metadata": {},
   "outputs": [],
   "source": [
    "G = Rscalar**2 - 4*Ric('_mu,_nu')*Ric('^mu,^nu') + R('_mu,_nu,_sigma,_alpha')*R('^mu,^nu,^sigma,^alpha')"
   ]
  },
  {
   "cell_type": "code",
   "execution_count": 9,
   "metadata": {},
   "outputs": [
    {
     "data": {
      "image/png": "[encoded data removed]",
      "text/latex": [
       "$\\displaystyle \\frac{8 \\left(2 \\frac{d}{d t} A{\\left(t \\right)} \\frac{d^{2}}{d t^{2}} B{\\left(t \\right)} + \\frac{d^{2}}{d t^{2}} A{\\left(t \\right)} \\frac{d}{d t} B{\\left(t \\right)}\\right) \\frac{d}{d t} B{\\left(t \\right)}}{A{\\left(t \\right)} B^{2}{\\left(t \\right)}}$"
      ],
      "text/plain": [
       "  ⎛             2           2               ⎞         \n",
       "  ⎜  d         d           d        d       ⎟ d       \n",
       "8⋅⎜2⋅──(A(t))⋅───(B(t)) + ───(A(t))⋅──(B(t))⎟⋅──(B(t))\n",
       "  ⎜  dt         2           2       dt      ⎟ dt      \n",
       "  ⎝           dt          dt                ⎠         \n",
       "──────────────────────────────────────────────────────\n",
       "                            2                         \n",
       "                      A(t)⋅B (t)                      "
      ]
     },
     "execution_count": 9,
     "metadata": {},
     "output_type": "execute_result"
    }
   ],
   "source": [
    "G = G.simplify()\n",
    "G "
   ]
  },
  {
   "cell_type": "code",
   "execution_count": 10,
   "metadata": {},
   "outputs": [],
   "source": [
    "G = sp.Function('G')(t)\n",
    "F = sp.Function('F')(G)\n",
    "Gt=sp.diff(F,G)\n"
   ]
  },
  {
   "cell_type": "code",
   "execution_count": 17,
   "metadata": {},
   "outputs": [
    {
     "name": "stdout",
     "output_type": "stream",
     "text": [
      "Elements assigned correctly to the _mu,_nu components\n"
     ]
    },
    {
     "data": {
      "application/vnd.jupyter.widget-view+json": {
       "model_id": "2c521a7455414d019cc440fc799875fa",
       "version_major": 2,
       "version_minor": 0
      },
      "text/plain": [
       "LHS Tensor $LHS{^\\alpha}{_\\beta}$:   0%|          | 0/16 [00:00<?, ?it/s]"
      ]
     },
     "metadata": {},
     "output_type": "display_data"
    },
    {
     "data": {
      "application/vnd.jupyter.widget-view+json": {
       "model_id": "ad4da23370d64f02af210e36bd93fe0a",
       "version_major": 2,
       "version_minor": 0
      },
      "text/plain": [
       "LHS Tensor $LHS{^\\alpha}{^\\beta}$:   0%|          | 0/16 [00:00<?, ?it/s]"
      ]
     },
     "metadata": {},
     "output_type": "display_data"
    },
    {
     "data": {
      "application/vnd.jupyter.widget-view+json": {
       "model_id": "d1084c1fb4b147399980bb6e0b0bc16b",
       "version_major": 2,
       "version_minor": 0
      },
      "text/plain": [
       "LHS Tensor $LHS{_\\alpha}{^\\beta}$:   0%|          | 0/16 [00:00<?, ?it/s]"
      ]
     },
     "metadata": {},
     "output_type": "display_data"
    },
    {
     "data": {
      "text/latex": [
       "All other indices of LHS Tensor $LHS$  already calculated."
      ],
      "text/plain": [
       "<IPython.core.display.Latex object>"
      ]
     },
     "metadata": {},
     "output_type": "display_data"
    },
    {
     "data": {
      "text/latex": [
       "$\\displaystyle {LHS}{}_{0}\\,{}_{0}\\, = - F{\\left(G{\\left(t \\right)} \\right)} + G{\\left(t \\right)} \\frac{d}{d G{\\left(t \\right)}} F{\\left(G{\\left(t \\right)} \\right)} + \\frac{\\left(\\frac{d}{d t} B{\\left(t \\right)}\\right)^{2}}{B^{2}{\\left(t \\right)}} + \\frac{2 \\frac{d}{d t} A{\\left(t \\right)} \\frac{d}{d t} B{\\left(t \\right)}}{A{\\left(t \\right)} B{\\left(t \\right)}} - \\frac{24 \\frac{d}{d t} A{\\left(t \\right)} \\left(\\frac{d}{d t} B{\\left(t \\right)}\\right)^{2} \\frac{d^{2}}{d G{\\left(t \\right)}^{2}} F{\\left(G{\\left(t \\right)} \\right)} \\frac{d}{d t} G{\\left(t \\right)}}{A{\\left(t \\right)} B^{2}{\\left(t \\right)}}$"
      ],
      "text/plain": [
       "<IPython.core.display.Math object>"
      ]
     },
     "metadata": {},
     "output_type": "display_data"
    },
    {
     "data": {
      "text/latex": [
       "$\\displaystyle {LHS}{}_{1}\\,{}_{1}\\, = A^{2}{\\left(t \\right)} F{\\left(G{\\left(t \\right)} \\right)} - A^{2}{\\left(t \\right)} G{\\left(t \\right)} \\frac{d}{d G{\\left(t \\right)}} F{\\left(G{\\left(t \\right)} \\right)} - \\frac{2 A^{2}{\\left(t \\right)} \\frac{d^{2}}{d t^{2}} B{\\left(t \\right)}}{B{\\left(t \\right)}} + \\frac{8 A^{2}{\\left(t \\right)} \\left(\\frac{d}{d t} B{\\left(t \\right)}\\right)^{2} \\frac{d^{2}}{d G{\\left(t \\right)}^{2}} F{\\left(G{\\left(t \\right)} \\right)} \\frac{d^{2}}{d t^{2}} G{\\left(t \\right)}}{B^{2}{\\left(t \\right)}} + \\frac{8 A^{2}{\\left(t \\right)} \\left(\\frac{d}{d t} B{\\left(t \\right)}\\right)^{2} \\frac{d^{3}}{d G{\\left(t \\right)}^{3}} F{\\left(G{\\left(t \\right)} \\right)} \\left(\\frac{d}{d t} G{\\left(t \\right)}\\right)^{2}}{B^{2}{\\left(t \\right)}} - \\frac{A^{2}{\\left(t \\right)} \\left(\\frac{d}{d t} B{\\left(t \\right)}\\right)^{2}}{B^{2}{\\left(t \\right)}} + \\frac{16 A^{2}{\\left(t \\right)} \\frac{d}{d t} B{\\left(t \\right)} \\frac{d^{2}}{d t^{2}} B{\\left(t \\right)} \\frac{d^{2}}{d G{\\left(t \\right)}^{2}} F{\\left(G{\\left(t \\right)} \\right)} \\frac{d}{d t} G{\\left(t \\right)}}{B^{2}{\\left(t \\right)}}$"
      ],
      "text/plain": [
       "<IPython.core.display.Math object>"
      ]
     },
     "metadata": {},
     "output_type": "display_data"
    },
    {
     "data": {
      "text/latex": [
       "$\\displaystyle {LHS}{}_{2}\\,{}_{2}\\, = B^{2}{\\left(t \\right)} F{\\left(G{\\left(t \\right)} \\right)} - B^{2}{\\left(t \\right)} G{\\left(t \\right)} \\frac{d}{d G{\\left(t \\right)}} F{\\left(G{\\left(t \\right)} \\right)} - B{\\left(t \\right)} \\frac{d^{2}}{d t^{2}} B{\\left(t \\right)} - \\frac{B^{2}{\\left(t \\right)} \\frac{d^{2}}{d t^{2}} A{\\left(t \\right)}}{A{\\left(t \\right)}} + \\frac{8 B{\\left(t \\right)} \\frac{d}{d t} A{\\left(t \\right)} \\frac{d}{d t} B{\\left(t \\right)} \\frac{d^{2}}{d G{\\left(t \\right)}^{2}} F{\\left(G{\\left(t \\right)} \\right)} \\frac{d^{2}}{d t^{2}} G{\\left(t \\right)}}{A{\\left(t \\right)}} + \\frac{8 B{\\left(t \\right)} \\frac{d}{d t} A{\\left(t \\right)} \\frac{d}{d t} B{\\left(t \\right)} \\frac{d^{3}}{d G{\\left(t \\right)}^{3}} F{\\left(G{\\left(t \\right)} \\right)} \\left(\\frac{d}{d t} G{\\left(t \\right)}\\right)^{2}}{A{\\left(t \\right)}} - \\frac{B{\\left(t \\right)} \\frac{d}{d t} A{\\left(t \\right)} \\frac{d}{d t} B{\\left(t \\right)}}{A{\\left(t \\right)}} + \\frac{8 B{\\left(t \\right)} \\frac{d}{d t} A{\\left(t \\right)} \\frac{d^{2}}{d t^{2}} B{\\left(t \\right)} \\frac{d^{2}}{d G{\\left(t \\right)}^{2}} F{\\left(G{\\left(t \\right)} \\right)} \\frac{d}{d t} G{\\left(t \\right)}}{A{\\left(t \\right)}} + \\frac{8 B{\\left(t \\right)} \\frac{d^{2}}{d t^{2}} A{\\left(t \\right)} \\frac{d}{d t} B{\\left(t \\right)} \\frac{d^{2}}{d G{\\left(t \\right)}^{2}} F{\\left(G{\\left(t \\right)} \\right)} \\frac{d}{d t} G{\\left(t \\right)}}{A{\\left(t \\right)}}$"
      ],
      "text/plain": [
       "<IPython.core.display.Math object>"
      ]
     },
     "metadata": {},
     "output_type": "display_data"
    },
    {
     "data": {
      "text/latex": [
       "$\\displaystyle {LHS}{}_{3}\\,{}_{3}\\, = B^{2}{\\left(t \\right)} F{\\left(G{\\left(t \\right)} \\right)} - B^{2}{\\left(t \\right)} G{\\left(t \\right)} \\frac{d}{d G{\\left(t \\right)}} F{\\left(G{\\left(t \\right)} \\right)} - B{\\left(t \\right)} \\frac{d^{2}}{d t^{2}} B{\\left(t \\right)} - \\frac{B^{2}{\\left(t \\right)} \\frac{d^{2}}{d t^{2}} A{\\left(t \\right)}}{A{\\left(t \\right)}} + \\frac{8 B{\\left(t \\right)} \\frac{d}{d t} A{\\left(t \\right)} \\frac{d}{d t} B{\\left(t \\right)} \\frac{d^{2}}{d G{\\left(t \\right)}^{2}} F{\\left(G{\\left(t \\right)} \\right)} \\frac{d^{2}}{d t^{2}} G{\\left(t \\right)}}{A{\\left(t \\right)}} + \\frac{8 B{\\left(t \\right)} \\frac{d}{d t} A{\\left(t \\right)} \\frac{d}{d t} B{\\left(t \\right)} \\frac{d^{3}}{d G{\\left(t \\right)}^{3}} F{\\left(G{\\left(t \\right)} \\right)} \\left(\\frac{d}{d t} G{\\left(t \\right)}\\right)^{2}}{A{\\left(t \\right)}} - \\frac{B{\\left(t \\right)} \\frac{d}{d t} A{\\left(t \\right)} \\frac{d}{d t} B{\\left(t \\right)}}{A{\\left(t \\right)}} + \\frac{8 B{\\left(t \\right)} \\frac{d}{d t} A{\\left(t \\right)} \\frac{d^{2}}{d t^{2}} B{\\left(t \\right)} \\frac{d^{2}}{d G{\\left(t \\right)}^{2}} F{\\left(G{\\left(t \\right)} \\right)} \\frac{d}{d t} G{\\left(t \\right)}}{A{\\left(t \\right)}} + \\frac{8 B{\\left(t \\right)} \\frac{d^{2}}{d t^{2}} A{\\left(t \\right)} \\frac{d}{d t} B{\\left(t \\right)} \\frac{d^{2}}{d G{\\left(t \\right)}^{2}} F{\\left(G{\\left(t \\right)} \\right)} \\frac{d}{d t} G{\\left(t \\right)}}{A{\\left(t \\right)}}$"
      ],
      "text/plain": [
       "<IPython.core.display.Math object>"
      ]
     },
     "metadata": {},
     "output_type": "display_data"
    }
   ],
   "source": [
    "value0 = Ric('_mu,_nu') -sp.Rational(1,2)*Rscalar*g('_mu,_nu')\n",
    "value1 = R('_mu,_rho,_nu,_sigma')+Ric('_rho,_nu')*g('_sigma,_mu')\n",
    "value2 = sp.Rational(1,2)*(g('_mu,_nu')*g('_sigma,_rho')-g('_mu,_sigma')*g('_nu,_rho'))*Rscalar\n",
    "value3 = -1*Ric('_rho,_sigma')*g('_nu,_mu')-Ric('_mu,_nu')*g('_sigma,_rho')+Ric('_mu,_sigma')*g('_nu,_rho')\n",
    "value4 = pt.C(pt.C((Gt),'^sigma'),'^rho')\n",
    "value5 = (G*Gt-F)*g('_mu,_nu')\n",
    "\n",
    "value = value0+8*(value1+value2+value3)*value4+value5\n",
    "\n",
    "LHS = pt.ten('LHS',2)\n",
    "LHS.assign(value,'_mu,_nu')\n",
    "LHS.complete('_,_')\n",
    "LHS.expand()\n",
    "LHS.display('_,_',aslist=True)"
   ]
  },
  {
   "cell_type": "code",
   "execution_count": 18,
   "metadata": {},
   "outputs": [
    {
     "name": "stdout",
     "output_type": "stream",
     "text": [
      "Elements assigned correctly to the _mu,_nu components\n"
     ]
    },
    {
     "data": {
      "application/vnd.jupyter.widget-view+json": {
       "model_id": "0b484f0b2c584c018b05216e406e03f4",
       "version_major": 2,
       "version_minor": 0
      },
      "text/plain": [
       "LHS Tensor $LHS{^\\alpha}{_\\beta}$:   0%|          | 0/16 [00:00<?, ?it/s]"
      ]
     },
     "metadata": {},
     "output_type": "display_data"
    },
    {
     "data": {
      "application/vnd.jupyter.widget-view+json": {
       "model_id": "0bd0f6cb85594a8aa4526fc03e537246",
       "version_major": 2,
       "version_minor": 0
      },
      "text/plain": [
       "LHS Tensor $LHS{^\\alpha}{^\\beta}$:   0%|          | 0/16 [00:00<?, ?it/s]"
      ]
     },
     "metadata": {},
     "output_type": "display_data"
    },
    {
     "data": {
      "application/vnd.jupyter.widget-view+json": {
       "model_id": "b3189936c5c84ab4a59f4f23b3f55b3a",
       "version_major": 2,
       "version_minor": 0
      },
      "text/plain": [
       "LHS Tensor $LHS{_\\alpha}{^\\beta}$:   0%|          | 0/16 [00:00<?, ?it/s]"
      ]
     },
     "metadata": {},
     "output_type": "display_data"
    },
    {
     "data": {
      "text/latex": [
       "All other indices of LHS Tensor $LHS$  already calculated."
      ],
      "text/plain": [
       "<IPython.core.display.Latex object>"
      ]
     },
     "metadata": {},
     "output_type": "display_data"
    },
    {
     "data": {
      "text/latex": [
       "$\\displaystyle {LHS}{}_{0}\\,{}_{0}\\, = - \\frac{3 \\frac{d}{d t} A{\\left(t \\right)} \\left(\\frac{d}{d t} B{\\left(t \\right)}\\right)^{2} \\frac{d^{2}}{d G{\\left(t \\right)}^{2}} F{\\left(G{\\left(t \\right)} \\right)} \\frac{d}{d t} G{\\left(t \\right)}}{A{\\left(t \\right)} B^{2}{\\left(t \\right)}}$"
      ],
      "text/plain": [
       "<IPython.core.display.Math object>"
      ]
     },
     "metadata": {},
     "output_type": "display_data"
    },
    {
     "data": {
      "text/latex": [
       "$\\displaystyle {LHS}{}_{1}\\,{}_{1}\\, = \\frac{A^{2}{\\left(t \\right)} \\left(\\frac{d}{d t} B{\\left(t \\right)}\\right)^{2} \\frac{d^{2}}{d G{\\left(t \\right)}^{2}} F{\\left(G{\\left(t \\right)} \\right)} \\frac{d^{2}}{d t^{2}} G{\\left(t \\right)}}{B^{2}{\\left(t \\right)}} + \\frac{A^{2}{\\left(t \\right)} \\left(\\frac{d}{d t} B{\\left(t \\right)}\\right)^{2} \\frac{d^{3}}{d G{\\left(t \\right)}^{3}} F{\\left(G{\\left(t \\right)} \\right)} \\left(\\frac{d}{d t} G{\\left(t \\right)}\\right)^{2}}{B^{2}{\\left(t \\right)}} + \\frac{2 A^{2}{\\left(t \\right)} \\frac{d}{d t} B{\\left(t \\right)} \\frac{d^{2}}{d t^{2}} B{\\left(t \\right)} \\frac{d^{2}}{d G{\\left(t \\right)}^{2}} F{\\left(G{\\left(t \\right)} \\right)} \\frac{d}{d t} G{\\left(t \\right)}}{B^{2}{\\left(t \\right)}}$"
      ],
      "text/plain": [
       "<IPython.core.display.Math object>"
      ]
     },
     "metadata": {},
     "output_type": "display_data"
    },
    {
     "data": {
      "text/latex": [
       "$\\displaystyle {LHS}{}_{2}\\,{}_{2}\\, = \\frac{B{\\left(t \\right)} \\frac{d}{d t} A{\\left(t \\right)} \\frac{d}{d t} B{\\left(t \\right)} \\frac{d^{2}}{d G{\\left(t \\right)}^{2}} F{\\left(G{\\left(t \\right)} \\right)} \\frac{d^{2}}{d t^{2}} G{\\left(t \\right)}}{A{\\left(t \\right)}} + \\frac{B{\\left(t \\right)} \\frac{d}{d t} A{\\left(t \\right)} \\frac{d}{d t} B{\\left(t \\right)} \\frac{d^{3}}{d G{\\left(t \\right)}^{3}} F{\\left(G{\\left(t \\right)} \\right)} \\left(\\frac{d}{d t} G{\\left(t \\right)}\\right)^{2}}{A{\\left(t \\right)}} + \\frac{B{\\left(t \\right)} \\frac{d}{d t} A{\\left(t \\right)} \\frac{d^{2}}{d t^{2}} B{\\left(t \\right)} \\frac{d^{2}}{d G{\\left(t \\right)}^{2}} F{\\left(G{\\left(t \\right)} \\right)} \\frac{d}{d t} G{\\left(t \\right)}}{A{\\left(t \\right)}} + \\frac{B{\\left(t \\right)} \\frac{d^{2}}{d t^{2}} A{\\left(t \\right)} \\frac{d}{d t} B{\\left(t \\right)} \\frac{d^{2}}{d G{\\left(t \\right)}^{2}} F{\\left(G{\\left(t \\right)} \\right)} \\frac{d}{d t} G{\\left(t \\right)}}{A{\\left(t \\right)}}$"
      ],
      "text/plain": [
       "<IPython.core.display.Math object>"
      ]
     },
     "metadata": {},
     "output_type": "display_data"
    },
    {
     "data": {
      "text/latex": [
       "$\\displaystyle {LHS}{}_{3}\\,{}_{3}\\, = \\frac{B{\\left(t \\right)} \\frac{d}{d t} A{\\left(t \\right)} \\frac{d}{d t} B{\\left(t \\right)} \\frac{d^{2}}{d G{\\left(t \\right)}^{2}} F{\\left(G{\\left(t \\right)} \\right)} \\frac{d^{2}}{d t^{2}} G{\\left(t \\right)}}{A{\\left(t \\right)}} + \\frac{B{\\left(t \\right)} \\frac{d}{d t} A{\\left(t \\right)} \\frac{d}{d t} B{\\left(t \\right)} \\frac{d^{3}}{d G{\\left(t \\right)}^{3}} F{\\left(G{\\left(t \\right)} \\right)} \\left(\\frac{d}{d t} G{\\left(t \\right)}\\right)^{2}}{A{\\left(t \\right)}} + \\frac{B{\\left(t \\right)} \\frac{d}{d t} A{\\left(t \\right)} \\frac{d^{2}}{d t^{2}} B{\\left(t \\right)} \\frac{d^{2}}{d G{\\left(t \\right)}^{2}} F{\\left(G{\\left(t \\right)} \\right)} \\frac{d}{d t} G{\\left(t \\right)}}{A{\\left(t \\right)}} + \\frac{B{\\left(t \\right)} \\frac{d^{2}}{d t^{2}} A{\\left(t \\right)} \\frac{d}{d t} B{\\left(t \\right)} \\frac{d^{2}}{d G{\\left(t \\right)}^{2}} F{\\left(G{\\left(t \\right)} \\right)} \\frac{d}{d t} G{\\left(t \\right)}}{A{\\left(t \\right)}}$"
      ],
      "text/plain": [
       "<IPython.core.display.Math object>"
      ]
     },
     "metadata": {},
     "output_type": "display_data"
    }
   ],
   "source": [
    "value0 = Ric('_mu,_nu') -sp.Rational(1,2)*Rscalar*g('_mu,_nu')\n",
    "value1 = R('_mu,_rho,_nu,_sigma')+Ric('_rho,_nu')*g('_sigma,_mu')\n",
    "value2 = sp.Rational(1,2)*(g('_mu,_nu')*g('_sigma,_rho')-g('_mu,_sigma')*g('_nu,_rho'))*Rscalar\n",
    "value3 = -1*Ric('_rho,_sigma')*g('_nu,_mu')-Ric('_mu,_nu')*g('_sigma,_rho')+Ric('_mu,_sigma')*g('_nu,_rho')\n",
    "value4 = pt.C(pt.C((Gt),'^sigma'),'^rho')\n",
    "value5 = (G*sp.diff(F,t)-F)*g('_mu,_nu')\n",
    "\n",
    "value = (value1+value2+value3)*value4\n",
    "\n",
    "LHS = pt.ten('LHS',2)\n",
    "LHS.assign(value,'_mu,_nu')\n",
    "LHS.complete('_,_')\n",
    "LHS.expand()\n",
    "LHS.display('_,_',aslist=True)"
   ]
  },
  {
   "cell_type": "code",
   "execution_count": 19,
   "metadata": {},
   "outputs": [
    {
     "name": "stdout",
     "output_type": "stream",
     "text": [
      "Elements assigned correctly to the _i,_j components\n"
     ]
    },
    {
     "data": {
      "text/latex": [
       "$\\displaystyle {DoubleCovarientFG}{}_{0}\\,{}_{0}\\, = \\frac{d^{2}}{d G{\\left(t \\right)}^{2}} F{\\left(G{\\left(t \\right)} \\right)} \\frac{d^{2}}{d t^{2}} G{\\left(t \\right)} + \\frac{d^{3}}{d G{\\left(t \\right)}^{3}} F{\\left(G{\\left(t \\right)} \\right)} \\left(\\frac{d}{d t} G{\\left(t \\right)}\\right)^{2}$"
      ],
      "text/plain": [
       "<IPython.core.display.Math object>"
      ]
     },
     "metadata": {},
     "output_type": "display_data"
    },
    {
     "data": {
      "text/latex": [
       "$\\displaystyle {DoubleCovarientFG}{}_{1}\\,{}_{1}\\, = - A{\\left(t \\right)} \\frac{d}{d t} A{\\left(t \\right)} \\frac{d^{2}}{d G{\\left(t \\right)}^{2}} F{\\left(G{\\left(t \\right)} \\right)} \\frac{d}{d t} G{\\left(t \\right)}$"
      ],
      "text/plain": [
       "<IPython.core.display.Math object>"
      ]
     },
     "metadata": {},
     "output_type": "display_data"
    },
    {
     "data": {
      "text/latex": [
       "$\\displaystyle {DoubleCovarientFG}{}_{2}\\,{}_{2}\\, = - B{\\left(t \\right)} \\frac{d}{d t} B{\\left(t \\right)} \\frac{d^{2}}{d G{\\left(t \\right)}^{2}} F{\\left(G{\\left(t \\right)} \\right)} \\frac{d}{d t} G{\\left(t \\right)}$"
      ],
      "text/plain": [
       "<IPython.core.display.Math object>"
      ]
     },
     "metadata": {},
     "output_type": "display_data"
    },
    {
     "data": {
      "text/latex": [
       "$\\displaystyle {DoubleCovarientFG}{}_{3}\\,{}_{3}\\, = - B{\\left(t \\right)} \\frac{d}{d t} B{\\left(t \\right)} \\frac{d^{2}}{d G{\\left(t \\right)}^{2}} F{\\left(G{\\left(t \\right)} \\right)} \\frac{d}{d t} G{\\left(t \\right)}$"
      ],
      "text/plain": [
       "<IPython.core.display.Math object>"
      ]
     },
     "metadata": {},
     "output_type": "display_data"
    }
   ],
   "source": [
    "'''if you want to show the LHS of C(C(F,i),j), then you can define a tensor as you want,'''\n",
    "DoubleCovarientFG = pt.ten('DoubleCovarientFG', 2)\n",
    "DoubleCovarientFG.assign(pt.C(pt.C(Gt,'_j'),'_i'),'_i,_j')\n",
    "DoubleCovarientFG.display('_,_',aslist= True)"
   ]
  }
 ],
 "metadata": {
  "interpreter": {
   "hash": "2fe84a340ba9287c7cb1571137a812dad7cb370584e1b8cf466a33e4cc3e43d3"
  },
  "kernelspec": {
   "display_name": "Python 3 (ipykernel)",
   "language": "python",
   "name": "python3"
  },
  "language_info": {
   "codemirror_mode": {
    "name": "ipython",
    "version": 3
   },
   "file_extension": ".py",
   "mimetype": "text/x-python",
   "name": "python",
   "nbconvert_exporter": "python",
   "pygments_lexer": "ipython3",
   "version": "3.6.7"
  }
 },
 "nbformat": 4,
 "nbformat_minor": 2
}
