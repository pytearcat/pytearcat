{
 "cells": [
  {
   "cell_type": "code",
   "execution_count": 1,
   "metadata": {},
   "outputs": [],
   "source": [
    "import pytearcat as pt"
   ]
  },
  {
   "cell_type": "code",
   "execution_count": 3,
   "metadata": {},
   "outputs": [
    {
     "name": "stdout",
     "output_type": "stream",
     "text": [
      "Remember that the time coordinate must be the first coordinate.\n",
      "Function A(t) is already defined\n",
      "Function B(t) is already defined\n",
      "Function C(t) is already defined\n",
      "\n",
      "Dimension = 4\n",
      "Coordinates = t,x,y,z\n",
      "Metric defined successfully: \n",
      "\n"
     ]
    },
    {
     "data": {
      "text/latex": [
       "$\\displaystyle ds^2 = -1 \\cdot dt^2+A^{2}{\\left(t \\right)} \\cdot dx^2+B^{2}{\\left(t \\right)} \\cdot dy^2- 2 x B^{2}{\\left(t \\right)} \\cdot dy \\cdot dz+\\left(x^{2} B^{2}{\\left(t \\right)} + A^{2}{\\left(t \\right)}\\right) \\cdot dz^2$"
      ],
      "text/plain": [
       "<IPython.core.display.Math object>"
      ]
     },
     "metadata": {},
     "output_type": "display_data"
    },
    {
     "data": {
      "text/latex": [
       "$\\displaystyle \\left[\\begin{matrix}-1 & 0 & 0 & 0\\\\0 & A^{2}{\\left(t \\right)} & 0 & 0\\\\0 & 0 & B^{2}{\\left(t \\right)} & - x B^{2}{\\left(t \\right)}\\\\0 & 0 & - x B^{2}{\\left(t \\right)} & x^{2} B^{2}{\\left(t \\right)} + A^{2}{\\left(t \\right)}\\end{matrix}\\right]$"
      ],
      "text/plain": [
       "Matrix([\n",
       "[-1,       0,          0,                      0],\n",
       "[ 0, A(t)**2,          0,                      0],\n",
       "[ 0,       0,    B(t)**2,             -x*B(t)**2],\n",
       "[ 0,       0, -x*B(t)**2, x**2*B(t)**2 + A(t)**2]])"
      ]
     },
     "metadata": {},
     "output_type": "display_data"
    }
   ],
   "source": [
    "t,x,y,z = pt.coords('t,x,y,z')\n",
    "A = pt.fun('A','t')\n",
    "B = pt.fun('B','t')\n",
    "C = pt.fun('C','t')\n",
    "g = pt.metric('ds2 = -dt**2 + A**2*(dx**2+dz**2)+B**2*((dy-x*dz)**2)')"
   ]
  }
 ],
 "metadata": {
  "kernelspec": {
   "display_name": "Python 3.6.7 64-bit",
   "language": "python",
   "name": "python3"
  },
  "language_info": {
   "codemirror_mode": {
    "name": "ipython",
    "version": 3
   },
   "file_extension": ".py",
   "mimetype": "text/x-python",
   "name": "python",
   "nbconvert_exporter": "python",
   "pygments_lexer": "ipython3",
   "version": "3.6.7"
  },
  "orig_nbformat": 4,
  "vscode": {
   "interpreter": {
    "hash": "2fe84a340ba9287c7cb1571137a812dad7cb370584e1b8cf466a33e4cc3e43d3"
   }
  }
 },
 "nbformat": 4,
 "nbformat_minor": 2
}
