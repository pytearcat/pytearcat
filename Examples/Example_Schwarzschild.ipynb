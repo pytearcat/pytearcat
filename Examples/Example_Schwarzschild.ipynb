{
 "cells": [
  {
   "cell_type": "markdown",
   "metadata": {},
   "source": [
    "## This Notebook provides an example of general usage of the module pytensor."
   ]
  },
  {
   "cell_type": "markdown",
   "metadata": {},
   "source": [
    "First, we import the module, aswell as other usefull packages."
   ]
  },
  {
   "cell_type": "code",
   "execution_count": 1,
   "metadata": {},
   "outputs": [],
   "source": [
    "import pytearcat as pt"
   ]
  },
  {
   "cell_type": "markdown",
   "metadata": {},
   "source": [
    "The coordinates and constants are defined before creating the metric, which in this case corresponds to the Schwarzschild metric. "
   ]
  },
  {
   "cell_type": "code",
   "execution_count": 2,
   "metadata": {},
   "outputs": [
    {
     "name": "stdout",
     "output_type": "stream",
     "text": [
      "Remember that the time coordinate must be the first coordinate.\n",
      "\n",
      "Dimension = 4\n",
      "Coordinates = t,r,theta,phi\n",
      "Metric defined successfully: \n",
      "\n"
     ]
    },
    {
     "data": {
      "text/latex": [
       "$\\displaystyle ds^2 = \\left(- \\frac{a}{r} - 1\\right) \\cdot dt^2+\\frac{1}{\\frac{a}{r} + 1} \\cdot dr^2+r^{2} \\cdot d\\theta^2+r^{2} \\sin^{2}{\\left(\\theta \\right)} \\cdot d\\phi^2$"
      ],
      "text/plain": [
       "<IPython.core.display.Math object>"
      ]
     },
     "metadata": {},
     "output_type": "display_data"
    },
    {
     "data": {
      "text/latex": [
       "$\\displaystyle \\left[\\begin{matrix}- \\frac{a}{r} - 1 & 0 & 0 & 0\\\\0 & \\frac{1}{\\frac{a}{r} + 1} & 0 & 0\\\\0 & 0 & r^{2} & 0\\\\0 & 0 & 0 & r^{2} \\sin^{2}{\\left(\\theta \\right)}\\end{matrix}\\right]$"
      ],
      "text/plain": [
       "Matrix([\n",
       "[-a/r - 1,           0,    0,                  0],\n",
       "[       0, 1/(a/r + 1),    0,                  0],\n",
       "[       0,           0, r**2,                  0],\n",
       "[       0,           0,    0, r**2*sin(theta)**2]])"
      ]
     },
     "metadata": {},
     "output_type": "display_data"
    }
   ],
   "source": [
    "t,r,theta,phi = pt.coords('t,r,theta,phi')\n",
    "a = pt.con('a') # a = -2GM\n",
    "g = pt.metric('ds2 = -dt**2*(1 + (a/r)) + (1 + (a/r))**(-1)*dr**2 + r**2 * (dtheta**2 + sin(theta)**2 * dphi**2)')"
   ]
  },
  {
   "cell_type": "markdown",
   "metadata": {},
   "source": [
    "We compute the Christoffel symbols of second kind"
   ]
  },
  {
   "cell_type": "code",
   "execution_count": 3,
   "metadata": {},
   "outputs": [
    {
     "data": {
      "text/latex": [
       "Christoffel $\\Gamma_{\\alpha \\beta \\gamma}$ and $\\Gamma^{\\alpha}_{\\beta \\gamma}$"
      ],
      "text/plain": [
       "<IPython.core.display.Latex object>"
      ]
     },
     "metadata": {},
     "output_type": "display_data"
    },
    {
     "data": {
      "application/vnd.jupyter.widget-view+json": {
       "model_id": "5e110a64fc144b78bab559eda37013cb",
       "version_major": 2,
       "version_minor": 0
      },
      "text/plain": [
       "  0%|          | 0/64 [00:00<?, ?it/s]"
      ]
     },
     "metadata": {},
     "output_type": "display_data"
    },
    {
     "data": {
      "text/latex": [
       "$\\displaystyle {\\Gamma}{}^{0}\\,{}_{0}\\,{}_{1}\\, = - \\frac{a}{2 r \\left(a + r\\right)}$"
      ],
      "text/plain": [
       "<IPython.core.display.Math object>"
      ]
     },
     "metadata": {},
     "output_type": "display_data"
    },
    {
     "data": {
      "text/latex": [
       "$\\displaystyle {\\Gamma}{}^{0}\\,{}_{1}\\,{}_{0}\\, = - \\frac{a}{2 r \\left(a + r\\right)}$"
      ],
      "text/plain": [
       "<IPython.core.display.Math object>"
      ]
     },
     "metadata": {},
     "output_type": "display_data"
    },
    {
     "data": {
      "text/latex": [
       "$\\displaystyle {\\Gamma}{}^{1}\\,{}_{0}\\,{}_{0}\\, = - \\frac{a \\left(a + r\\right)}{2 r^{3}}$"
      ],
      "text/plain": [
       "<IPython.core.display.Math object>"
      ]
     },
     "metadata": {},
     "output_type": "display_data"
    },
    {
     "data": {
      "text/latex": [
       "$\\displaystyle {\\Gamma}{}^{1}\\,{}_{1}\\,{}_{1}\\, = \\frac{a}{2 r \\left(a + r\\right)}$"
      ],
      "text/plain": [
       "<IPython.core.display.Math object>"
      ]
     },
     "metadata": {},
     "output_type": "display_data"
    },
    {
     "data": {
      "text/latex": [
       "$\\displaystyle {\\Gamma}{}^{1}\\,{}_{2}\\,{}_{2}\\, = - a - r$"
      ],
      "text/plain": [
       "<IPython.core.display.Math object>"
      ]
     },
     "metadata": {},
     "output_type": "display_data"
    },
    {
     "data": {
      "text/latex": [
       "$\\displaystyle {\\Gamma}{}^{1}\\,{}_{3}\\,{}_{3}\\, = - \\left(a + r\\right) \\sin^{2}{\\left(\\theta \\right)}$"
      ],
      "text/plain": [
       "<IPython.core.display.Math object>"
      ]
     },
     "metadata": {},
     "output_type": "display_data"
    },
    {
     "data": {
      "text/latex": [
       "$\\displaystyle {\\Gamma}{}^{2}\\,{}_{1}\\,{}_{2}\\, = \\frac{1}{r}$"
      ],
      "text/plain": [
       "<IPython.core.display.Math object>"
      ]
     },
     "metadata": {},
     "output_type": "display_data"
    },
    {
     "data": {
      "text/latex": [
       "$\\displaystyle {\\Gamma}{}^{2}\\,{}_{2}\\,{}_{1}\\, = \\frac{1}{r}$"
      ],
      "text/plain": [
       "<IPython.core.display.Math object>"
      ]
     },
     "metadata": {},
     "output_type": "display_data"
    },
    {
     "data": {
      "text/latex": [
       "$\\displaystyle {\\Gamma}{}^{2}\\,{}_{3}\\,{}_{3}\\, = - \\sin{\\left(\\theta \\right)} \\cos{\\left(\\theta \\right)}$"
      ],
      "text/plain": [
       "<IPython.core.display.Math object>"
      ]
     },
     "metadata": {},
     "output_type": "display_data"
    },
    {
     "data": {
      "text/latex": [
       "$\\displaystyle {\\Gamma}{}^{3}\\,{}_{1}\\,{}_{3}\\, = \\frac{1}{r}$"
      ],
      "text/plain": [
       "<IPython.core.display.Math object>"
      ]
     },
     "metadata": {},
     "output_type": "display_data"
    },
    {
     "data": {
      "text/latex": [
       "$\\displaystyle {\\Gamma}{}^{3}\\,{}_{2}\\,{}_{3}\\, = \\frac{\\cos{\\left(\\theta \\right)}}{\\sin{\\left(\\theta \\right)}}$"
      ],
      "text/plain": [
       "<IPython.core.display.Math object>"
      ]
     },
     "metadata": {},
     "output_type": "display_data"
    },
    {
     "data": {
      "text/latex": [
       "$\\displaystyle {\\Gamma}{}^{3}\\,{}_{3}\\,{}_{1}\\, = \\frac{1}{r}$"
      ],
      "text/plain": [
       "<IPython.core.display.Math object>"
      ]
     },
     "metadata": {},
     "output_type": "display_data"
    },
    {
     "data": {
      "text/latex": [
       "$\\displaystyle {\\Gamma}{}^{3}\\,{}_{3}\\,{}_{2}\\, = \\frac{\\cos{\\left(\\theta \\right)}}{\\sin{\\left(\\theta \\right)}}$"
      ],
      "text/plain": [
       "<IPython.core.display.Math object>"
      ]
     },
     "metadata": {},
     "output_type": "display_data"
    }
   ],
   "source": [
    "Chr = pt.christoffel()\n",
    "Chr.display('^,_,_',aslist=True)"
   ]
  },
  {
   "cell_type": "markdown",
   "metadata": {},
   "source": [
    "Then, the geodesic is computed."
   ]
  },
  {
   "cell_type": "code",
   "execution_count": 4,
   "metadata": {},
   "outputs": [
    {
     "data": {
      "application/vnd.jupyter.widget-view+json": {
       "model_id": "3140c1dcffad40fba4e8d372d966a201",
       "version_major": 2,
       "version_minor": 0
      },
      "text/plain": [
       "  0%|          | 0/64 [00:00<?, ?it/s]"
      ]
     },
     "metadata": {},
     "output_type": "display_data"
    }
   ],
   "source": [
    "Geodesic = pt.geodesic()[0]"
   ]
  },
  {
   "cell_type": "code",
   "execution_count": 5,
   "metadata": {},
   "outputs": [
    {
     "data": {
      "image/png": "[encoded data removed]",
      "text/latex": [
       "$\\displaystyle \\frac{a r \\frac{d^{2}}{d s^{2}} \\operatorname{x^{0}}{\\left(s \\right)} - a \\frac{d}{d s} \\operatorname{x^{0}}{\\left(s \\right)} \\frac{d}{d s} \\operatorname{x^{1}}{\\left(s \\right)} + r^{2} \\frac{d^{2}}{d s^{2}} \\operatorname{x^{0}}{\\left(s \\right)}}{r \\left(a + r\\right)}$"
      ],
      "text/plain": [
       "      2                                       2       \n",
       "     d             d         d            2  d        \n",
       "a⋅r⋅───(x⁰(s)) - a⋅──(x⁰(s))⋅──(x¹(s)) + r ⋅───(x⁰(s))\n",
       "      2            ds        ds               2       \n",
       "    ds                                      ds        \n",
       "──────────────────────────────────────────────────────\n",
       "                      r⋅(a + r)                       "
      ]
     },
     "execution_count": 5,
     "metadata": {},
     "output_type": "execute_result"
    }
   ],
   "source": [
    "Geodesic[0]"
   ]
  },
  {
   "cell_type": "code",
   "execution_count": 6,
   "metadata": {},
   "outputs": [
    {
     "data": {
      "image/png": "[encoded data removed]",
      "text/latex": [
       "$\\displaystyle - \\frac{a^{3} \\left(\\frac{d}{d s} \\operatorname{x^{0}}{\\left(s \\right)}\\right)^{2} + 2 a^{2} r^{3} \\sin^{2}{\\left(\\theta \\right)} \\left(\\frac{d}{d s} \\operatorname{x^{3}}{\\left(s \\right)}\\right)^{2} + 2 a^{2} r^{3} \\left(\\frac{d}{d s} \\operatorname{x^{2}}{\\left(s \\right)}\\right)^{2} + 2 a^{2} r \\left(\\frac{d}{d s} \\operatorname{x^{0}}{\\left(s \\right)}\\right)^{2} + 4 a r^{4} \\sin^{2}{\\left(\\theta \\right)} \\left(\\frac{d}{d s} \\operatorname{x^{3}}{\\left(s \\right)}\\right)^{2} + 4 a r^{4} \\left(\\frac{d}{d s} \\operatorname{x^{2}}{\\left(s \\right)}\\right)^{2} - 2 a r^{3} \\frac{d^{2}}{d s^{2}} \\operatorname{x^{1}}{\\left(s \\right)} + a r^{2} \\left(\\frac{d}{d s} \\operatorname{x^{0}}{\\left(s \\right)}\\right)^{2} - a r^{2} \\left(\\frac{d}{d s} \\operatorname{x^{1}}{\\left(s \\right)}\\right)^{2} + 2 r^{5} \\sin^{2}{\\left(\\theta \\right)} \\left(\\frac{d}{d s} \\operatorname{x^{3}}{\\left(s \\right)}\\right)^{2} + 2 r^{5} \\left(\\frac{d}{d s} \\operatorname{x^{2}}{\\left(s \\right)}\\right)^{2} - 2 r^{4} \\frac{d^{2}}{d s^{2}} \\operatorname{x^{1}}{\\left(s \\right)}}{2 r^{3} \\left(a + r\\right)}$"
      ],
      "text/plain": [
       " ⎛              2                              2                      2       \n",
       " ⎜ 3 ⎛d        ⎞       2  3    2    ⎛d        ⎞       2  3 ⎛d        ⎞       2\n",
       "-⎜a ⋅⎜──(x⁰(s))⎟  + 2⋅a ⋅r ⋅sin (θ)⋅⎜──(x³(s))⎟  + 2⋅a ⋅r ⋅⎜──(x²(s))⎟  + 2⋅a \n",
       " ⎜   ⎝ds       ⎠                    ⎝ds       ⎠            ⎝ds       ⎠        \n",
       " ⎝                                                                            \n",
       "──────────────────────────────────────────────────────────────────────────────\n",
       "                                                                              \n",
       "                                                                              \n",
       "\n",
       "              2                             2                     2           \n",
       "   ⎛d        ⎞         4    2    ⎛d        ⎞         4 ⎛d        ⎞         3  \n",
       "⋅r⋅⎜──(x⁰(s))⎟  + 4⋅a⋅r ⋅sin (θ)⋅⎜──(x³(s))⎟  + 4⋅a⋅r ⋅⎜──(x²(s))⎟  - 2⋅a⋅r ⋅─\n",
       "   ⎝ds       ⎠                   ⎝ds       ⎠           ⎝ds       ⎠            \n",
       "                                                                             d\n",
       "──────────────────────────────────────────────────────────────────────────────\n",
       "                                                        3                     \n",
       "                                                     2⋅r ⋅(a + r)             \n",
       "\n",
       " 2                          2                   2                           2 \n",
       "d              2 ⎛d        ⎞       2 ⎛d        ⎞       5    2    ⎛d        ⎞  \n",
       "──(x¹(s)) + a⋅r ⋅⎜──(x⁰(s))⎟  - a⋅r ⋅⎜──(x¹(s))⎟  + 2⋅r ⋅sin (θ)⋅⎜──(x³(s))⎟  \n",
       " 2               ⎝ds       ⎠         ⎝ds       ⎠                 ⎝ds       ⎠  \n",
       "s                                                                             \n",
       "──────────────────────────────────────────────────────────────────────────────\n",
       "                                                                              \n",
       "                                                                              \n",
       "\n",
       "                  2          2       ⎞ \n",
       "     5 ⎛d        ⎞       4  d        ⎟ \n",
       "+ 2⋅r ⋅⎜──(x²(s))⎟  - 2⋅r ⋅───(x¹(s))⎟ \n",
       "       ⎝ds       ⎠           2       ⎟ \n",
       "                           ds        ⎠ \n",
       "───────────────────────────────────────\n",
       "                                       \n",
       "                                       "
      ]
     },
     "execution_count": 6,
     "metadata": {},
     "output_type": "execute_result"
    }
   ],
   "source": [
    "Geodesic[1]"
   ]
  },
  {
   "cell_type": "code",
   "execution_count": 7,
   "metadata": {},
   "outputs": [
    {
     "data": {
      "image/png": "[encoded data removed]",
      "text/latex": [
       "$\\displaystyle \\frac{- r \\sin{\\left(\\theta \\right)} \\cos{\\left(\\theta \\right)} \\left(\\frac{d}{d s} \\operatorname{x^{3}}{\\left(s \\right)}\\right)^{2} + r \\frac{d^{2}}{d s^{2}} \\operatorname{x^{2}}{\\left(s \\right)} + 2 \\frac{d}{d s} \\operatorname{x^{1}}{\\left(s \\right)} \\frac{d}{d s} \\operatorname{x^{2}}{\\left(s \\right)}}{r}$"
      ],
      "text/plain": [
       "                             2       2                               \n",
       "                  ⎛d        ⎞       d             d         d        \n",
       "- r⋅sin(θ)⋅cos(θ)⋅⎜──(x³(s))⎟  + r⋅───(x²(s)) + 2⋅──(x¹(s))⋅──(x²(s))\n",
       "                  ⎝ds       ⎠        2            ds        ds       \n",
       "                                   ds                                \n",
       "─────────────────────────────────────────────────────────────────────\n",
       "                                  r                                  "
      ]
     },
     "execution_count": 7,
     "metadata": {},
     "output_type": "execute_result"
    }
   ],
   "source": [
    "Geodesic[2]"
   ]
  },
  {
   "cell_type": "code",
   "execution_count": 8,
   "metadata": {},
   "outputs": [
    {
     "data": {
      "image/png": "[encoded data removed]",
      "text/latex": [
       "$\\displaystyle \\frac{r \\sin{\\left(\\theta \\right)} \\frac{d^{2}}{d s^{2}} \\operatorname{x^{3}}{\\left(s \\right)} + 2 r \\cos{\\left(\\theta \\right)} \\frac{d}{d s} \\operatorname{x^{2}}{\\left(s \\right)} \\frac{d}{d s} \\operatorname{x^{3}}{\\left(s \\right)} + 2 \\sin{\\left(\\theta \\right)} \\frac{d}{d s} \\operatorname{x^{1}}{\\left(s \\right)} \\frac{d}{d s} \\operatorname{x^{3}}{\\left(s \\right)}}{r \\sin{\\left(\\theta \\right)}}$"
      ],
      "text/plain": [
       "           2                                                                  \n",
       "          d                      d         d                    d         d   \n",
       "r⋅sin(θ)⋅───(x³(s)) + 2⋅r⋅cos(θ)⋅──(x²(s))⋅──(x³(s)) + 2⋅sin(θ)⋅──(x¹(s))⋅──(x\n",
       "           2                     ds        ds                   ds        ds  \n",
       "         ds                                                                   \n",
       "──────────────────────────────────────────────────────────────────────────────\n",
       "                                      r⋅sin(θ)                                \n",
       "\n",
       "     \n",
       "     \n",
       "³(s))\n",
       "     \n",
       "     \n",
       "─────\n",
       "     "
      ]
     },
     "execution_count": 8,
     "metadata": {},
     "output_type": "execute_result"
    }
   ],
   "source": [
    "Geodesic[3]"
   ]
  },
  {
   "cell_type": "markdown",
   "metadata": {},
   "source": [
    "## Bianchi Identity\n",
    "\n",
    "Let us check the Bianchi identity $ \\nabla_\\eta R_{\\lambda \\mu \\nu \\kappa} + \\nabla_\\kappa R_{\\lambda \\mu \\eta \\nu} + \\nabla_\\nu R_{\\lambda \\mu \\kappa \\eta} = 0$"
   ]
  },
  {
   "cell_type": "code",
   "execution_count": 9,
   "metadata": {},
   "outputs": [
    {
     "data": {
      "text/latex": [
       "Riemann Tensor $R^{\\alpha}_{\\beta \\gamma \\delta}$"
      ],
      "text/plain": [
       "<IPython.core.display.Latex object>"
      ]
     },
     "metadata": {},
     "output_type": "display_data"
    },
    {
     "data": {
      "application/vnd.jupyter.widget-view+json": {
       "model_id": "d80dd31552dd44d1994716e97531ffc5",
       "version_major": 2,
       "version_minor": 0
      },
      "text/plain": [
       "  0%|          | 0/256 [00:00<?, ?it/s]"
      ]
     },
     "metadata": {},
     "output_type": "display_data"
    },
    {
     "data": {
      "application/vnd.jupyter.widget-view+json": {
       "model_id": "670eeee772e347d1afae4c318e9d92a7",
       "version_major": 2,
       "version_minor": 0
      },
      "text/plain": [
       "Riemann Tensor $R{_\\alpha}{_\\beta}{_\\gamma}{_\\delta}$:   0%|          | 0/256 [00:00<?, ?it/s]"
      ]
     },
     "metadata": {},
     "output_type": "display_data"
    },
    {
     "data": {
      "application/vnd.jupyter.widget-view+json": {
       "model_id": "c2623f715bba493fb5df21a61e379280",
       "version_major": 2,
       "version_minor": 0
      },
      "text/plain": [
       "Riemann Tensor $R{^\\alpha}{^\\beta}{_\\gamma}{_\\delta}$:   0%|          | 0/256 [00:00<?, ?it/s]"
      ]
     },
     "metadata": {},
     "output_type": "display_data"
    },
    {
     "data": {
      "application/vnd.jupyter.widget-view+json": {
       "model_id": "279dba81993847f494795c57b568b776",
       "version_major": 2,
       "version_minor": 0
      },
      "text/plain": [
       "Riemann Tensor $R{^\\alpha}{^\\beta}{^\\gamma}{_\\delta}$:   0%|          | 0/256 [00:00<?, ?it/s]"
      ]
     },
     "metadata": {},
     "output_type": "display_data"
    },
    {
     "data": {
      "application/vnd.jupyter.widget-view+json": {
       "model_id": "a00f7be16b0b4703aeac4b6e49811574",
       "version_major": 2,
       "version_minor": 0
      },
      "text/plain": [
       "Riemann Tensor $R{^\\alpha}{^\\beta}{^\\gamma}{^\\delta}$:   0%|          | 0/256 [00:00<?, ?it/s]"
      ]
     },
     "metadata": {},
     "output_type": "display_data"
    },
    {
     "data": {
      "application/vnd.jupyter.widget-view+json": {
       "model_id": "70eeb028484f445bbc49f13fbe09486e",
       "version_major": 2,
       "version_minor": 0
      },
      "text/plain": [
       "Riemann Tensor $R{^\\alpha}{^\\beta}{_\\gamma}{^\\delta}$:   0%|          | 0/256 [00:00<?, ?it/s]"
      ]
     },
     "metadata": {},
     "output_type": "display_data"
    },
    {
     "data": {
      "application/vnd.jupyter.widget-view+json": {
       "model_id": "ab9f20cab0634705bf4300f95f4e594a",
       "version_major": 2,
       "version_minor": 0
      },
      "text/plain": [
       "Riemann Tensor $R{^\\alpha}{_\\beta}{^\\gamma}{_\\delta}$:   0%|          | 0/256 [00:00<?, ?it/s]"
      ]
     },
     "metadata": {},
     "output_type": "display_data"
    },
    {
     "data": {
      "application/vnd.jupyter.widget-view+json": {
       "model_id": "7cf380e2963544c6a67065e9b6744cc3",
       "version_major": 2,
       "version_minor": 0
      },
      "text/plain": [
       "Riemann Tensor $R{^\\alpha}{_\\beta}{^\\gamma}{^\\delta}$:   0%|          | 0/256 [00:00<?, ?it/s]"
      ]
     },
     "metadata": {},
     "output_type": "display_data"
    },
    {
     "data": {
      "application/vnd.jupyter.widget-view+json": {
       "model_id": "90f884d925eb4267a38927810b7d8415",
       "version_major": 2,
       "version_minor": 0
      },
      "text/plain": [
       "Riemann Tensor $R{^\\alpha}{_\\beta}{_\\gamma}{^\\delta}$:   0%|          | 0/256 [00:00<?, ?it/s]"
      ]
     },
     "metadata": {},
     "output_type": "display_data"
    },
    {
     "data": {
      "application/vnd.jupyter.widget-view+json": {
       "model_id": "2bcf2dc616d5433d8719f020017d73cd",
       "version_major": 2,
       "version_minor": 0
      },
      "text/plain": [
       "Riemann Tensor $R{_\\alpha}{^\\beta}{_\\gamma}{_\\delta}$:   0%|          | 0/256 [00:00<?, ?it/s]"
      ]
     },
     "metadata": {},
     "output_type": "display_data"
    },
    {
     "data": {
      "application/vnd.jupyter.widget-view+json": {
       "model_id": "4935b0052cb44ac58ba074f4671a9dba",
       "version_major": 2,
       "version_minor": 0
      },
      "text/plain": [
       "Riemann Tensor $R{_\\alpha}{^\\beta}{^\\gamma}{_\\delta}$:   0%|          | 0/256 [00:00<?, ?it/s]"
      ]
     },
     "metadata": {},
     "output_type": "display_data"
    },
    {
     "data": {
      "application/vnd.jupyter.widget-view+json": {
       "model_id": "8f9fed00dda84a3e9d1278a5398237db",
       "version_major": 2,
       "version_minor": 0
      },
      "text/plain": [
       "Riemann Tensor $R{_\\alpha}{^\\beta}{^\\gamma}{^\\delta}$:   0%|          | 0/256 [00:00<?, ?it/s]"
      ]
     },
     "metadata": {},
     "output_type": "display_data"
    },
    {
     "data": {
      "application/vnd.jupyter.widget-view+json": {
       "model_id": "49a919041cdd4e949a32dd6ec387115d",
       "version_major": 2,
       "version_minor": 0
      },
      "text/plain": [
       "Riemann Tensor $R{_\\alpha}{^\\beta}{_\\gamma}{^\\delta}$:   0%|          | 0/256 [00:00<?, ?it/s]"
      ]
     },
     "metadata": {},
     "output_type": "display_data"
    },
    {
     "data": {
      "application/vnd.jupyter.widget-view+json": {
       "model_id": "22f5fc533a4f4b1ea28ba399bd37c2dc",
       "version_major": 2,
       "version_minor": 0
      },
      "text/plain": [
       "Riemann Tensor $R{_\\alpha}{_\\beta}{^\\gamma}{_\\delta}$:   0%|          | 0/256 [00:00<?, ?it/s]"
      ]
     },
     "metadata": {},
     "output_type": "display_data"
    },
    {
     "data": {
      "application/vnd.jupyter.widget-view+json": {
       "model_id": "d3759fe3188b4504b052d7c4a6cc9d26",
       "version_major": 2,
       "version_minor": 0
      },
      "text/plain": [
       "Riemann Tensor $R{_\\alpha}{_\\beta}{^\\gamma}{^\\delta}$:   0%|          | 0/256 [00:00<?, ?it/s]"
      ]
     },
     "metadata": {},
     "output_type": "display_data"
    },
    {
     "data": {
      "application/vnd.jupyter.widget-view+json": {
       "model_id": "5c705e7003cc45579eee1e731016cbce",
       "version_major": 2,
       "version_minor": 0
      },
      "text/plain": [
       "Riemann Tensor $R{_\\alpha}{_\\beta}{_\\gamma}{^\\delta}$:   0%|          | 0/256 [00:00<?, ?it/s]"
      ]
     },
     "metadata": {},
     "output_type": "display_data"
    },
    {
     "data": {
      "text/latex": [
       "All other indices of Riemann Tensor $R$  already calculated."
      ],
      "text/plain": [
       "<IPython.core.display.Latex object>"
      ]
     },
     "metadata": {},
     "output_type": "display_data"
    }
   ],
   "source": [
    "R = pt.riemann(All=True)"
   ]
  },
  {
   "cell_type": "code",
   "execution_count": 10,
   "metadata": {
    "scrolled": false
   },
   "outputs": [
    {
     "data": {
      "text/latex": [
       "$\\displaystyle {BI}{}_{0}\\,{}_{2}\\,{}_{0}\\,{}_{1}\\,{}_{2}\\, = - \\frac{a^{2} \\left(- \\frac{a}{r} - 1\\right)}{4 r^{2} \\left(a + r\\right)} - \\frac{a^{2}}{2 r^{3}} + \\frac{a^{2} \\left(a + r\\right)}{4 r^{4} \\left(\\frac{a}{r} + 1\\right)} + \\frac{a \\left(- a - r\\right) \\left(- \\frac{a}{r} - 1\\right)}{r^{2} \\left(a + r\\right)} + \\frac{a \\left(- \\frac{a}{r} - 1\\right)}{r^{2}}$"
      ],
      "text/plain": [
       "<IPython.core.display.Math object>"
      ]
     },
     "metadata": {},
     "output_type": "display_data"
    },
    {
     "data": {
      "text/latex": [
       "$\\displaystyle {BI}{}_{0}\\,{}_{2}\\,{}_{0}\\,{}_{2}\\,{}_{1}\\, = \\frac{a^{2} \\left(- \\frac{a}{r} - 1\\right)}{4 r^{2} \\left(a + r\\right)} + \\frac{a^{2}}{2 r^{3}} - \\frac{a^{2} \\left(a + r\\right)}{4 r^{4} \\left(\\frac{a}{r} + 1\\right)} - \\frac{a \\left(- a - r\\right) \\left(- \\frac{a}{r} - 1\\right)}{r^{2} \\left(a + r\\right)} - \\frac{a \\left(- \\frac{a}{r} - 1\\right)}{r^{2}}$"
      ],
      "text/plain": [
       "<IPython.core.display.Math object>"
      ]
     },
     "metadata": {},
     "output_type": "display_data"
    },
    {
     "data": {
      "text/latex": [
       "$\\displaystyle {BI}{}_{0}\\,{}_{2}\\,{}_{1}\\,{}_{0}\\,{}_{2}\\, = \\frac{a^{2} \\left(- \\frac{a}{r} - 1\\right)}{4 r^{2} \\left(a + r\\right)} + \\frac{a^{2}}{2 r^{3}} - \\frac{a^{2} \\left(a + r\\right)}{4 r^{4} \\left(\\frac{a}{r} + 1\\right)} - \\frac{a \\left(- a - r\\right) \\left(- \\frac{a}{r} - 1\\right)}{r^{2} \\left(a + r\\right)} - \\frac{a \\left(- \\frac{a}{r} - 1\\right)}{r^{2}}$"
      ],
      "text/plain": [
       "<IPython.core.display.Math object>"
      ]
     },
     "metadata": {},
     "output_type": "display_data"
    },
    {
     "data": {
      "text/latex": [
       "$\\displaystyle {BI}{}_{0}\\,{}_{2}\\,{}_{1}\\,{}_{2}\\,{}_{0}\\, = - \\frac{a^{2} \\left(- \\frac{a}{r} - 1\\right)}{4 r^{2} \\left(a + r\\right)} - \\frac{a^{2}}{2 r^{3}} + \\frac{a^{2} \\left(a + r\\right)}{4 r^{4} \\left(\\frac{a}{r} + 1\\right)} + \\frac{a \\left(- a - r\\right) \\left(- \\frac{a}{r} - 1\\right)}{r^{2} \\left(a + r\\right)} + \\frac{a \\left(- \\frac{a}{r} - 1\\right)}{r^{2}}$"
      ],
      "text/plain": [
       "<IPython.core.display.Math object>"
      ]
     },
     "metadata": {},
     "output_type": "display_data"
    },
    {
     "data": {
      "text/latex": [
       "$\\displaystyle {BI}{}_{0}\\,{}_{2}\\,{}_{2}\\,{}_{0}\\,{}_{1}\\, = - \\frac{a^{2} \\left(- \\frac{a}{r} - 1\\right)}{4 r^{2} \\left(a + r\\right)} - \\frac{a^{2}}{2 r^{3}} + \\frac{a^{2} \\left(a + r\\right)}{4 r^{4} \\left(\\frac{a}{r} + 1\\right)} + \\frac{a \\left(- a - r\\right) \\left(- \\frac{a}{r} - 1\\right)}{r^{2} \\left(a + r\\right)} + \\frac{a \\left(- \\frac{a}{r} - 1\\right)}{r^{2}}$"
      ],
      "text/plain": [
       "<IPython.core.display.Math object>"
      ]
     },
     "metadata": {},
     "output_type": "display_data"
    },
    {
     "data": {
      "text/latex": [
       "$\\displaystyle {BI}{}_{0}\\,{}_{2}\\,{}_{2}\\,{}_{1}\\,{}_{0}\\, = \\frac{a^{2} \\left(- \\frac{a}{r} - 1\\right)}{4 r^{2} \\left(a + r\\right)} + \\frac{a^{2}}{2 r^{3}} - \\frac{a^{2} \\left(a + r\\right)}{4 r^{4} \\left(\\frac{a}{r} + 1\\right)} - \\frac{a \\left(- a - r\\right) \\left(- \\frac{a}{r} - 1\\right)}{r^{2} \\left(a + r\\right)} - \\frac{a \\left(- \\frac{a}{r} - 1\\right)}{r^{2}}$"
      ],
      "text/plain": [
       "<IPython.core.display.Math object>"
      ]
     },
     "metadata": {},
     "output_type": "display_data"
    },
    {
     "data": {
      "text/latex": [
       "$\\displaystyle {BI}{}_{0}\\,{}_{3}\\,{}_{0}\\,{}_{1}\\,{}_{3}\\, = - \\frac{a^{2} \\left(- \\frac{a}{r} - 1\\right) \\sin^{2}{\\left(\\theta \\right)}}{4 r^{2} \\left(a + r\\right)} - \\frac{a^{2} \\sin^{2}{\\left(\\theta \\right)}}{2 r^{3}} + \\frac{a^{2} \\left(a + r\\right) \\sin^{2}{\\left(\\theta \\right)}}{4 r^{4} \\left(\\frac{a}{r} + 1\\right)}$"
      ],
      "text/plain": [
       "<IPython.core.display.Math object>"
      ]
     },
     "metadata": {},
     "output_type": "display_data"
    },
    {
     "data": {
      "text/latex": [
       "$\\displaystyle {BI}{}_{0}\\,{}_{3}\\,{}_{0}\\,{}_{3}\\,{}_{1}\\, = \\frac{a^{2} \\left(- \\frac{a}{r} - 1\\right) \\sin^{2}{\\left(\\theta \\right)}}{4 r^{2} \\left(a + r\\right)} + \\frac{a^{2} \\sin^{2}{\\left(\\theta \\right)}}{2 r^{3}} - \\frac{a^{2} \\left(a + r\\right) \\sin^{2}{\\left(\\theta \\right)}}{4 r^{4} \\left(\\frac{a}{r} + 1\\right)}$"
      ],
      "text/plain": [
       "<IPython.core.display.Math object>"
      ]
     },
     "metadata": {},
     "output_type": "display_data"
    },
    {
     "data": {
      "text/latex": [
       "$\\displaystyle {BI}{}_{0}\\,{}_{3}\\,{}_{1}\\,{}_{0}\\,{}_{3}\\, = \\frac{a^{2} \\left(- \\frac{a}{r} - 1\\right) \\sin^{2}{\\left(\\theta \\right)}}{4 r^{2} \\left(a + r\\right)} + \\frac{a^{2} \\sin^{2}{\\left(\\theta \\right)}}{2 r^{3}} - \\frac{a^{2} \\left(a + r\\right) \\sin^{2}{\\left(\\theta \\right)}}{4 r^{4} \\left(\\frac{a}{r} + 1\\right)}$"
      ],
      "text/plain": [
       "<IPython.core.display.Math object>"
      ]
     },
     "metadata": {},
     "output_type": "display_data"
    },
    {
     "data": {
      "text/latex": [
       "$\\displaystyle {BI}{}_{0}\\,{}_{3}\\,{}_{1}\\,{}_{3}\\,{}_{0}\\, = - \\frac{a^{2} \\left(- \\frac{a}{r} - 1\\right) \\sin^{2}{\\left(\\theta \\right)}}{4 r^{2} \\left(a + r\\right)} - \\frac{a^{2} \\sin^{2}{\\left(\\theta \\right)}}{2 r^{3}} + \\frac{a^{2} \\left(a + r\\right) \\sin^{2}{\\left(\\theta \\right)}}{4 r^{4} \\left(\\frac{a}{r} + 1\\right)}$"
      ],
      "text/plain": [
       "<IPython.core.display.Math object>"
      ]
     },
     "metadata": {},
     "output_type": "display_data"
    },
    {
     "data": {
      "text/latex": [
       "$\\displaystyle {BI}{}_{0}\\,{}_{3}\\,{}_{3}\\,{}_{0}\\,{}_{1}\\, = - \\frac{a^{2} \\left(- \\frac{a}{r} - 1\\right) \\sin^{2}{\\left(\\theta \\right)}}{4 r^{2} \\left(a + r\\right)} - \\frac{a^{2} \\sin^{2}{\\left(\\theta \\right)}}{2 r^{3}} + \\frac{a^{2} \\left(a + r\\right) \\sin^{2}{\\left(\\theta \\right)}}{4 r^{4} \\left(\\frac{a}{r} + 1\\right)}$"
      ],
      "text/plain": [
       "<IPython.core.display.Math object>"
      ]
     },
     "metadata": {},
     "output_type": "display_data"
    },
    {
     "data": {
      "text/latex": [
       "$\\displaystyle {BI}{}_{0}\\,{}_{3}\\,{}_{3}\\,{}_{1}\\,{}_{0}\\, = \\frac{a^{2} \\left(- \\frac{a}{r} - 1\\right) \\sin^{2}{\\left(\\theta \\right)}}{4 r^{2} \\left(a + r\\right)} + \\frac{a^{2} \\sin^{2}{\\left(\\theta \\right)}}{2 r^{3}} - \\frac{a^{2} \\left(a + r\\right) \\sin^{2}{\\left(\\theta \\right)}}{4 r^{4} \\left(\\frac{a}{r} + 1\\right)}$"
      ],
      "text/plain": [
       "<IPython.core.display.Math object>"
      ]
     },
     "metadata": {},
     "output_type": "display_data"
    },
    {
     "data": {
      "text/latex": [
       "$\\displaystyle {BI}{}_{2}\\,{}_{0}\\,{}_{0}\\,{}_{1}\\,{}_{2}\\, = - \\frac{a^{2}}{2 r^{3}} - \\frac{a}{2 r^{2}} + \\frac{3 a \\left(a + r\\right)}{2 r^{3}} + \\frac{a \\left(- a - r\\right) \\left(a + r\\right)}{r^{4} \\left(\\frac{a}{r} + 1\\right)}$"
      ],
      "text/plain": [
       "<IPython.core.display.Math object>"
      ]
     },
     "metadata": {},
     "output_type": "display_data"
    },
    {
     "data": {
      "text/latex": [
       "$\\displaystyle {BI}{}_{2}\\,{}_{0}\\,{}_{0}\\,{}_{2}\\,{}_{1}\\, = \\frac{a^{2}}{2 r^{3}} + \\frac{a}{2 r^{2}} - \\frac{3 a \\left(a + r\\right)}{2 r^{3}} - \\frac{a \\left(- a - r\\right) \\left(a + r\\right)}{r^{4} \\left(\\frac{a}{r} + 1\\right)}$"
      ],
      "text/plain": [
       "<IPython.core.display.Math object>"
      ]
     },
     "metadata": {},
     "output_type": "display_data"
    },
    {
     "data": {
      "text/latex": [
       "$\\displaystyle {BI}{}_{2}\\,{}_{0}\\,{}_{1}\\,{}_{0}\\,{}_{2}\\, = \\frac{a^{2}}{2 r^{3}} + \\frac{a}{2 r^{2}} - \\frac{3 a \\left(a + r\\right)}{2 r^{3}} - \\frac{a \\left(- a - r\\right) \\left(a + r\\right)}{r^{4} \\left(\\frac{a}{r} + 1\\right)}$"
      ],
      "text/plain": [
       "<IPython.core.display.Math object>"
      ]
     },
     "metadata": {},
     "output_type": "display_data"
    },
    {
     "data": {
      "text/latex": [
       "$\\displaystyle {BI}{}_{2}\\,{}_{0}\\,{}_{1}\\,{}_{2}\\,{}_{0}\\, = - \\frac{a^{2}}{2 r^{3}} - \\frac{a}{2 r^{2}} + \\frac{3 a \\left(a + r\\right)}{2 r^{3}} + \\frac{a \\left(- a - r\\right) \\left(a + r\\right)}{r^{4} \\left(\\frac{a}{r} + 1\\right)}$"
      ],
      "text/plain": [
       "<IPython.core.display.Math object>"
      ]
     },
     "metadata": {},
     "output_type": "display_data"
    },
    {
     "data": {
      "text/latex": [
       "$\\displaystyle {BI}{}_{2}\\,{}_{0}\\,{}_{2}\\,{}_{0}\\,{}_{1}\\, = - \\frac{a^{2}}{2 r^{3}} - \\frac{a}{2 r^{2}} + \\frac{3 a \\left(a + r\\right)}{2 r^{3}} + \\frac{a \\left(- a - r\\right) \\left(a + r\\right)}{r^{4} \\left(\\frac{a}{r} + 1\\right)}$"
      ],
      "text/plain": [
       "<IPython.core.display.Math object>"
      ]
     },
     "metadata": {},
     "output_type": "display_data"
    },
    {
     "data": {
      "text/latex": [
       "$\\displaystyle {BI}{}_{2}\\,{}_{0}\\,{}_{2}\\,{}_{1}\\,{}_{0}\\, = \\frac{a^{2}}{2 r^{3}} + \\frac{a}{2 r^{2}} - \\frac{3 a \\left(a + r\\right)}{2 r^{3}} - \\frac{a \\left(- a - r\\right) \\left(a + r\\right)}{r^{4} \\left(\\frac{a}{r} + 1\\right)}$"
      ],
      "text/plain": [
       "<IPython.core.display.Math object>"
      ]
     },
     "metadata": {},
     "output_type": "display_data"
    },
    {
     "data": {
      "text/latex": [
       "$\\displaystyle {BI}{}_{2}\\,{}_{3}\\,{}_{1}\\,{}_{2}\\,{}_{3}\\, = \\frac{a \\sin^{2}{\\left(\\theta \\right)}}{2} + \\frac{a \\left(- a - r\\right) \\sin^{2}{\\left(\\theta \\right)}}{2 r \\left(\\frac{a}{r} + 1\\right)}$"
      ],
      "text/plain": [
       "<IPython.core.display.Math object>"
      ]
     },
     "metadata": {},
     "output_type": "display_data"
    },
    {
     "data": {
      "text/latex": [
       "$\\displaystyle {BI}{}_{2}\\,{}_{3}\\,{}_{1}\\,{}_{3}\\,{}_{2}\\, = - \\frac{a \\sin^{2}{\\left(\\theta \\right)}}{2} - \\frac{a \\left(- a - r\\right) \\sin^{2}{\\left(\\theta \\right)}}{2 r \\left(\\frac{a}{r} + 1\\right)}$"
      ],
      "text/plain": [
       "<IPython.core.display.Math object>"
      ]
     },
     "metadata": {},
     "output_type": "display_data"
    },
    {
     "data": {
      "text/latex": [
       "$\\displaystyle {BI}{}_{2}\\,{}_{3}\\,{}_{2}\\,{}_{1}\\,{}_{3}\\, = - \\frac{a \\sin^{2}{\\left(\\theta \\right)}}{2} - \\frac{a \\left(- a - r\\right) \\sin^{2}{\\left(\\theta \\right)}}{2 r \\left(\\frac{a}{r} + 1\\right)}$"
      ],
      "text/plain": [
       "<IPython.core.display.Math object>"
      ]
     },
     "metadata": {},
     "output_type": "display_data"
    },
    {
     "data": {
      "text/latex": [
       "$\\displaystyle {BI}{}_{2}\\,{}_{3}\\,{}_{2}\\,{}_{3}\\,{}_{1}\\, = \\frac{a \\sin^{2}{\\left(\\theta \\right)}}{2} + \\frac{a \\left(- a - r\\right) \\sin^{2}{\\left(\\theta \\right)}}{2 r \\left(\\frac{a}{r} + 1\\right)}$"
      ],
      "text/plain": [
       "<IPython.core.display.Math object>"
      ]
     },
     "metadata": {},
     "output_type": "display_data"
    },
    {
     "data": {
      "text/latex": [
       "$\\displaystyle {BI}{}_{2}\\,{}_{3}\\,{}_{3}\\,{}_{1}\\,{}_{2}\\, = \\frac{a \\sin^{2}{\\left(\\theta \\right)}}{2} + \\frac{a \\left(- a - r\\right) \\sin^{2}{\\left(\\theta \\right)}}{2 r \\left(\\frac{a}{r} + 1\\right)}$"
      ],
      "text/plain": [
       "<IPython.core.display.Math object>"
      ]
     },
     "metadata": {},
     "output_type": "display_data"
    },
    {
     "data": {
      "text/latex": [
       "$\\displaystyle {BI}{}_{2}\\,{}_{3}\\,{}_{3}\\,{}_{2}\\,{}_{1}\\, = - \\frac{a \\sin^{2}{\\left(\\theta \\right)}}{2} - \\frac{a \\left(- a - r\\right) \\sin^{2}{\\left(\\theta \\right)}}{2 r \\left(\\frac{a}{r} + 1\\right)}$"
      ],
      "text/plain": [
       "<IPython.core.display.Math object>"
      ]
     },
     "metadata": {},
     "output_type": "display_data"
    },
    {
     "data": {
      "text/latex": [
       "$\\displaystyle {BI}{}_{3}\\,{}_{0}\\,{}_{0}\\,{}_{1}\\,{}_{3}\\, = - \\frac{a^{2} \\sin^{2}{\\left(\\theta \\right)}}{2 r^{3}} - \\frac{a \\sin^{2}{\\left(\\theta \\right)}}{2 r^{2}} + \\frac{3 a \\left(a + r\\right) \\sin^{2}{\\left(\\theta \\right)}}{2 r^{3}} - \\frac{a \\left(a + r\\right)^{2} \\sin^{2}{\\left(\\theta \\right)}}{r^{4} \\left(\\frac{a}{r} + 1\\right)}$"
      ],
      "text/plain": [
       "<IPython.core.display.Math object>"
      ]
     },
     "metadata": {},
     "output_type": "display_data"
    },
    {
     "data": {
      "text/latex": [
       "$\\displaystyle {BI}{}_{3}\\,{}_{0}\\,{}_{0}\\,{}_{3}\\,{}_{1}\\, = \\frac{a^{2} \\sin^{2}{\\left(\\theta \\right)}}{2 r^{3}} + \\frac{a \\sin^{2}{\\left(\\theta \\right)}}{2 r^{2}} - \\frac{3 a \\left(a + r\\right) \\sin^{2}{\\left(\\theta \\right)}}{2 r^{3}} + \\frac{a \\left(a + r\\right)^{2} \\sin^{2}{\\left(\\theta \\right)}}{r^{4} \\left(\\frac{a}{r} + 1\\right)}$"
      ],
      "text/plain": [
       "<IPython.core.display.Math object>"
      ]
     },
     "metadata": {},
     "output_type": "display_data"
    },
    {
     "data": {
      "text/latex": [
       "$\\displaystyle {BI}{}_{3}\\,{}_{0}\\,{}_{1}\\,{}_{0}\\,{}_{3}\\, = \\frac{a^{2} \\sin^{2}{\\left(\\theta \\right)}}{2 r^{3}} + \\frac{a \\sin^{2}{\\left(\\theta \\right)}}{2 r^{2}} - \\frac{3 a \\left(a + r\\right) \\sin^{2}{\\left(\\theta \\right)}}{2 r^{3}} + \\frac{a \\left(a + r\\right)^{2} \\sin^{2}{\\left(\\theta \\right)}}{r^{4} \\left(\\frac{a}{r} + 1\\right)}$"
      ],
      "text/plain": [
       "<IPython.core.display.Math object>"
      ]
     },
     "metadata": {},
     "output_type": "display_data"
    },
    {
     "data": {
      "text/latex": [
       "$\\displaystyle {BI}{}_{3}\\,{}_{0}\\,{}_{1}\\,{}_{3}\\,{}_{0}\\, = - \\frac{a^{2} \\sin^{2}{\\left(\\theta \\right)}}{2 r^{3}} - \\frac{a \\sin^{2}{\\left(\\theta \\right)}}{2 r^{2}} + \\frac{3 a \\left(a + r\\right) \\sin^{2}{\\left(\\theta \\right)}}{2 r^{3}} - \\frac{a \\left(a + r\\right)^{2} \\sin^{2}{\\left(\\theta \\right)}}{r^{4} \\left(\\frac{a}{r} + 1\\right)}$"
      ],
      "text/plain": [
       "<IPython.core.display.Math object>"
      ]
     },
     "metadata": {},
     "output_type": "display_data"
    },
    {
     "data": {
      "text/latex": [
       "$\\displaystyle {BI}{}_{3}\\,{}_{0}\\,{}_{3}\\,{}_{0}\\,{}_{1}\\, = - \\frac{a^{2} \\sin^{2}{\\left(\\theta \\right)}}{2 r^{3}} - \\frac{a \\sin^{2}{\\left(\\theta \\right)}}{2 r^{2}} + \\frac{3 a \\left(a + r\\right) \\sin^{2}{\\left(\\theta \\right)}}{2 r^{3}} - \\frac{a \\left(a + r\\right)^{2} \\sin^{2}{\\left(\\theta \\right)}}{r^{4} \\left(\\frac{a}{r} + 1\\right)}$"
      ],
      "text/plain": [
       "<IPython.core.display.Math object>"
      ]
     },
     "metadata": {},
     "output_type": "display_data"
    },
    {
     "data": {
      "text/latex": [
       "$\\displaystyle {BI}{}_{3}\\,{}_{0}\\,{}_{3}\\,{}_{1}\\,{}_{0}\\, = \\frac{a^{2} \\sin^{2}{\\left(\\theta \\right)}}{2 r^{3}} + \\frac{a \\sin^{2}{\\left(\\theta \\right)}}{2 r^{2}} - \\frac{3 a \\left(a + r\\right) \\sin^{2}{\\left(\\theta \\right)}}{2 r^{3}} + \\frac{a \\left(a + r\\right)^{2} \\sin^{2}{\\left(\\theta \\right)}}{r^{4} \\left(\\frac{a}{r} + 1\\right)}$"
      ],
      "text/plain": [
       "<IPython.core.display.Math object>"
      ]
     },
     "metadata": {},
     "output_type": "display_data"
    },
    {
     "data": {
      "text/latex": [
       "$\\displaystyle {BI}{}_{3}\\,{}_{2}\\,{}_{1}\\,{}_{2}\\,{}_{3}\\, = - \\frac{a \\left(- a - r\\right) \\sin^{2}{\\left(\\theta \\right)}}{2 \\left(a + r\\right)} - a \\sin^{2}{\\left(\\theta \\right)} + \\frac{a \\left(a + r\\right) \\sin^{2}{\\left(\\theta \\right)}}{2 r \\left(\\frac{a}{r} + 1\\right)}$"
      ],
      "text/plain": [
       "<IPython.core.display.Math object>"
      ]
     },
     "metadata": {},
     "output_type": "display_data"
    },
    {
     "data": {
      "text/latex": [
       "$\\displaystyle {BI}{}_{3}\\,{}_{2}\\,{}_{1}\\,{}_{3}\\,{}_{2}\\, = \\frac{a \\left(- a - r\\right) \\sin^{2}{\\left(\\theta \\right)}}{2 \\left(a + r\\right)} + a \\sin^{2}{\\left(\\theta \\right)} - \\frac{a \\left(a + r\\right) \\sin^{2}{\\left(\\theta \\right)}}{2 r \\left(\\frac{a}{r} + 1\\right)}$"
      ],
      "text/plain": [
       "<IPython.core.display.Math object>"
      ]
     },
     "metadata": {},
     "output_type": "display_data"
    },
    {
     "data": {
      "text/latex": [
       "$\\displaystyle {BI}{}_{3}\\,{}_{2}\\,{}_{2}\\,{}_{1}\\,{}_{3}\\, = \\frac{a \\left(- a - r\\right) \\sin^{2}{\\left(\\theta \\right)}}{2 \\left(a + r\\right)} + a \\sin^{2}{\\left(\\theta \\right)} - \\frac{a \\left(a + r\\right) \\sin^{2}{\\left(\\theta \\right)}}{2 r \\left(\\frac{a}{r} + 1\\right)}$"
      ],
      "text/plain": [
       "<IPython.core.display.Math object>"
      ]
     },
     "metadata": {},
     "output_type": "display_data"
    },
    {
     "data": {
      "text/latex": [
       "$\\displaystyle {BI}{}_{3}\\,{}_{2}\\,{}_{2}\\,{}_{3}\\,{}_{1}\\, = - \\frac{a \\left(- a - r\\right) \\sin^{2}{\\left(\\theta \\right)}}{2 \\left(a + r\\right)} - a \\sin^{2}{\\left(\\theta \\right)} + \\frac{a \\left(a + r\\right) \\sin^{2}{\\left(\\theta \\right)}}{2 r \\left(\\frac{a}{r} + 1\\right)}$"
      ],
      "text/plain": [
       "<IPython.core.display.Math object>"
      ]
     },
     "metadata": {},
     "output_type": "display_data"
    },
    {
     "data": {
      "text/latex": [
       "$\\displaystyle {BI}{}_{3}\\,{}_{2}\\,{}_{3}\\,{}_{1}\\,{}_{2}\\, = - \\frac{a \\left(- a - r\\right) \\sin^{2}{\\left(\\theta \\right)}}{2 \\left(a + r\\right)} - a \\sin^{2}{\\left(\\theta \\right)} + \\frac{a \\left(a + r\\right) \\sin^{2}{\\left(\\theta \\right)}}{2 r \\left(\\frac{a}{r} + 1\\right)}$"
      ],
      "text/plain": [
       "<IPython.core.display.Math object>"
      ]
     },
     "metadata": {},
     "output_type": "display_data"
    },
    {
     "data": {
      "text/latex": [
       "$\\displaystyle {BI}{}_{3}\\,{}_{2}\\,{}_{3}\\,{}_{2}\\,{}_{1}\\, = \\frac{a \\left(- a - r\\right) \\sin^{2}{\\left(\\theta \\right)}}{2 \\left(a + r\\right)} + a \\sin^{2}{\\left(\\theta \\right)} - \\frac{a \\left(a + r\\right) \\sin^{2}{\\left(\\theta \\right)}}{2 r \\left(\\frac{a}{r} + 1\\right)}$"
      ],
      "text/plain": [
       "<IPython.core.display.Math object>"
      ]
     },
     "metadata": {},
     "output_type": "display_data"
    }
   ],
   "source": [
    "BI_dat = pt.C(R('_l,_m,_n,_k'),'_e') + pt.C(R('_l,_m,_e,_n'),'_k') + pt.C(R('_l,_m,_k,_e'),'_n')\n",
    "\n",
    "BI = pt.ten('BI',5)\n",
    "\n",
    "BI.assign(BI_dat,'_l,_m,_n,_k,_e')\n",
    "\n",
    "BI.display()"
   ]
  },
  {
   "cell_type": "markdown",
   "metadata": {},
   "source": [
    "Sometimes it is important to simplify the expression using the simplify method, since the code runs few simplifications in order to achieve better execution times."
   ]
  },
  {
   "cell_type": "code",
   "execution_count": 11,
   "metadata": {},
   "outputs": [
    {
     "name": "stdout",
     "output_type": "stream",
     "text": [
      "All components are zero\n"
     ]
    }
   ],
   "source": [
    "BI.simplify()\n",
    "\n",
    "BI.display()"
   ]
  },
  {
   "cell_type": "markdown",
   "metadata": {},
   "source": [
    "## Kretschmann Scalar"
   ]
  },
  {
   "cell_type": "code",
   "execution_count": 12,
   "metadata": {},
   "outputs": [],
   "source": [
    "Kr_scalar = R('^l,^m,^n,^k')*R('_l,_m,_n,_k')"
   ]
  },
  {
   "cell_type": "code",
   "execution_count": 13,
   "metadata": {},
   "outputs": [
    {
     "data": {
      "image/png": "[encoded data removed]",
      "text/latex": [
       "$\\displaystyle \\frac{12 a^{2}}{r^{6}}$"
      ],
      "text/plain": [
       "    2\n",
       "12⋅a \n",
       "─────\n",
       "   6 \n",
       "  r  "
      ]
     },
     "execution_count": 13,
     "metadata": {},
     "output_type": "execute_result"
    }
   ],
   "source": [
    "Kr_scalar.simplify()"
   ]
  },
  {
   "cell_type": "markdown",
   "metadata": {},
   "source": [
    "In the way we defined the metric, we used $a=-2GM$ and $c=1$, then\n",
    "\n",
    "$$ K = \\frac{48G^2M^2}{r^6}$$"
   ]
  },
  {
   "cell_type": "code",
   "execution_count": null,
   "metadata": {},
   "outputs": [],
   "source": []
  }
 ],
 "metadata": {
  "kernelspec": {
   "display_name": "Python 3",
   "language": "python",
   "name": "python3"
  },
  "language_info": {
   "codemirror_mode": {
    "name": "ipython",
    "version": 3
   },
   "file_extension": ".py",
   "mimetype": "text/x-python",
   "name": "python",
   "nbconvert_exporter": "python",
   "pygments_lexer": "ipython3",
   "version": "3.8.2"
  }
 },
 "nbformat": 4,
 "nbformat_minor": 2
}
