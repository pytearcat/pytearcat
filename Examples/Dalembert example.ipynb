{
 "cells": [
  {
   "cell_type": "code",
   "execution_count": 2,
   "id": "ffc58a13",
   "metadata": {},
   "outputs": [],
   "source": [
    "import pytearcat as pt"
   ]
  },
  {
   "cell_type": "code",
   "execution_count": 3,
   "id": "d9b77e28",
   "metadata": {},
   "outputs": [
    {
     "name": "stdout",
     "output_type": "stream",
     "text": [
      "Remember that the time coordinate must be the first coordinate.\n",
      "\n",
      "Dimension = 4\n",
      "Coordinates = t,r,theta,phi\n",
      "Metric defined successfully: \n",
      "\n"
     ]
    },
    {
     "data": {
      "text/latex": [
       "$\\displaystyle ds^2 = -1 \\cdot dt^2+a^{2}{\\left(t \\right)} \\cdot dr^2+r^{2} a^{2}{\\left(t \\right)} \\cdot d\\theta^2+r^{2} a^{2}{\\left(t \\right)} \\sin^{2}{\\left(\\theta \\right)} \\cdot d\\phi^2$"
      ],
      "text/plain": [
       "<IPython.core.display.Math object>"
      ]
     },
     "metadata": {},
     "output_type": "display_data"
    },
    {
     "data": {
      "text/latex": [
       "$\\displaystyle \\left[\\begin{matrix}-1 & 0 & 0 & 0\\\\0 & a^{2}{\\left(t \\right)} & 0 & 0\\\\0 & 0 & r^{2} a^{2}{\\left(t \\right)} & 0\\\\0 & 0 & 0 & r^{2} a^{2}{\\left(t \\right)} \\sin^{2}{\\left(\\theta \\right)}\\end{matrix}\\right]$"
      ],
      "text/plain": [
       "Matrix([\n",
       "[-1,       0,            0,                          0],\n",
       "[ 0, a(t)**2,            0,                          0],\n",
       "[ 0,       0, r**2*a(t)**2,                          0],\n",
       "[ 0,       0,            0, r**2*a(t)**2*sin(theta)**2]])"
      ]
     },
     "metadata": {},
     "output_type": "display_data"
    }
   ],
   "source": [
    "t,r,theta,phi = pt.coords('t,r,theta,phi')\n",
    "\n",
    "a = pt.fun('a','t')\n",
    "\n",
    "ds = 'ds2 = -dt**2 + a**2*(dr**2 + r**2*dtheta**2 + r**2*sin(theta)**2*dphi**2)'\n",
    "\n",
    "g = pt.metric(ds)"
   ]
  },
  {
   "cell_type": "code",
   "execution_count": 4,
   "id": "5db8270b",
   "metadata": {},
   "outputs": [
    {
     "data": {
      "text/latex": [
       "$\\displaystyle f{\\left(t,r,\\theta,\\phi \\right)}$"
      ],
      "text/plain": [
       "f(t, r, theta, phi)"
      ]
     },
     "execution_count": 4,
     "metadata": {},
     "output_type": "execute_result"
    }
   ],
   "source": [
    "# we define an abstract function f(t,r,theta,phi)\n",
    "f = pt.fun('f','t,r,theta,phi')\n",
    "f"
   ]
  },
  {
   "cell_type": "code",
   "execution_count": 5,
   "id": "41cda962",
   "metadata": {},
   "outputs": [
    {
     "data": {
      "text/latex": [
       "Christoffel $\\Gamma_{\\alpha \\beta \\gamma}$ and $\\Gamma^{\\alpha}_{\\beta \\gamma}$"
      ],
      "text/plain": [
       "<IPython.core.display.Latex object>"
      ]
     },
     "metadata": {},
     "output_type": "display_data"
    },
    {
     "data": {
      "application/vnd.jupyter.widget-view+json": {
       "model_id": "a43d66ce52064f31bbcca679449a714b",
       "version_major": 2,
       "version_minor": 0
      },
      "text/plain": [
       "  0%|          | 0/64 [00:00<?, ?it/s]"
      ]
     },
     "metadata": {},
     "output_type": "display_data"
    },
    {
     "data": {
      "text/plain": [
       "Christoffel tensor defined"
      ]
     },
     "execution_count": 5,
     "metadata": {},
     "output_type": "execute_result"
    }
   ],
   "source": [
    "pt.christoffel()"
   ]
  },
  {
   "cell_type": "markdown",
   "id": "dbd65fb9",
   "metadata": {},
   "source": [
    "#### The Dalambert operator is: \n",
    "\n",
    "#### $$g^{ij} \\times \\nabla_i ( \\nabla_j (f) )$$\n",
    "\n",
    "#### We now that $\\nabla_i f  = \\frac{d}{dx^i} f$, because the covariant derivative of a scalar field is the same as the partial derivative of $f$. Then, we have that\n",
    "\n",
    "#### $$g^{ij} \\times \\nabla_i ( \\nabla_j (f) ) = g^{ij} \\times \\nabla_i ( \\frac{d}{dx^j} f )$$\n",
    "\n",
    "#### We demonstrate this by calculating the right and left sides of the equation to compare them."
   ]
  },
  {
   "cell_type": "markdown",
   "id": "64441140",
   "metadata": {},
   "source": [
    "### 1. $g^{ij} \\times \\nabla_i ( \\frac{d}{dx^j} f )$"
   ]
  },
  {
   "cell_type": "code",
   "execution_count": 8,
   "id": "c0bd6105",
   "metadata": {},
   "outputs": [
    {
     "data": {
      "text/latex": [
       "$\\displaystyle \\frac{- r^{2} a^{2}{\\left(t \\right)} \\frac{\\partial^{2}}{\\partial t^{2}} f{\\left(t,r,\\theta,\\phi \\right)} - 3 r^{2} a{\\left(t \\right)} \\frac{d}{d t} a{\\left(t \\right)} \\frac{\\partial}{\\partial t} f{\\left(t,r,\\theta,\\phi \\right)} + r^{2} \\frac{\\partial^{2}}{\\partial r^{2}} f{\\left(t,r,\\theta,\\phi \\right)} + 2 r \\frac{\\partial}{\\partial r} f{\\left(t,r,\\theta,\\phi \\right)} + \\frac{\\partial^{2}}{\\partial \\theta^{2}} f{\\left(t,r,\\theta,\\phi \\right)} + \\frac{\\frac{\\partial}{\\partial \\theta} f{\\left(t,r,\\theta,\\phi \\right)}}{\\tan{\\left(\\theta \\right)}} + \\frac{\\frac{\\partial^{2}}{\\partial \\phi^{2}} f{\\left(t,r,\\theta,\\phi \\right)}}{\\sin^{2}{\\left(\\theta \\right)}}}{r^{2} a^{2}{\\left(t \\right)}}$"
      ],
      "text/plain": [
       "(-r**2*a(t)**2*Derivative(f(t, r, theta, phi), (t, 2)) - 3*r**2*a(t)*Derivative(a(t), t)*Derivative(f(t, r, theta, phi), t) + r**2*Derivative(f(t, r, theta, phi), (r, 2)) + 2*r*Derivative(f(t, r, theta, phi), r) + Derivative(f(t, r, theta, phi), (theta, 2)) + Derivative(f(t, r, theta, phi), theta)/tan(theta) + Derivative(f(t, r, theta, phi), (phi, 2))/sin(theta)**2)/(r**2*a(t)**2)"
      ]
     },
     "execution_count": 8,
     "metadata": {},
     "output_type": "execute_result"
    }
   ],
   "source": [
    "A = pt.simplify(g(\"^i,^j\")*pt.C(pt.D(f,\"_j\"),\"_i\"))\n",
    "A"
   ]
  },
  {
   "cell_type": "markdown",
   "id": "a8a9aaff",
   "metadata": {},
   "source": [
    "### 2. $g^{ij} \\times \\nabla_i ( \\nabla_j (f) )$"
   ]
  },
  {
   "cell_type": "code",
   "execution_count": 9,
   "id": "9491836a",
   "metadata": {},
   "outputs": [
    {
     "data": {
      "text/latex": [
       "$\\displaystyle \\frac{- r^{2} a^{2}{\\left(t \\right)} \\frac{\\partial^{2}}{\\partial t^{2}} f{\\left(t,r,\\theta,\\phi \\right)} - 3 r^{2} a{\\left(t \\right)} \\frac{d}{d t} a{\\left(t \\right)} \\frac{\\partial}{\\partial t} f{\\left(t,r,\\theta,\\phi \\right)} + r^{2} \\frac{\\partial^{2}}{\\partial r^{2}} f{\\left(t,r,\\theta,\\phi \\right)} + 2 r \\frac{\\partial}{\\partial r} f{\\left(t,r,\\theta,\\phi \\right)} + \\frac{\\partial^{2}}{\\partial \\theta^{2}} f{\\left(t,r,\\theta,\\phi \\right)} + \\frac{\\frac{\\partial}{\\partial \\theta} f{\\left(t,r,\\theta,\\phi \\right)}}{\\tan{\\left(\\theta \\right)}} + \\frac{\\frac{\\partial^{2}}{\\partial \\phi^{2}} f{\\left(t,r,\\theta,\\phi \\right)}}{\\sin^{2}{\\left(\\theta \\right)}}}{r^{2} a^{2}{\\left(t \\right)}}$"
      ],
      "text/plain": [
       "(-r**2*a(t)**2*Derivative(f(t, r, theta, phi), (t, 2)) - 3*r**2*a(t)*Derivative(a(t), t)*Derivative(f(t, r, theta, phi), t) + r**2*Derivative(f(t, r, theta, phi), (r, 2)) + 2*r*Derivative(f(t, r, theta, phi), r) + Derivative(f(t, r, theta, phi), (theta, 2)) + Derivative(f(t, r, theta, phi), theta)/tan(theta) + Derivative(f(t, r, theta, phi), (phi, 2))/sin(theta)**2)/(r**2*a(t)**2)"
      ]
     },
     "execution_count": 9,
     "metadata": {},
     "output_type": "execute_result"
    }
   ],
   "source": [
    "# metric x covariant derivative of covariant derivative of f:\n",
    "B = pt.simplify(g(\"^i,^j\")*pt.C(pt.C(f,\"_j\"),\"_i\"))\n",
    "B"
   ]
  },
  {
   "cell_type": "code",
   "execution_count": 10,
   "id": "89e0c28a",
   "metadata": {},
   "outputs": [
    {
     "data": {
      "text/plain": [
       "True"
      ]
     },
     "execution_count": 10,
     "metadata": {},
     "output_type": "execute_result"
    }
   ],
   "source": [
    "A == B"
   ]
  },
  {
   "cell_type": "markdown",
   "id": "3d08518c",
   "metadata": {},
   "source": [
    "#### these results are the same!"
   ]
  }
 ],
 "metadata": {
  "kernelspec": {
   "display_name": "Python 3",
   "language": "python",
   "name": "python3"
  },
  "language_info": {
   "codemirror_mode": {
    "name": "ipython",
    "version": 3
   },
   "file_extension": ".py",
   "mimetype": "text/x-python",
   "name": "python",
   "nbconvert_exporter": "python",
   "pygments_lexer": "ipython3",
   "version": "3.8.2"
  }
 },
 "nbformat": 4,
 "nbformat_minor": 5
}
