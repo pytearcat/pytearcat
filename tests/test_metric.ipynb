{
 "cells": [
  {
   "cell_type": "code",
   "execution_count": null,
   "metadata": {},
   "outputs": [],
   "source": [
    "import pytearcat as pt\n",
    "from itertools import product"
   ]
  },
  {
   "cell_type": "code",
   "execution_count": null,
   "metadata": {},
   "outputs": [],
   "source": [
    "t,x,y,z = pt.coords('t,x,y,z')\n",
    "g = pt.metric('ds2 = -dt**2 + dx**2 + dy**2 + dz**2')\n",
    "    \n",
    "pt.christoffel()\n",
    "\n",
    "Cov = pt.C(g(\"_a,_b\"), \"_c\")\n",
    "\n",
    "for i,j,k in product(range(4), repeat=3):\n",
    "\n",
    "    assert Cov.elements[i][j][k] == 0, \"The covariant derivative of the metric should be zero.\""
   ]
  },
  {
   "cell_type": "code",
   "execution_count": null,
   "metadata": {},
   "outputs": [],
   "source": []
  }
 ],
 "metadata": {
  "kernelspec": {
   "display_name": "pytearcat-dev",
   "language": "python",
   "name": "python3"
  },
  "language_info": {
   "codemirror_mode": {
    "name": "ipython",
    "version": 3
   },
   "file_extension": ".py",
   "mimetype": "text/x-python",
   "name": "python",
   "nbconvert_exporter": "python",
   "pygments_lexer": "ipython3",
   "version": "3.8.16"
  }
 },
 "nbformat": 4,
 "nbformat_minor": 2
}
