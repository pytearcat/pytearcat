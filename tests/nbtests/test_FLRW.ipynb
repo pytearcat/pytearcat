{
 "cells": [
  {
   "cell_type": "code",
   "execution_count": null,
   "metadata": {},
   "outputs": [],
   "source": [
    "import pytearcat as pt\n",
    "import sympy as sp\n",
    "\n",
    "from itertools import product"
   ]
  },
  {
   "cell_type": "markdown",
   "metadata": {},
   "source": [
    "Compute some things"
   ]
  },
  {
   "cell_type": "code",
   "execution_count": null,
   "metadata": {},
   "outputs": [],
   "source": [
    "t,r,theta,phi = pt.coords('t,r,theta,phi')\n",
    "\n",
    "k,c = pt.con('k','c')\n",
    "\n",
    "a = pt.fun('a','t')\n",
    "\n",
    "ds = 'ds2 = -dt**2 + a**2*(1/(1-k*r**2)*dr**2 + \\\n",
    "r**2*dtheta**2 + r**2*sin(theta)**2*dphi**2)'\n",
    "\n",
    "g = pt.metric(ds)\n",
    "\n",
    "# To calculate the First and Second kind Christoffel Symbols:\n",
    "Chr = pt.christoffel()\n",
    "\n",
    "# To calculate the default combination of the Riemann Tensor, i.e, (^,_,_,_): \n",
    "R = pt.riemann()\n",
    "\n",
    "# To calculate the default combination of the Ricci Tensor, i.e., (_,_):\n",
    "Ric = pt.ricci()\n",
    "\n",
    "# To calculate the Ricci Scalar:\n",
    "RicS = pt.riccis()\n",
    "\n",
    "# To calculate the default combination of the Einstein Tensor, i.e., (_,_):\n",
    "G = pt.einstein()\n",
    "\n",
    "G.complete('_,_')"
   ]
  },
  {
   "cell_type": "markdown",
   "metadata": {},
   "source": [
    "Test the results"
   ]
  },
  {
   "cell_type": "code",
   "execution_count": null,
   "metadata": {},
   "outputs": [],
   "source": [
    "assert RicS == pt.simplify(6*(k + a * a.diff(t,t) + (a.diff(t)**2))/(a**2)), \"Ricci Scalar is not correct\""
   ]
  },
  {
   "cell_type": "code",
   "execution_count": null,
   "metadata": {},
   "outputs": [],
   "source": [
    "# Group assertions for the Ricci Tensor:\n",
    "\n",
    "try:\n",
    "\n",
    "    assert pt.simplify(Ric('_0,_0')) == pt.simplify(-3 * a.diff(t,t)/a)\n",
    "\n",
    "    assert pt.simplify(Ric('_1,_1')) == pt.simplify(-(2 * k + a * a.diff(t,t) + 2 * a.diff(t)**2)/(k * r**2-1))\n",
    "\n",
    "    assert pt.simplify(Ric('_2,_2')) == pt.simplify(r**2 * (2*k + a * a.diff(t,t) + 2 * a.diff(t)**2))\n",
    "\n",
    "    assert pt.simplify(Ric('_3,_3')) == pt.simplify(r**2 * (2*k + a * a.diff(t,t) + 2 * a.diff(t)**2) * sp.sin(theta)**2)\n",
    "    \n",
    "except AssertionError:\n",
    "\n",
    "    print(\"Ricci Tensor is not correct\")"
   ]
  },
  {
   "cell_type": "code",
   "execution_count": null,
   "metadata": {},
   "outputs": [],
   "source": [
    "for i,j in product(range(4), repeat=2):\n",
    "    \n",
    "    if i == j:\n",
    "        \n",
    "        assert Ric(f\"_{i},_{j}\") == Ric(f\"_{j},_{i}\"), \"The Ricci Tensor should be symmetric.\"\n",
    "        \n",
    "    else:\n",
    "        assert Ric(f\"_{i},_{j}\") == 0, \"Non diagonal elements of the Ricci Tensor should be zero.\""
   ]
  }
 ],
 "metadata": {
  "kernelspec": {
   "display_name": "pytearcat-dev",
   "language": "python",
   "name": "python3"
  },
  "language_info": {
   "name": "python",
   "version": "3.8.16"
  }
 },
 "nbformat": 4,
 "nbformat_minor": 2
}
